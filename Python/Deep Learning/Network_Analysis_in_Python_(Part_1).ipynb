{
 "cells": [
  {
   "cell_type": "markdown",
   "metadata": {},
   "source": [
    "# Network Analysis in Python (Part 1)"
   ]
  },
  {
   "cell_type": "code",
   "execution_count": 1,
   "metadata": {},
   "outputs": [],
   "source": [
    "import pandas as pd\n",
    "import numpy as np\n",
    "import matplotlib.pyplot as plt\n",
    "import seaborn as sns\n",
    "from jupyterthemes import jtplot\n",
    "import warnings\n",
    "\n",
    "jtplot.style(theme='chesterish')\n",
    "warnings.filterwarnings('ignore')\n",
    "%config InlineBackend.figure_format='retina'"
   ]
  },
  {
   "cell_type": "markdown",
   "metadata": {},
   "source": [
    "## Chapter 1. Introduction to networks"
   ]
  },
  {
   "cell_type": "markdown",
   "metadata": {},
   "source": [
    "## 1. Introduction to networks"
   ]
  },
  {
   "cell_type": "markdown",
   "metadata": {},
   "source": [
    "### Networks!\n",
    "\n",
    "* Examples:\n",
    "    * Social\n",
    "    * Transportation\n",
    "* Model relationships between entities"
   ]
  },
  {
   "cell_type": "markdown",
   "metadata": {},
   "source": [
    "### Networks!\n",
    "\n",
    "* Insights:\n",
    "    * Important entities: influencers in social network\n",
    "    * Pathfinding: most efficient transport path\n",
    "    * Clustering: finding communities"
   ]
  },
  {
   "cell_type": "markdown",
   "metadata": {},
   "source": [
    "### Network structure\n",
    "\n",
    "<img src='Network_Analysis_in_Python_(Part_1)/Pictures/Network_structure.png' alt='Network structure' width=400 align='left'>"
   ]
  },
  {
   "cell_type": "markdown",
   "metadata": {},
   "source": [
    "### NetworkX API basics"
   ]
  },
  {
   "cell_type": "code",
   "execution_count": 2,
   "metadata": {},
   "outputs": [
    {
     "data": {
      "text/plain": [
       "NodeView((1, 2, 3))"
      ]
     },
     "execution_count": 2,
     "metadata": {},
     "output_type": "execute_result"
    }
   ],
   "source": [
    "import networkx as nx\n",
    "\n",
    "G = nx.Graph()\n",
    "G.add_nodes_from([1, 2, 3])\n",
    "G.nodes()"
   ]
  },
  {
   "cell_type": "code",
   "execution_count": 3,
   "metadata": {},
   "outputs": [
    {
     "data": {
      "text/plain": [
       "EdgeView([(1, 2)])"
      ]
     },
     "execution_count": 3,
     "metadata": {},
     "output_type": "execute_result"
    }
   ],
   "source": [
    "G.add_edge(1, 2)\n",
    "G.edges() "
   ]
  },
  {
   "cell_type": "code",
   "execution_count": 4,
   "metadata": {},
   "outputs": [
    {
     "data": {
      "text/plain": [
       "NodeDataView({1: {'label': 'blue'}, 2: {}, 3: {}})"
      ]
     },
     "execution_count": 4,
     "metadata": {},
     "output_type": "execute_result"
    }
   ],
   "source": [
    "G.node[1]['label'] = 'blue'\n",
    "G.nodes(data=True) "
   ]
  },
  {
   "cell_type": "code",
   "execution_count": 5,
   "metadata": {},
   "outputs": [
    {
     "data": {
      "image/png": "[encoded data removed]",
      "text/plain": [
       "<Figure size 432x288 with 1 Axes>"
      ]
     },
     "metadata": {
      "image/png": {
       "height": 319,
       "width": 483
      }
     },
     "output_type": "display_data"
    }
   ],
   "source": [
    "nx.draw(G)\n",
    "plt.show()"
   ]
  },
  {
   "cell_type": "markdown",
   "metadata": {},
   "source": [
    "### №1 What is a network?\n",
    "\n",
    "Let's think again about examples of networks. Which of the following data is least easily modeled as a network?\n",
    "\n",
    "* Airplane transportation\n",
    "* *Phone numbers in a telephone directory*\n",
    "* Co-authorship of papers.\n",
    "* Atoms in a molecule"
   ]
  },
  {
   "cell_type": "markdown",
   "metadata": {},
   "source": [
    "### №2 Basics of NetworkX API, using Twitter network\n",
    "\n",
    "What is the size of the graph `T`, the type of `T.nodes()`, and the data structure of the third element of the last edge listed in `T.edges(data=True)`?\n",
    "\n",
    "* *233369, `networkx.NodeView`, `dict`*\n",
    "* 32369, `tuple`, `datetime`\n",
    "* 23369, `networkx.NodeView`, `datetime`\n",
    "* 22339, `dict`, `dict`\n",
    "\n",
    "```python\n",
    "In [1]: len(T)\n",
    "Out[1]: 23369\n",
    "\n",
    "In [2]: type(T.nodes())\n",
    "Out[2]: networkx.classes.reportviews.NodeView\n",
    "\n",
    "In [3]: list(T.edges(data=True))[-1]\n",
    "Out[3]: (23324, 23336, {'date': datetime.date(2010, 9, 20)})\n",
    "```"
   ]
  },
  {
   "cell_type": "markdown",
   "metadata": {},
   "source": [
    "### №3 Basic drawing of a network using NetworkX\n",
    "\n",
    "* Import `matplotlib.pyplot` as `plt` and `networkx` as `nx`\n",
    "* Draw `T_sub` to the screen by using the `nx.draw()` function, and don't forget to also use `plt.show()` to display it\n",
    "\n",
    "```python\n",
    "import matplotlib.pyplot as plt\n",
    "import networkx as nx\n",
    "\n",
    "nx.draw(T_sub)\n",
    "plt.show()\n",
    "```"
   ]
  },
  {
   "cell_type": "markdown",
   "metadata": {},
   "source": [
    "### №4 Queries on a graph\n",
    "\n",
    "* Use a list comprehension to get a **list of nodes** from the graph `T` that have the `'occupation'` label of `'scientist'`\n",
    "    * The output expression `n` has been specified for you, along with the iterator variables `n` and `d`. Your task is to fill in the iterable and the conditional expression\n",
    "    * Use the `.nodes()` method of `T` access its nodes, and be sure to specify `data=True` to obtain the metadata for the nodes\n",
    "    * The iterator variable `d` is a dictionary. The key of interest here is `'occupation'` and value of interest is `'scientist'`\n",
    "* Use a list comprehension to get a **list of edges** from the graph `T` that were formed for at least 6 years, i.e., from before 1 Jan 2010\n",
    "    * Your task once again is to fill in the iterable and conditional expression\n",
    "    * Use the `.edges()` method of `T` to access its edges. Be sure to obtain the metadata for the edges as well\n",
    "    * The dates are stored as `datetime.date` objects in the metadata dictionary `d`, under the key `'date'`. To access the date 1 Jan 2009, for example, the dictionary value would be `date(2009, 1, 1)`\n",
    "    \n",
    "```python\n",
    "noi = [n for n, d in T.nodes(data=True) if d['occupation'] == 'scientist']\n",
    "\n",
    "eoi = [(u, v) for u, v, d in T.edges(data=True) if d['date'] < date(2010,1,1)]\n",
    "```"
   ]
  },
  {
   "cell_type": "markdown",
   "metadata": {},
   "source": [
    "## 2. Types of graphs"
   ]
  },
  {
   "cell_type": "markdown",
   "metadata": {},
   "source": [
    "### Undirected graphs\n",
    "\n",
    "* Facebook social graph\n",
    "\n",
    "<img src='Network_Analysis_in_Python_(Part_1)/Pictures/Undirected_graphs.png' alt='Undirected graphs' width=250 align='left'>"
   ]
  },
  {
   "cell_type": "markdown",
   "metadata": {},
   "source": [
    "### Undirected graphs"
   ]
  },
  {
   "cell_type": "code",
   "execution_count": 6,
   "metadata": {},
   "outputs": [
    {
     "data": {
      "text/plain": [
       "networkx.classes.graph.Graph"
      ]
     },
     "execution_count": 6,
     "metadata": {},
     "output_type": "execute_result"
    }
   ],
   "source": [
    "G = nx.Graph()\n",
    "type(G)"
   ]
  },
  {
   "cell_type": "markdown",
   "metadata": {},
   "source": [
    "### Directed graphs\n",
    "\n",
    "* Directed: Twitter social graph\n",
    "\n",
    "<img src='Network_Analysis_in_Python_(Part_1)/Pictures/Directed_graphs.png' alt='Directed graphs' width=250 align='left'>"
   ]
  },
  {
   "cell_type": "code",
   "execution_count": 7,
   "metadata": {},
   "outputs": [
    {
     "data": {
      "text/plain": [
       "networkx.classes.digraph.DiGraph"
      ]
     },
     "execution_count": 7,
     "metadata": {},
     "output_type": "execute_result"
    }
   ],
   "source": [
    "D = nx.DiGraph()\n",
    "type(D)"
   ]
  },
  {
   "cell_type": "markdown",
   "metadata": {},
   "source": [
    "### Types of graphs\n",
    "\n",
    "* Multi(Di)Graph: Trip records between bike sharing stations\n",
    "\n",
    "<img src='Network_Analysis_in_Python_(Part_1)/Pictures/Types_of_graphs.png' alt='Types of graphs' width=250 align='left'>"
   ]
  },
  {
   "cell_type": "markdown",
   "metadata": {},
   "source": [
    "### Multi-edge (Directed) graphs"
   ]
  },
  {
   "cell_type": "code",
   "execution_count": 8,
   "metadata": {},
   "outputs": [
    {
     "data": {
      "text/plain": [
       "networkx.classes.multigraph.MultiGraph"
      ]
     },
     "execution_count": 8,
     "metadata": {},
     "output_type": "execute_result"
    }
   ],
   "source": [
    "M = nx.MultiGraph()\n",
    "type(M)"
   ]
  },
  {
   "cell_type": "code",
   "execution_count": 9,
   "metadata": {},
   "outputs": [
    {
     "data": {
      "text/plain": [
       "networkx.classes.multidigraph.MultiDiGraph"
      ]
     },
     "execution_count": 9,
     "metadata": {},
     "output_type": "execute_result"
    }
   ],
   "source": [
    "MD = nx.MultiDiGraph()\n",
    "type(MD) "
   ]
  },
  {
   "cell_type": "markdown",
   "metadata": {},
   "source": [
    "### Weights on graphs\n",
    "\n",
    "* Edges can contain weights\n",
    "\n",
    "<img src='Network_Analysis_in_Python_(Part_1)/Pictures/Weights_on_graphs.png' alt='Weights on graphs' width=250 align='left'>"
   ]
  },
  {
   "cell_type": "markdown",
   "metadata": {},
   "source": [
    "### Self-loops\n",
    "\n",
    "* Nodes that are connected to themselves\n",
    "\n",
    "<img src='Network_Analysis_in_Python_(Part_1)/Pictures/Self-loops.png' alt='Self-loops' width=250 align='left'>"
   ]
  },
  {
   "cell_type": "markdown",
   "metadata": {},
   "source": [
    "### №5 Checking the un/directed status of a graph\n",
    "\n",
    "* Undirected Graph\n",
    "* *Directed Graph*\n",
    "* Undirected Multi-Edge Graph\n",
    "* Directed Multi-Edge Graph\n",
    "\n",
    "```python\n",
    "In [1]: type(T)\n",
    "Out[1]: networkx.classes.digraph.DiGraph\n",
    "```"
   ]
  },
  {
   "cell_type": "markdown",
   "metadata": {},
   "source": [
    "### №6 Specifying a weight on edges\n",
    "\n",
    "* Set the `'weight'` attribute of the edge between node `1` and `10` of `T` to be equal to `2`. Refer to the following template to set an attribute of an edge: `network_name.edges[node1, node2]['attribute'] = value`. Here, the `'attribute'` is `'weight'`\n",
    "* Set the weight of every edge involving node `293` to be equal to `1.1`. To do this:\n",
    "    * Using a `for` loop, iterate over all the edges of `T`, including the `metadata`\n",
    "    * If `293` is involved in the list of nodes `[u, v]`:\n",
    "        * Set the weight of the edge between `u` and `v` to be `1.1`\n",
    "\n",
    "```python\n",
    "T.edges[1, 10]['weight'] = 2\n",
    "\n",
    "for u, v, d in T.edges(data=True):\n",
    "    if 293 in [u, v]:\n",
    "        T.edges[u, v]['weight'] = 1.1\n",
    "```"
   ]
  },
  {
   "cell_type": "markdown",
   "metadata": {},
   "source": [
    "### №7 Checking whether there are self-loops in the graph\n",
    "\n",
    "* Define a function called `find_selfloop_nodes()` which takes one argument: `G`\n",
    "* Using a `for` loop, iterate over all the edges in `G` (excluding the metadata)\n",
    "    * If node `u` is equal to node `v`:\n",
    "        * Append `u` to the list `nodes_in_selfloops`\n",
    "        * Return the list `nodes_in_selfloops`\n",
    "* Check that the number of self loops in the graph equals the number of nodes in self loops\n",
    "\n",
    "```python\n",
    "def find_selfloop_nodes(G):\n",
    "    \"\"\"\n",
    "    Finds all nodes that have self-loops in the graph G.\n",
    "    \"\"\"\n",
    "    nodes_in_selfloops = []\n",
    "    for u, v in G.edges():\n",
    "        if u == v:\n",
    "            nodes_in_selfloops.append(u)\n",
    "    return nodes_in_selfloops\n",
    "\n",
    "assert T.number_of_selfloops() == len(find_selfloop_nodes(T))\n",
    "```"
   ]
  },
  {
   "cell_type": "markdown",
   "metadata": {},
   "source": [
    "## 3. Network visualization"
   ]
  },
  {
   "cell_type": "markdown",
   "metadata": {},
   "source": [
    "### Irrational vs. Rational visualizations\n",
    "\n",
    "<img src='Network_Analysis_in_Python_(Part_1)/Pictures/Irrational_vs_Rational_visualizations.png' alt='Irrational vs. Rational visualizations' width=400 align='left'>"
   ]
  },
  {
   "cell_type": "markdown",
   "metadata": {},
   "source": [
    "### Visualizing networks\n",
    "\n",
    "* Matrix plots\n",
    "* Arc plots\n",
    "* Circos plots"
   ]
  },
  {
   "cell_type": "markdown",
   "metadata": {},
   "source": [
    "### Matrix plot\n",
    "\n",
    "<img src='Network_Analysis_in_Python_(Part_1)/Pictures/Matrix_plot.png' alt='Matrix plot' width=400 align='left'>"
   ]
  },
  {
   "cell_type": "markdown",
   "metadata": {},
   "source": [
    "### Directed matrices\n",
    "\n",
    "<img src='Network_Analysis_in_Python_(Part_1)/Pictures/Directed_matrices.png' alt='Directed matrices' width=400 align='left'>"
   ]
  },
  {
   "cell_type": "markdown",
   "metadata": {},
   "source": [
    "### Arc plot\n",
    "\n",
    "<img src='Network_Analysis_in_Python_(Part_1)/Pictures/Arc_plot.png' alt='Arc plot' width=400 align='left'>"
   ]
  },
  {
   "cell_type": "markdown",
   "metadata": {},
   "source": [
    "### Circos plot\n",
    "\n",
    "<img src='Network_Analysis_in_Python_(Part_1)/Pictures/Circos_plot.png' alt='Circos plot' width=400 align='left'>"
   ]
  },
  {
   "cell_type": "markdown",
   "metadata": {},
   "source": [
    "### nxviz API"
   ]
  },
  {
   "cell_type": "code",
   "execution_count": 10,
   "metadata": {},
   "outputs": [
    {
     "data": {
      "image/png": "[encoded data removed]",
      "text/plain": [
       "<Figure size 432x432 with 1 Axes>"
      ]
     },
     "metadata": {
      "image/png": {
       "height": 340,
       "width": 340
      },
      "needs_background": "dark"
     },
     "output_type": "display_data"
    }
   ],
   "source": [
    "import nxviz as nv\n",
    "\n",
    "ap = nv.ArcPlot(G)\n",
    "ap.draw()\n",
    "plt.show()"
   ]
  },
  {
   "cell_type": "markdown",
   "metadata": {},
   "source": [
    "### №8 Visualizing using Matrix plots\n",
    "\n",
    "* Import `nxviz` as `nv`\n",
    "* Plot the graph `T` as a matrix plot. To do this:\n",
    "    * Create the `MatrixPlot` object called `m` using the `nv.MatrixPlot()` function with `T` passed in as an argument\n",
    "    * Draw the `m` to the screen using the `.draw()` method\n",
    "    * Display the plot using `plt.show()`\n",
    "* Convert the graph to a matrix format, and then convert the graph to back to the `NetworkX` form from the matrix as a directed graph\n",
    "* Check that the `category` metadata field is lost from each node\n",
    "\n",
    "```python\n",
    "import nxviz as nv\n",
    "\n",
    "m = nv.MatrixPlot(T)\n",
    "\n",
    "m.draw()\n",
    "plt.show()\n",
    "\n",
    "A = nx.to_numpy_matrix(T)\n",
    "\n",
    "T_conv = nx.from_numpy_matrix(A, create_using=nx.DiGraph())\n",
    "\n",
    "for n, d in T_conv.nodes(data=True):\n",
    "    assert 'category' not in d.keys()\n",
    "```"
   ]
  },
  {
   "cell_type": "markdown",
   "metadata": {},
   "source": [
    "### №9 Visualizing using Circos plots\n",
    "\n",
    "* Import `CircosPlot` from `nxviz`\n",
    "* Plot the Twitter network `T` as a Circos plot without any styling. Use the `CircosPlot()` function to do this. Don't forget to draw it to the screen using `.draw()` and then display it using `plt.show()`\n",
    "\n",
    "```python\n",
    "import matplotlib.pyplot as plt\n",
    "from nxviz import CircosPlot\n",
    "\n",
    "c = CircosPlot(T)\n",
    "\n",
    "c.draw()\n",
    "plt.show()\n",
    "```"
   ]
  },
  {
   "cell_type": "markdown",
   "metadata": {},
   "source": [
    "### №10 Visualizing using Arc plots\n",
    "\n",
    "* Import `ArcPlot` from `nxviz`\n",
    "* Create an un-customized `ArcPlot` of `T`. To do this, use the `ArcPlot()` function with just `T` as the argument\n",
    "* Create another `ArcPlot` of `T` in which the nodes are ordered and colored by the `'category'` keyword. You'll have to specify the `node_order` and `node_color` parameters to do this. For both plots, be sure to draw them to the screen and display them with `plt.show()`\n",
    "\n",
    "```python\n",
    "import matplotlib.pyplot as plt\n",
    "from nxviz import ArcPlot\n",
    "\n",
    "a = ArcPlot(T)\n",
    "\n",
    "a.draw()\n",
    "plt.show()\n",
    "\n",
    "a2 = ArcPlot(T, node_order='category', node_color='category')\n",
    "\n",
    "a2.draw()\n",
    "plt.show()\n",
    "```"
   ]
  },
  {
   "cell_type": "markdown",
   "metadata": {},
   "source": [
    "## Chapter 2. Important nodes"
   ]
  },
  {
   "cell_type": "markdown",
   "metadata": {},
   "source": [
    "## 4. Degree centrality"
   ]
  },
  {
   "cell_type": "markdown",
   "metadata": {},
   "source": [
    "### Important nodes\n",
    "\n",
    "* Which nodes are important?\n",
    "    * Degree centrality\n",
    "    * Betweenness centrality"
   ]
  },
  {
   "cell_type": "markdown",
   "metadata": {},
   "source": [
    "### Important nodes\n",
    "\n",
    "* Which centre node might be more important?\n",
    "\n",
    "<img src='Network_Analysis_in_Python_(Part_1)/Pictures/Important_nodes.png' alt='Important nodes' width=400 align='left'>"
   ]
  },
  {
   "cell_type": "markdown",
   "metadata": {},
   "source": [
    "### Degree centrality\n",
    "\n",
    "* Definition:\n",
    "$$ \\frac{\\text{Number of Neighbours I Have}}{\\text{Number of Neighbours I Could Possibly Have}} $$\n",
    "* Examples of nodes with high degree centrality:\n",
    "    * Twitter broadcasters\n",
    "    * Airport transportation hubs\n",
    "    * Disease super-spreaders"
   ]
  },
  {
   "cell_type": "markdown",
   "metadata": {},
   "source": [
    "### Number of neighbors\n",
    "\n",
    "```python\n",
    "In [1]: G.edges()\n",
    "Out[1]: [(1, 2), (1, 3), (1, 4), (1, 5), (1, 6), (1, 7), (1, 8),\n",
    "(1, 9)]\n",
    "    \n",
    "In [2]: G.neighbors(1)\n",
    "Out[2]: [2, 3, 4, 5, 6, 7, 8, 9]\n",
    "    \n",
    "In [3]: G.neighbors(8)\n",
    "Out[3]: [1]\n",
    "    \n",
    "In [4]: G.neighbors(10)\n",
    "……\n",
    "NetworkXError: The node 10 is not in the graph.\n",
    "```"
   ]
  },
  {
   "cell_type": "markdown",
   "metadata": {},
   "source": [
    "### Degree centrality\n",
    "\n",
    "```python\n",
    "In [5]: nx.degree_centrality(G)\n",
    "Out[5]:\n",
    "{1: 1.0,\n",
    " 2: 0.125,\n",
    " 3: 0.125,\n",
    " 4: 0.125,\n",
    " 5: 0.125,\n",
    " 6: 0.125,\n",
    " 7: 0.125,\n",
    " 8: 0.125,\n",
    " 9: 0.125}\n",
    "```"
   ]
  },
  {
   "cell_type": "markdown",
   "metadata": {},
   "source": [
    "### №11 Compute number of neighbors for each node\n",
    "\n",
    "* Write a function called `nodes_with_m_nbrs()` that has two parameters - `G` and `m` - and returns all nodes that have `m` neighbors. To do this:\n",
    "    * Iterate over all nodes in `G` (not including the metadata)\n",
    "    * Use the `len()` and `list()` functions together with the `.neighbors()` method to calculate the total number of neighbors that node `n` in graph `G` has\n",
    "    * If the number of neighbors of node `n` is equal to `m`, add n to the set `nodes` using the `.add()` method\n",
    "    * After iterating over all the nodes in `G`, return the set `nodes`\n",
    "* Use your `nodes_with_m_nbrs()` function to retrieve all the nodes that have 6 neighbors in the graph `T`\n",
    "\n",
    "```python\n",
    "def nodes_with_m_nbrs(G, m):\n",
    "    \"\"\"\n",
    "    Returns all nodes in graph G that have m neighbors.\n",
    "    \"\"\"\n",
    "    nodes = set()\n",
    "\n",
    "    for n in G.nodes():\n",
    "        if len(list(G.neighbors(n))) == m:\n",
    "            nodes.add(n)\n",
    "\n",
    "    return nodes\n",
    "\n",
    "six_nbrs = nodes_with_m_nbrs(T, 6)\n",
    "print(six_nbrs)\n",
    "```"
   ]
  },
  {
   "cell_type": "markdown",
   "metadata": {},
   "source": [
    "### №12 Compute degree distribution\n",
    "\n",
    "* Use a list comprehension along with the `.neighbors(n)` method to get the degree of every node. The result should be a list of integers\n",
    "    * Use `n` as your iterator variable\n",
    "    * The output expression of your list comprehension should be the number of neighbors that node `n` has - that is, its degree. Use the `len()` and `list()` functions together with the `.neighbors()` method to compute this\n",
    "    * The iterable in your list comprehension is all the nodes in `T`, accessed using the `.nodes()` method\n",
    "* Print the degrees\n",
    "\n",
    "```python\n",
    "degrees = [len(list(T.neighbors(n))) for n in T.nodes()]\n",
    "print(degrees)\n",
    "\n",
    "```"
   ]
  },
  {
   "cell_type": "markdown",
   "metadata": {},
   "source": [
    "### №13 Degree centrality distribution\n",
    "\n",
    "* Compute the degree centrality of the Twitter network `T`\n",
    "* Using `plt.hist()`, plot a histogram of the degree centrality distribution of `T`. This can be accessed using `list(deg_cent.values())`\n",
    "* Plot a histogram of the degree distribution `degrees` of `T`. This is the same list you computed in the last exercise\n",
    "* Create a scatter plot with `degrees` on the x-axis and the degree centrality distribution `list(deg_cent.values())` on the y-axis\n",
    "\n",
    "```python\n",
    "import matplotlib.pyplot as plt\n",
    "\n",
    "deg_cent = nx.degree_centrality(T)\n",
    "\n",
    "plt.figure()\n",
    "plt.hist(list(deg_cent.values()))\n",
    "plt.show()\n",
    "\n",
    "plt.figure()\n",
    "plt.hist(degrees)\n",
    "plt.show()\n",
    "\n",
    "plt.figure()\n",
    "plt.scatter(degrees, list(deg_cent.values()))\n",
    "plt.show()\n",
    "```"
   ]
  },
  {
   "cell_type": "markdown",
   "metadata": {},
   "source": [
    "## 5. Graph algorithms"
   ]
  },
  {
   "cell_type": "markdown",
   "metadata": {},
   "source": [
    "### Finding paths\n",
    "\n",
    "* Pathfinding is important for\n",
    "    * Optimization: e.g. shortest transport paths\n",
    "    * Modeling: e.g. disease spread, information passing\n",
    "* Algorithm: Breadth-first search"
   ]
  },
  {
   "cell_type": "markdown",
   "metadata": {},
   "source": [
    "### Breadth-first search (BFS)\n",
    "\n",
    "* Example: Shortest path between two nodes\n",
    "\n",
    "<img src='Network_Analysis_in_Python_(Part_1)/Pictures/BFS.png' alt='BFS' align='left' width=400>"
   ]
  },
  {
   "cell_type": "markdown",
   "metadata": {},
   "source": [
    "### Recall: Neighbors\n",
    "\n",
    "```python\n",
    "In [1]: G\n",
    "Out[1]: <networkx.classes.graph.Graph at 0x10cc08828>\n",
    "    \n",
    "In [2]: len(G.edges())\n",
    "Out[2]: 57\n",
    "    \n",
    "In [3]: len(G.nodes())\n",
    "Out[3]: 20\n",
    "    \n",
    "In [4]: G.neighbors(1)\n",
    "Out[4]: [10, 5, 14, 7]\n",
    "    \n",
    "In [5]: G.neighbors(10)\n",
    "Out[5]: [1, 19, 5, 17, 8, 9, 13, 14]\n",
    "```"
   ]
  },
  {
   "cell_type": "markdown",
   "metadata": {},
   "source": [
    "### №14 Shortest Path I\n",
    "\n",
    "* Create a function called `path_exists()` that has 3 parameters - `G`, `node1`, and `node2` - and returns whether or not a path exists between the two nodes\n",
    "* Initialize the queue of nodes to visit with the first node, `node1`. `queue` should be a list\n",
    "* Iterate over the nodes in `queue`\n",
    "* Get the neighbors of the node using the `.neighbors()` method of the graph `G`\n",
    "* Check to see if the destination node `node2` is in the set of `neighbors`. If it is, return `True`\n",
    "\n",
    "```python\n",
    "def path_exists(G, node1, node2):\n",
    "    \"\"\"\n",
    "    This function checks whether a path exists between two nodes (node1, node2) in graph G.\n",
    "    \"\"\"\n",
    "    visited_nodes = set()\n",
    "    queue = [node1]\n",
    "\n",
    "    for node in queue:\n",
    "        neighbors = G.neighbors(node)\n",
    "        if node2 in neighbors:\n",
    "            print('Path exists between nodes {0} and {1}'.format(node1, node2))\n",
    "            return True\n",
    "            break\n",
    "```"
   ]
  },
  {
   "cell_type": "markdown",
   "metadata": {},
   "source": [
    "### №15 Shortest Path II\n",
    "\n",
    "* Using the `.add()` method, add the current node node to the set `visited_nodes` to keep track of what nodes have already been visited\n",
    "* Add the neighbors of the current node node that have not yet been visited to `queue`. To do this, you'll need to use the `.extend()` method of `queue` together with a list comprehension. The `.extend()` method appends all the items in a given list\n",
    "    * The output expression and iterator variable of the list comprehension are both `n`. The iterable is the list `neighbors`, and the conditional is if `n` is not in the visited nodes\n",
    "\n",
    "```python\n",
    "def path_exists(G, node1, node2):\n",
    "    \"\"\"\n",
    "    This function checks whether a path exists between two nodes (node1, node2) in graph G.\n",
    "    \"\"\"\n",
    "    visited_nodes = set()\n",
    "    queue = [node1]\n",
    "\n",
    "    for node in queue:\n",
    "        neighbors = G.neighbors(node)\n",
    "        if node2 in neighbors:\n",
    "            print('Path exists between nodes {0} and {1}'.format(node1, node2))\n",
    "            return True\n",
    "          \n",
    "        else:\n",
    "            visited_nodes.add(node)\n",
    "            queue.extend([n for n in neighbors if n not in visited_nodes])\n",
    "```"
   ]
  },
  {
   "cell_type": "markdown",
   "metadata": {},
   "source": [
    "### №16 Shortest Path III\n",
    "\n",
    "* Check to see if the queue has been emptied. You can do this by inspecting the last element of queue with `[-1]`\n",
    "* Place the appropriate return statement for indicating whether there's a path between these two nodes\n",
    "\n",
    "```python\n",
    "def path_exists(G, node1, node2):\n",
    "    \"\"\"\n",
    "    This function checks whether a path exists between two nodes (node1, node2) in graph G.\n",
    "    \"\"\"\n",
    "    visited_nodes = set()\n",
    "    queue = [node1]\n",
    "\n",
    "    for node in queue:\n",
    "        neighbors = G.neighbors(node)\n",
    "        if node2 in neighbors:\n",
    "            print('Path exists between nodes {0} and {1}'.format(node1, node2))\n",
    "            return True\n",
    "            break\n",
    "        else:\n",
    "            visited_nodes.add(node)\n",
    "            queue.extend([n for n in neighbors if n not in visited_nodes])\n",
    "\n",
    "        if node == queue[-1]:\n",
    "            print('Path does not exist between nodes {0} and {1}'.format(node1, node2))\n",
    "\n",
    "            return False\n",
    "```"
   ]
  },
  {
   "cell_type": "markdown",
   "metadata": {},
   "source": [
    "## 6. Betweenness centrality"
   ]
  },
  {
   "cell_type": "markdown",
   "metadata": {},
   "source": [
    "### All shortest paths\n",
    "\n",
    "* Set of paths\n",
    "* Each path is shortest path between a given pair of nodes\n",
    "* Done for all node pairs"
   ]
  },
  {
   "cell_type": "markdown",
   "metadata": {},
   "source": [
    "### Betweenness centrality\n",
    "\n",
    "* Definition:\n",
    "$$ \\frac{\\text{num. shortest paths through node}}{\\text{all possible shortest paths}} $$\n",
    "* Application:\n",
    "    * Bridges between liberal- and conservativeleaning Twi!er users\n",
    "    * Critical information transfer links"
   ]
  },
  {
   "cell_type": "markdown",
   "metadata": {},
   "source": [
    "### Examples\n",
    "\n",
    "* Singapore: Raffles Place & Jurong East\n",
    "\n",
    "<img src='Network_Analysis_in_Python_(Part_1)/Pictures/Examples.png' alt='Singapore' width=400 align='left'>"
   ]
  },
  {
   "cell_type": "markdown",
   "metadata": {},
   "source": [
    "### Example\n",
    "\n",
    "* High betweenness centrality, low degree centrality?\n",
    "\n",
    "<img src='Network_Analysis_in_Python_(Part_1)/Pictures/Example.png' alt='High betweenness centrality' width=400 align='left'>"
   ]
  },
  {
   "cell_type": "markdown",
   "metadata": {},
   "source": [
    "### Betweenness centrality"
   ]
  },
  {
   "cell_type": "code",
   "execution_count": 11,
   "metadata": {},
   "outputs": [
    {
     "data": {
      "text/plain": [
       "{0: 0.0,\n",
       " 1: 0.0,\n",
       " 2: 0.0,\n",
       " 3: 0.0,\n",
       " 4: 0.5333333333333333,\n",
       " 6: 0.5333333333333333,\n",
       " 7: 0.0,\n",
       " 8: 0.0,\n",
       " 9: 0.0,\n",
       " 10: 0.0,\n",
       " 5: 0.5555555555555556}"
      ]
     },
     "execution_count": 11,
     "metadata": {},
     "output_type": "execute_result"
    }
   ],
   "source": [
    "import networkx as nx\n",
    "\n",
    "G = nx.barbell_graph(m1=5, m2=1)\n",
    "nx.betweenness_centrality(G)"
   ]
  },
  {
   "cell_type": "markdown",
   "metadata": {},
   "source": [
    "### №17 NetworkX betweenness centrality on a social network\n",
    "\n",
    "* Compute the betweenness centrality `bet_cen` of the nodes in the graph `T`\n",
    "* Compute the degree centrality `deg_cen` of the nodes in the graph `T`\n",
    "* Compare betweenness centrality to degree centrality by creating a scatterplot of the two, with `list(bet_cen.values())` on the x-axis and `list(deg_cen.values())` on the y-axis\n",
    "\n",
    "```python\n",
    "bet_cen = nx.betweenness_centrality(T)\n",
    "deg_cen = nx.degree_centrality(T)\n",
    "\n",
    "plt.scatter(list(bet_cen.values()), list(deg_cen.values()))\n",
    "plt.show()\n",
    "```"
   ]
  },
  {
   "cell_type": "markdown",
   "metadata": {},
   "source": [
    "### №18 Deep dive - Twitter network\n",
    "\n",
    "* Write a function `find_nodes_with_highest_deg_cent(G)` that returns the node(s) with the highest degree centrality using the following steps:\n",
    "    * Compute the degree centrality of `G`\n",
    "    * Compute the maximum degree centrality using the `max()` function on `list(deg_cent.values())`\n",
    "    * Iterate over the degree centrality dictionary, `deg_cent.items()`\n",
    "    * If the degree centrality value `v` of the current node `k` is equal to `max_dc`, add it to the set of nodes\n",
    "* Use your function to find the node(s) that has the highest degree centrality in `T`\n",
    "* Write an assertion statement that checks that the node(s) is/are correctly identified\n",
    "\n",
    "```python\n",
    "def find_nodes_with_highest_deg_cent(G):\n",
    "    deg_cent = nx.degree_centrality(G)\n",
    "    max_dc = max(list(deg_cent.values()))\n",
    "    nodes = set()\n",
    "\n",
    "    for k, v in deg_cent.items():\n",
    "        if v == max_dc:\n",
    "            nodes.add(k)\n",
    "\n",
    "    return nodes\n",
    "\n",
    "top_dc = find_nodes_with_highest_deg_cent(T)\n",
    "print(top_dc)\n",
    "\n",
    "for node in top_dc:\n",
    "    assert nx.degree_centrality(T)[node] == max(nx.degree_centrality(T).values())\n",
    "```"
   ]
  },
  {
   "cell_type": "markdown",
   "metadata": {},
   "source": [
    "### №19 Deep dive - Twitter network part II\n",
    "\n",
    "* Write a function `find_node_with_highest_bet_cent(G)` that returns the node(s) with the highest betweenness centrality\n",
    "    * Compute the betweenness centrality of `G`\n",
    "    * Compute the maximum betweenness centrality using the `max()` function on `list(bet_cent.values())`\n",
    "    * Iterate over the degree centrality dictionary, `bet_cent.items()`\n",
    "    * If the degree centrality value `v` of the current node `k` is equal to `max_bc`, add it to the set of nodes\n",
    "* Use your function to find the node(s) that has the highest betweenness centrality in `T`\n",
    "* Write an assertion statement that you've got the right node\n",
    "\n",
    "```python\n",
    "def find_node_with_highest_bet_cent(G):\n",
    "    bet_cent = nx.betweenness_centrality(G)\n",
    "    max_bc = max(bet_cent.values())\n",
    "    nodes = set()\n",
    "\n",
    "    for k, v in bet_cent.items():\n",
    "        if v == max_bc:\n",
    "            nodes.add(k)\n",
    "\n",
    "    return nodes\n",
    "\n",
    "top_bc = find_node_with_highest_bet_cent(T)\n",
    "\n",
    "for node in top_bc:\n",
    "    assert nx.betweenness_centrality(T)[node] == max(nx.betweenness_centrality(T).values())\n",
    "```"
   ]
  },
  {
   "cell_type": "markdown",
   "metadata": {},
   "source": [
    "## Chapter 3. Structures"
   ]
  },
  {
   "cell_type": "markdown",
   "metadata": {},
   "source": [
    "## 7. Cliques & communities"
   ]
  },
  {
   "cell_type": "markdown",
   "metadata": {},
   "source": [
    "### Cliques\n",
    "\n",
    "* Social cliques: tightly-knit groups\n",
    "* Network cliques: completely connected graphs\n",
    "\n",
    "<img src='Network_Analysis_in_Python_(Part_1)/Pictures/Cliques.png' alt='Cliques' width=200 align='left'>"
   ]
  },
  {
   "cell_type": "markdown",
   "metadata": {},
   "source": [
    "### Cliques\n",
    "\n",
    "* Simplest complex clique: a triangle\n",
    "\n",
    "<img src='Network_Analysis_in_Python_(Part_1)/Pictures/triangle.png' alt='Cliques' width=200 align='left'>"
   ]
  },
  {
   "cell_type": "markdown",
   "metadata": {},
   "source": [
    "### Triangle applications\n",
    "\n",
    "* Friend recommendation systems\n",
    "\n",
    "<img src='Network_Analysis_in_Python_(Part_1)/Pictures/Triangle_applications.png' alt='Triangle applications' width=200 align='left'>"
   ]
  },
  {
   "cell_type": "markdown",
   "metadata": {},
   "source": [
    "### Clique code\n",
    "\n",
    "```python\n",
    "In [1]: G\n",
    "Out[1]: <networkx.classes.graph.Graph at 0x10c99ecf8>\n",
    "    \n",
    "In [2]: from itertools import combinations\n",
    "    \n",
    "In [3]: for n1, n2 in combinations(G.nodes(), 2):\n",
    "            print(n1, n2)\n",
    "            \n",
    "0 1\n",
    "0 2\n",
    "0 3\n",
    "0 4\n",
    "0 5\n",
    "...\n",
    "...\n",
    "```"
   ]
  },
  {
   "cell_type": "markdown",
   "metadata": {},
   "source": [
    "### №20 Identifying triangle relationships\n",
    "\n",
    "* Import `combinations` from `itertools`\n",
    "* Write a function `is_in_triangle()` that has two parameters - `G` and `n` - and checks whether a given node is in a triangle relationship or not\n",
    "* `combinations(iterable, n)` returns combinations of size `n` from iterable. This will be useful here, as you want combinations of size `2` from `G.neighbors(n)`\n",
    "* To check whether an edge exists between two nodes, use the `.has_edge(node1, node2)` method. If an edge exists, then the given node is in a triangle relationship, and you should return `True`\n",
    "\n",
    "```python\n",
    "from itertools import combinations\n",
    "\n",
    "def is_in_triangle(G, n):\n",
    "    \"\"\"\n",
    "    Checks whether a node `n` in graph `G` is in a triangle relationship or not.\n",
    "    Returns a boolean.\n",
    "    \"\"\"\n",
    "    in_triangle = False\n",
    "\n",
    "    for n1, n2 in combinations(G.neighbors(n), 2):\n",
    "        if G.has_edge(n1, n2):\n",
    "            in_triangle = True\n",
    "            break\n",
    "    return in_triangle\n",
    "```"
   ]
  },
  {
   "cell_type": "markdown",
   "metadata": {},
   "source": [
    "### №21 Finding nodes involved in triangles\n",
    "\n",
    "* Write a function `nodes_in_triangle()` that has two parameters - `G` and `n` - and identifies all nodes in a triangle relationship with a given node\n",
    "    * In the `for` loop, iterate over all possible triangle relationship combinations\n",
    "    * Check whether the nodes `n1` and `n2` have an edge between them. If they do, add both nodes to the set `triangle_nodes`\n",
    "* Use your function in an `assert` statement to check that the number of nodes involved in a triangle relationship with node `1` of graph `T` is equal to `35`\n",
    "\n",
    "```python\n",
    "from itertools import combinations\n",
    "\n",
    "def nodes_in_triangle(G, n):\n",
    "    \"\"\"\n",
    "    Returns the nodes in a graph `G` that are involved in a triangle relationship with the node `n`.\n",
    "    \"\"\"\n",
    "    triangle_nodes = set([n])\n",
    "\n",
    "    for n1, n2 in combinations(G.neighbors(n), 2):\n",
    "        if G.has_edge(n1, n2):\n",
    "            triangle_nodes.add(n1)\n",
    "            triangle_nodes.add(n2)\n",
    "\n",
    "    return triangle_nodes\n",
    "\n",
    "assert len(nodes_in_triangle(T, 1)) == 35\n",
    "```"
   ]
  },
  {
   "cell_type": "markdown",
   "metadata": {},
   "source": [
    "### №22 Finding open triangles\n",
    "\n",
    "* Write a function `node_in_open_triangle()` that has two parameters - `G` and `n` - and identifies whether a node is present in an open triangle with its neighbors\n",
    "    * In the `for` loop, iterate over all possible triangle relationship combinations\n",
    "    * If the nodes `n1` and `n2` do not have an edge between them, set `in_open_triangle` to `True`, break out from the if statement and return `in_open_triangle`\n",
    "* Use this function to count the number of open triangles that exist in `T`\n",
    "    * In the `for` loop, iterate over all the nodes in `T`\n",
    "    * If the current node `n` is in an open triangle, increment `num_open_triangles`\n",
    "    \n",
    "```python\n",
    "from itertools import combinations\n",
    "\n",
    "def node_in_open_triangle(G, n):\n",
    "    \"\"\"\n",
    "    Checks whether pairs of neighbors of node `n` in graph `G` are in an 'open triangle' relationship with node `n`.\n",
    "    \"\"\"\n",
    "    in_open_triangle = False\n",
    "\n",
    "    for n1, n2 in combinations(G.neighbors(n), 2):\n",
    "        if not G.has_edge(n1, n2):\n",
    "            in_open_triangle = True\n",
    "            break\n",
    "\n",
    "    return in_open_triangle\n",
    "\n",
    "num_open_triangles = 0\n",
    "\n",
    "for n in T.nodes():\n",
    "    if node_in_open_triangle(T, n):\n",
    "        num_open_triangles += 1\n",
    "\n",
    "print(num_open_triangles)\n",
    "```"
   ]
  },
  {
   "cell_type": "markdown",
   "metadata": {},
   "source": [
    "## 8. Maximal cliques"
   ]
  },
  {
   "cell_type": "markdown",
   "metadata": {},
   "source": [
    "### Maximal cliques\n",
    "\n",
    "* Definition: a clique that, when extended by one node is no longer a clique\n",
    "\n",
    "<img src='Network_Analysis_in_Python_(Part_1)/Pictures/Maximal_cliques.png' alt='Maximal cliques' width=200 align='left'>"
   ]
  },
  {
   "cell_type": "markdown",
   "metadata": {},
   "source": [
    "* Applications: community finding\n",
    "\n",
    "<img src='Network_Analysis_in_Python_(Part_1)/Pictures/Maximal_cliques2.png' alt='Maximal cliques' width=200 align='left'>"
   ]
  },
  {
   "cell_type": "markdown",
   "metadata": {},
   "source": [
    "### Communities\n",
    "\n",
    "* Find cliques\n",
    "* Find unions of cliques"
   ]
  },
  {
   "cell_type": "markdown",
   "metadata": {},
   "source": [
    "### NetworkX API\n",
    "\n",
    "* find_cliques finds all maximal cliques"
   ]
  },
  {
   "cell_type": "markdown",
   "metadata": {},
   "source": [
    "### Maximal cliques"
   ]
  },
  {
   "cell_type": "code",
   "execution_count": 12,
   "metadata": {},
   "outputs": [
    {
     "data": {
      "text/plain": [
       "<generator object find_cliques at 0x1a1c4e5cf0>"
      ]
     },
     "execution_count": 12,
     "metadata": {},
     "output_type": "execute_result"
    }
   ],
   "source": [
    "import networkx as nx\n",
    "\n",
    "G = nx.barbell_graph(m1=5, m2=1)\n",
    "nx.find_cliques(G)"
   ]
  },
  {
   "cell_type": "code",
   "execution_count": 13,
   "metadata": {},
   "outputs": [
    {
     "data": {
      "text/plain": [
       "[[4, 0, 1, 2, 3], [4, 5], [6, 5], [6, 7, 8, 9, 10]]"
      ]
     },
     "execution_count": 13,
     "metadata": {},
     "output_type": "execute_result"
    }
   ],
   "source": [
    "list(nx.find_cliques(G))"
   ]
  },
  {
   "cell_type": "markdown",
   "metadata": {},
   "source": [
    "<img src='Network_Analysis_in_Python_(Part_1)/Pictures/Maximal_cliques3.png' alt='Maximal cliques' width=700 align='left'>"
   ]
  },
  {
   "cell_type": "markdown",
   "metadata": {},
   "source": [
    "### №23 Finding all maximal cliques of size 'n'\n",
    "\n",
    "* Write a function maximal_cliques() that has two parameters - `G` and `size` - and finds all maximal cliques of size `n`\n",
    "    * In the `for` loop, iterate over all the cliques in `G` using the `nx.find_cliques()` function\n",
    "    * If the current clique is of size size, append it to the list `mcs`\n",
    "* Use an assert statement and your `maximal_cliques()` function to check that there are `33` maximal cliques of size `3` in the graph `T`\n",
    "\n",
    "```python\n",
    "def maximal_cliques(G, size):\n",
    "    \"\"\"\n",
    "    Finds all maximal cliques in graph `G` that are of size `size`.\n",
    "    \"\"\"\n",
    "    mcs = []\n",
    "    for clique in nx.find_cliques(G):\n",
    "        if len(clique) == size:\n",
    "            mcs.append(clique)\n",
    "    return mcs\n",
    "\n",
    "assert len(maximal_cliques(T, 3)) == 33\n",
    "```"
   ]
  },
  {
   "cell_type": "markdown",
   "metadata": {},
   "source": [
    "## 9. Subgraphs"
   ]
  },
  {
   "cell_type": "markdown",
   "metadata": {},
   "source": [
    "### Subgraphs\n",
    "\n",
    "* Visualize portions of a large graph\n",
    "    * Paths\n",
    "    * Communities/cliques\n",
    "    * Degrees of separation from a node"
   ]
  },
  {
   "cell_type": "markdown",
   "metadata": {},
   "source": [
    "### Subgraphs\n",
    "\n",
    "```python\n",
    "In [1]: import networkx as nx\n",
    "    \n",
    "In [2]: G = nx.erdos_renyi_graph(n=20, p=0.2)\n",
    "    \n",
    "In [3]: G.nodes()\n",
    "Out[3]: [0, 1, 2, 3, 4, 5, 6, 7, 8, 9, 10, 11, 12, 13, 14, 15, 16, 17, 18, 19]\n",
    "    \n",
    "In [4]: nodes = G.neighbors(8)\n",
    "    \n",
    "In [5]: nodes\n",
    "Out[5]: [2, 3, 4, 10]\n",
    "    \n",
    "In [6]: nodes.append(8)\n",
    "    \n",
    "In [7]: G_eight = G.subgraph(nodes)\n",
    "    \n",
    "In [8]: G_eight.edges()\n",
    "Out[8]: [(8, 2), (8, 3), (8, 4), (8, 10), (2, 10)]\n",
    "    \n",
    "In [9]: G_eight\n",
    "Out[9]: <networkx.classes.graph.Graph at 0x10cae39e8>\n",
    "    \n",
    "In [10]: G\n",
    "Out[10]: <networkx.classes.graph.Graph at 0x10cad1f60>\n",
    "    \n",
    "In [11]: nx.draw(G_eight, with_labels=True)\n",
    "```\n",
    "\n",
    "<img src='Network_Analysis_in_Python_(Part_1)/Pictures/Subgraphs.png' alt='Subgraphs' width=300 align='left'>"
   ]
  },
  {
   "cell_type": "markdown",
   "metadata": {},
   "source": [
    "### №24 Subgraphs I\n",
    "\n",
    "* Write a function `get_nodes_and_nbrs(G, nodes_of_interest)` that extracts the subgraph from graph `G` comprised of the `nodes_of_interest` and their neighbors\n",
    "    * In the first `for` loop, iterate over `nodes_of_interest` and append the current node `n` to `nodes_to_draw`\n",
    "    * In the second `for` loop, iterate over the neighbors of `n`, and append all the neighbors `nbr` to `nodes_to_draw`\n",
    "* Use the function to extract the subgraph from `T` comprised of nodes 29, 38, and 42 (contained in the pre-defined list `nodes_of_interest`) and their neighbors. Save the result as `T_draw`\n",
    "* Draw the subgraph `T_draw` to the screen\n",
    "\n",
    "```python\n",
    "nodes_of_interest = [29, 38, 42]\n",
    "\n",
    "def get_nodes_and_nbrs(G, nodes_of_interest):\n",
    "    \"\"\"\n",
    "    Returns a subgraph of the graph `G` with only the `nodes_of_interest` and their neighbors.\n",
    "    \"\"\"\n",
    "    nodes_to_draw = []\n",
    "\n",
    "    for n in nodes_of_interest:\n",
    "        nodes_to_draw.append(n)\n",
    "\n",
    "        for nbr in G.neighbors(n):\n",
    "            nodes_to_draw.append(nbr)\n",
    "\n",
    "    return G.subgraph(nodes_to_draw)\n",
    "\n",
    "T_draw = get_nodes_and_nbrs(T, nodes_of_interest)\n",
    "\n",
    "nx.draw(T_draw)\n",
    "plt.show()\n",
    "```"
   ]
  },
  {
   "cell_type": "markdown",
   "metadata": {},
   "source": [
    "### №25 Subgraphs II\n",
    "\n",
    "* Using a list comprehension, extract nodes that have the metadata `'occupation'` as `'celebrity'` alongside their neighbors:\n",
    "    * The output expression of the list comprehension is `n`, and there are two iterator variables: `n` and `d`. The iterable is the list of nodes of `T` (including the metadata, which you can specify using `data=True`) and the conditional expression is if the `'occupation'` key of the metadata dictionary `d` equals `'celebrity'`\n",
    "* Place them in a new subgraph called `T_sub`. To do this:\n",
    "    * Iterate over the nodes, compute the neighbors of each node, and add them to the set of nodes `nodeset` by using the `.union()` method\n",
    "    * Use nodeset along with the `T.subgraph()` method to calculate `T_sub`\n",
    "* Draw `T_sub` to the screen\n",
    "\n",
    "```python\n",
    "nodes = [n for n, d in T.nodes(data=True) if d['occupation'] == 'celebrity']\n",
    "nodeset = set(nodes)\n",
    "\n",
    "for n in nodes:\n",
    "    nbrs = T.neighbors(n)\n",
    "    nodeset = nodeset.union(nbrs)\n",
    "\n",
    "T_sub = T.subgraph(nodeset)\n",
    "\n",
    "nx.draw(T_sub)\n",
    "plt.show()\n",
    "```"
   ]
  },
  {
   "cell_type": "markdown",
   "metadata": {},
   "source": [
    "## Chapter 4. Bringing it all together"
   ]
  },
  {
   "cell_type": "markdown",
   "metadata": {},
   "source": [
    "## 10. Case study!"
   ]
  },
  {
   "cell_type": "markdown",
   "metadata": {},
   "source": [
    "### Data\n",
    "\n",
    "* Github user collaboration network\n",
    "* Nodes: users\n",
    "* Edges: collaboration on same GitHub repository\n",
    "* Goals:\n",
    "    * Analyze structure\n",
    "    * Visualize\n",
    "    * Build simple recommendation system"
   ]
  },
  {
   "cell_type": "markdown",
   "metadata": {},
   "source": [
    "### Graph properties"
   ]
  },
  {
   "cell_type": "code",
   "execution_count": 14,
   "metadata": {},
   "outputs": [
    {
     "data": {
      "text/plain": [
       "33"
      ]
     },
     "execution_count": 14,
     "metadata": {},
     "output_type": "execute_result"
    }
   ],
   "source": [
    "import networkx as nx\n",
    "\n",
    "G = nx.erdos_renyi_graph(n=20, p=0.2)\n",
    "len(G.edges())"
   ]
  },
  {
   "cell_type": "code",
   "execution_count": 15,
   "metadata": {},
   "outputs": [
    {
     "data": {
      "text/plain": [
       "20"
      ]
     },
     "execution_count": 15,
     "metadata": {},
     "output_type": "execute_result"
    }
   ],
   "source": [
    "len(G.nodes())"
   ]
  },
  {
   "cell_type": "code",
   "execution_count": 16,
   "metadata": {},
   "outputs": [
    {
     "data": {
      "text/plain": [
       "{0: 0.15789473684210525,\n",
       " 1: 0.2631578947368421,\n",
       " 2: 0.21052631578947367,\n",
       " 3: 0.2631578947368421,\n",
       " 4: 0.05263157894736842,\n",
       " 5: 0.10526315789473684,\n",
       " 6: 0.3684210526315789,\n",
       " 7: 0.3157894736842105,\n",
       " 8: 0.10526315789473684,\n",
       " 9: 0.10526315789473684,\n",
       " 10: 0.05263157894736842,\n",
       " 11: 0.2631578947368421,\n",
       " 12: 0.21052631578947367,\n",
       " 13: 0.21052631578947367,\n",
       " 14: 0.10526315789473684,\n",
       " 15: 0.21052631578947367,\n",
       " 16: 0.10526315789473684,\n",
       " 17: 0.10526315789473684,\n",
       " 18: 0.21052631578947367,\n",
       " 19: 0.05263157894736842}"
      ]
     },
     "execution_count": 16,
     "metadata": {},
     "output_type": "execute_result"
    }
   ],
   "source": [
    "nx.degree_centrality(G)"
   ]
  },
  {
   "cell_type": "code",
   "execution_count": 17,
   "metadata": {},
   "outputs": [
    {
     "data": {
      "text/plain": [
       "{0: 0.06172839506172838,\n",
       " 1: 0.1596166341780377,\n",
       " 2: 0.04048083170890189,\n",
       " 3: 0.14165042235217676,\n",
       " 4: 0.0,\n",
       " 5: 0.0142949967511371,\n",
       " 6: 0.3708252111760883,\n",
       " 7: 0.20337881741390512,\n",
       " 8: 0.0142949967511371,\n",
       " 9: 0.0,\n",
       " 10: 0.0,\n",
       " 11: 0.17384665367121505,\n",
       " 12: 0.08983105912930474,\n",
       " 13: 0.07248213125406107,\n",
       " 14: 0.0071474983755685515,\n",
       " 15: 0.04463937621832358,\n",
       " 16: 0.0,\n",
       " 17: 0.10526315789473684,\n",
       " 18: 0.0677712800519818,\n",
       " 19: 0.0}"
      ]
     },
     "execution_count": 17,
     "metadata": {},
     "output_type": "execute_result"
    }
   ],
   "source": [
    "nx.betweenness_centrality(G)"
   ]
  },
  {
   "cell_type": "markdown",
   "metadata": {},
   "source": [
    "### Data\n",
    "\n",
    "* Number of nodes\n",
    "* Number of edges\n",
    "* Degree centrality distribution\n",
    "* Betweenness centrality distribution"
   ]
  },
  {
   "cell_type": "markdown",
   "metadata": {},
   "source": [
    "### №26 Characterizing the network (I)\n",
    "\n",
    "Your job in this exercise is to identify how many nodes and edges are present in the network. You can use the functions `len(G.nodes())` and `len(G.edges())` to calculate the number of nodes and edges respectively\n",
    "\n",
    "* 72900 nodes, 56519 edges\n",
    "* *56519 nodes, 72900 edges*\n",
    "* 47095 nodes, 65789 edges\n",
    "* 63762 nodes, 71318 edges"
   ]
  },
  {
   "cell_type": "markdown",
   "metadata": {},
   "source": [
    "### №27 Characterizing the network (II)\n",
    "\n",
    "* Plot the degree distribution of the GitHub collaboration network `G`. Recall that there are four steps involved here:\n",
    "    * Calculating the degree centrality of `G`\n",
    "    * Using the `.values()` method of `G` and converting it into a list\n",
    "    * Passing the list of degree distributions to `plt.hist()`\n",
    "    * Displaying the histogram with `plt.show()`\n",
    "    \n",
    "```python\n",
    "import matplotlib.pyplot as plt\n",
    "import networkx as nx\n",
    "\n",
    "plt.hist(list(nx.degree_centrality(G).values()))\n",
    "plt.show()\n",
    "```"
   ]
  },
  {
   "cell_type": "markdown",
   "metadata": {},
   "source": [
    "### №28 Characterizing the network (III)\n",
    "\n",
    "* Plot the betweenness centrality distribution of the GitHub collaboration network. You have to follow exactly the same four steps as in the previous exercise, substituting `nx.betweenness_centrality()` in place of `nx.degree_centrality()`\n",
    "\n",
    "```python\n",
    "import matplotlib.pyplot as plt\n",
    "import networkx as nx\n",
    "\n",
    "plt.hist(list(nx.betweenness_centrality(G).values()))\n",
    "plt.show()\n",
    "```"
   ]
  },
  {
   "cell_type": "markdown",
   "metadata": {},
   "source": [
    "## 11. Case study part II: Visualization"
   ]
  },
  {
   "cell_type": "markdown",
   "metadata": {},
   "source": [
    "### nxviz API"
   ]
  },
  {
   "cell_type": "code",
   "execution_count": 18,
   "metadata": {},
   "outputs": [
    {
     "data": {
      "image/png": "[encoded data removed]",
      "text/plain": [
       "<Figure size 432x432 with 1 Axes>"
      ]
     },
     "metadata": {
      "image/png": {
       "height": 340,
       "width": 340
      },
      "needs_background": "dark"
     },
     "output_type": "display_data"
    }
   ],
   "source": [
    "import networkx as nx\n",
    "import nxviz as nv\n",
    "\n",
    "G = nx.erdos_renyi_graph(n=20, p=0.3)\n",
    "\n",
    "circ = nv.CircosPlot(G)\n",
    "circ.draw()"
   ]
  },
  {
   "cell_type": "markdown",
   "metadata": {},
   "source": [
    "### NetworkX API"
   ]
  },
  {
   "cell_type": "code",
   "execution_count": 19,
   "metadata": {},
   "outputs": [
    {
     "data": {
      "text/plain": [
       "<generator object connected_component_subgraphs at 0x1a1c76aa98>"
      ]
     },
     "execution_count": 19,
     "metadata": {},
     "output_type": "execute_result"
    }
   ],
   "source": [
    "import networkx as nx\n",
    "\n",
    "G = nx.erdos_renyi_graph(n=100, p=0.03)\n",
    "nx.connected_component_subgraphs(G)"
   ]
  },
  {
   "cell_type": "code",
   "execution_count": 20,
   "metadata": {},
   "outputs": [
    {
     "data": {
      "text/plain": [
       "[<networkx.classes.graph.Graph at 0x1a1cd3c0f0>,\n",
       " <networkx.classes.graph.Graph at 0x1043c1ef0>,\n",
       " <networkx.classes.graph.Graph at 0x1a1bafef60>,\n",
       " <networkx.classes.graph.Graph at 0x1a1bafef28>,\n",
       " <networkx.classes.graph.Graph at 0x1a1bafeef0>]"
      ]
     },
     "execution_count": 20,
     "metadata": {},
     "output_type": "execute_result"
    }
   ],
   "source": [
    "list(nx.connected_component_subgraphs(G))"
   ]
  },
  {
   "cell_type": "code",
   "execution_count": 21,
   "metadata": {},
   "outputs": [
    {
     "name": "stdout",
     "output_type": "stream",
     "text": [
      "96\n",
      "1\n",
      "1\n",
      "1\n",
      "1\n"
     ]
    }
   ],
   "source": [
    "for g in list(nx.connected_component_subgraphs(G)):\n",
    "    print(len(g.nodes()))"
   ]
  },
  {
   "cell_type": "markdown",
   "metadata": {},
   "source": [
    "### №29 MatrixPlot\n",
    "\n",
    "* Make a MatrixPlot visualization of the largest connected component subgraph, with authors grouped by their user group number\n",
    "    * First, calculate the largest connected component subgraph by using the `nx.connected_component_subgraphs(G)` inside the provided `sorted()` function. Python's built-in `sorted()` function takes an iterable and returns a sorted list (in ascending order, by default). Therefore, to access the largest connected component subgraph, the statement is sliced with `[-1]`\n",
    "    * Create the `MatrixPlot` object `h`. You have to specify the parameters `graph` and `node_grouping` to be the largest connected component subgraph and `'grouping'`, respectively\n",
    "    * Draw the `MatrixPlot` object to the screen and display the plot\n",
    "    \n",
    "```python\n",
    "from nxviz import MatrixPlot\n",
    "import matplotlib.pyplot as plt\n",
    "\n",
    "largest_ccs = sorted(nx.connected_component_subgraphs(G), key=lambda x: len(x))[-1]\n",
    "\n",
    "h = MatrixPlot(graph=largest_ccs, node_grouping='grouping')\n",
    "\n",
    "h.draw()\n",
    "plt.show()\n",
    "```"
   ]
  },
  {
   "cell_type": "markdown",
   "metadata": {},
   "source": [
    "### №30 ArcPlot\n",
    "\n",
    "* Make an ArcPlot of the GitHub collaboration network, with authors sorted by degree. To do this:\n",
    "    * Iterate over all the nodes in `G`, including the metadata (by specifying `data=True`).\n",
    "    * In each iteration of the loop, calculate the degree of each node `n` with `nx.degree()` and set its `'degree'` attribute. `nx.degree()` accepts two arguments: `A` graph and `a` node\n",
    "    * Create the `ArcPlot` object a by specifying two parameters: the `graph`, which is `G`, and the `node_order`, which is `'degree'`, so that the nodes are sorted\n",
    "    * Draw the `ArcPlot` object to the screen\n",
    "\n",
    "```python\n",
    "from nxviz.plots import ArcPlot\n",
    "import matplotlib.pyplot as plt\n",
    "\n",
    "for n, d in G.nodes(data=True):\n",
    "    G.node[n]['degree'] = nx.degree(G, n)\n",
    "\n",
    "a = ArcPlot(graph=G, node_order='degree')\n",
    "\n",
    "a.draw()\n",
    "plt.show()\n",
    "```"
   ]
  },
  {
   "cell_type": "markdown",
   "metadata": {},
   "source": [
    "### №31 CircosPlot\n",
    "\n",
    "* Make a CircosPlot of the network, again, with GitHub users sorted by their degree, and grouped and coloured by their `'grouping'` key. To do this:\n",
    "    * Iterate over all the nodes in `G`, including the metadata (by specifying `data=True`)\n",
    "    * In each iteration of the loop, calculate the degree of each node `n` with `nx.degree()` and set its `'degree'` attribute\n",
    "    * Create the `CircosPlot` object `c` by specifying three parameters in addition to the graph `G`: the `node_order`, which is `'degree'`, the `node_grouping` and the `node_color`, which are both `'grouping'`\n",
    "    * Draw the `CircosPlot` object to the screen\n",
    "\n",
    "```python\n",
    "from nxviz import CircosPlot\n",
    "import matplotlib.pyplot as plt\n",
    "\n",
    "for n, d in G.nodes(data=True):\n",
    "    G.node[n]['degree'] = nx.degree(G, n)\n",
    "\n",
    "c = CircosPlot(G, node_order='degree', node_grouping='grouping', node_color='grouping')\n",
    "\n",
    "c.draw()\n",
    "plt.show()\n",
    "```"
   ]
  },
  {
   "cell_type": "markdown",
   "metadata": {},
   "source": [
    "## 13. Case study part III: Cliques"
   ]
  },
  {
   "cell_type": "markdown",
   "metadata": {},
   "source": [
    "### Cliques\n",
    "\n",
    "* Definition:\n",
    "    * Groups of nodes\n",
    "    * Fully connected\n",
    "* Simplest clique: edge\n",
    "* Simplest complex clique: triangle"
   ]
  },
  {
   "cell_type": "markdown",
   "metadata": {},
   "source": [
    "### Maximal cliques\n",
    "\n",
    "* Definition:\n",
    "    * A clique\n",
    "    * Cannot be extended by adding a node"
   ]
  },
  {
   "cell_type": "markdown",
   "metadata": {},
   "source": [
    "### Finding cliques"
   ]
  },
  {
   "cell_type": "code",
   "execution_count": 22,
   "metadata": {},
   "outputs": [
    {
     "data": {
      "text/plain": [
       "<generator object find_cliques at 0x1a1c76ad68>"
      ]
     },
     "execution_count": 22,
     "metadata": {},
     "output_type": "execute_result"
    }
   ],
   "source": [
    "import networkx as nx\n",
    "\n",
    "G = nx.erdos_renyi_graph(n=100, p=0.15)\n",
    "nx.find_cliques(G)"
   ]
  },
  {
   "cell_type": "code",
   "execution_count": 23,
   "metadata": {},
   "outputs": [
    {
     "name": "stdout",
     "output_type": "stream",
     "text": [
      "3\n",
      "3\n",
      "3\n",
      "3\n",
      "3\n",
      "3\n",
      "3\n",
      "3\n",
      "3\n",
      "3\n",
      "2\n",
      "2\n",
      "3\n",
      "3\n",
      "3\n",
      "2\n",
      "3\n",
      "3\n",
      "3\n",
      "3\n",
      "3\n",
      "3\n",
      "3\n",
      "3\n",
      "3\n",
      "2\n",
      "3\n",
      "3\n",
      "3\n",
      "2\n",
      "3\n",
      "3\n",
      "3\n",
      "3\n",
      "3\n",
      "3\n",
      "3\n",
      "3\n",
      "3\n",
      "3\n",
      "3\n",
      "3\n",
      "3\n",
      "3\n",
      "3\n",
      "4\n",
      "2\n",
      "3\n",
      "3\n",
      "3\n",
      "2\n",
      "3\n",
      "3\n",
      "3\n",
      "5\n",
      "3\n",
      "3\n",
      "4\n",
      "3\n",
      "3\n",
      "3\n",
      "3\n",
      "3\n",
      "4\n",
      "2\n",
      "3\n",
      "3\n",
      "3\n",
      "3\n",
      "3\n",
      "3\n",
      "3\n",
      "3\n",
      "3\n",
      "3\n",
      "3\n",
      "3\n",
      "3\n",
      "3\n",
      "3\n",
      "3\n",
      "4\n",
      "3\n",
      "3\n",
      "3\n",
      "3\n",
      "3\n",
      "2\n",
      "2\n",
      "3\n",
      "4\n",
      "3\n",
      "3\n",
      "2\n",
      "3\n",
      "3\n",
      "3\n",
      "3\n",
      "3\n",
      "3\n",
      "3\n",
      "3\n",
      "3\n",
      "3\n",
      "3\n",
      "3\n",
      "4\n",
      "4\n",
      "3\n",
      "3\n",
      "3\n",
      "3\n",
      "3\n",
      "4\n",
      "4\n",
      "3\n",
      "3\n",
      "2\n",
      "3\n",
      "3\n",
      "3\n",
      "2\n",
      "3\n",
      "3\n",
      "3\n",
      "3\n",
      "3\n",
      "3\n",
      "3\n",
      "3\n",
      "3\n",
      "3\n",
      "3\n",
      "3\n",
      "2\n",
      "2\n",
      "3\n",
      "3\n",
      "3\n",
      "3\n",
      "3\n",
      "3\n",
      "3\n",
      "3\n",
      "3\n",
      "3\n",
      "3\n",
      "3\n",
      "3\n",
      "3\n",
      "3\n",
      "3\n",
      "3\n",
      "2\n",
      "3\n",
      "3\n",
      "3\n",
      "3\n",
      "3\n",
      "3\n",
      "3\n",
      "3\n",
      "4\n",
      "2\n",
      "3\n",
      "3\n",
      "2\n",
      "3\n",
      "3\n",
      "3\n",
      "3\n",
      "3\n",
      "3\n",
      "3\n",
      "2\n",
      "3\n",
      "3\n",
      "3\n",
      "3\n",
      "2\n",
      "3\n",
      "3\n",
      "2\n",
      "3\n",
      "3\n",
      "2\n",
      "3\n",
      "3\n",
      "3\n",
      "3\n",
      "4\n",
      "3\n",
      "3\n",
      "4\n",
      "3\n",
      "4\n",
      "3\n",
      "3\n",
      "2\n",
      "2\n",
      "3\n",
      "3\n",
      "3\n",
      "3\n",
      "3\n",
      "3\n",
      "3\n",
      "4\n",
      "3\n",
      "3\n",
      "3\n",
      "3\n",
      "3\n",
      "4\n",
      "4\n",
      "3\n",
      "3\n",
      "3\n",
      "4\n",
      "3\n",
      "3\n",
      "3\n",
      "3\n",
      "2\n",
      "3\n",
      "2\n",
      "3\n",
      "3\n",
      "3\n",
      "3\n",
      "3\n",
      "3\n",
      "2\n",
      "3\n",
      "2\n",
      "3\n",
      "3\n",
      "3\n",
      "3\n",
      "3\n",
      "3\n",
      "3\n",
      "3\n",
      "3\n",
      "3\n",
      "3\n",
      "3\n",
      "3\n",
      "3\n",
      "3\n",
      "3\n",
      "3\n",
      "3\n",
      "2\n",
      "3\n",
      "3\n",
      "2\n",
      "3\n",
      "3\n",
      "3\n",
      "2\n",
      "3\n",
      "2\n",
      "3\n",
      "3\n",
      "3\n",
      "3\n",
      "2\n",
      "3\n",
      "2\n",
      "3\n",
      "3\n",
      "3\n",
      "2\n",
      "3\n",
      "3\n",
      "3\n",
      "3\n",
      "2\n",
      "4\n",
      "4\n",
      "2\n",
      "3\n",
      "3\n",
      "3\n",
      "3\n",
      "2\n",
      "2\n",
      "2\n",
      "3\n",
      "3\n",
      "3\n",
      "2\n",
      "3\n",
      "3\n",
      "4\n",
      "3\n",
      "4\n",
      "3\n",
      "3\n",
      "3\n",
      "4\n",
      "3\n",
      "3\n",
      "3\n",
      "3\n",
      "3\n",
      "3\n",
      "3\n",
      "3\n",
      "3\n",
      "3\n",
      "2\n",
      "3\n",
      "3\n",
      "4\n",
      "2\n",
      "2\n",
      "2\n",
      "3\n",
      "2\n",
      "2\n",
      "3\n",
      "3\n",
      "2\n",
      "3\n",
      "3\n",
      "3\n",
      "3\n",
      "3\n",
      "3\n",
      "4\n",
      "2\n",
      "3\n",
      "4\n",
      "3\n",
      "4\n",
      "4\n",
      "3\n",
      "3\n",
      "3\n",
      "3\n",
      "3\n",
      "4\n",
      "3\n",
      "3\n",
      "3\n",
      "3\n",
      "3\n",
      "3\n",
      "4\n",
      "4\n",
      "3\n",
      "4\n",
      "3\n",
      "3\n",
      "4\n",
      "3\n",
      "3\n",
      "3\n",
      "3\n",
      "3\n",
      "2\n",
      "3\n",
      "3\n",
      "4\n",
      "3\n",
      "3\n",
      "3\n",
      "3\n",
      "2\n",
      "3\n",
      "3\n",
      "3\n",
      "3\n",
      "3\n",
      "3\n",
      "3\n",
      "3\n",
      "3\n",
      "3\n",
      "3\n",
      "3\n",
      "3\n",
      "3\n",
      "3\n",
      "2\n",
      "3\n",
      "2\n",
      "4\n",
      "3\n",
      "3\n",
      "3\n",
      "3\n",
      "3\n",
      "3\n",
      "3\n",
      "3\n",
      "3\n",
      "3\n",
      "3\n",
      "2\n",
      "3\n",
      "3\n",
      "3\n",
      "4\n",
      "3\n",
      "3\n",
      "3\n",
      "3\n",
      "3\n",
      "2\n",
      "2\n",
      "3\n",
      "3\n",
      "3\n",
      "3\n",
      "3\n",
      "3\n",
      "3\n",
      "3\n",
      "3\n",
      "3\n",
      "2\n",
      "3\n",
      "3\n",
      "3\n",
      "3\n",
      "3\n",
      "3\n",
      "3\n",
      "3\n",
      "3\n",
      "3\n",
      "3\n",
      "2\n",
      "2\n",
      "2\n",
      "3\n",
      "3\n",
      "3\n",
      "3\n",
      "3\n",
      "4\n",
      "3\n",
      "3\n",
      "3\n",
      "3\n",
      "3\n",
      "3\n",
      "3\n",
      "3\n",
      "2\n",
      "3\n",
      "3\n",
      "3\n",
      "3\n",
      "2\n",
      "2\n",
      "2\n",
      "4\n",
      "3\n",
      "2\n",
      "2\n",
      "3\n",
      "2\n",
      "3\n",
      "3\n",
      "3\n",
      "3\n",
      "2\n",
      "3\n",
      "3\n",
      "2\n",
      "3\n",
      "3\n",
      "3\n",
      "3\n",
      "3\n",
      "2\n",
      "2\n",
      "3\n",
      "3\n",
      "2\n",
      "3\n",
      "3\n",
      "3\n",
      "3\n",
      "2\n",
      "3\n",
      "3\n",
      "2\n",
      "3\n",
      "3\n",
      "3\n",
      "3\n",
      "3\n",
      "3\n",
      "3\n",
      "3\n",
      "3\n",
      "3\n",
      "2\n",
      "2\n",
      "3\n",
      "2\n",
      "2\n",
      "2\n",
      "3\n",
      "2\n",
      "2\n",
      "2\n",
      "3\n"
     ]
    }
   ],
   "source": [
    "for clique in nx.find_cliques(G):\n",
    "    print(len(clique))"
   ]
  },
  {
   "cell_type": "markdown",
   "metadata": {},
   "source": [
    "### №32 Finding cliques (I)\n",
    "\n",
    "* Count the number of maximal cliques present in the graph and print it\n",
    "    * Use the `nx.find_cliques()` function of `G` to find the maximal cliques\n",
    "    * The `nx.find_cliques()` function returns a generator object. To count the number of maximal cliques, you need to first convert it to a list with `list()` and then use the `len()` function. Place this inside a `print()` function to print it\n",
    "\n",
    "```python\n",
    "cliques = nx.find_cliques(G)\n",
    "print(len(list(cliques)))\n",
    "```"
   ]
  },
  {
   "cell_type": "markdown",
   "metadata": {},
   "source": [
    "### №33 Finding cliques (II)\n",
    "\n",
    "* Find the author(s) that are part of the largest maximal clique, and plot the subgraph of that/one of those clique(s) using a `CircosPlo`t. To do this:\n",
    "    * Use the `nx.find_cliques()` function to calculate the maximal cliques in `G`. Place this within the provided `sorted()` function to calculate the largest maximal clique\n",
    "    * Create the subgraph consisting of the largest maximal clique using the `.subgraph()` method and `largest_clique`\n",
    "    * Create the `CircosPlot` object using the subgraph `G_lc` (without any other arguments) and plot it\n",
    "    \n",
    "```python\n",
    "import networkx as nx\n",
    "from nxviz import CircosPlot\n",
    "import matplotlib.pyplot as plt\n",
    "\n",
    "largest_clique = sorted(nx.find_cliques(G), key=lambda x: len(x))[-1]\n",
    "\n",
    "G_lc = G.subgraph(largest_clique)\n",
    "\n",
    "c = CircosPlot(G_lc)\n",
    "\n",
    "c.draw()\n",
    "plt.show()\n",
    "```"
   ]
  },
  {
   "cell_type": "markdown",
   "metadata": {},
   "source": [
    "## 14. Case study part IV: Final tasks"
   ]
  },
  {
   "cell_type": "markdown",
   "metadata": {},
   "source": [
    "### Final tasks\n",
    "\n",
    "* Find important users\n",
    "* Find largest communities of collaborators\n",
    "* Build a collaboration recommendation system"
   ]
  },
  {
   "cell_type": "markdown",
   "metadata": {},
   "source": [
    "### №34 Finding important collaborators\n",
    "\n",
    "* Compute the degree centralities of `G`. Store the result as `deg_cent`\n",
    "* Compute the maximum degree centrality. Since `deg_cent` is a dictionary, you'll have to use the `.values()` method to get a list of its values before computing the maximum degree centrality with `max()`\n",
    "* Identify the most prolific collaborators using a list comprehension:\n",
    "    * Iterate over the degree centrality dictionary `deg_cent` that was computed earlier using its `.items()` method. What condition should be satisfied if you are seeking to find user(s) that have collaborated with the most number of users? Hint: It has do to with the maximum degree centrality\n",
    "\n",
    "```python\n",
    "deg_cent = nx.degree_centrality(G)\n",
    "\n",
    "max_dc = max(deg_cent.values())\n",
    "\n",
    "prolific_collaborators = [n for n, dc in deg_cent.items() if dc == max_dc]\n",
    "print(prolific_collaborators)\n",
    "```"
   ]
  },
  {
   "cell_type": "markdown",
   "metadata": {},
   "source": [
    "### №35 Characterizing editing communities\n",
    "\n",
    "* Go out 1 degree of separation from the clique, and add those users to the subgraph. Inside the first `for` loop:\n",
    "    * Add nodes to `G_lmc` from the neighbors of `G` using the `.add_nodes_from()` and `.neighbors()` methods\n",
    "    * Using the `.add_edges_from()`, method, add edges to `G_lmc` between the current node and all its neighbors. To do this, you'll have create a list of tuples using the `zip()` function consisting of the current node and each of its neighbors. The first argument to `zip()` should be `[node]*len(list(G.neighbors(node)))`, and the second argument should be the neighbors of `node`\n",
    "* Record each node's degree centrality score in its node metadata\n",
    "    * Do this by assigning `nx.degree_centrality(G_lmc)[n]` to `G_lmc.node[n]['degree centrality']` in the second `for` loop\n",
    "    \n",
    "```python\n",
    "from nxviz import ArcPlot\n",
    "import matplotlib.pyplot as plt\n",
    "\n",
    "largest_max_clique = set(sorted(nx.find_cliques(G), key=lambda x: len(x))[-1])\n",
    "\n",
    "G_lmc = G.subgraph(largest_max_clique).copy()  \n",
    "\n",
    "for node in list(G_lmc.nodes()):\n",
    "    G_lmc.add_nodes_from(G.neighbors(node))\n",
    "    G_lmc.add_edges_from(zip([node]*len(list(G.neighbors(node))), G.neighbors(node)))\n",
    "\n",
    "for n in G_lmc.nodes():\n",
    "    G_lmc.node[n]['degree centrality'] = nx.degree_centrality(G_lmc)[n]\n",
    "\n",
    "a = ArcPlot(G_lmc, node_order='degree centrality')\n",
    "\n",
    "a.draw()\n",
    "plt.show()\n",
    "```"
   ]
  },
  {
   "cell_type": "markdown",
   "metadata": {},
   "source": [
    "### №36 Recommending co-editors who have yet to edit together\n",
    "\n",
    "* Compile a list of GitHub users that should be recommended to collaborate with one another. To do this:\n",
    "    * In the first `for` loop, iterate over all the nodes in `G`, including the metadata (by specifying `data=True`)\n",
    "    * In the second `for` loop, iterate over all the possible triangle combinations, which can be identified using the `combinations()` function with a `size` of `2`\n",
    "    * If `n1` and `n2` do not have an edge between them, a collaboration between these two nodes (users) should be recommended, so increment the `(n1)`, `(n2)` value of the `recommended` dictionary in this case. You can check whether or not `n1` and `n2` have an edge between them using the `.has_edge()` method\n",
    "* Using a list comprehension, identify the top 10 pairs of users that should be recommended to collaborate. The iterable should be the key-value pairs of the `recommended` dictionary (which can be accessed with the `.items()` method), while the conditional should be satisfied if `count` is greater than the top 10 in `all_counts`. Note that `all_counts` is sorted in ascending order, so you can access the top 10 with `all_counts[-10]`\n",
    "\n",
    "```python\n",
    "from itertools import combinations\n",
    "from collections import defaultdict\n",
    "\n",
    "recommended = defaultdict(int)\n",
    "\n",
    "for n, d in G.node(data=True):\n",
    "    for n1, n2 in combinations(G.neighbors(n), 2):\n",
    "        if not G.has_edge(n1, n2):\n",
    "            recommended[(n1, n2)] += 1\n",
    "\n",
    "all_counts = sorted(recommended.values())\n",
    "top10_pairs = [pair for pair, count in recommended.items() if count > all_counts[-10]]\n",
    "print(top10_pairs)\n",
    "```"
   ]
  },
  {
   "cell_type": "code",
   "execution_count": null,
   "metadata": {},
   "outputs": [],
   "source": []
  },
  {
   "cell_type": "code",
   "execution_count": null,
   "metadata": {},
   "outputs": [],
   "source": []
  }
 ],
 "metadata": {
  "kernelspec": {
   "display_name": "Python 3",
   "language": "python",
   "name": "python3"
  },
  "language_info": {
   "codemirror_mode": {
    "name": "ipython",
    "version": 3
   },
   "file_extension": ".py",
   "mimetype": "text/x-python",
   "name": "python",
   "nbconvert_exporter": "python",
   "pygments_lexer": "ipython3",
   "version": "3.7.3"
  }
 },
 "nbformat": 4,
 "nbformat_minor": 2
}
