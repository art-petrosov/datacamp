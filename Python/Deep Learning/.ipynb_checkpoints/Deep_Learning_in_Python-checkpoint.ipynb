{
 "cells": [
  {
   "cell_type": "markdown",
   "metadata": {},
   "source": [
    "# Deep Learning in Python"
   ]
  },
  {
   "cell_type": "code",
   "execution_count": 1,
   "metadata": {},
   "outputs": [],
   "source": [
    "import pandas as pd\n",
    "import numpy as np\n",
    "import matplotlib.pyplot as plt\n",
    "import seaborn as sns\n",
    "from jupyterthemes import jtplot\n",
    "import warnings\n",
    "\n",
    "jtplot.style(theme='chesterish')\n",
    "warnings.filterwarnings('ignore')\n",
    "%config InlineBackend.figure_format='retina'"
   ]
  },
  {
   "cell_type": "markdown",
   "metadata": {},
   "source": [
    "## Chapter 1. Basics of deep learning and neural networks"
   ]
  },
  {
   "cell_type": "markdown",
   "metadata": {},
   "source": [
    "## 1. Introduction to deep learning"
   ]
  },
  {
   "cell_type": "markdown",
   "metadata": {},
   "source": [
    "### Imagine you work for a bank\n",
    "\n",
    "* You need to predict how many transactions each customer will make next year"
   ]
  },
  {
   "cell_type": "markdown",
   "metadata": {},
   "source": [
    "### Example as seen by linear regression\n",
    "\n",
    "<img src='Deep_Learning_in_Python/Pictures/Example_as_seen_by_linear_regression.png' alt='Example as seen by linear regression' width=400 align='left'>"
   ]
  },
  {
   "cell_type": "markdown",
   "metadata": {},
   "source": [
    "<img src='Deep_Learning_in_Python/Pictures/Example_as_seen_by_linear_regression_2.png' alt='Example as seen by linear regression' width=400 align='left'>"
   ]
  },
  {
   "cell_type": "markdown",
   "metadata": {},
   "source": [
    "### Interactions\n",
    "\n",
    "* Neural networks account for interactions really well\n",
    "* Deep learning uses especially powerful neural networks\n",
    "    * Text\n",
    "    * Images\n",
    "    * Videos\n",
    "    * Audio\n",
    "    * Source code"
   ]
  },
  {
   "cell_type": "markdown",
   "metadata": {},
   "source": [
    "### Build deep learning models with keras\n",
    "\n",
    "```python\n",
    "In [1]: import numpy as np\n",
    "    \n",
    "In [2]: from keras.layers import Dense\n",
    "    \n",
    "In [3]: from keras.models import Sequential\n",
    "    \n",
    "In [4]: predictors = np.loadtxt('predictors_data.csv', delimiter=',')\n",
    "    \n",
    "In [5]: n_cols = predictors.shape[1]\n",
    "    \n",
    "In [6]: model = Sequential()\n",
    "    \n",
    "In [7]: model.add(Dense(100, activation='relu', input_shape = (n_cols,)))\n",
    "    \n",
    "In [8]: model.add(Dense(100, activation='relu')\n",
    "\n",
    "In [9]: model.add(Dense(1))\n",
    "```"
   ]
  },
  {
   "cell_type": "markdown",
   "metadata": {},
   "source": [
    "### Deep learning models capture interactions\n",
    "\n",
    "<img src='Deep_Learning_in_Python/Pictures/Deep_learning_models_capture_interactions.png' alt='Deep learning models capture interactions' width=400 align='left'>"
   ]
  },
  {
   "cell_type": "markdown",
   "metadata": {},
   "source": [
    "### Interactions in neural network\n",
    "\n",
    "<img src='Deep_Learning_in_Python/Pictures/Interactions_in_neural_network.png' alt='Interactions in neural network' width=400 align='left'>"
   ]
  },
  {
   "cell_type": "markdown",
   "metadata": {},
   "source": [
    "### №1 Comparing neural network models to classical regression models\n",
    "\n",
    "Which of the models in the diagrams has greater ability to account for interactions?\n",
    "\n",
    "* Model 1\n",
    "* Model 2\n",
    "* They are both the same\n",
    "\n",
    "<img src='Deep_Learning_in_Python/Pictures/ch1ex2.png' alt='Interactions in neural network' width=300 align='left'>"
   ]
  },
  {
   "cell_type": "code",
   "execution_count": null,
   "metadata": {},
   "outputs": [],
   "source": []
  },
  {
   "cell_type": "code",
   "execution_count": null,
   "metadata": {},
   "outputs": [],
   "source": []
  },
  {
   "cell_type": "code",
   "execution_count": null,
   "metadata": {},
   "outputs": [],
   "source": []
  },
  {
   "cell_type": "code",
   "execution_count": null,
   "metadata": {},
   "outputs": [],
   "source": []
  },
  {
   "cell_type": "markdown",
   "metadata": {},
   "source": [
    "## 2. Forward propagation"
   ]
  },
  {
   "cell_type": "markdown",
   "metadata": {},
   "source": [
    "### Bank transactions example\n",
    "\n",
    "* Make predictions based on:\n",
    "    * Number of children\n",
    "    * Number of existing accounts"
   ]
  },
  {
   "cell_type": "markdown",
   "metadata": {},
   "source": [
    "### Forward propagation\n",
    "\n",
    "<img src='Deep_Learning_in_Python/Pictures/Forward_propagation.png' alt='Forward propagation' width=400 align='left'>"
   ]
  },
  {
   "cell_type": "markdown",
   "metadata": {},
   "source": [
    "<img src='Deep_Learning_in_Python/Pictures/Forward_propagation2.png' alt='Forward propagation' width=400 align='left'>"
   ]
  },
  {
   "cell_type": "markdown",
   "metadata": {},
   "source": [
    "<img src='Deep_Learning_in_Python/Pictures/Forward_propagation3.png' alt='Forward propagation' width=400 align='left'>"
   ]
  },
  {
   "cell_type": "markdown",
   "metadata": {},
   "source": [
    "<img src='Deep_Learning_in_Python/Pictures/Forward_propagation4.png' alt='Forward propagation' width=400 align='left'>"
   ]
  },
  {
   "cell_type": "markdown",
   "metadata": {},
   "source": [
    "### Forward propagation\n",
    "\n",
    "* Multiply - add process\n",
    "* Dot product\n",
    "* Forward propagation for one data point at a time\n",
    "* Output is the prediction for that data point"
   ]
  },
  {
   "cell_type": "markdown",
   "metadata": {},
   "source": [
    "### Forward propagation code\n",
    "\n",
    "<img src='Deep_Learning_in_Python/Pictures/Forward_propagation_code.png' alt='Forward propagation code' width=400 align='left'>"
   ]
  },
  {
   "cell_type": "code",
   "execution_count": 2,
   "metadata": {},
   "outputs": [],
   "source": [
    "input_data = np.array([2, 3])\n",
    "    \n",
    "weights = {'node_0': np.array([1, 1]),\n",
    "           'node_1': np.array([-1, 1]),\n",
    "           'output': np.array([2, -1])}\n",
    "    \n",
    "node_0_value = (input_data * weights['node_0']).sum()\n",
    "node_1_value = (input_data * weights['node_1']).sum()"
   ]
  },
  {
   "cell_type": "code",
   "execution_count": 3,
   "metadata": {},
   "outputs": [
    {
     "name": "stdout",
     "output_type": "stream",
     "text": [
      "[5 1]\n"
     ]
    }
   ],
   "source": [
    "hidden_layer_values = np.array([node_0_value, node_1_value])\n",
    "print(hidden_layer_values)"
   ]
  },
  {
   "cell_type": "code",
   "execution_count": 4,
   "metadata": {},
   "outputs": [
    {
     "name": "stdout",
     "output_type": "stream",
     "text": [
      "9\n"
     ]
    }
   ],
   "source": [
    "output = (hidden_layer_values * weights['output']).sum()\n",
    "print(output)"
   ]
  },
  {
   "cell_type": "markdown",
   "metadata": {},
   "source": [
    "### №2 Coding the forward propagation algorithm\n",
    "\n",
    "* Calculate the value in node 0 by multiplying `input_data` by its weights `weights['node_0']` and computing their sum. This is the 1st node in the hidden layer\n",
    "* Calculate the value in node 1 using `input_data` and `weights['node_1']`. This is the 2nd node in the hidden layer\n",
    "* Put the hidden layer values into an array\n",
    "* Generate the prediction by multiplying `hidden_layer_outputs` by `weights['output']` and computing their sum"
   ]
  },
  {
   "cell_type": "code",
   "execution_count": 5,
   "metadata": {},
   "outputs": [
    {
     "name": "stdout",
     "output_type": "stream",
     "text": [
      "-39\n"
     ]
    }
   ],
   "source": [
    "input_data = np.array([3, 5])\n",
    "weights = {'node_1': np.array([4, -5]),\n",
    "           'node_0': np.array([2, 4]),\n",
    "           'output': np.array([2, 7])}\n",
    "\n",
    "node_0_value = (input_data * weights['node_0']).sum()\n",
    "node_1_value = (input_data * weights['node_1']).sum()\n",
    "\n",
    "hidden_layer_outputs = np.array([node_0_value, node_1_value])\n",
    "output = (hidden_layer_outputs * weights['output']).sum()\n",
    "\n",
    "print(output)"
   ]
  },
  {
   "cell_type": "markdown",
   "metadata": {},
   "source": [
    "## 3. Activation functions"
   ]
  },
  {
   "cell_type": "markdown",
   "metadata": {},
   "source": [
    "### Linear vs Nonlinear Functions \n",
    "\n",
    "<img src='Deep_Learning_in_Python/Pictures/Linear_vs_Nonlinear_Functions .png' alt='Linear vs Nonlinear Functions ' width=400 align='left'>"
   ]
  },
  {
   "cell_type": "markdown",
   "metadata": {},
   "source": [
    "### Activation functions\n",
    "\n",
    "* Applied to node inputs to produce node output"
   ]
  },
  {
   "cell_type": "markdown",
   "metadata": {},
   "source": [
    "### Improving our neural network\n",
    "\n",
    "<img src='Deep_Learning_in_Python/Pictures/Improving_our_neural_network.png' alt='Improving our neural network' width=400 align='left'>"
   ]
  },
  {
   "cell_type": "markdown",
   "metadata": {},
   "source": [
    "### Activation functions\n",
    "\n",
    "<img src='Deep_Learning_in_Python/Pictures/Activation_functions.png' alt='Activation functions' width=400 align='left'>"
   ]
  },
  {
   "cell_type": "markdown",
   "metadata": {},
   "source": [
    "### ReLU (Rectified Linear Activation)\n",
    "\n",
    "<img src='Deep_Learning_in_Python/Pictures/ReLU.png' alt='ReLU' width=400 align='left'>\n",
    "\n",
    "$$ \\begin{equation*} RELU(x) = \\begin{cases} 0 &\\text{if $x < 0$}\\\\ x &\\text{if $x >= 0$}\\end{cases}\\end{equation*} $$"
   ]
  },
  {
   "cell_type": "markdown",
   "metadata": {},
   "source": [
    "### Activation functions"
   ]
  },
  {
   "cell_type": "code",
   "execution_count": 6,
   "metadata": {},
   "outputs": [
    {
     "name": "stdout",
     "output_type": "stream",
     "text": [
      "0.9901095378334199\n"
     ]
    }
   ],
   "source": [
    "input_data = np.array([-1, 2])\n",
    "\n",
    "weights = {'node_0': np.array([3, 3]),\n",
    "           'node_1': np.array([1, 5]),\n",
    "           'output': np.array([2, -1])}\n",
    "\n",
    "node_0_input = (input_data * weights['node_0']).sum()\n",
    "node_0_output = np.tanh(node_0_input)\n",
    "\n",
    "node_1_input = (input_data * weights['node_1']).sum()\n",
    "node_1_output = np.tanh(node_1_input)\n",
    "\n",
    "hidden_layer_outputs = np.array([node_0_output, node_1_output])\n",
    "\n",
    "output = (hidden_layer_outputs * weights['output']).sum()\n",
    "print(output)"
   ]
  },
  {
   "cell_type": "markdown",
   "metadata": {},
   "source": [
    "### №3 The Rectified Linear Activation Function\n",
    "\n",
    "* Fill in the definition of the `relu()` function:\n",
    "    * Use the `max()` function to calculate the value for the output of `relu()`\n",
    "* Apply the `relu()` function to `node_0_input` to calculate `node_0_output`\n",
    "* Apply the `relu()` function to `node_1_input` to calculate `node_1_output`"
   ]
  },
  {
   "cell_type": "code",
   "execution_count": 7,
   "metadata": {},
   "outputs": [
    {
     "name": "stdout",
     "output_type": "stream",
     "text": [
      "52\n"
     ]
    }
   ],
   "source": [
    "def relu(input):\n",
    "    '''Define your relu activation function here'''\n",
    "    output = max(0, input)\n",
    "    return(output)\n",
    "\n",
    "input_data = np.array([3, 5])\n",
    "weights = {'node_0': np.array([2, 4]),\n",
    "           'node_1': np.array([4, -5]),\n",
    "           'output': np.array([2, 7])}\n",
    "\n",
    "node_0_input = (input_data * weights['node_0']).sum()\n",
    "node_0_output = relu(node_0_input)\n",
    "\n",
    "node_1_input = (input_data * weights['node_1']).sum()\n",
    "node_1_output = relu(node_1_input)\n",
    "\n",
    "hidden_layer_outputs = np.array([node_0_output, node_1_output])\n",
    "\n",
    "model_output = (hidden_layer_outputs * weights['output']).sum()\n",
    "print(model_output)"
   ]
  },
  {
   "cell_type": "markdown",
   "metadata": {},
   "source": [
    "### №4 Applying the network to many observations/rows of data\n",
    "\n",
    "* Define a function called `predict_with_network()` that accepts two arguments - `input_data_row` and `weights` - and returns a prediction from the network as the output\n",
    "* Calculate the input and output values for each node, storing them as: `node_0_input`, `node_0_output`, `node_1_input`, and `node_1_output`\n",
    "    * To calculate the input value of a node, multiply the relevant arrays together and compute their sum\n",
    "    * To calculate the output value of a node, apply the `relu()` function to the input value of the node\n",
    "* Calculate the model output by calculating `input_to_final_layer` and `model_output` in the same ay you calculated the input and output values for the nodes\n",
    "* Use a `for` loop to iterate over `input_data`:\n",
    "    * Use your `predict_with_network()` to generate predictions for each row of the `input_data` - `input_data_row`. Append each prediction to `results`"
   ]
  },
  {
   "cell_type": "code",
   "execution_count": 8,
   "metadata": {},
   "outputs": [],
   "source": [
    "input_data = [np.array([3, 5]), \n",
    "              np.array([ 1, -1]), \n",
    "              np.array([0, 0]), \n",
    "              np.array([8, 4])]\n",
    "\n",
    "weights = {'node_0': np.array([2, 4]), \n",
    "           'output': np.array([2, 7]), \n",
    "           'node_1': np.array([4, -5])}"
   ]
  },
  {
   "cell_type": "code",
   "execution_count": 9,
   "metadata": {},
   "outputs": [
    {
     "name": "stdout",
     "output_type": "stream",
     "text": [
      "[52, 63, 0, 148]\n"
     ]
    }
   ],
   "source": [
    "def predict_with_network(input_data_row, weights):\n",
    "    node_0_input = (input_data_row * weights['node_0']).sum()\n",
    "    node_0_output = relu(node_0_input)\n",
    "    \n",
    "    node_1_input = (input_data_row * weights['node_1']).sum()\n",
    "    node_1_output = relu(node_1_input)\n",
    "    \n",
    "    hidden_layer_outputs = np.array([node_0_output, node_1_output])\n",
    "    \n",
    "    input_to_final_layer = (hidden_layer_outputs * weights['output']).sum()\n",
    "    model_output = relu(input_to_final_layer) \n",
    "    \n",
    "    return(model_output)\n",
    "\n",
    "\n",
    "results = []\n",
    "for input_data_row in input_data:\n",
    "    results.append(predict_with_network(input_data_row, weights))\n",
    "\n",
    "print(results)"
   ]
  },
  {
   "cell_type": "markdown",
   "metadata": {},
   "source": [
    "## 4. Deeper networks"
   ]
  },
  {
   "cell_type": "markdown",
   "metadata": {},
   "source": [
    "### Multiple hidden layers\n",
    "\n",
    "* Calculate with ReLU Activation Function\n",
    "\n",
    "<img src='Deep_Learning_in_Python/Pictures/Multiple_hidden_layers.png' alt='Multiple hidden layers' width=400 align='left'>"
   ]
  },
  {
   "cell_type": "markdown",
   "metadata": {},
   "source": [
    "<img src='Deep_Learning_in_Python/Pictures/Multiple_hidden_layers2.png' alt='Multiple hidden layers' width=400 align='left'>"
   ]
  },
  {
   "cell_type": "markdown",
   "metadata": {},
   "source": [
    "<img src='Deep_Learning_in_Python/Pictures/Multiple_hidden_layers3.png' alt='Multiple hidden layers' width=400 align='left'>"
   ]
  },
  {
   "cell_type": "markdown",
   "metadata": {},
   "source": [
    "<img src='Deep_Learning_in_Python/Pictures/Multiple_hidden_layers4.png' alt='Multiple hidden layers' width=400 align='left'>"
   ]
  },
  {
   "cell_type": "markdown",
   "metadata": {},
   "source": [
    "<img src='Deep_Learning_in_Python/Pictures/Multiple_hidden_layers5.png' alt='Multiple hidden layers' width=400 align='left'>"
   ]
  },
  {
   "cell_type": "markdown",
   "metadata": {},
   "source": [
    "<img src='Deep_Learning_in_Python/Pictures/Multiple_hidden_layers6.png' alt='Multiple hidden layers' width=400 align='left'>"
   ]
  },
  {
   "cell_type": "markdown",
   "metadata": {},
   "source": [
    "<img src='Deep_Learning_in_Python/Pictures/Multiple_hidden_layers7.png' alt='Multiple hidden layers' width=400 align='left'>"
   ]
  },
  {
   "cell_type": "markdown",
   "metadata": {},
   "source": [
    "<img src='Deep_Learning_in_Python/Pictures/Multiple_hidden_layers8.png' alt='Multiple hidden layers' width=400 align='left'>"
   ]
  },
  {
   "cell_type": "markdown",
   "metadata": {},
   "source": [
    "<img src='Deep_Learning_in_Python/Pictures/Multiple_hidden_layers9.png' alt='Multiple hidden layers' width=400 align='left'>"
   ]
  },
  {
   "cell_type": "markdown",
   "metadata": {},
   "source": [
    "<img src='Deep_Learning_in_Python/Pictures/Multiple_hidden_layers10.png' alt='Multiple hidden layers' width=400 align='left'>"
   ]
  },
  {
   "cell_type": "markdown",
   "metadata": {},
   "source": [
    "<img src='Deep_Learning_in_Python/Pictures/Multiple_hidden_layers11.png' alt='Multiple hidden layers' width=400 align='left'>"
   ]
  },
  {
   "cell_type": "markdown",
   "metadata": {},
   "source": [
    "<img src='Deep_Learning_in_Python/Pictures/Multiple_hidden_layers12.png' alt='Multiple hidden layers' width=400 align='left'>"
   ]
  },
  {
   "cell_type": "markdown",
   "metadata": {},
   "source": [
    "<img src='Deep_Learning_in_Python/Pictures/Multiple_hidden_layers13.png' alt='Multiple hidden layers' width=400 align='left'>"
   ]
  },
  {
   "cell_type": "markdown",
   "metadata": {},
   "source": [
    "<img src='Deep_Learning_in_Python/Pictures/Multiple_hidden_layers14.png' alt='Multiple hidden layers' width=400 align='left'>"
   ]
  },
  {
   "cell_type": "markdown",
   "metadata": {},
   "source": [
    "### Representation learning\n",
    "\n",
    "* Deep networks internally build representations of patterns in the data\n",
    "* Partially replace the need for feature engineering\n",
    "* Subsequent layers build increasingly sophisticated representations of raw data"
   ]
  },
  {
   "cell_type": "markdown",
   "metadata": {},
   "source": [
    "### Deep learning\n",
    "\n",
    "* Modeler doesn’t need to specify the interactions\n",
    "* When you train the model, the neural network gets weightsthat find the relevant patterns to make be\"er predictions"
   ]
  },
  {
   "cell_type": "markdown",
   "metadata": {},
   "source": [
    "### Representation learning\n",
    "\n",
    "<img src='Deep_Learning_in_Python/Pictures/Representation_learning.png' alt='Representation learning' width=400 align='left'>"
   ]
  },
  {
   "cell_type": "markdown",
   "metadata": {},
   "source": [
    "### №5 Forward propagation in a deeper network\n",
    "\n",
    "You now have a model with 2 hidden layers. The values for an input data point are shown inside the input nodes. The weights are shown on the edges/lines. What prediction would this model make on this data point?\n",
    "\n",
    "Assume the activation function at each node is the identity function. That is, each node's output will be the same as its input. So the value of the bottom node in the first hidden layer is -1, and not 0, as it would be if the ReLU activation function was used\n",
    "\n",
    "* *0*\n",
    "* 7\n",
    "* 9\n",
    "\n",
    "<img src='Deep_Learning_in_Python/Pictures/ch1ex9.png' alt='Forward propagation in a deeper network' width=400 align='left'>"
   ]
  },
  {
   "cell_type": "markdown",
   "metadata": {},
   "source": [
    "### №6 Multi-layer neural networks\n",
    "\n",
    "* Calculate `node_0_0_input` using its weights `weights['node_0_0']` and the given `input_data`. Then apply the `relu()` function to get `node_0_0_output`\n",
    "* Do the same as above for `node_0_1_input` to get `node_0_1_output`\n",
    "* Calculate `node_1_0_input` using its weights `weights['node_1_0']` and the outputs from the first hidden layer - `hidden_0_outputs`. Then apply the `relu()` function to get `node_1_0_output`\n",
    "* Do the same as above for `node_1_1_input` to get `node_1_1_output`\n",
    "* Calculate `model_output` using its weights `weights['output']` and the outputs from the second hidden layer `hidden_1_outputs` array. Do not apply the `relu()` function to this output"
   ]
  },
  {
   "cell_type": "code",
   "execution_count": 10,
   "metadata": {},
   "outputs": [],
   "source": [
    "input_data = np.array([3, 5])\n",
    "weights = {'output': np.array([2, 7]), \n",
    "           'node_1_1': np.array([1, 2]), \n",
    "           'node_1_0': np.array([-1,  2]), \n",
    "           'node_0_0': np.array([2, 4]), \n",
    "           'node_0_1': np.array([ 4, -5])}"
   ]
  },
  {
   "cell_type": "code",
   "execution_count": 11,
   "metadata": {},
   "outputs": [
    {
     "name": "stdout",
     "output_type": "stream",
     "text": [
      "182\n"
     ]
    }
   ],
   "source": [
    "def predict_with_network(input_data):\n",
    "    node_0_0_input = (input_data * weights['node_0_0']).sum()\n",
    "    node_0_0_output = relu(node_0_0_input)\n",
    "\n",
    "    node_0_1_input = (input_data * weights['node_0_1']).sum()\n",
    "    node_0_1_output = relu(node_0_1_input)\n",
    "\n",
    "    hidden_0_outputs = np.array([node_0_0_output, node_0_1_output])\n",
    "    \n",
    "    node_1_0_input = (hidden_0_outputs * weights['node_1_0']).sum()\n",
    "    node_1_0_output = relu(node_1_0_input)\n",
    "\n",
    "    node_1_1_input = (hidden_0_outputs * weights['node_1_1']).sum()\n",
    "    node_1_1_output = relu(node_1_1_input)\n",
    "\n",
    "    hidden_1_outputs = np.array([node_1_0_output, node_1_1_output])\n",
    "\n",
    "    model_output = relu((hidden_1_outputs * weights['output']).sum())\n",
    "    return(model_output)\n",
    "\n",
    "output = predict_with_network(input_data)\n",
    "print(output)"
   ]
  },
  {
   "cell_type": "markdown",
   "metadata": {},
   "source": [
    "### №7 Representations are learned\n",
    "\n",
    "How are the weights that determine the features/interactions in Neural Networks created?\n",
    "\n",
    "* A user chooses them when creating the model\n",
    "* *The model training process sets them to optimize predictive accuracy*\n",
    "* The weights are random numbers"
   ]
  },
  {
   "cell_type": "markdown",
   "metadata": {},
   "source": [
    "### №8 Levels of representation\n",
    "\n",
    "Which layers of a model capture more complex or 'higher level' interactions?\n",
    "\n",
    "* The first layers capture the most complex interactions\n",
    "* *The last layers capture the most complex interactions*\n",
    "* All layers capture interactions of similar complexity"
   ]
  },
  {
   "cell_type": "markdown",
   "metadata": {},
   "source": [
    "## Chapter 2. Optimizing a neural network with backward propagation"
   ]
  },
  {
   "cell_type": "markdown",
   "metadata": {},
   "source": [
    "## 5. The need for optimization"
   ]
  },
  {
   "cell_type": "markdown",
   "metadata": {},
   "source": [
    "### A baseline neural network\n",
    "\n",
    "* Actual Value of Target: 13\n",
    "* Error: Predicted - Actual = -4\n",
    "\n",
    "<img src='Deep_Learning_in_Python/Pictures/A_baseline_neural_network.png' alt='A baseline neural network' width=400 align='left'>"
   ]
  },
  {
   "cell_type": "markdown",
   "metadata": {},
   "source": [
    "* Actual Value of Target: 13\n",
    "* Error: Predicted - Actual = 0\n",
    "\n",
    "<img src='Deep_Learning_in_Python/Pictures/A_baseline_neural_network2.png' alt='A baseline neural network' width=400 align='left'>"
   ]
  },
  {
   "cell_type": "markdown",
   "metadata": {},
   "source": [
    "### Predictions with multiple points\n",
    "\n",
    "* Making accurate predictions gets harder with more points\n",
    "* At any set of weights, there are many values of the error\n",
    "* … corresponding to the many points we make predictions for"
   ]
  },
  {
   "cell_type": "markdown",
   "metadata": {},
   "source": [
    "### Loss function\n",
    "\n",
    "* Aggregates errors in predictions from many data points into single number\n",
    "* Measure of model’s predictive performance"
   ]
  },
  {
   "cell_type": "markdown",
   "metadata": {},
   "source": [
    "### Squared error loss function\n",
    "\n",
    "* Total Squared Error: 150\n",
    "* Mean Squared Error: 50\n",
    "\n",
    "<img src='Deep_Learning_in_Python/Pictures/Squared_error_loss_function.png' alt='Squared_error_loss_function' width=400 align='left'>"
   ]
  },
  {
   "cell_type": "markdown",
   "metadata": {},
   "source": [
    "### Loss function\n",
    "\n",
    "* Lower loss function value means a be!er model\n",
    "* Goal: Find the weights that give the lowest value for the loss function\n",
    "* Gradient descent\n",
    "\n",
    "<img src='Deep_Learning_in_Python/Pictures/Loss_function.png' alt='Loss function' width=400 align='left'>"
   ]
  },
  {
   "cell_type": "markdown",
   "metadata": {},
   "source": [
    "### Gradient descent\n",
    "\n",
    "* Imagine you are in a pitch dark field\n",
    "* Want to find the lowest point\n",
    "* Feel the ground to see how it slopes\n",
    "* Take a small step downhill\n",
    "* Repeat until it is uphill in every direction"
   ]
  },
  {
   "cell_type": "markdown",
   "metadata": {},
   "source": [
    "### Gradient descent steps\n",
    "\n",
    "* Start at random point\n",
    "* Until you are somewhere flat:\n",
    "    * Find the slope\n",
    "    * Take a step downhill"
   ]
  },
  {
   "cell_type": "markdown",
   "metadata": {},
   "source": [
    "### Optimizing a model with a single weight\n",
    "\n",
    "<img src='Deep_Learning_in_Python/Pictures/Optimizing_a_model_with_a_single_weight.png' alt='Optimizing a model with a single weight' width=400 align='left'>"
   ]
  },
  {
   "cell_type": "markdown",
   "metadata": {},
   "source": [
    "### №8 Calculating model errors\n",
    "\n",
    "What is the error (predicted - actual) for the following network when the input data is [3, 2] and the actual value of the target (what you are trying to predict) is 5?\n",
    "\n",
    "* 5\n",
    "* 6\n",
    "* *11*\n",
    "* 16\n",
    "\n",
    "<img src='Deep_Learning_in_Python/Pictures/ch2_ex2_3.png' alt='ch2_ex2_3' width=400 align='left'>"
   ]
  },
  {
   "cell_type": "markdown",
   "metadata": {},
   "source": [
    "### №9 Understanding how weights change model accuracy\n",
    "\n",
    "Imagine you have to make a prediction for a single data point. The actual value of the target is 7. The weight going from `node_0` to the output is 2, as shown below. If you increased it slightly, changing it to 2.01, would the predictions become more accurate, less accurate, or stay the same?\n",
    "\n",
    "* More accurate\n",
    "* *Less accurate*\n",
    "* Stay the same\n",
    "\n",
    "<img src='Deep_Learning_in_Python/Pictures/ch2_ex2_3.png' alt='ch2_ex2_3' width=400 align='left'>"
   ]
  },
  {
   "cell_type": "markdown",
   "metadata": {},
   "source": [
    "### №10 Coding how weight changes affect accuracy\n",
    "\n",
    "* Create a dictionary of weights called `weights_1` where you have changed 1 weight from `weights_0` (You only need to make 1 edit to `weights_0` to generate the perfect prediction)\n",
    "* Obtain predictions with the new weights using the `predict_with_network()` function with `input_data` and `weights_1`\n",
    "* Calculate the error for the new weights by subtracting `target_actual` from `model_output_1`"
   ]
  },
  {
   "cell_type": "code",
   "execution_count": 12,
   "metadata": {},
   "outputs": [],
   "source": [
    "def predict_with_network(input_data_point, weights):\n",
    "    node_0_input = (input_data_point * weights['node_0']).sum()\n",
    "    node_0_output = relu(node_0_input)\n",
    "\n",
    "    node_1_input = (input_data_point * weights['node_1']).sum()\n",
    "    node_1_output = relu(node_1_input)\n",
    "\n",
    "    hidden_layer_values = np.array([node_0_output, node_1_output])\n",
    "    input_to_final_layer = (hidden_layer_values * weights['output']).sum()\n",
    "    model_output = relu(input_to_final_layer)\n",
    "    \n",
    "    return(model_output)"
   ]
  },
  {
   "cell_type": "code",
   "execution_count": 13,
   "metadata": {},
   "outputs": [
    {
     "name": "stdout",
     "output_type": "stream",
     "text": [
      "6\n",
      "0\n"
     ]
    }
   ],
   "source": [
    "input_data = np.array([0, 3])\n",
    "weights_0 = {'node_0': [2, 1],\n",
    "             'node_1': [1, 2],\n",
    "             'output': [1, 1]}\n",
    "\n",
    "target_actual = 3\n",
    "\n",
    "model_output_0 = predict_with_network(input_data, weights_0)\n",
    "error_0 = model_output_0 - target_actual\n",
    "\n",
    "weights_1 = {'node_0': [2, 1],\n",
    "             'node_1': [1, 2],\n",
    "             'output': [-1, 1]}\n",
    "\n",
    "model_output_1 = predict_with_network(input_data, weights_1)\n",
    "error_1 = model_output_1 - target_actual\n",
    "\n",
    "print(error_0)\n",
    "print(error_1)"
   ]
  },
  {
   "cell_type": "markdown",
   "metadata": {},
   "source": [
    "### №11 Scaling up to multiple data points\n",
    "\n",
    "* Import `mean_squared_error` from `sklearn.metrics`\n",
    "* Using a for loop to iterate over each row of `input_data`:\n",
    "* Make predictions for each row with `weights_0` using the `predict_with_network()` function and append it to `model_output_0`\n",
    "* Do the same for `weights_1`, appending the predictions to `model_output_1`\n",
    "* Calculate the mean squared error of `model_output_0` and then `model_output_1` using the `mean_squared_error()` function. The first argument should be the actual values (`target_actuals`), and the second argument should be the predicted values (`model_output_0` or `model_output_1`)"
   ]
  },
  {
   "cell_type": "code",
   "execution_count": 14,
   "metadata": {},
   "outputs": [],
   "source": [
    "target_actuals = np.array([1, 3, 5, 7])\n",
    "input_data = [np.array([0, 3]), np.array([1, 2]), np.array([-1, -2]), np.array([4, 0])]\n",
    "\n",
    "weights_0 = {'node_1': np.array([1, 2]), \n",
    "             'output': np.array([1, 1]),\n",
    "             'node_0': np.array([2, 1])}\n",
    "\n",
    "weights_1 = {'node_1': np.array([1., 1.5]),\n",
    "             'output': np.array([1., 1.5]),\n",
    "             'node_0': np.array([2, 1])}"
   ]
  },
  {
   "cell_type": "code",
   "execution_count": 15,
   "metadata": {},
   "outputs": [
    {
     "name": "stdout",
     "output_type": "stream",
     "text": [
      "Mean squared error with weights_0: 37.500000\n",
      "Mean squared error with weights_1: 49.890625\n"
     ]
    }
   ],
   "source": [
    "from sklearn.metrics import mean_squared_error\n",
    "\n",
    "model_output_0 = []\n",
    "model_output_1 = []\n",
    "\n",
    "for row in input_data:\n",
    "    model_output_0.append(predict_with_network(row, weights_0))\n",
    "    model_output_1.append(predict_with_network(row, weights_1))\n",
    "\n",
    "mse_0 = mean_squared_error(target_actuals, model_output_0)\n",
    "mse_1 = mean_squared_error(target_actuals, model_output_1)\n",
    "\n",
    "print(\"Mean squared error with weights_0: %f\" %mse_0)\n",
    "print(\"Mean squared error with weights_1: %f\" %mse_1)"
   ]
  },
  {
   "cell_type": "markdown",
   "metadata": {},
   "source": [
    "## 6. Gradient descent"
   ]
  },
  {
   "cell_type": "markdown",
   "metadata": {},
   "source": [
    "### Gradient descent\n",
    "\n",
    "* If the slope is positive:\n",
    "    * Going opposite the slope means moving to lowernumbers\n",
    "    * Subtract the slope from the current value\n",
    "    * Too big a step might lead us astray\n",
    "* Solution: learning rate\n",
    "    * Update each weight by subtracting **learning rate * slope**\n",
    "\n",
    "<img src='Deep_Learning_in_Python/Pictures/Gradient_descent.png' alt='Gradient descent' width=400 align='left'>"
   ]
  },
  {
   "cell_type": "markdown",
   "metadata": {},
   "source": [
    "### Slope calculation example\n",
    "\n",
    "* To calculate the slope for a weight, need to multiply:\n",
    "    * Slope of the loss function with respect to the value at the node we feed into\n",
    "    * The value of the node that feeds into our weight\n",
    "    * Slope of the activation function with respect to the value we feed into\n",
    "\n",
    "<img src='Deep_Learning_in_Python/Pictures/Slope_calculation_example.png' alt='Slope calculation example' width=400 align='left'>"
   ]
  },
  {
   "cell_type": "markdown",
   "metadata": {},
   "source": [
    "### Slope calculation example\n",
    "\n",
    "* Slope mean squered loss function with respect to the prediction:\n",
    "    * 2 * (Predicted Value - Actual Value) = 2 * Error\n",
    "    * 2 * (-4)\n",
    "* Slope mean squered loss function = 2 * (-4) * 3\n",
    "* = -24\n",
    "* If learning rate is 0.01, the new weight would be\n",
    "* 2 - 0.01(-24) = 2.24"
   ]
  },
  {
   "cell_type": "markdown",
   "metadata": {},
   "source": [
    "### Network with two inputs affecting prediction \n",
    "\n",
    "<img src='Deep_Learning_in_Python/Pictures/two_inputs_affecting_prediction.png' alt='Network with two inputs affecting prediction' width=200 align='left'>"
   ]
  },
  {
   "cell_type": "markdown",
   "metadata": {},
   "source": [
    "### Code to calculate slopes and update weights"
   ]
  },
  {
   "cell_type": "code",
   "execution_count": 16,
   "metadata": {},
   "outputs": [
    {
     "name": "stdout",
     "output_type": "stream",
     "text": [
      "5\n"
     ]
    }
   ],
   "source": [
    "weights = np.array([1, 2])\n",
    "input_data = np.array([3, 4])\n",
    "\n",
    "target = 6\n",
    "learning_rate = 0.01\n",
    "\n",
    "preds = (weights * input_data).sum()\n",
    "\n",
    "error = preds - target\n",
    "print(error) "
   ]
  },
  {
   "cell_type": "code",
   "execution_count": 17,
   "metadata": {},
   "outputs": [
    {
     "data": {
      "text/plain": [
       "array([30, 40])"
      ]
     },
     "execution_count": 17,
     "metadata": {},
     "output_type": "execute_result"
    }
   ],
   "source": [
    "gradient = 2 * input_data * error\n",
    "gradient"
   ]
  },
  {
   "cell_type": "code",
   "execution_count": 18,
   "metadata": {},
   "outputs": [
    {
     "name": "stdout",
     "output_type": "stream",
     "text": [
      "2.5\n"
     ]
    }
   ],
   "source": [
    "weights_updated = weights - learning_rate * gradient\n",
    "\n",
    "preds_updated = (weights_updated * input_data).sum()\n",
    "\n",
    "error_updated = preds_updated - target\n",
    "print(error_updated)"
   ]
  },
  {
   "cell_type": "markdown",
   "metadata": {},
   "source": [
    "### №12 Calculating slopes\n",
    "\n",
    "* Calculate the predictions, `preds`, by multiplying weights by the `input_data` and computing their sum\n",
    "* Calculate the `error`, which is `target` minus preds. Notice that this error corresponds to `y-xb` in the gradient expression\n",
    "* Calculate the slope of the loss function with respect to the prediction. To do this, you need to take the product of `input_data` and `error` and multiply that by `2`"
   ]
  },
  {
   "cell_type": "code",
   "execution_count": 19,
   "metadata": {},
   "outputs": [],
   "source": [
    "input_data = np.array([1, 2, 3])\n",
    "weights = np.array([0, 2, 1])\n",
    "target = 0"
   ]
  },
  {
   "cell_type": "code",
   "execution_count": 20,
   "metadata": {},
   "outputs": [
    {
     "name": "stdout",
     "output_type": "stream",
     "text": [
      "[14 28 42]\n"
     ]
    }
   ],
   "source": [
    "preds = (input_data * weights).sum()\n",
    "error = preds - target\n",
    "\n",
    "slope = 2 * input_data * error\n",
    "print(slope)"
   ]
  },
  {
   "cell_type": "markdown",
   "metadata": {},
   "source": [
    "### №13 Improving model weights\n",
    "\n",
    "* Set the learning rate to be `0.01` and calculate the error from the original predictions\n",
    "* Calculate the updated weights by subtracting the product of `learning_rate` and `slope` from `weights`\n",
    "* Calculate the updated predictions by multiplying `weights_updated` with `input_data` and computing their sum\n",
    "* Calculate the error for the new predictions. Store the result as `error_updated`"
   ]
  },
  {
   "cell_type": "code",
   "execution_count": 21,
   "metadata": {},
   "outputs": [
    {
     "name": "stdout",
     "output_type": "stream",
     "text": [
      "7\n",
      "5.04\n"
     ]
    }
   ],
   "source": [
    "learning_rate = 0.01\n",
    "\n",
    "preds = (weights * input_data).sum()\n",
    "error = preds - target\n",
    "\n",
    "slope = 2 * input_data * error\n",
    "\n",
    "weights_updated = weights - learning_rate * slope\n",
    "\n",
    "preds_updated = (weights_updated * input_data).sum()\n",
    "error_updated = preds_updated - target\n",
    "\n",
    "print(error)\n",
    "print(error_updated)"
   ]
  },
  {
   "cell_type": "markdown",
   "metadata": {},
   "source": [
    "### №14 Making multiple updates to weights\n",
    "\n",
    "* Using a `for` loop to iteratively update weights:\n",
    "    * Calculate the slope using the `get_slope()` function\n",
    "    * Update the weights using a learning rate of `0.01`\n",
    "    * Calculate the mean squared error `(mse`) with the updated weights using the `get_mse() `function\n",
    "    * Append mse to `mse_hist`\n",
    "* Visualize `mse_hist`"
   ]
  },
  {
   "cell_type": "code",
   "execution_count": 22,
   "metadata": {},
   "outputs": [],
   "source": [
    "def get_error(input_data, target, weights):\n",
    "    preds = (weights * input_data).sum()\n",
    "    error = preds - target\n",
    "    return(error)\n",
    "\n",
    "def get_slope(input_data, target, weights):\n",
    "    error = get_error(input_data, target, weights)\n",
    "    slope = 2 * input_data * error\n",
    "    return(slope)\n",
    "\n",
    "def get_mse(input_data, target, weights):\n",
    "    errors = get_error(input_data, target, weights)\n",
    "    mse = np.mean(errors**2)\n",
    "    return(mse)"
   ]
  },
  {
   "cell_type": "code",
   "execution_count": 23,
   "metadata": {},
   "outputs": [
    {
     "data": {
      "image/png": "[encoded data removed]",
      "text/plain": [
       "<Figure size 432x288 with 1 Axes>"
      ]
     },
     "metadata": {
      "image/png": {
       "height": 265,
       "width": 385
      },
      "needs_background": "dark"
     },
     "output_type": "display_data"
    }
   ],
   "source": [
    "n_updates = 20\n",
    "mse_hist = []\n",
    "\n",
    "for i in range(n_updates):\n",
    "    slope = get_slope(input_data, target, weights)\n",
    "    weights = weights - 0.01 * slope\n",
    "    mse = get_mse(input_data, target, weights)\n",
    "    mse_hist.append(mse)\n",
    "\n",
    "plt.plot(mse_hist)\n",
    "plt.xlabel('Iterations')\n",
    "plt.ylabel('Mean Squared Error')\n",
    "plt.show()"
   ]
  },
  {
   "cell_type": "markdown",
   "metadata": {},
   "source": [
    "## 7. Backpropagation"
   ]
  },
  {
   "cell_type": "markdown",
   "metadata": {},
   "source": [
    "### Backpropagation\n",
    "\n",
    "* Allows gradient descent to update all weights in neural network (by getting gradients for all weights)\n",
    "* Comes from chain rule of calculus\n",
    "* Important to understand the process, but you will generally use a library that implements this\n",
    "\n",
    "<img src='Deep_Learning_in_Python/Pictures/Backpropagation.png' alt='Backpropagation' width=400 align='left'>"
   ]
  },
  {
   "cell_type": "markdown",
   "metadata": {},
   "source": [
    "### Backpropagation process\n",
    "\n",
    "* Trying to estimate the slope of the loss function w.r.t each weight\n",
    "* Do forward propagation to calculate predictions and errors\n",
    "\n",
    "ReLU Activation Function\n",
    "Actual Target Value = 4\n",
    "\n",
    "<img src='Deep_Learning_in_Python/Pictures/Backpropagation_process.png' alt='Backpropagation process' width=400 align='left'>"
   ]
  },
  {
   "cell_type": "markdown",
   "metadata": {},
   "source": [
    "ReLU Activation Function  \n",
    "Actual Target Value = 4  \n",
    "Error = 3\n",
    "\n",
    "<img src='Deep_Learning_in_Python/Pictures/Backpropagation_process2.png' alt='Backpropagation process' width=400 align='left'>"
   ]
  },
  {
   "cell_type": "markdown",
   "metadata": {},
   "source": [
    "### Backpropagation process\n",
    "\n",
    "* Go back one layer at a time\n",
    "* Gradients for weight is product of:\n",
    "    1. Node value feeding into that weight\n",
    "    2. Slope of loss function w.r.t node it feeds into\n",
    "    3. Slope of activation function at the node it feeds into"
   ]
  },
  {
   "cell_type": "markdown",
   "metadata": {},
   "source": [
    "### ReLU Activation Function\n",
    "\n",
    "<img src='Deep_Learning_in_Python/Pictures/ReLu.png' alt='ReLu process' width=400 align='left'>"
   ]
  },
  {
   "cell_type": "markdown",
   "metadata": {},
   "source": [
    "### Backpropagation process\n",
    "\n",
    "* Need to also keep track of the slopes of the loss function w.r.t node values\n",
    "* Slope of node values are the sum of the slopes for all weights that come out of them"
   ]
  },
  {
   "cell_type": "markdown",
   "metadata": {},
   "source": [
    "### №15 The relationship between forward and backward propagation\n",
    "\n",
    "If you have gone through 4 iterations of calculating slopes (using backward propagation) and then updated weights, how many times must you have done forward propagation?\n",
    "\n",
    "* 0\n",
    "* 1\n",
    "* *4*\n",
    "* 8"
   ]
  },
  {
   "cell_type": "markdown",
   "metadata": {},
   "source": [
    "### №16 Thinking about backward propagation\n",
    "\n",
    "If your predictions were all exactly right, and your errors were all exactly 0, the slope of the loss function with respect to your predictions would also be 0. In that circumstance, which of the following statements would be correct?\n",
    "\n",
    "* *The updates to all weights in the network would also be 0*\n",
    "* The updates to all weights in the network would be dependent on the activation functions\n",
    "* The updates to all weights in the network would be proportional to values from the input data"
   ]
  },
  {
   "cell_type": "markdown",
   "metadata": {},
   "source": [
    "## 8. Backpropagation in practice"
   ]
  },
  {
   "cell_type": "markdown",
   "metadata": {},
   "source": [
    "### Backpropagation\n",
    "\n",
    "* Top weight’s slope = 1 * 6\n",
    "* Bottom weight’s slope = 3 * 6\n",
    "\n",
    "ReLU Activation Function  \n",
    "Actual Target Value = 4  \n",
    "Error = 3  \n",
    "\n",
    "<img src='Deep_Learning_in_Python/Pictures/Backpropagation5.png' alt='Backpropagation' width=250 align='left'>"
   ]
  },
  {
   "cell_type": "markdown",
   "metadata": {},
   "source": [
    "### Backpropagation\n",
    "\n",
    "<img src='Deep_Learning_in_Python/Pictures/Backpropagation3.png' alt='Backpropagation' width=250 align='left'>"
   ]
  },
  {
   "cell_type": "markdown",
   "metadata": {},
   "source": [
    "### Calculating slopes associated with any weight\n",
    "\n",
    "* Gradients for weight is product of:\n",
    "    1. Node value feeding into that weight\n",
    "    2. Slope of activation function for the node being fed into\n",
    "    3. Slope of loss function w.r.t output node"
   ]
  },
  {
   "cell_type": "markdown",
   "metadata": {},
   "source": [
    "### Backpropagation\n",
    "\n",
    "<img src='Deep_Learning_in_Python/Pictures/Backpropagation4.png' alt='Backpropagation' width=400 align='left'>"
   ]
  },
  {
   "cell_type": "markdown",
   "metadata": {},
   "source": [
    "### Backpropagation: Recap\n",
    "\n",
    "* Start at some random set of weights\n",
    "* Use forward propagation to make a prediction\n",
    "* Use backward propagation to calculate the slope of the loss function w.r.t each weight\n",
    "* Multiply that slope by the learning rate, and subtract from the current weights\n",
    "* Keep going with that cycle until we get to a flat part"
   ]
  },
  {
   "cell_type": "markdown",
   "metadata": {},
   "source": [
    "### Stochastic gradient descent\n",
    "\n",
    "* It is common to calculate slopes on only a subset of the data (‘batch’)\n",
    "* Use a different batch of data to calculate the next update\n",
    "* Start over from the beginning once all data is used\n",
    "* Each time through the training data is called an epoch\n",
    "* When slopes are calculated on one batch at a time: stochastic gradient descent"
   ]
  },
  {
   "cell_type": "markdown",
   "metadata": {},
   "source": [
    "### №15 A round of backpropagation\n",
    "\n",
    "In the network shown below, we have done forward propagation, and node values calculated as part of forward propagation are shown in white. The weights are shown in black. Layers after the question mark show the slopes calculated as part of back-prop, rather than the forward-prop values. Those slope values are shown in purple  \n",
    "\n",
    "This network again uses the ReLU activation function, so the slope of the activation function is 1 for any node receiving a positive value as input. Assume the node being examined had a positive value (so the activation function's slope is 1)  \n",
    "\n",
    "* 0\n",
    "* 2\n",
    "* *6*\n",
    "* Not enough information\n",
    "\n",
    "<img src='Deep_Learning_in_Python/Pictures/ch2ex14_1.png' alt='ch2ex14_1' width=400 align='left'>"
   ]
  },
  {
   "cell_type": "markdown",
   "metadata": {},
   "source": [
    "## Chapter 3. Building deep learning models with keras"
   ]
  },
  {
   "cell_type": "markdown",
   "metadata": {},
   "source": [
    "## 9. Creating a keras model"
   ]
  },
  {
   "cell_type": "markdown",
   "metadata": {},
   "source": [
    "### Model building steps\n",
    "\n",
    "* Specify Architecture\n",
    "* Compile\n",
    "* Fit\n",
    "* Predict"
   ]
  },
  {
   "cell_type": "markdown",
   "metadata": {},
   "source": [
    "### Model specification\n",
    "\n",
    "```python\n",
    "In [1]: import numpy as np\n",
    "    \n",
    "In [2]: from keras.layers import Dense\n",
    "    \n",
    "In [3]: from keras.models import Sequential\n",
    "    \n",
    "In [4]: predictors = np.loadtxt('predictors_data.csv', delimiter=',')\n",
    "    \n",
    "In [5]: n_cols = predictors.shape[1]\n",
    "    \n",
    "In [6]: model = Sequential()\n",
    "\n",
    "In [7]: model.add(Dense(100, activation='relu', input_shape = (n_cols,)))\n",
    "    \n",
    "In [8]: model.add(Dense(100, activation='relu'))\n",
    "    \n",
    "In [9]: model.add(Dense(1))\n",
    "```"
   ]
  },
  {
   "cell_type": "markdown",
   "metadata": {},
   "source": [
    "### №16 Understanding your data\n",
    "\n",
    "How many binary indicator predictors are there?\n",
    "\n",
    "* 0\n",
    "* 5\n",
    "* *6*"
   ]
  },
  {
   "cell_type": "code",
   "execution_count": 24,
   "metadata": {},
   "outputs": [
    {
     "data": {
      "text/html": [
       "<div>\n",
       "<style scoped>\n",
       "    .dataframe tbody tr th:only-of-type {\n",
       "        vertical-align: middle;\n",
       "    }\n",
       "\n",
       "    .dataframe tbody tr th {\n",
       "        vertical-align: top;\n",
       "    }\n",
       "\n",
       "    .dataframe thead th {\n",
       "        text-align: right;\n",
       "    }\n",
       "</style>\n",
       "<table border=\"1\" class=\"dataframe\">\n",
       "  <thead>\n",
       "    <tr style=\"text-align: right;\">\n",
       "      <th></th>\n",
       "      <th>wage_per_hour</th>\n",
       "      <th>union</th>\n",
       "      <th>education_yrs</th>\n",
       "      <th>experience_yrs</th>\n",
       "      <th>age</th>\n",
       "      <th>female</th>\n",
       "      <th>marr</th>\n",
       "      <th>south</th>\n",
       "      <th>manufacturing</th>\n",
       "      <th>construction</th>\n",
       "    </tr>\n",
       "  </thead>\n",
       "  <tbody>\n",
       "    <tr>\n",
       "      <th>count</th>\n",
       "      <td>534.000000</td>\n",
       "      <td>534.000000</td>\n",
       "      <td>534.000000</td>\n",
       "      <td>534.000000</td>\n",
       "      <td>534.000000</td>\n",
       "      <td>534.000000</td>\n",
       "      <td>534.000000</td>\n",
       "      <td>534.000000</td>\n",
       "      <td>534.000000</td>\n",
       "      <td>534.000000</td>\n",
       "    </tr>\n",
       "    <tr>\n",
       "      <th>mean</th>\n",
       "      <td>9.024064</td>\n",
       "      <td>0.179775</td>\n",
       "      <td>13.018727</td>\n",
       "      <td>17.822097</td>\n",
       "      <td>36.833333</td>\n",
       "      <td>0.458801</td>\n",
       "      <td>0.655431</td>\n",
       "      <td>0.292135</td>\n",
       "      <td>0.185393</td>\n",
       "      <td>0.044944</td>\n",
       "    </tr>\n",
       "    <tr>\n",
       "      <th>std</th>\n",
       "      <td>5.139097</td>\n",
       "      <td>0.384360</td>\n",
       "      <td>2.615373</td>\n",
       "      <td>12.379710</td>\n",
       "      <td>11.726573</td>\n",
       "      <td>0.498767</td>\n",
       "      <td>0.475673</td>\n",
       "      <td>0.455170</td>\n",
       "      <td>0.388981</td>\n",
       "      <td>0.207375</td>\n",
       "    </tr>\n",
       "    <tr>\n",
       "      <th>min</th>\n",
       "      <td>1.000000</td>\n",
       "      <td>0.000000</td>\n",
       "      <td>2.000000</td>\n",
       "      <td>0.000000</td>\n",
       "      <td>18.000000</td>\n",
       "      <td>0.000000</td>\n",
       "      <td>0.000000</td>\n",
       "      <td>0.000000</td>\n",
       "      <td>0.000000</td>\n",
       "      <td>0.000000</td>\n",
       "    </tr>\n",
       "    <tr>\n",
       "      <th>25%</th>\n",
       "      <td>5.250000</td>\n",
       "      <td>0.000000</td>\n",
       "      <td>12.000000</td>\n",
       "      <td>8.000000</td>\n",
       "      <td>28.000000</td>\n",
       "      <td>0.000000</td>\n",
       "      <td>0.000000</td>\n",
       "      <td>0.000000</td>\n",
       "      <td>0.000000</td>\n",
       "      <td>0.000000</td>\n",
       "    </tr>\n",
       "    <tr>\n",
       "      <th>50%</th>\n",
       "      <td>7.780000</td>\n",
       "      <td>0.000000</td>\n",
       "      <td>12.000000</td>\n",
       "      <td>15.000000</td>\n",
       "      <td>35.000000</td>\n",
       "      <td>0.000000</td>\n",
       "      <td>1.000000</td>\n",
       "      <td>0.000000</td>\n",
       "      <td>0.000000</td>\n",
       "      <td>0.000000</td>\n",
       "    </tr>\n",
       "    <tr>\n",
       "      <th>75%</th>\n",
       "      <td>11.250000</td>\n",
       "      <td>0.000000</td>\n",
       "      <td>15.000000</td>\n",
       "      <td>26.000000</td>\n",
       "      <td>44.000000</td>\n",
       "      <td>1.000000</td>\n",
       "      <td>1.000000</td>\n",
       "      <td>1.000000</td>\n",
       "      <td>0.000000</td>\n",
       "      <td>0.000000</td>\n",
       "    </tr>\n",
       "    <tr>\n",
       "      <th>max</th>\n",
       "      <td>44.500000</td>\n",
       "      <td>1.000000</td>\n",
       "      <td>18.000000</td>\n",
       "      <td>55.000000</td>\n",
       "      <td>64.000000</td>\n",
       "      <td>1.000000</td>\n",
       "      <td>1.000000</td>\n",
       "      <td>1.000000</td>\n",
       "      <td>1.000000</td>\n",
       "      <td>1.000000</td>\n",
       "    </tr>\n",
       "  </tbody>\n",
       "</table>\n",
       "</div>"
      ],
      "text/plain": [
       "       wage_per_hour       union  education_yrs  experience_yrs         age  \\\n",
       "count     534.000000  534.000000     534.000000      534.000000  534.000000   \n",
       "mean        9.024064    0.179775      13.018727       17.822097   36.833333   \n",
       "std         5.139097    0.384360       2.615373       12.379710   11.726573   \n",
       "min         1.000000    0.000000       2.000000        0.000000   18.000000   \n",
       "25%         5.250000    0.000000      12.000000        8.000000   28.000000   \n",
       "50%         7.780000    0.000000      12.000000       15.000000   35.000000   \n",
       "75%        11.250000    0.000000      15.000000       26.000000   44.000000   \n",
       "max        44.500000    1.000000      18.000000       55.000000   64.000000   \n",
       "\n",
       "           female        marr       south  manufacturing  construction  \n",
       "count  534.000000  534.000000  534.000000     534.000000    534.000000  \n",
       "mean     0.458801    0.655431    0.292135       0.185393      0.044944  \n",
       "std      0.498767    0.475673    0.455170       0.388981      0.207375  \n",
       "min      0.000000    0.000000    0.000000       0.000000      0.000000  \n",
       "25%      0.000000    0.000000    0.000000       0.000000      0.000000  \n",
       "50%      0.000000    1.000000    0.000000       0.000000      0.000000  \n",
       "75%      1.000000    1.000000    1.000000       0.000000      0.000000  \n",
       "max      1.000000    1.000000    1.000000       1.000000      1.000000  "
      ]
     },
     "execution_count": 24,
     "metadata": {},
     "output_type": "execute_result"
    }
   ],
   "source": [
    "df = pd.read_csv('Deep_Learning_in_Python/hourly_wages.csv')\n",
    "df.describe()"
   ]
  },
  {
   "cell_type": "markdown",
   "metadata": {},
   "source": [
    "### №17 Specifying a model\n",
    "\n",
    "* Store the number of columns in the `predictors` data to `n_cols`\n",
    "* Start by creating a `Sequential` model called `model`\n",
    "* Use the `.add()` method on `model` to add a `Dense` layer\n",
    "    * Add `50` units, specify `activation='relu'`, and the `input_shape` parameter to be the tuple `(n_cols,)` which means it has `n_cols` items in each row of data, and any number of rows of data are acceptable as inputs\n",
    "* Add another `Dense` layer. This should have `32` units and a `'relu'` activation\n",
    "* Finally, add an output layer, which is a `Dense` layer with a single node. Don't use any activation function here"
   ]
  },
  {
   "cell_type": "code",
   "execution_count": 25,
   "metadata": {},
   "outputs": [],
   "source": [
    "predictors = df.iloc[:, 1:]\n",
    "target = df['wage_per_hour']"
   ]
  },
  {
   "cell_type": "code",
   "execution_count": 26,
   "metadata": {},
   "outputs": [
    {
     "name": "stderr",
     "output_type": "stream",
     "text": [
      "Using TensorFlow backend.\n",
      "WARNING: Logging before flag parsing goes to stderr.\n",
      "W0711 03:41:53.137168 4653327808 deprecation_wrapper.py:119] From /Users/Artyom/Anaconda/anaconda3/lib/python3.7/site-packages/keras/backend/tensorflow_backend.py:74: The name tf.get_default_graph is deprecated. Please use tf.compat.v1.get_default_graph instead.\n",
      "\n",
      "W0711 03:41:53.150938 4653327808 deprecation_wrapper.py:119] From /Users/Artyom/Anaconda/anaconda3/lib/python3.7/site-packages/keras/backend/tensorflow_backend.py:517: The name tf.placeholder is deprecated. Please use tf.compat.v1.placeholder instead.\n",
      "\n",
      "W0711 03:41:53.154016 4653327808 deprecation_wrapper.py:119] From /Users/Artyom/Anaconda/anaconda3/lib/python3.7/site-packages/keras/backend/tensorflow_backend.py:4138: The name tf.random_uniform is deprecated. Please use tf.random.uniform instead.\n",
      "\n"
     ]
    }
   ],
   "source": [
    "import keras\n",
    "from keras.layers import Dense\n",
    "from keras.models import Sequential\n",
    "\n",
    "n_cols = predictors.shape[1]\n",
    "\n",
    "model = Sequential()\n",
    "\n",
    "model.add(Dense(50, activation='relu', input_shape=((n_cols,))))\n",
    "model.add(Dense(32, activation='relu'))\n",
    "\n",
    "model.add(Dense(1))"
   ]
  },
  {
   "cell_type": "markdown",
   "metadata": {},
   "source": [
    "## 10. Compiling and fitting a model"
   ]
  },
  {
   "cell_type": "markdown",
   "metadata": {},
   "source": [
    "### Why you need to compile your model\n",
    "\n",
    "* Specify the optimizer\n",
    "    * Many options and mathematically complex\n",
    "    * `'Adam'`is usually a good choice\n",
    "* Loss function\n",
    "    * `'mean_squared_error'`common for regression"
   ]
  },
  {
   "cell_type": "markdown",
   "metadata": {},
   "source": [
    "### Compiling a model\n",
    "\n",
    "```python\n",
    "In [1]: n_cols = predictors.shape[1]\n",
    "    \n",
    "In [2]: model = Sequential()\n",
    "    \n",
    "In [3]: model.add(Dense(100, activation='relu', input_shape=(n_cols,)))\n",
    "    \n",
    "In [4]: model.add(Dense(100, activation='relu'))\n",
    "    \n",
    "In [5]: model.add(Dense(1))\n",
    "    \n",
    "In [6]: model.compile(optimizer='adam', loss='mean_squared_error')\n",
    "```"
   ]
  },
  {
   "cell_type": "markdown",
   "metadata": {},
   "source": [
    "### What is fitting a model\n",
    "\n",
    "* Applying backpropagation and gradient descent with your data to update the weights\n",
    "* Scaling data before fitting can ease optimization"
   ]
  },
  {
   "cell_type": "markdown",
   "metadata": {},
   "source": [
    "### Fitting a model\n",
    "\n",
    "```python\n",
    "In [1]: n_cols = predictors.shape[1]\n",
    "    \n",
    "In [2]: model = Sequential()\n",
    "    \n",
    "In [3]: model.add(Dense(100, activation='relu', input_shape=(n_cols,)))\n",
    "    \n",
    "In [4]: model.add(Dense(100, activation='relu'))\n",
    "    \n",
    "In [5]: model.add(Dense(1))\n",
    "    \n",
    "In [6]: model.compile(optimizer='adam', loss=‘mean_squared_error')\n",
    "                      \n",
    "In [7]: model.fit(predictors, target)\n",
    "```"
   ]
  },
  {
   "cell_type": "markdown",
   "metadata": {},
   "source": [
    "### №18 Compiling the model\n",
    "\n",
    "* Compile the model using `model.compile()`. Your `optimizer` should be `'adam'` and the loss should be `'mean_squared_error'`"
   ]
  },
  {
   "cell_type": "code",
   "execution_count": 27,
   "metadata": {},
   "outputs": [
    {
     "name": "stderr",
     "output_type": "stream",
     "text": [
      "W0711 03:41:53.447575 4653327808 deprecation_wrapper.py:119] From /Users/Artyom/Anaconda/anaconda3/lib/python3.7/site-packages/keras/optimizers.py:790: The name tf.train.Optimizer is deprecated. Please use tf.compat.v1.train.Optimizer instead.\n",
      "\n"
     ]
    },
    {
     "name": "stdout",
     "output_type": "stream",
     "text": [
      "Loss function: mean_squared_error\n"
     ]
    }
   ],
   "source": [
    "import keras\n",
    "from keras.layers import Dense\n",
    "from keras.models import Sequential\n",
    "\n",
    "n_cols = predictors.shape[1]\n",
    "model = Sequential()\n",
    "model.add(Dense(50, activation='relu', input_shape = (n_cols,)))\n",
    "model.add(Dense(32, activation='relu'))\n",
    "model.add(Dense(1))\n",
    "\n",
    "model.compile(optimizer='adam', loss='mean_squared_error')\n",
    "\n",
    "print(\"Loss function: \" + model.loss)"
   ]
  },
  {
   "cell_type": "markdown",
   "metadata": {},
   "source": [
    "### №19 Fitting the model\n",
    "\n",
    "* Fit the `model`. Remember that the first argument is the predictive features (`predictors`), and the data to be predicted (`target`) is the second argument"
   ]
  },
  {
   "cell_type": "code",
   "execution_count": 28,
   "metadata": {},
   "outputs": [
    {
     "name": "stderr",
     "output_type": "stream",
     "text": [
      "W0711 03:41:53.733549 4653327808 deprecation_wrapper.py:119] From /Users/Artyom/Anaconda/anaconda3/lib/python3.7/site-packages/keras/backend/tensorflow_backend.py:986: The name tf.assign_add is deprecated. Please use tf.compat.v1.assign_add instead.\n",
      "\n",
      "W0711 03:41:53.856926 4653327808 deprecation_wrapper.py:119] From /Users/Artyom/Anaconda/anaconda3/lib/python3.7/site-packages/keras/backend/tensorflow_backend.py:973: The name tf.assign is deprecated. Please use tf.compat.v1.assign instead.\n",
      "\n"
     ]
    },
    {
     "name": "stdout",
     "output_type": "stream",
     "text": [
      "Epoch 1/1\n",
      "534/534 [==============================] - 0s 639us/step - loss: 64.6716\n"
     ]
    },
    {
     "data": {
      "text/plain": [
       "<keras.callbacks.History at 0x1a38744eb8>"
      ]
     },
     "execution_count": 28,
     "metadata": {},
     "output_type": "execute_result"
    }
   ],
   "source": [
    "import keras\n",
    "from keras.layers import Dense\n",
    "from keras.models import Sequential\n",
    "\n",
    "n_cols = predictors.shape[1]\n",
    "model = Sequential()\n",
    "model.add(Dense(50, activation='relu', input_shape = (n_cols,)))\n",
    "model.add(Dense(32, activation='relu'))\n",
    "model.add(Dense(1))\n",
    "\n",
    "model.compile(optimizer='adam', loss='mean_squared_error')\n",
    "model.fit(predictors, target)"
   ]
  },
  {
   "cell_type": "markdown",
   "metadata": {},
   "source": [
    "## 11. Classification models"
   ]
  },
  {
   "cell_type": "markdown",
   "metadata": {},
   "source": [
    "### Classification\n",
    "\n",
    "* ‘categorical_crossentropy’ loss function\n",
    "* Similar to log loss: Lower is be!er\n",
    "* Add metrics = [‘accuracy’] to compile step for easy-tounderstand diagnostics\n",
    "* Output layer has separate node for each possible outcome, and uses ‘so\"max’ activation"
   ]
  },
  {
   "cell_type": "markdown",
   "metadata": {},
   "source": [
    "### Quick look at the data\n",
    "\n",
    "<img src='Deep_Learning_in_Python/Pictures/Quick_look_at_the_data.png' alt='Quick look at the data' width=400 align='left'>"
   ]
  },
  {
   "cell_type": "markdown",
   "metadata": {},
   "source": [
    "### Transforming to categorical\n",
    "\n",
    "<img src='Deep_Learning_in_Python/Pictures/Transforming_to_categorical.png' alt='Transforming to categorical' width=400 align='left'>"
   ]
  },
  {
   "cell_type": "markdown",
   "metadata": {},
   "source": [
    "### Classification\n",
    "\n",
    "```python\n",
    "In [1]: from keras.utils import to_categorical\n",
    "In [2]: data = pd.read_csv('basketball_shot_log.csv')\n",
    "In [3]: predictors = data.drop(['shot_result'], axis=1).as_matrix()\n",
    "In [4]: target = to_categorical(data.shot_result)\n",
    "In [5]: model = Sequential()\n",
    "In [6]: model.add(Dense(100, activation='relu', input_shape = (n_cols,)))\n",
    "In [7]: model.add(Dense(100, activation='relu'))\n",
    "In [8]: model.add(Dense(100, activation='relu'))\n",
    "In [9]: model.add(Dense(2, activation='softmax'))\n",
    "In [10]: model.compile(optimizer='adam', loss='categorical_crossentropy',\n",
    "                       metrics['accuracy'])\n",
    "In [11]: model.fit(predictors, target)\n",
    "```"
   ]
  },
  {
   "cell_type": "markdown",
   "metadata": {},
   "source": [
    "### Classification\n",
    "\n",
    "```\n",
    "Out[11]:\n",
    "Epoch 1/10\n",
    "128069/128069 [==============================] - 4s - loss: 0.7706 - acc: 0.5759\n",
    "Epoch 2/10\n",
    "128069/128069 [==============================] - 5s - loss: 0.6656 - acc: 0.6003\n",
    "Epoch 3/10\n",
    "128069/128069 [==============================] - 6s - loss: 0.6611 - acc: 0.6094\n",
    "Epoch 4/10\n",
    "128069/128069 [==============================] - 7s - loss: 0.6584 - acc: 0.6106\n",
    "Epoch 5/10\n",
    "128069/128069 [==============================] - 7s - loss: 0.6561 - acc: 0.6150\n",
    "Epoch 6/10\n",
    "128069/128069 [==============================] - 9s - loss: 0.6553 - acc: 0.6158\n",
    "Epoch 7/10\n",
    "128069/128069 [==============================] - 9s - loss: 0.6543 - acc: 0.6162\n",
    "Epoch 8/10\n",
    "128069/128069 [==============================] - 9s - loss: 0.6538 - acc: 0.6158\n",
    "Epoch 9/10\n",
    "128069/128069 [==============================] - 10s - loss: 0.6535 - acc: 0.6157\n",
    "Epoch 10/10\n",
    "128069/128069 [==============================] - 10s - loss: 0.6531 - acc: 0.6166\n",
    "```"
   ]
  },
  {
   "cell_type": "markdown",
   "metadata": {},
   "source": [
    "### №20 Understanding your classification data\n",
    "\n",
    "What was the maximum age of passengers on the Titanic?\n",
    "\n",
    "* 29.699\n",
    "* *80*\n",
    "* 891\n",
    "* It is not listed"
   ]
  },
  {
   "cell_type": "code",
   "execution_count": 29,
   "metadata": {},
   "outputs": [
    {
     "data": {
      "text/html": [
       "<div>\n",
       "<style scoped>\n",
       "    .dataframe tbody tr th:only-of-type {\n",
       "        vertical-align: middle;\n",
       "    }\n",
       "\n",
       "    .dataframe tbody tr th {\n",
       "        vertical-align: top;\n",
       "    }\n",
       "\n",
       "    .dataframe thead th {\n",
       "        text-align: right;\n",
       "    }\n",
       "</style>\n",
       "<table border=\"1\" class=\"dataframe\">\n",
       "  <thead>\n",
       "    <tr style=\"text-align: right;\">\n",
       "      <th></th>\n",
       "      <th>survived</th>\n",
       "      <th>pclass</th>\n",
       "      <th>age</th>\n",
       "      <th>sibsp</th>\n",
       "      <th>parch</th>\n",
       "      <th>fare</th>\n",
       "      <th>male</th>\n",
       "      <th>embarked_from_cherbourg</th>\n",
       "      <th>embarked_from_queenstown</th>\n",
       "      <th>embarked_from_southampton</th>\n",
       "    </tr>\n",
       "  </thead>\n",
       "  <tbody>\n",
       "    <tr>\n",
       "      <th>count</th>\n",
       "      <td>891.000000</td>\n",
       "      <td>891.000000</td>\n",
       "      <td>891.000000</td>\n",
       "      <td>891.000000</td>\n",
       "      <td>891.000000</td>\n",
       "      <td>891.000000</td>\n",
       "      <td>891.000000</td>\n",
       "      <td>891.000000</td>\n",
       "      <td>891.000000</td>\n",
       "      <td>891.000000</td>\n",
       "    </tr>\n",
       "    <tr>\n",
       "      <th>mean</th>\n",
       "      <td>0.383838</td>\n",
       "      <td>2.308642</td>\n",
       "      <td>29.699118</td>\n",
       "      <td>0.523008</td>\n",
       "      <td>0.381594</td>\n",
       "      <td>32.204208</td>\n",
       "      <td>0.647587</td>\n",
       "      <td>0.188552</td>\n",
       "      <td>0.086420</td>\n",
       "      <td>0.722783</td>\n",
       "    </tr>\n",
       "    <tr>\n",
       "      <th>std</th>\n",
       "      <td>0.486592</td>\n",
       "      <td>0.836071</td>\n",
       "      <td>13.002015</td>\n",
       "      <td>1.102743</td>\n",
       "      <td>0.806057</td>\n",
       "      <td>49.693429</td>\n",
       "      <td>0.477990</td>\n",
       "      <td>0.391372</td>\n",
       "      <td>0.281141</td>\n",
       "      <td>0.447876</td>\n",
       "    </tr>\n",
       "    <tr>\n",
       "      <th>min</th>\n",
       "      <td>0.000000</td>\n",
       "      <td>1.000000</td>\n",
       "      <td>0.420000</td>\n",
       "      <td>0.000000</td>\n",
       "      <td>0.000000</td>\n",
       "      <td>0.000000</td>\n",
       "      <td>0.000000</td>\n",
       "      <td>0.000000</td>\n",
       "      <td>0.000000</td>\n",
       "      <td>0.000000</td>\n",
       "    </tr>\n",
       "    <tr>\n",
       "      <th>25%</th>\n",
       "      <td>0.000000</td>\n",
       "      <td>2.000000</td>\n",
       "      <td>22.000000</td>\n",
       "      <td>0.000000</td>\n",
       "      <td>0.000000</td>\n",
       "      <td>7.910400</td>\n",
       "      <td>0.000000</td>\n",
       "      <td>0.000000</td>\n",
       "      <td>0.000000</td>\n",
       "      <td>0.000000</td>\n",
       "    </tr>\n",
       "    <tr>\n",
       "      <th>50%</th>\n",
       "      <td>0.000000</td>\n",
       "      <td>3.000000</td>\n",
       "      <td>29.699118</td>\n",
       "      <td>0.000000</td>\n",
       "      <td>0.000000</td>\n",
       "      <td>14.454200</td>\n",
       "      <td>1.000000</td>\n",
       "      <td>0.000000</td>\n",
       "      <td>0.000000</td>\n",
       "      <td>1.000000</td>\n",
       "    </tr>\n",
       "    <tr>\n",
       "      <th>75%</th>\n",
       "      <td>1.000000</td>\n",
       "      <td>3.000000</td>\n",
       "      <td>35.000000</td>\n",
       "      <td>1.000000</td>\n",
       "      <td>0.000000</td>\n",
       "      <td>31.000000</td>\n",
       "      <td>1.000000</td>\n",
       "      <td>0.000000</td>\n",
       "      <td>0.000000</td>\n",
       "      <td>1.000000</td>\n",
       "    </tr>\n",
       "    <tr>\n",
       "      <th>max</th>\n",
       "      <td>1.000000</td>\n",
       "      <td>3.000000</td>\n",
       "      <td>80.000000</td>\n",
       "      <td>8.000000</td>\n",
       "      <td>6.000000</td>\n",
       "      <td>512.329200</td>\n",
       "      <td>1.000000</td>\n",
       "      <td>1.000000</td>\n",
       "      <td>1.000000</td>\n",
       "      <td>1.000000</td>\n",
       "    </tr>\n",
       "  </tbody>\n",
       "</table>\n",
       "</div>"
      ],
      "text/plain": [
       "         survived      pclass         age       sibsp       parch        fare  \\\n",
       "count  891.000000  891.000000  891.000000  891.000000  891.000000  891.000000   \n",
       "mean     0.383838    2.308642   29.699118    0.523008    0.381594   32.204208   \n",
       "std      0.486592    0.836071   13.002015    1.102743    0.806057   49.693429   \n",
       "min      0.000000    1.000000    0.420000    0.000000    0.000000    0.000000   \n",
       "25%      0.000000    2.000000   22.000000    0.000000    0.000000    7.910400   \n",
       "50%      0.000000    3.000000   29.699118    0.000000    0.000000   14.454200   \n",
       "75%      1.000000    3.000000   35.000000    1.000000    0.000000   31.000000   \n",
       "max      1.000000    3.000000   80.000000    8.000000    6.000000  512.329200   \n",
       "\n",
       "             male  embarked_from_cherbourg  embarked_from_queenstown  \\\n",
       "count  891.000000               891.000000                891.000000   \n",
       "mean     0.647587                 0.188552                  0.086420   \n",
       "std      0.477990                 0.391372                  0.281141   \n",
       "min      0.000000                 0.000000                  0.000000   \n",
       "25%      0.000000                 0.000000                  0.000000   \n",
       "50%      1.000000                 0.000000                  0.000000   \n",
       "75%      1.000000                 0.000000                  0.000000   \n",
       "max      1.000000                 1.000000                  1.000000   \n",
       "\n",
       "       embarked_from_southampton  \n",
       "count                 891.000000  \n",
       "mean                    0.722783  \n",
       "std                     0.447876  \n",
       "min                     0.000000  \n",
       "25%                     0.000000  \n",
       "50%                     1.000000  \n",
       "75%                     1.000000  \n",
       "max                     1.000000  "
      ]
     },
     "execution_count": 29,
     "metadata": {},
     "output_type": "execute_result"
    }
   ],
   "source": [
    "titanic = pd.read_csv('Deep_Learning_in_Python/titanic_all_numeric.csv')\n",
    "titanic.describe()"
   ]
  },
  {
   "cell_type": "markdown",
   "metadata": {},
   "source": [
    "### №21 Last steps in classification models\n",
    "\n",
    "* Convert `df.survived` to a categorical variable using the `to_categorical()` function\n",
    "* Specify a `Sequential` model called `model`\n",
    "* Add a Dense layer with 32 nodes. Use `'relu'` as the activation and `(n_cols,)` as the `input_shape`\n",
    "* Add the `Dense` output layer. Because there are two outcomes, it should have 2 units, and because it is a classification model, the activation should be `'softmax'`\n",
    "* Compile the model, using `'sgd'` as the optimizer, `'categorical_crossentropy'` as the loss function, and `metrics=['accuracy']` to see the accuracy (what fraction of predictions were correct) at the end of each epoch\n",
    "* Fit the model using the `predictors` and the `target`"
   ]
  },
  {
   "cell_type": "code",
   "execution_count": 30,
   "metadata": {},
   "outputs": [
    {
     "name": "stderr",
     "output_type": "stream",
     "text": [
      "W0711 03:41:54.530791 4653327808 deprecation.py:323] From /Users/Artyom/Anaconda/anaconda3/lib/python3.7/site-packages/tensorflow/python/ops/math_grad.py:1250: add_dispatch_support.<locals>.wrapper (from tensorflow.python.ops.array_ops) is deprecated and will be removed in a future version.\n",
      "Instructions for updating:\n",
      "Use tf.where in 2.0, which has the same broadcast rule as np.where\n"
     ]
    },
    {
     "name": "stdout",
     "output_type": "stream",
     "text": [
      "Epoch 1/1\n",
      "891/891 [==============================] - 0s 234us/step - loss: 2.5259 - acc: 0.5589\n"
     ]
    },
    {
     "data": {
      "text/plain": [
       "<keras.callbacks.History at 0x1a38bd5898>"
      ]
     },
     "execution_count": 30,
     "metadata": {},
     "output_type": "execute_result"
    }
   ],
   "source": [
    "import keras\n",
    "from keras.layers import Dense\n",
    "from keras.models import Sequential\n",
    "from keras.utils import to_categorical\n",
    "\n",
    "target = to_categorical(titanic.survived)\n",
    "predictors = titanic.drop('survived', axis='columns').values\n",
    "n_cols = predictors.shape[1]\n",
    "\n",
    "model = Sequential()\n",
    "\n",
    "model.add(Dense(32, activation='relu', input_shape=(n_cols,)))\n",
    "model.add(Dense(2, activation='softmax'))\n",
    "\n",
    "model.compile(optimizer='sgd', loss='categorical_crossentropy', metrics=['accuracy'])\n",
    "model.fit(predictors, target)"
   ]
  },
  {
   "cell_type": "markdown",
   "metadata": {},
   "source": [
    "## 12. Using models"
   ]
  },
  {
   "cell_type": "markdown",
   "metadata": {},
   "source": [
    "### Using models\n",
    "\n",
    "* Save\n",
    "* Reload\n",
    "* Make predictions"
   ]
  },
  {
   "cell_type": "markdown",
   "metadata": {},
   "source": [
    "### Saving, reloading and using your Model\n",
    "\n",
    "```python\n",
    "In [1]: from keras.models import load_model\n",
    "    \n",
    "In [2]: model.save('model_file.h5')\n",
    "    \n",
    "In [3]: my_model = load_model('my_model.h5')\n",
    "    \n",
    "In [4]: predictions = my_model.predict(data_to_predict_with)\n",
    "    \n",
    "In [5]: probability_true = predictions[:,1]\n",
    "```"
   ]
  },
  {
   "cell_type": "markdown",
   "metadata": {},
   "source": [
    "### Verifying model structure\n",
    "\n",
    "```python\n",
    "In [6]: my_model.summary()\n",
    "```\n",
    "```\n",
    "Out[6]:\n",
    "_____________________________________________________________________________________________\n",
    "Layer (type) Output Shape Param # Connected to\n",
    "=========================================================================================\n",
    "dense_1 (Dense) (None, 100) 1100 dense_input_1[0][0]\n",
    "_____________________________________________________________________________________________\n",
    "dense_2 (Dense) (None, 100) 10100 dense_1[0][0]\n",
    "_____________________________________________________________________________________________\n",
    "dense_3 (Dense) (None, 100) 10100 dense_2[0][0]\n",
    "_____________________________________________________________________________________________\n",
    "dense_4 (Dense) (None, 2) 202 dense_3[0][0]\n",
    "=========================================================================================\n",
    "Total params: 21,502\n",
    "Trainable params: 21,502\n",
    "Non-trainable params: 0\n",
    "```"
   ]
  },
  {
   "cell_type": "markdown",
   "metadata": {},
   "source": [
    "### №22 Making predictions\n",
    "\n",
    "* Create your predictions using the model's `.predict()` method on `pred_data`\n",
    "* Use NumPy indexing to find the column corresponding to predicted probabilities of survival being `True`. This is the second column (index `1`) of `predictions`. Store the result in `predicted_prob_true` and print it"
   ]
  },
  {
   "cell_type": "code",
   "execution_count": 31,
   "metadata": {},
   "outputs": [],
   "source": [
    "pred_data = pd.read_csv('Deep_Learning_in_Python/pred_data.csv').values"
   ]
  },
  {
   "cell_type": "code",
   "execution_count": 32,
   "metadata": {},
   "outputs": [
    {
     "name": "stdout",
     "output_type": "stream",
     "text": [
      "Epoch 1/1\n",
      "891/891 [==============================] - 0s 440us/step - loss: 2.5393 - acc: 0.6038\n",
      "[0.23031293 0.82944053 1.         0.7435396  0.17670812 0.14799337\n",
      " 0.05610865 0.28591138 0.17414124 0.9998605  0.20382762 0.44672182\n",
      " 0.17417733 0.99882454 0.16037163 0.13188808 0.22398345 0.98952216\n",
      " 0.04454017 0.99522555 1.         0.20550798 0.06028637 0.2716434\n",
      " 0.99998224 0.14958054 0.99994004 0.99991786 0.16913909 0.9999825\n",
      " 0.643204   0.9915597  0.14339554 0.23859324 0.31593233 0.9999999\n",
      " 0.28066257 0.17311214 0.99989915 0.9366899  0.27935043 0.4736528\n",
      " 0.9516143  0.07960988 0.3419535  0.0586682  0.9999995  0.09744335\n",
      " 0.97464687 1.         0.9993362  0.00378338 0.8717075  0.9995572\n",
      " 0.46307862 0.33147702 1.         0.36244982 0.6100646  0.14339554\n",
      " 0.17958704 0.4214561  0.38301998 0.9999995  0.3867276  0.13471255\n",
      " 0.3566565  0.99976844 0.19525139 0.82630396 0.20396473 0.9983997\n",
      " 0.103533   0.04937361 0.7964718  0.30888587 0.32501298 0.29273257\n",
      " 0.17087837 0.9999976  0.9001921  0.12929101 0.2941415  0.25610942\n",
      " 0.2011341  0.68870485 0.33324042 0.9907003  0.6948736  0.9685864\n",
      " 0.13195437]\n"
     ]
    }
   ],
   "source": [
    "model = Sequential()\n",
    "\n",
    "model.add(Dense(32, activation='relu', input_shape = (n_cols,)))\n",
    "model.add(Dense(2, activation='softmax'))\n",
    "\n",
    "model.compile(optimizer='sgd', loss='categorical_crossentropy', metrics=['accuracy'])\n",
    "model.fit(predictors, target)\n",
    "\n",
    "predictions = model.predict(pred_data)\n",
    "\n",
    "predicted_prob_true = predictions[:, 1]\n",
    "print(predicted_prob_true)"
   ]
  },
  {
   "cell_type": "markdown",
   "metadata": {},
   "source": [
    "## Chapter 4. Fine-tuning keras models"
   ]
  },
  {
   "cell_type": "markdown",
   "metadata": {},
   "source": [
    "## 12. Understanding model optimization"
   ]
  },
  {
   "cell_type": "markdown",
   "metadata": {},
   "source": [
    "### Why optimization is hard\n",
    "\n",
    "* Simultaneously optimizing 1000s of parameters with complex relationships\n",
    "* Updates may not improve model meaningfully\n",
    "* Updates too small (if learning rate is low) or too large (if learning rate is high)"
   ]
  },
  {
   "cell_type": "markdown",
   "metadata": {},
   "source": [
    "### Stochastic gradient descent\n",
    "\n",
    "**sgd.py**\n",
    "\n",
    "```python\n",
    "def get_new_model(input_shape = input_shape):\n",
    "    model = Sequential()\n",
    "    model.add(Dense(100, activation='relu', input_shape = input_shape))\n",
    "    model.add(Dense(100, activation='relu'))\n",
    "    model.add(Dense(2, activation='softmax'))\n",
    "    return(model)\n",
    "    \n",
    "lr_to_test = [.000001, 0.01, 1]\n",
    "\n",
    "# loop over learning rates\n",
    "for lr in lr_to_test:\n",
    "    model = get_new_model()\n",
    "    my_optimizer = SGD(lr=lr)\n",
    "    model.compile(optimizer = my_optimizer, loss = 'categorical_crossentropy')\n",
    "    model.fit(predictors, target)\n",
    "```"
   ]
  },
  {
   "cell_type": "markdown",
   "metadata": {},
   "source": [
    "### The dying neuron problem\n",
    "\n",
    "<img src='Deep_Learning_in_Python/Pictures/The_dying_neuron_problem.png' alt='The dying neuron problem' width=300 align='left'>"
   ]
  },
  {
   "cell_type": "markdown",
   "metadata": {},
   "source": [
    "### Vanishing gradients\n",
    "\n",
    "* Occurs when many layers have very small slopes (e.g. due tobeing on flat part of tanh curve)\n",
    "* In deep networks, updates to backprop were close to 0\n",
    "\n",
    "<img src='Deep_Learning_in_Python/Pictures/Vanishing_gradients.png' alt='Vanishing gradients' width=300 align='left'>"
   ]
  },
  {
   "cell_type": "markdown",
   "metadata": {},
   "source": [
    "### №23 Diagnosing optimization problems\n",
    "\n",
    "Which of the following could prevent a model from showing an improved loss in its first few epochs?\n",
    "\n",
    "* Learning rate too low\n",
    "* Learning rate too high\n",
    "* Poor choice of activation function\n",
    "* *All of the above*"
   ]
  },
  {
   "cell_type": "markdown",
   "metadata": {},
   "source": [
    "### №24 Changing optimization parameters\n",
    "\n",
    "* Import `SGD` from `keras.optimizers`\n",
    "* Create a list of learning rates to try optimizing with called `lr_to_test`. The learning rates in it should be `.000001`,` 0.01`, and `1`\n",
    "* Using a `for` loop to iterate over `lr_to_test`:\n",
    "    * Use the `get_new_model()` function to build a new, unoptimized model\n",
    "    * Create an `optimizer` called `my_optimizer` using the `SGD()` constructor with keyword argument `lr=lr`\n",
    "    * Compile your model. Set the optimizer parameter to be the SGD object you created above, and because this is a classification problem, use `'categorical_crossentropy'` for the `loss` parameter\n",
    "    * Fit your model using the `predictors` and `target`"
   ]
  },
  {
   "cell_type": "code",
   "execution_count": 33,
   "metadata": {},
   "outputs": [],
   "source": [
    "n_cols = predictors.shape[1]\n",
    "input_shape = (n_cols,)\n",
    "\n",
    "def get_new_model(input_shape=input_shape):\n",
    "    model = Sequential()\n",
    "    model.add(Dense(100, activation='relu', input_shape = input_shape))\n",
    "    model.add(Dense(100, activation='relu'))\n",
    "    model.add(Dense(2, activation='softmax'))\n",
    "    return(model)"
   ]
  },
  {
   "cell_type": "code",
   "execution_count": 34,
   "metadata": {},
   "outputs": [
    {
     "name": "stdout",
     "output_type": "stream",
     "text": [
      "\n",
      "\n",
      "Testing model with learning rate: 0.000001\n",
      "\n",
      "Epoch 1/1\n",
      "891/891 [==============================] - 0s 396us/step - loss: 0.9494\n",
      "\n",
      "\n",
      "Testing model with learning rate: 0.010000\n",
      "\n",
      "Epoch 1/1\n",
      "891/891 [==============================] - 0s 396us/step - loss: 1.3453\n",
      "\n",
      "\n",
      "Testing model with learning rate: 1.000000\n",
      "\n",
      "Epoch 1/1\n",
      "891/891 [==============================] - 0s 558us/step - loss: 5.9934\n"
     ]
    }
   ],
   "source": [
    "from keras.optimizers import SGD\n",
    "\n",
    "lr_to_test = [.000001, .01, 1]\n",
    "\n",
    "for lr in lr_to_test:\n",
    "    print('\\n\\nTesting model with learning rate: %f\\n'%lr )\n",
    "    \n",
    "    model = get_new_model()\n",
    "    my_optimizer = SGD(lr=lr)\n",
    "    \n",
    "    model.compile(optimizer=my_optimizer, loss='categorical_crossentropy')\n",
    "    model.fit(predictors, target)"
   ]
  },
  {
   "cell_type": "markdown",
   "metadata": {},
   "source": [
    "## 13. Model validation"
   ]
  },
  {
   "cell_type": "markdown",
   "metadata": {},
   "source": [
    "### Validation in deep learning\n",
    "\n",
    "* Commonly use validation split rather than crossvalidation\n",
    "* Deep learning widely used on large datasets\n",
    "* Single validation score is based on large amount of data, and is reliable\n",
    "* Repeated training from cross-validation would take long time"
   ]
  },
  {
   "cell_type": "markdown",
   "metadata": {},
   "source": [
    "### Model validation\n",
    "\n",
    "```python\n",
    "In [1]: model.compile(optimizer = 'adam', loss = 'categorical_crossentropy', metrics=['accuracy'])\n",
    "In [2]: model.fit(predictors, target, validation_split=0.3)\n",
    "Epoch 1/10\n",
    "89648/89648 [==============================] - 3s - loss: 0.7552 - acc: 0.5775 - val_loss: 0.6969 - val_acc: 0.5561\n",
    "Epoch 2/10\n",
    "89648/89648 [==============================] - 4s - loss: 0.6670 - acc: 0.6004 - val_loss: 0.6580 - val_acc: 0.6102\n",
    "...\n",
    "Epoch 8/10\n",
    "89648/89648 [==============================] - 5s - loss: 0.6578 - acc: 0.6125 - val_loss: 0.6594 - val_acc: 0.6037\n",
    "Epoch 9/10\n",
    "89648/89648 [==============================] - 5s - loss: 0.6564 - acc: 0.6147 - val_loss: 0.6568 - val_acc: 0.6110\n",
    "Epoch 10/10\n",
    "89648/89648 [==============================] - 5s - loss: 0.6555 - acc: 0.6158 - val_loss: 0.6557 - val_acc: 0.6126\n",
    "```"
   ]
  },
  {
   "cell_type": "markdown",
   "metadata": {},
   "source": [
    "### Early Stopping\n",
    "\n",
    "```python\n",
    "In [3]: from keras.callbacks import EarlyStopping\n",
    "In [4]: early_stopping_monitor = EarlyStopping(patience=2)\n",
    "\n",
    "In [5]: model.fit(predictors, target, validation_split=0.3, epochs=20, \n",
    "                  callbacks = [early_stopping_monitor])\n",
    "```"
   ]
  },
  {
   "cell_type": "markdown",
   "metadata": {},
   "source": [
    "### Output from early stopping\n",
    "\n",
    "```python\n",
    "Train on 89648 samples, validate on 38421 samples\n",
    "Epoch 1/20\n",
    "89648/89648 [==============================] - 5s - loss: 0.6550 - acc: 0.6151 - val_loss: 0.6548 - val_acc: 0.6151\n",
    "Epoch 2/20\n",
    "89648/89648 [==============================] - 6s - loss: 0.6541 - acc: 0.6165 - val_loss: 0.6537 - val_acc: 0.6154\n",
    "...\n",
    "Epoch 8/20\n",
    "89648/89648 [==============================] - 6s - loss: 0.6527 - acc: 0.6181 - val_loss: 0.6531 - val_acc: 0.6160\n",
    "Epoch 9/20\n",
    "89648/89648 [==============================] - 7s - loss: 0.6524 - acc: 0.6176 - val_loss: 0.6513 - val_acc: 0.6172\n",
    "Epoch 10/20\n",
    "89648/89648 [==============================] - 6s - loss: 0.6527 - acc: 0.6176 - val_loss: 0.6549 - val_acc: 0.6134\n",
    "Epoch 11/20\n",
    "89648/89648 [==============================] - 6s - loss: 0.6522 - acc: 0.6178 - val_loss: 0.6517 - val_acc: 0.6169\n",
    "```"
   ]
  },
  {
   "cell_type": "markdown",
   "metadata": {},
   "source": [
    "### №25 Evaluating model accuracy on validation dataset\n",
    "\n",
    "* Compile your model using `'adam'` as the `optimizer` and `'categorical_crossentropy'` for the `loss`. To see what fraction of predictions are correct (the `accuracy`) in each epoch, specify the additional keyword argument `metrics=['accuracy']` in `model.compile()`\n",
    "* Fit the model using the `predictors` and `target`. Create a validation split of 30% (or `0.3`). This will be reported in each epoch"
   ]
  },
  {
   "cell_type": "code",
   "execution_count": 35,
   "metadata": {},
   "outputs": [
    {
     "name": "stdout",
     "output_type": "stream",
     "text": [
      "Train on 623 samples, validate on 268 samples\n",
      "Epoch 1/10\n",
      "623/623 [==============================] - 1s 961us/step - loss: 0.9084 - acc: 0.6003 - val_loss: 0.7077 - val_acc: 0.6530\n",
      "Epoch 2/10\n",
      "623/623 [==============================] - 0s 67us/step - loss: 0.6524 - acc: 0.6629 - val_loss: 0.5546 - val_acc: 0.7164\n",
      "Epoch 3/10\n",
      "623/623 [==============================] - 0s 63us/step - loss: 0.6075 - acc: 0.6838 - val_loss: 0.6700 - val_acc: 0.6604\n",
      "Epoch 4/10\n",
      "623/623 [==============================] - 0s 67us/step - loss: 0.6012 - acc: 0.6966 - val_loss: 0.5358 - val_acc: 0.7015\n",
      "Epoch 5/10\n",
      "623/623 [==============================] - 0s 63us/step - loss: 0.5924 - acc: 0.6998 - val_loss: 0.5290 - val_acc: 0.7388\n",
      "Epoch 6/10\n",
      "623/623 [==============================] - 0s 64us/step - loss: 0.6361 - acc: 0.7030 - val_loss: 0.6485 - val_acc: 0.7276\n",
      "Epoch 7/10\n",
      "623/623 [==============================] - 0s 57us/step - loss: 0.6774 - acc: 0.6774 - val_loss: 0.5306 - val_acc: 0.7687\n",
      "Epoch 8/10\n",
      "623/623 [==============================] - 0s 53us/step - loss: 0.5634 - acc: 0.7127 - val_loss: 0.4853 - val_acc: 0.7388\n",
      "Epoch 9/10\n",
      "623/623 [==============================] - 0s 57us/step - loss: 0.5461 - acc: 0.7448 - val_loss: 0.5236 - val_acc: 0.7313\n",
      "Epoch 10/10\n",
      "623/623 [==============================] - 0s 52us/step - loss: 0.5307 - acc: 0.7512 - val_loss: 0.4872 - val_acc: 0.7724\n"
     ]
    }
   ],
   "source": [
    "n_cols = predictors.shape[1]\n",
    "input_shape = (n_cols,)\n",
    "\n",
    "model = Sequential()\n",
    "model.add(Dense(100, activation='relu', input_shape = input_shape))\n",
    "model.add(Dense(100, activation='relu'))\n",
    "model.add(Dense(2, activation='softmax'))\n",
    "\n",
    "model.compile(optimizer='adam', loss='categorical_crossentropy', metrics=['accuracy'])\n",
    "\n",
    "hist = model.fit(predictors, target, validation_split=0.3, epochs=10)"
   ]
  },
  {
   "cell_type": "markdown",
   "metadata": {},
   "source": [
    "### №26 Early stopping: Optimizing the optimization\n",
    "\n",
    "* Import `EarlyStopping` from `keras.callbacks`\n",
    "* Compile the model, once again using `'adam'` as the `optimizer`, `'categorical_crossentropy'` as the `loss` function, and `metrics=['accuracy']` to see the accuracy at each epoch\n",
    "* Create an `EarlyStopping` object called `early_stopping_monitor`. Stop optimization when the validation loss hasn't improved for 2 epochs by specifying the `patience` parameter of `EarlyStopping()` to be `2`\n",
    "* Fit the model using the `predictors` and `target`. Specify the number of `epochs` to be `30` and use a validation split of `0.3`. In addition, pass `[early_stopping_monitor]` to the `callbacks` parameter"
   ]
  },
  {
   "cell_type": "code",
   "execution_count": 36,
   "metadata": {},
   "outputs": [
    {
     "name": "stdout",
     "output_type": "stream",
     "text": [
      "Train on 623 samples, validate on 268 samples\n",
      "Epoch 1/30\n",
      "623/623 [==============================] - 1s 869us/step - loss: 1.0956 - acc: 0.5875 - val_loss: 0.6116 - val_acc: 0.7015\n",
      "Epoch 2/30\n",
      "623/623 [==============================] - 0s 55us/step - loss: 0.7167 - acc: 0.6372 - val_loss: 0.5866 - val_acc: 0.6903\n",
      "Epoch 3/30\n",
      "623/623 [==============================] - 0s 53us/step - loss: 0.6902 - acc: 0.6517 - val_loss: 0.8640 - val_acc: 0.6418\n",
      "Epoch 4/30\n",
      "623/623 [==============================] - 0s 56us/step - loss: 0.6972 - acc: 0.6613 - val_loss: 0.5345 - val_acc: 0.7239\n",
      "Epoch 5/30\n",
      "623/623 [==============================] - 0s 54us/step - loss: 0.6516 - acc: 0.6854 - val_loss: 0.5768 - val_acc: 0.7313\n",
      "Epoch 6/30\n",
      "623/623 [==============================] - 0s 65us/step - loss: 0.6019 - acc: 0.6966 - val_loss: 0.5778 - val_acc: 0.7052\n"
     ]
    },
    {
     "data": {
      "text/plain": [
       "<keras.callbacks.History at 0x1a3a644a58>"
      ]
     },
     "execution_count": 36,
     "metadata": {},
     "output_type": "execute_result"
    }
   ],
   "source": [
    "from keras.callbacks import EarlyStopping\n",
    "\n",
    "n_cols = predictors.shape[1]\n",
    "input_shape = (n_cols,)\n",
    "\n",
    "model = Sequential()\n",
    "model.add(Dense(100, activation='relu', input_shape = input_shape))\n",
    "model.add(Dense(100, activation='relu'))\n",
    "model.add(Dense(2, activation='softmax'))\n",
    "\n",
    "model.compile(optimizer='adam', loss='categorical_crossentropy', metrics=['accuracy'])\n",
    "\n",
    "early_stopping_monitor = EarlyStopping(patience=2)\n",
    "\n",
    "model.fit(predictors, target, epochs=30, validation_split=.3,\n",
    "          callbacks=[early_stopping_monitor])"
   ]
  },
  {
   "cell_type": "markdown",
   "metadata": {},
   "source": [
    "### №27 Experimenting with wider networks\n",
    "\n",
    "* Create `model_2` to replicate `model_1`, but use `100` nodes instead of `10` for the first two Dense layers you add with the `'relu'` activation. Use `2` nodes for the `Dense` output layer with `'softmax'` as the `activation`\n",
    "* Compile `model_2` as you have done with previous models: Using `'adam'` as the `optimizer`, `'categorical_crossentropy'` for the `loss`, and `metrics=['accuracy']`\n",
    "* Fit both the models and visualize which one gives better results! Notice the keyword argument `verbose=False` in `model.fit()`: This prints out fewer updates, since you'll be evaluating the models graphically instead of through text"
   ]
  },
  {
   "cell_type": "code",
   "execution_count": 37,
   "metadata": {},
   "outputs": [
    {
     "data": {
      "image/png": "[encoded data removed]",
      "text/plain": [
       "<Figure size 432x288 with 1 Axes>"
      ]
     },
     "metadata": {
      "image/png": {
       "height": 265,
       "width": 396
      },
      "needs_background": "dark"
     },
     "output_type": "display_data"
    }
   ],
   "source": [
    "early_stopping_monitor = EarlyStopping(patience=2)\n",
    "\n",
    "model_2 = Sequential()\n",
    "model_2.add(Dense(100, activation='relu', input_shape=input_shape))\n",
    "model_2.add(Dense(100, activation='relu', input_shape=input_shape))\n",
    "model_2.add(Dense(2, activation='softmax'))\n",
    "\n",
    "model_2.compile(optimizer='adam', loss='categorical_crossentropy', metrics=['accuracy'])\n",
    "model_2_training = model_2.fit(predictors, target, epochs=15, validation_split=0.2,\n",
    "                               callbacks=[early_stopping_monitor], verbose=False)\n",
    "\n",
    "\n",
    "model_1 = Sequential()\n",
    "model_1.add(Dense(10, activation='relu', input_shape=input_shape))\n",
    "model_1.add(Dense(10, activation='relu', input_shape=input_shape))\n",
    "model_1.add(Dense(2, activation='softmax'))\n",
    "\n",
    "model_1.compile(optimizer='adam', loss='categorical_crossentropy', metrics=['accuracy'])\n",
    "model_1_training = model_1.fit(predictors, target, epochs=15, validation_split=0.2,\n",
    "                               callbacks=[early_stopping_monitor], verbose=False)\n",
    "\n",
    "\n",
    "\n",
    "plt.plot(model_1_training.history['val_loss'], 'r', model_2_training.history['val_loss'], 'b')\n",
    "plt.xlabel('Epochs')\n",
    "plt.ylabel('Validation score')\n",
    "plt.show()"
   ]
  },
  {
   "cell_type": "markdown",
   "metadata": {},
   "source": [
    "### №28 Adding layers to a network\n",
    "\n",
    "* Specify a model called `model_2` that is like `model_1`, but which has 3 hidden layers of 50 units instead of only 1 hidden layer\n",
    "    * Use `input_shape` to specify the input shape in the first hidden layer\n",
    "    * Use `'relu'` activation for the 3 hidden layers and `'softmax'` for the output layer, which should have 2 units\n",
    "* Compile `model_2` as you have done with previous models: Using `'adam'` as the `optimizer`, `'categorical_crossentropy'` for the `loss`, and `metrics=['accuracy']`\n",
    "* Fit both the models and visualize which one gives better results! For both models, you should look for the best `val_loss` and `val_acc`, which won't be the last epoch for that model"
   ]
  },
  {
   "cell_type": "code",
   "execution_count": 38,
   "metadata": {},
   "outputs": [
    {
     "data": {
      "image/png": "[encoded data removed]",
      "text/plain": [
       "<Figure size 432x288 with 1 Axes>"
      ]
     },
     "metadata": {
      "image/png": {
       "height": 265,
       "width": 389
      },
      "needs_background": "dark"
     },
     "output_type": "display_data"
    }
   ],
   "source": [
    "input_shape = (n_cols,)\n",
    "\n",
    "model_2 = Sequential()\n",
    "model_2.add(Dense(50, activation='relu', input_shape=input_shape))\n",
    "model_2.add(Dense(50, activation='relu'))\n",
    "model_2.add(Dense(50, activation='relu'))\n",
    "model_2.add(Dense(2, activation='softmax'))\n",
    "\n",
    "model_2.compile(optimizer='adam', loss='categorical_crossentropy', metrics=['accuracy'])\n",
    "model_2_training = model_2.fit(predictors, target, epochs=20, validation_split=0.4,\n",
    "                               callbacks=[early_stopping_monitor], verbose=False)\n",
    "\n",
    "model_1 = Sequential()\n",
    "model_1.add(Dense(50, activation='relu', input_shape=input_shape))\n",
    "model_1.add(Dense(2, activation='softmax'))\n",
    "\n",
    "model_1.compile(optimizer='adam', loss='categorical_crossentropy', metrics=['accuracy'])\n",
    "model_1_training = model_1.fit(predictors, target, epochs=20, validation_split=0.4,\n",
    "                               callbacks=[early_stopping_monitor], verbose=False)\n",
    "\n",
    "plt.plot(model_1_training.history['val_loss'], 'r', model_2_training.history['val_loss'], 'b')\n",
    "plt.xlabel('Epochs')\n",
    "plt.ylabel('Validation score')\n",
    "plt.show()"
   ]
  },
  {
   "cell_type": "markdown",
   "metadata": {},
   "source": [
    "## 14. Thinking about model capacity"
   ]
  },
  {
   "cell_type": "markdown",
   "metadata": {},
   "source": [
    "### Overfitting\n",
    "\n",
    "<img src='Deep_Learning_in_Python/Pictures/Overfitting.png' alt='Overfitting' width=400 align='left'>"
   ]
  },
  {
   "cell_type": "markdown",
   "metadata": {},
   "source": [
    "### Workflow for optimizing model capacity\n",
    "\n",
    "* Start with a small network\n",
    "* Gradually increase capacity\n",
    "* Keep increasing capacity until validation score is no longer improving"
   ]
  },
  {
   "cell_type": "markdown",
   "metadata": {},
   "source": [
    "### Sequential experiments\n",
    "\n",
    "<img src='Deep_Learning_in_Python/Pictures/Sequential_experiments.png' alt='Sequential experiments' width=400 align='left'>"
   ]
  },
  {
   "cell_type": "markdown",
   "metadata": {},
   "source": [
    "### №29 Experimenting with model structures\n",
    "\n",
    "You've just run an experiment where you compared two networks that were identical except that the 2nd network had an extra hidden layer. You see that this 2nd network (the deeper network) had better performance. Given that, which of the following would be a good experiment to run next for even better performance?\n",
    "\n",
    "* Try a new network with fewer layers than anything you have tried yet\n",
    "* *Use more units in each hidden layer*\n",
    "* Use fewer units in each hidden layer"
   ]
  },
  {
   "cell_type": "markdown",
   "metadata": {},
   "source": [
    "## 15. Stepping up to images"
   ]
  },
  {
   "cell_type": "markdown",
   "metadata": {},
   "source": [
    "### Recognizing handwritten digits\n",
    "\n",
    "* MNIST dataset\n",
    "* 28 x 28 grid flattened to 784 values for each image\n",
    "* Value in each part of array denotes darkness of that pixel\n",
    "\n",
    "<img src='Deep_Learning_in_Python/Pictures/digits.png' alt='digits' width=200 align='left'>"
   ]
  },
  {
   "cell_type": "markdown",
   "metadata": {},
   "source": [
    "### №30 Building your own digit recognition model\n",
    "\n",
    "* Create a `Sequential` object to start your model. Call this `model`\n",
    "* Add the first Dense hidden layer of `50` units to your model with `'relu'` activation. For this data, the `input_shape` is `(784,)`\n",
    "* Add a second `Dense` hidden layer with `50` units and a `'relu'` activation function\n",
    "* Add the output layer. Your activation function should be `'softmax'`, and the number of nodes in this layer should be the same as the number of possible outputs in this case: `10`\n",
    "* Compile model as you have done with previous models: Using `'adam'` as the `optimizer`, `'categorical_crossentropy'` for the `loss`, and `metrics=['accuracy']`\n",
    "* Fit the model using `X` and `y` using a `validation_split` of `0.3`\n",
    "\n",
    "```python\n",
    "model = Sequential()\n",
    "model.add(Dense(50, activation='relu', input_shape=(784,)))\n",
    "model.add(Dense(50, activation='relu'))\n",
    "model.add(Dense(10, activation='softmax'))\n",
    "\n",
    "model.compile(optimizer='adam', loss='categorical_crossentropy', metrics=['accuracy'])\n",
    "model.fit(X, y, validation_split=.3)\n",
    "```"
   ]
  },
  {
   "cell_type": "code",
   "execution_count": 39,
   "metadata": {},
   "outputs": [
    {
     "data": {
      "text/html": [
       "<div>\n",
       "<style scoped>\n",
       "    .dataframe tbody tr th:only-of-type {\n",
       "        vertical-align: middle;\n",
       "    }\n",
       "\n",
       "    .dataframe tbody tr th {\n",
       "        vertical-align: top;\n",
       "    }\n",
       "\n",
       "    .dataframe thead th {\n",
       "        text-align: right;\n",
       "    }\n",
       "</style>\n",
       "<table border=\"1\" class=\"dataframe\">\n",
       "  <thead>\n",
       "    <tr style=\"text-align: right;\">\n",
       "      <th></th>\n",
       "      <th>0</th>\n",
       "      <th>1</th>\n",
       "      <th>2</th>\n",
       "      <th>3</th>\n",
       "      <th>4</th>\n",
       "      <th>5</th>\n",
       "      <th>6</th>\n",
       "      <th>7</th>\n",
       "      <th>8</th>\n",
       "      <th>9</th>\n",
       "      <th>...</th>\n",
       "      <th>775</th>\n",
       "      <th>776</th>\n",
       "      <th>777</th>\n",
       "      <th>778</th>\n",
       "      <th>779</th>\n",
       "      <th>780</th>\n",
       "      <th>781</th>\n",
       "      <th>782</th>\n",
       "      <th>783</th>\n",
       "      <th>784</th>\n",
       "    </tr>\n",
       "  </thead>\n",
       "  <tbody>\n",
       "    <tr>\n",
       "      <th>0</th>\n",
       "      <td>5</td>\n",
       "      <td>0</td>\n",
       "      <td>0.1</td>\n",
       "      <td>0.2</td>\n",
       "      <td>0.3</td>\n",
       "      <td>0.4</td>\n",
       "      <td>0.5</td>\n",
       "      <td>0.6</td>\n",
       "      <td>0.7</td>\n",
       "      <td>0.8</td>\n",
       "      <td>...</td>\n",
       "      <td>0.608</td>\n",
       "      <td>0.609</td>\n",
       "      <td>0.61</td>\n",
       "      <td>0.611</td>\n",
       "      <td>0.612</td>\n",
       "      <td>0.613</td>\n",
       "      <td>0.614</td>\n",
       "      <td>0.615</td>\n",
       "      <td>0.616</td>\n",
       "      <td>0.617</td>\n",
       "    </tr>\n",
       "    <tr>\n",
       "      <th>1</th>\n",
       "      <td>4</td>\n",
       "      <td>0</td>\n",
       "      <td>0.0</td>\n",
       "      <td>0.0</td>\n",
       "      <td>0.0</td>\n",
       "      <td>0.0</td>\n",
       "      <td>0.0</td>\n",
       "      <td>0.0</td>\n",
       "      <td>0.0</td>\n",
       "      <td>0.0</td>\n",
       "      <td>...</td>\n",
       "      <td>0.000</td>\n",
       "      <td>0.000</td>\n",
       "      <td>0.00</td>\n",
       "      <td>0.000</td>\n",
       "      <td>0.000</td>\n",
       "      <td>0.000</td>\n",
       "      <td>0.000</td>\n",
       "      <td>0.000</td>\n",
       "      <td>0.000</td>\n",
       "      <td>0.000</td>\n",
       "    </tr>\n",
       "    <tr>\n",
       "      <th>2</th>\n",
       "      <td>3</td>\n",
       "      <td>0</td>\n",
       "      <td>0.0</td>\n",
       "      <td>0.0</td>\n",
       "      <td>0.0</td>\n",
       "      <td>0.0</td>\n",
       "      <td>0.0</td>\n",
       "      <td>0.0</td>\n",
       "      <td>0.0</td>\n",
       "      <td>0.0</td>\n",
       "      <td>...</td>\n",
       "      <td>0.000</td>\n",
       "      <td>0.000</td>\n",
       "      <td>0.00</td>\n",
       "      <td>0.000</td>\n",
       "      <td>0.000</td>\n",
       "      <td>0.000</td>\n",
       "      <td>0.000</td>\n",
       "      <td>0.000</td>\n",
       "      <td>0.000</td>\n",
       "      <td>0.000</td>\n",
       "    </tr>\n",
       "    <tr>\n",
       "      <th>3</th>\n",
       "      <td>0</td>\n",
       "      <td>0</td>\n",
       "      <td>0.0</td>\n",
       "      <td>0.0</td>\n",
       "      <td>0.0</td>\n",
       "      <td>0.0</td>\n",
       "      <td>0.0</td>\n",
       "      <td>0.0</td>\n",
       "      <td>0.0</td>\n",
       "      <td>0.0</td>\n",
       "      <td>...</td>\n",
       "      <td>0.000</td>\n",
       "      <td>0.000</td>\n",
       "      <td>0.00</td>\n",
       "      <td>0.000</td>\n",
       "      <td>0.000</td>\n",
       "      <td>0.000</td>\n",
       "      <td>0.000</td>\n",
       "      <td>0.000</td>\n",
       "      <td>0.000</td>\n",
       "      <td>0.000</td>\n",
       "    </tr>\n",
       "    <tr>\n",
       "      <th>4</th>\n",
       "      <td>2</td>\n",
       "      <td>0</td>\n",
       "      <td>0.0</td>\n",
       "      <td>0.0</td>\n",
       "      <td>0.0</td>\n",
       "      <td>0.0</td>\n",
       "      <td>0.0</td>\n",
       "      <td>0.0</td>\n",
       "      <td>0.0</td>\n",
       "      <td>0.0</td>\n",
       "      <td>...</td>\n",
       "      <td>0.000</td>\n",
       "      <td>0.000</td>\n",
       "      <td>0.00</td>\n",
       "      <td>0.000</td>\n",
       "      <td>0.000</td>\n",
       "      <td>0.000</td>\n",
       "      <td>0.000</td>\n",
       "      <td>0.000</td>\n",
       "      <td>0.000</td>\n",
       "      <td>0.000</td>\n",
       "    </tr>\n",
       "  </tbody>\n",
       "</table>\n",
       "<p>5 rows × 785 columns</p>\n",
       "</div>"
      ],
      "text/plain": [
       "   0    1    2    3    4    5    6    7    8    9    ...    775    776   777  \\\n",
       "0    5    0  0.1  0.2  0.3  0.4  0.5  0.6  0.7  0.8  ...  0.608  0.609  0.61   \n",
       "1    4    0  0.0  0.0  0.0  0.0  0.0  0.0  0.0  0.0  ...  0.000  0.000  0.00   \n",
       "2    3    0  0.0  0.0  0.0  0.0  0.0  0.0  0.0  0.0  ...  0.000  0.000  0.00   \n",
       "3    0    0  0.0  0.0  0.0  0.0  0.0  0.0  0.0  0.0  ...  0.000  0.000  0.00   \n",
       "4    2    0  0.0  0.0  0.0  0.0  0.0  0.0  0.0  0.0  ...  0.000  0.000  0.00   \n",
       "\n",
       "     778    779    780    781    782    783    784  \n",
       "0  0.611  0.612  0.613  0.614  0.615  0.616  0.617  \n",
       "1  0.000  0.000  0.000  0.000  0.000  0.000  0.000  \n",
       "2  0.000  0.000  0.000  0.000  0.000  0.000  0.000  \n",
       "3  0.000  0.000  0.000  0.000  0.000  0.000  0.000  \n",
       "4  0.000  0.000  0.000  0.000  0.000  0.000  0.000  \n",
       "\n",
       "[5 rows x 785 columns]"
      ]
     },
     "execution_count": 39,
     "metadata": {},
     "output_type": "execute_result"
    }
   ],
   "source": [
    "digits = pd.read_csv('Deep_Learning_in_Python/mnist.csv', header=None)\n",
    "digits.head()"
   ]
  },
  {
   "cell_type": "code",
   "execution_count": null,
   "metadata": {},
   "outputs": [],
   "source": []
  },
  {
   "cell_type": "code",
   "execution_count": null,
   "metadata": {},
   "outputs": [],
   "source": []
  }
 ],
 "metadata": {
  "kernelspec": {
   "display_name": "Python 3",
   "language": "python",
   "name": "python3"
  },
  "language_info": {
   "codemirror_mode": {
    "name": "ipython",
    "version": 3
   },
   "file_extension": ".py",
   "mimetype": "text/x-python",
   "name": "python",
   "nbconvert_exporter": "python",
   "pygments_lexer": "ipython3",
   "version": "3.7.3"
  }
 },
 "nbformat": 4,
 "nbformat_minor": 2
}
