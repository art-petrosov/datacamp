{
 "cells": [
  {
   "cell_type": "markdown",
   "metadata": {},
   "source": [
    "## Intro to SQL for Data Science"
   ]
  },
  {
   "cell_type": "markdown",
   "metadata": {},
   "source": [
    "## Chapter 1. Selecting columns"
   ]
  },
  {
   "cell_type": "markdown",
   "metadata": {},
   "source": [
    "```SQL\n",
    "1. SELECT single_column_name FROM table_name;\n",
    "\n",
    "```"
   ]
  },
  {
   "cell_type": "markdown",
   "metadata": {},
   "source": [
    "```SQL\n",
    "2. SELECT first_column_name, second_column_name, ... FROM table_name;\n",
    "```"
   ]
  },
  {
   "cell_type": "markdown",
   "metadata": {},
   "source": [
    "```SQL\n",
    "3. SELECT * FROM table_name;\n",
    "```\n",
    "```\n",
    "    * - means all columns\n",
    "```"
   ]
  },
  {
   "cell_type": "markdown",
   "metadata": {},
   "source": [
    "```SQL\n",
    "4. SELECT * FROM table_name LIMIT N;\n",
    "```\n",
    "```\n",
    "    'N' - number of querying rows\n",
    "```"
   ]
  },
  {
   "cell_type": "markdown",
   "metadata": {},
   "source": [
    "```SQL\n",
    "5. SELECT DISTINCT column_name FROM table_name;\n",
    "```\n",
    "```\n",
    "    * 'DISTINCT' - only unique values\n",
    "```"
   ]
  },
  {
   "cell_type": "markdown",
   "metadata": {},
   "source": [
    "```SQL\n",
    "6. SELECT COUNT (*) FROM table_name;\n",
    "```\n",
    "```\n",
    "    * COUNT - for counting rows\n",
    "    * If you want to count the number of non-missing values in a particular column, you can call COUNT on just that column\n",
    "```"
   ]
  },
  {
   "cell_type": "markdown",
   "metadata": {},
   "source": [
    "```SQL\n",
    "7. SELECT COUNT(DISTINCT column_name) FROM table_name;\n",
    "```\n",
    "```\n",
    "    * To count the number of unique values in a column\n",
    "```"
   ]
  },
  {
   "cell_type": "markdown",
   "metadata": {},
   "source": [
    "## Chapter 2. Filtering rows"
   ]
  },
  {
   "cell_type": "markdown",
   "metadata": {},
   "source": [
    "```SQL\n",
    "8. SELECT column_name FROM table_name WHERE condition;\n",
    "```\n",
    "```\n",
    "    * Condition: column_value ? querying_value\n",
    "        * = equal\n",
    "        * <> not equal\n",
    "        * < less than\n",
    "        * > greater than\n",
    "        * <= less than or equal to\n",
    "        * >= greater than or equal to\n",
    "```"
   ]
  },
  {
   "cell_type": "markdown",
   "metadata": {},
   "source": [
    "```SQL\n",
    "9. SELECT column_name FROM table_name WHERE condition1 AND condition2;\n",
    "```\n",
    "```\n",
    "    * You can add as many AND conditions as you need\n",
    "```"
   ]
  },
  {
   "cell_type": "markdown",
   "metadata": {},
   "source": [
    "```SQL\n",
    "10. SELECT column_name FROM table_name WHERE condition1 OR condition2;\n",
    "```"
   ]
  },
  {
   "cell_type": "markdown",
   "metadata": {},
   "source": [
    "```SQL\n",
    "11. SELECT column_name FROM table_name WHERE (condition1 OR condition2) AND (condition1 OR condition2);\n",
    "```"
   ]
  },
  {
   "cell_type": "markdown",
   "metadata": {},
   "source": [
    "```SQL\n",
    "12. SELECT column_name FROM table_name WHERE condition1 BETWEEN value1 AND value2;\n",
    "```\n",
    "```\n",
    "    * Filter values in a specified range\n",
    "```"
   ]
  },
  {
   "cell_type": "markdown",
   "metadata": {},
   "source": [
    "```SQL\n",
    "12. SELECT column_name FROM table_name WHERE condition1 IN (value1, value2, value3, ..., valueN);\n",
    "```"
   ]
  },
  {
   "cell_type": "markdown",
   "metadata": {},
   "source": [
    "```SQL\n",
    "13. SELECT COUNT (*) FROM table1 WHERE column1 IS NULL;\n",
    "```\n",
    "```\n",
    "    * Count the number of missing values in colmn1 in the table1\n",
    "    * NULL represents a missing or unknown value\n",
    "```"
   ]
  },
  {
   "cell_type": "markdown",
   "metadata": {},
   "source": [
    "```SQL\n",
    "14. SELECT column1\n",
    "    FROM table1\n",
    "    WHERE column1\n",
    "    LIKE 'Data%';\n",
    "```\n",
    "```\n",
    "    * Will return 'DataCamp', 'DataC', 'Data0', 'Data01234'\n",
    "    * LIKE / NOT LIKE with querying pattern\n",
    "    * % matches many characters\n",
    "    * _ matches single character\n",
    "```"
   ]
  },
  {
   "cell_type": "markdown",
   "metadata": {},
   "source": [
    "## Chapter 3. Aggregate Functions"
   ]
  },
  {
   "cell_type": "markdown",
   "metadata": {},
   "source": [
    "```SQL\n",
    "15. SELECT AVG(column1) FROM table1;\n",
    "```\n",
    "```\n",
    "    * AVG return average value\n",
    "    * MAX\n",
    "    * MIN\n",
    "    * SUM\n",
    "```"
   ]
  },
  {
   "cell_type": "markdown",
   "metadata": {},
   "source": [
    "```SQL\n",
    "16. SELECT (4 * 3);\n",
    "    SELECT (4 / 3);\n",
    "    SELECT (4.0 / 3.0) AS result;\n",
    "```\n",
    "```\n",
    "    * Multiplication returns 12\n",
    "    * Division integer by integer returns 3\n",
    "    * Division float by float returts 1.333\n",
    "```"
   ]
  },
  {
   "cell_type": "markdown",
   "metadata": {},
   "source": [
    "```SQL\n",
    "17. SELECT MAX(column1) AS max_column1,\n",
    "    SELECT MAX(column2) AS max_column2\n",
    "    FROM table1;\n",
    "```\n",
    "```\n",
    "    * Gives alias for 1st SELECT - max_column1\n",
    "    * Gives alias for 2nd SELECT - max_column2\n",
    "```"
   ]
  },
  {
   "cell_type": "markdown",
   "metadata": {},
   "source": [
    "```SQL\n",
    "18. SELECT COUNT(deathdate) * 100.0 / COUNT(*)\n",
    "    AS percentage_dead\n",
    "    FROM people;\n",
    "```\n",
    "```\n",
    "    * Get percentage of dead people\n",
    "```"
   ]
  },
  {
   "cell_type": "markdown",
   "metadata": {},
   "source": [
    "```SQL\n",
    "19. SELECT COUNT(deathdate) * 100.0 / COUNT(*)\n",
    "    AS percentage_dead\n",
    "    FROM people;\n",
    "```\n",
    "```\n",
    "    * Get the number of decades the films table covers\n",
    "```"
   ]
  },
  {
   "cell_type": "markdown",
   "metadata": {},
   "source": [
    "## Chapter 4. Sorting, grouping and joins"
   ]
  },
  {
   "cell_type": "markdown",
   "metadata": {},
   "source": [
    "```SQL\n",
    "20. SELECT column1\n",
    "    FROM table1\n",
    "    ORDER BY column2 DESC;\n",
    "```\n",
    "```\n",
    "    * ORDER BY sorts results in ascending or descending order (ascending by default or alphabetically a-z)\n",
    "    * ORDER BY can sort by the first column specified, then sort by the next, and so on\n",
    "    * To specify multiple columns you separate the column names with a comma\n",
    "    * The order of columns is important!\n",
    "```"
   ]
  },
  {
   "cell_type": "markdown",
   "metadata": {},
   "source": [
    "```SQL\n",
    "21. SELECT column1, count(*)\n",
    "    FROM table1\n",
    "    GROUP BY column1;\n",
    "```\n",
    "```\n",
    "    * ORDER BY always goes after GROUP BY\n",
    "```\n",
    "column1   | count\n",
    ":---------|:-------\n",
    " value1   | count1  \n",
    " value2   | count2"
   ]
  },
  {
   "cell_type": "markdown",
   "metadata": {},
   "source": [
    "```SQL\n",
    "22. SELECT release_year\n",
    "    FROM films\n",
    "    GROUP BY release_year\n",
    "    HAVING COUNT(title) > 10;\n",
    "```\n",
    "```\n",
    "    * Shows only those years in which more than 10 films were released\n",
    "    * HAVING is used instead of WHERE\n",
    "```"
   ]
  },
  {
   "cell_type": "markdown",
   "metadata": {},
   "source": [
    "```SQL\n",
    "23. SELECT release_year, AVG(budget) AS avg_budget,\n",
    "    AVG(gross) AS avg_gross\n",
    "    FROM films\n",
    "    WHERE release_year > 1990\n",
    "    GROUP BY release_year\n",
    "    HAVING AVG(budget) > 60000000\n",
    "    ORDER BY avg_gross DESC\n",
    "```"
   ]
  },
  {
   "cell_type": "markdown",
   "metadata": {},
   "source": [
    "```SQL\n",
    "24. SELECT country, AVG(budget) AS avg_budget, AVG(gross) AS avg_gross\n",
    "    FROM films\n",
    "    GROUP BY country\n",
    "    HAVING COUNT(country) > 10\n",
    "    ORDER BY country\n",
    "    LIMIT 5\n",
    "```\n",
    "```\n",
    "Get the country, average budget, and average gross take of countries that have made more than 10 films. Order the result by country name, and limit the number of results displayed to 5. You should alias the averages as avg_budget and avg_gross respectively\n",
    "```"
   ]
  },
  {
   "cell_type": "markdown",
   "metadata": {},
   "source": [
    "```SQL\n",
    "25. SELECT title, imdb_score\n",
    "    FROM films\n",
    "    JOIN reviews\n",
    "    ON films.id = reviews.film_id\n",
    "    WHERE title = 'To Kill a Mockingbird';\n",
    "```\n",
    "```\n",
    "In this case, you'd want to get the ID of the movie from the films table and then use it to get IMDB information from the reviews table\n",
    "```"
   ]
  },
  {
   "cell_type": "code",
   "execution_count": null,
   "metadata": {},
   "outputs": [],
   "source": []
  },
  {
   "cell_type": "code",
   "execution_count": null,
   "metadata": {},
   "outputs": [],
   "source": []
  }
 ],
 "metadata": {
  "kernelspec": {
   "display_name": "Python 3",
   "language": "python",
   "name": "python3"
  },
  "language_info": {
   "codemirror_mode": {
    "name": "ipython",
    "version": 3
   },
   "file_extension": ".py",
   "mimetype": "text/x-python",
   "name": "python",
   "nbconvert_exporter": "python",
   "pygments_lexer": "ipython3",
   "version": "3.7.3"
  }
 },
 "nbformat": 4,
 "nbformat_minor": 2
}
