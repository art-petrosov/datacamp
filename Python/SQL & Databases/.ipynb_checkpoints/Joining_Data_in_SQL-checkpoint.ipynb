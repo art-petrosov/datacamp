{
 "cells": [
  {
   "cell_type": "markdown",
   "metadata": {},
   "source": [
    "# Joining_Data_in_SQL"
   ]
  },
  {
   "cell_type": "code",
   "execution_count": 2,
   "metadata": {},
   "outputs": [],
   "source": [
    "import pandas as pd\n",
    "import numpy as np\n",
    "import matplotlib.pyplot as plt\n",
    "import warnings\n",
    "from jupyterthemes import jtplot\n",
    "\n",
    "jtplot.style()\n",
    "warnings.filterwarnings('ignore')\n",
    "%config InlineBackend.figure_format='retina'"
   ]
  },
  {
   "cell_type": "markdown",
   "metadata": {},
   "source": [
    "## 1. Introduction to joins"
   ]
  },
  {
   "cell_type": "markdown",
   "metadata": {},
   "source": [
    "### prime_ministers table\n",
    "\n",
    "```\n",
    "+-----------+---------------+-------------------------+\n",
    "| country   | continent     | prime_minister          |\n",
    "|-----------+---------------+-------------------------|\n",
    "| Egypt     | Africa        | Sherif Ismail           |\n",
    "| Portugal  | Europe        | Antonio Costa           |\n",
    "| Vietnam   | Asia          | Nguyen Xuan Phuc        |\n",
    "| Haiti     | North America | Jack Guy Lafontant      |\n",
    "| India     | Asia          | Narendra Modi           |\n",
    "| Australia | Oceania       | Malcolm Turnbull        |\n",
    "| Norway    | Europe        | Erna Solberg            |\n",
    "| Brunei    | Asia          | Hassanal Bolkiah        |\n",
    "| Oman      | Asia          | Qaboos bin Said al Said |\n",
    "| Spain     | Europe        | Mariano Rajoy           |\n",
    "+-----------+---------------+-------------------------+\n",
    "```"
   ]
  },
  {
   "cell_type": "markdown",
   "metadata": {},
   "source": [
    "### presidents table\n",
    "\n",
    "```SQL\n",
    "SELECT *\n",
    "  FROM presidents;\n",
    "```\n",
    "\n",
    "```\n",
    "+-----------+---------------+-------------------------+\n",
    "| country   | continent     | president               |\n",
    "|-----------+---------------+-------------------------|\n",
    "| Egypt     | Africa        | Abdel Fattah el-Sisi    |\n",
    "| Portugal  | Europe        | Marcelo Rebelo de Sousa |\n",
    "| Haiti     | North America | Jovenel Moise           |\n",
    "| Uruguay   | South America | Jose Mujica             |\n",
    "| Liberia   | Africa        | Ellen Johnson Sirleaf   |\n",
    "| Chile     | South America | Michelle Bachelet       |\n",
    "| Vietnam   | Asia          | Tran Dai Quang          |\n",
    "+-----------+---------------+-------------------------+\n",
    "```"
   ]
  },
  {
   "cell_type": "markdown",
   "metadata": {},
   "source": [
    "### INNER JOIN in SQL\n",
    "\n",
    "```SQL\n",
    "SELECT p1.country, p1.continent,\n",
    "       prime_minister, president\n",
    "  FROM prime_ministers AS p1\n",
    "    INNER JOIN presidents AS p2\n",
    "      ON p1.country = p2.country;\n",
    "```\n",
    "\n",
    "```\n",
    "+-----------+---------------+--------------------+-------------------------+\n",
    "| country   | continent     | prime_minister     | president               |\n",
    "|-----------+---------------+--------------------+-------------------------|\n",
    "| Egypt     | Africa        | Sherif Ismail      | Abdel Fattah el-Sisi    |\n",
    "| Portugal  | Europe        | Antonio Costa      | Marcelo Rebelo de Sousa |\n",
    "| Vietnam   | Asia          | Nguyen Xuan Phuc   | Tran Dai Quang          |\n",
    "| Haiti     | North America | Jack Guy Lafontant | Jovenel Moise           |\n",
    "+-----------+---------------+--------------------+-------------------------+\n",
    "```"
   ]
  },
  {
   "cell_type": "markdown",
   "metadata": {},
   "source": [
    "### №1 Inner join\n",
    "\n",
    "```SQL\n",
    "SELECT *\n",
    "  FROM cities\n",
    "```"
   ]
  },
  {
   "cell_type": "markdown",
   "metadata": {},
   "source": [
    "```SQL\n",
    "SELECT * \n",
    "  FROM cities\n",
    "  INNER JOIN countries\n",
    "    ON cities.country_code = countries.code;\n",
    "```"
   ]
  },
  {
   "cell_type": "markdown",
   "metadata": {},
   "source": [
    "```SQL\n",
    "SELECT cities.name AS city,\n",
    "       countries.name as country,\n",
    "       countries.region\n",
    "  FROM cities AS cities\n",
    "  INNER JOIN countries AS countries\n",
    "    ON cities.country_code = countries.code;\n",
    "```"
   ]
  },
  {
   "cell_type": "markdown",
   "metadata": {},
   "source": [
    "### №2 Inner join (2)"
   ]
  },
  {
   "cell_type": "markdown",
   "metadata": {},
   "source": [
    "```SQL\n",
    "SELECT c.code AS country_code, name, year, inflation_rate\n",
    "  FROM countries AS c\n",
    "  INNER JOIN economies AS e\n",
    "    ON c.code = e.code;\n",
    "```"
   ]
  },
  {
   "cell_type": "markdown",
   "metadata": {},
   "source": [
    "### №3 Inner join (3)\n",
    "\n",
    "```SQL\n",
    "SELECT c.code, c.name, c.region,\n",
    "       p.year, p.fertility_rate\n",
    "  FROM countries AS c\n",
    "  INNER JOIN populations AS p\n",
    "    ON c.code = p.country_code\n",
    "```"
   ]
  },
  {
   "cell_type": "markdown",
   "metadata": {},
   "source": [
    "```SQL\n",
    "SELECT c.code, name, region, e.year, fertility_rate, unemployment_rate\n",
    "  FROM countries AS c\n",
    "  INNER JOIN populations AS p\n",
    "    ON c.code = p.country_code\n",
    "  INNER JOIN economies AS e\n",
    "    ON c.code = e.code;\n",
    "```"
   ]
  },
  {
   "cell_type": "markdown",
   "metadata": {},
   "source": [
    "```SQL\n",
    "SELECT c.code, name, region, e.year,\n",
    "       fertility_rate, unemployment_rate\n",
    "  FROM countries AS c\n",
    "  INNER JOIN populations AS p\n",
    "    ON c.code = p.country_code\n",
    "  INNER JOIN economies AS e\n",
    "    ON c.code = e.code AND p.year = e.year;\n",
    "```"
   ]
  },
  {
   "cell_type": "markdown",
   "metadata": {},
   "source": [
    "## 2. INNER JOIN via USING"
   ]
  },
  {
   "cell_type": "markdown",
   "metadata": {},
   "source": [
    "### The INNER JOIN diagram again\n",
    "\n",
    "```SQL\n",
    "SELECT left_table.id AS L_id\n",
    "       left_table.val AS L_val\n",
    "       right_table.val AS R_val\n",
    "  FROM left_table\n",
    "  INNER JOIN right_table\n",
    "    ON left_table.id = right_tab\n",
    "```\n",
    "\n",
    "<img src='[17]Joining_Data_in_SQL/Pictures/The_INNER_JOIN_diagram_again.png' alt='The INNER JOIN diagram again' width=300 align='left'>"
   ]
  },
  {
   "cell_type": "markdown",
   "metadata": {},
   "source": [
    "### The INNER JOIN diagram with USING\n",
    "\n",
    "```SQL\n",
    "SELECT left_table.id AS L_id\n",
    "       left_table.val AS L_v\n",
    "       right_table.val AS R_\n",
    "  FROM left_table\n",
    "  INNER JOIN right_table\n",
    "    USING (id);\n",
    "```"
   ]
  },
  {
   "cell_type": "markdown",
   "metadata": {},
   "source": [
    "### Countries with prime ministers and presidents\n",
    "\n",
    "```SQL\n",
    "SELECT p1.country, p1.continent, prime_minister, president\n",
    "  FROM ___ AS p1\n",
    "  INNER JOIN ___ AS p2\n",
    "    ___ (___);\n",
    "```\n",
    "\n",
    "*One answer:*\n",
    "\n",
    "```SQL\n",
    "SELECT p1.country, p1.continent, prime_minister, president\n",
    "FROM presidents AS p1\n",
    "INNER JOIN prime_ministers AS p2\n",
    "USING (country);\n",
    "```\n",
    "\n",
    "```\n",
    "+-----------+---------------+--------------------+-------------------------+\n",
    "| country   | continent     | prime_minister     | president               |\n",
    "|-----------+---------------+--------------------+-------------------------|\n",
    "| Egypt     | Africa        | Sherif Ismail      | Abdel Fattah el-Sisi    |\n",
    "| Portugal  | Europe        | Antonio Costa      | Marcelo Rebelo de Sousa |\n",
    "| Vietnam   | Asia          | Nguyen Xuan Phuc   | Tran Dai Quang          |\n",
    "| Haiti     | North America | Jack Guy Lafontant | Jovenel Moise           |\n",
    "+-----------+---------------+--------------------+-------------------------+\n",
    "```"
   ]
  },
  {
   "cell_type": "markdown",
   "metadata": {},
   "source": [
    "### №4 Inner join with using\n",
    "\n",
    "```SQL\n",
    "SELECT c.name AS country,\n",
    "       continent,\n",
    "       l.name AS language,\n",
    "       official\n",
    "  FROM countries AS c\n",
    "  INNER JOIN languages AS l\n",
    "    USING(code)\n",
    "```"
   ]
  },
  {
   "cell_type": "markdown",
   "metadata": {},
   "source": [
    "## 3. Self-ish joins, justin CASE"
   ]
  },
  {
   "cell_type": "markdown",
   "metadata": {},
   "source": [
    "### Join a table to itself?\n",
    "\n",
    "```\n",
    "+-----------+---------------+-------------------------+\n",
    "| country   | continent     | prime_minister          |\n",
    "|-----------+---------------+-------------------------|\n",
    "| Egypt     | Africa        | Sherif Ismail           |\n",
    "| Portugal  | Europe        | Antonio Costa           |\n",
    "| Vietnam   | Asia          | Nguyen Xuan Phuc        |\n",
    "| Haiti     | North America | Jack Guy Lafontant      |\n",
    "| India     | Asia          | Narendra Modi           |\n",
    "| Australia | Oceania       | Malcolm Turnbull        |\n",
    "| Norway    | Europe        | Erna Solberg            |\n",
    "| Brunei    | Asia          | Hassanal Bolkiah        |\n",
    "| Oman      | Asia          | Qaboos bin Said al Said |\n",
    "| Spain     | Europe        | Mariano Rajoy           |\n",
    "+-----------+---------------+-------------------------+\n",
    "```"
   ]
  },
  {
   "cell_type": "markdown",
   "metadata": {},
   "source": [
    "### Join prime_ministers to itself?\n",
    "\n",
    "```SQL\n",
    "SELECT p1.country AS country1,\n",
    "       p2.country AS country2,\n",
    "       p1.continent\n",
    "  FROM prime_ministers AS p1\n",
    "  INNER JOIN prime_ministers AS p2\n",
    "    ON p1.continent = p2.continent\n",
    "LIMIT 14;\n",
    "```\n",
    "\n",
    "```\n",
    "+------------+------------+---------------+\n",
    "| country1   | country2   | continent     |\n",
    "|------------+------------+---------------|\n",
    "| Egypt      | Egypt      | Africa        |\n",
    "| Portugal   | Spain      | Europe        |\n",
    "| Portugal   | Norway     | Europe        |\n",
    "| Portugal   | Portugal   | Europe        |\n",
    "| Vietnam    | Oman       | Asia          |\n",
    "| Vietnam    | Brunei     | Asia          |\n",
    "| Vietnam    | India      | Asia          |\n",
    "| Vietnam    | Vietnam    | Asia          |\n",
    "| Haiti      | Haiti      | North America |\n",
    "| India      | Oman       | Asia          |\n",
    "| India      | Brunei     | Asia          |\n",
    "| India      | India      | Asia          |\n",
    "| India      | Vietnam    | Asia          |\n",
    "| Australia  | Australia  | Oceania       |\n",
    "+------------+------------+---------------+\n",
    "```"
   ]
  },
  {
   "cell_type": "markdown",
   "metadata": {},
   "source": [
    "### Finishing off the self-join on prime_ministers\n",
    "\n",
    "```SQL\n",
    "SELECT p1.country AS country1,\n",
    "       p2.country AS country2,\n",
    "       p1.continent\n",
    "  FROM prime_ministers AS p1\n",
    "  INNER JOIN prime_ministers AS p2\n",
    "    ON p1.continent = p2.continent AND p1.country <> p2.country\n",
    "LIMIT 13;\n",
    "```\n",
    "\n",
    "```\n",
    "+------------+------------+-------------+\n",
    "| country1   | country2   | continent   |\n",
    "|------------+------------+-------------|\n",
    "| Portugal   | Spain      | Europe      |\n",
    "| Portugal   | Norway     | Europe      |\n",
    "| Vietnam    | Oman       | Asia        |\n",
    "| Vietnam    | Brunei     | Asia        |\n",
    "| Vietnam    | India      | Asia        |\n",
    "| India      | Oman       | Asia        |\n",
    "| India      | Brunei     | Asia        |\n",
    "| India      | Vietnam    | Asia        |\n",
    "| Norway     | Spain      | Europe      |\n",
    "| Norway     | Portugal   | Europe      |\n",
    "| Brunei     | Oman       | Asia        |\n",
    "| Brunei     | India      | Asia        |\n",
    "| Brunei     | Vietnam    | Asia        |\n",
    "+------------+------------+-------------+\n",
    "```"
   ]
  },
  {
   "cell_type": "markdown",
   "metadata": {},
   "source": [
    "### CASE WHEN and THEN\n",
    "\n",
    "```\n",
    "+-----------+---------------+--------------+\n",
    "| name      | continent     | indep_year   |\n",
    "|-----------+---------------+--------------|\n",
    "| Australia | Oceania       | 1901         |\n",
    "| Brunei    | Asia          | 1984         |\n",
    "| Chile     | South America | 1810         |\n",
    "| Egypt     | Africa        | 1922         |\n",
    "| Haiti     | North America | 1804         |\n",
    "| India     | Asia          | 1947         |\n",
    "| Liberia   | Africa        | 1847         |\n",
    "| Norway    | Europe        | 1905         |\n",
    "| Oman      | Asia          | 1951         |\n",
    "| Portugal  | Europe        | 1143         |\n",
    "| Spain     | Europe        | 1492         |\n",
    "| Uruguay   | South America | 1828         |\n",
    "| Vietnam   | Asia          | 1945         |\n",
    "+-----------+---------------+--------------+\n",
    "```"
   ]
  },
  {
   "cell_type": "markdown",
   "metadata": {},
   "source": [
    "### Preparing indep_year_group in states\n",
    "\n",
    "```SQL\n",
    "SELECT name, continent, indep_year,\n",
    "    CASE WHEN ___ < ___ THEN 'before 1900'\n",
    "         WHEN indep_year <= 1930 THEN '___'\n",
    "         ELSE '___' END\n",
    "         AS indep_year_group\n",
    "  FROM states\n",
    "ORDER BY indep_year_group;\n",
    "```"
   ]
  },
  {
   "cell_type": "markdown",
   "metadata": {},
   "source": [
    "### Creating indep_year_group in states\n",
    "\n",
    "```SQL\n",
    "SELECT name, continent, indep_year,\n",
    "    CASE WHEN indep_year < 1900 THEN 'before 1900'\n",
    "         WHEN indep_year <= 1930 THEN 'between 1900 and 1930'\n",
    "         ELSE 'after 1930' END\n",
    "         AS indep_year_group\n",
    "  FROM states\n",
    "ORDER BY indep_year_group;\n",
    "```\n",
    "\n",
    "```\n",
    "+-----------+---------------+--------------+-----------------------+\n",
    "| name      | continent     | indep_year   | indep_year_group      |\n",
    "|-----------+---------------+--------------+-----------------------|\n",
    "| Brunei    | Asia          | 1984         | after 1930            |\n",
    "| India     | Asia          | 1947         | after 1930            |\n",
    "| Oman      | Asia          | 1951         | after 1930            |\n",
    "| Vietnam   | Asia          | 1945         | after 1930            |\n",
    "| Liberia   | Africa        | 1847         | before 1900           |\n",
    "| Chile     | South America | 1810         | before 1900           |\n",
    "| Haiti     | North America | 1804         | before 1900           |\n",
    "| Portugal  | Europe        | 1143         | before 1900           |\n",
    "| Spain     | Europe        | 1492         | before 1900           |\n",
    "| Uruguay   | South America | 1828         | before 1900           |\n",
    "| Norway    | Europe        | 1905         | between 1900 and 1930 |\n",
    "| Australia | Oceania       | 1901         | between 1900 and 1930 |\n",
    "| Egypt     | Africa        | 1922         | between 1900 and 1930 |\n",
    "+-----------+---------------+--------------+-----------------------+\n",
    "```"
   ]
  },
  {
   "cell_type": "markdown",
   "metadata": {},
   "source": [
    "### №5 Self-join\n",
    "\n",
    "```SQL\n",
    "SELECT p1.country_code,\n",
    "       p1.size AS size2010,\n",
    "       p2.size AS size2015\n",
    "  FROM populations AS p1\n",
    "  INNER JOIN populations AS p2\n",
    "    ON p1.country_code = p2.country_code;\n",
    "```"
   ]
  },
  {
   "cell_type": "markdown",
   "metadata": {},
   "source": [
    "```SQL\n",
    "SELECT p1.country_code,\n",
    "       p1.size AS size2010,\n",
    "       p2.size AS size2015\n",
    "  FROM populations as p1\n",
    "  INNER JOIN populations as p2\n",
    "    ON p1.country_code = p2.country_code\n",
    "        AND p1.year = p2.year - 5\n",
    "```"
   ]
  },
  {
   "cell_type": "markdown",
   "metadata": {},
   "source": [
    "```SQL\n",
    "SELECT p1.country_code,\n",
    "       p1.size AS size2010, \n",
    "       p2.size AS size2015,\n",
    "       ((p2.size - p1.size)/p1.size * 100.0) AS growth_perc\n",
    "FROM populations AS p1\n",
    "  INNER JOIN populations AS p2\n",
    "    ON p1.country_code = p2.country_code\n",
    "        AND p1.year = p2.year - 5;\n",
    "```"
   ]
  },
  {
   "cell_type": "markdown",
   "metadata": {},
   "source": [
    "### №6 Case when and then\n",
    "\n",
    "```SQL\n",
    "SELECT name, continent, code, surface_area,\n",
    "    CASE WHEN surface_area > 2000000 THEN 'large'\n",
    "        WHEN surface_area > 350000 THEN 'medium'\n",
    "        ELSE 'small' END\n",
    "        AS geosize_group\n",
    "FROM countries;\n",
    "```"
   ]
  },
  {
   "cell_type": "markdown",
   "metadata": {},
   "source": [
    "### №7 Inner challenge\n",
    "\n",
    "```SQL\n",
    "SELECT country_code, size,\n",
    "    CASE WHEN size > 50000000 THEN 'large'\n",
    "        WHEN size > 1000000 THEN 'medium'\n",
    "        ELSE 'small' END\n",
    "        AS popsize_group\n",
    "FROM populations\n",
    "WHERE year = 2015;\n",
    "```"
   ]
  },
  {
   "cell_type": "markdown",
   "metadata": {},
   "source": [
    "```SQL\n",
    "SELECT country_code, size,\n",
    "    CASE WHEN size > 50000000 THEN 'large'\n",
    "        WHEN size > 1000000 THEN 'medium'\n",
    "        ELSE 'small' END\n",
    "        AS popsize_group\n",
    "INTO pop_plus\n",
    "FROM populations\n",
    "WHERE year = 2015;\n",
    "\n",
    "SELECT *\n",
    "FROM pop_plus\n",
    "```"
   ]
  },
  {
   "cell_type": "markdown",
   "metadata": {},
   "source": [
    "```SQL\n",
    "SELECT country_code, size,\n",
    "  CASE WHEN size > 50000000\n",
    "            THEN 'large'\n",
    "       WHEN size > 1000000\n",
    "            THEN 'medium'\n",
    "       ELSE 'small' END\n",
    "       AS popsize_group\n",
    "INTO pop_plus       \n",
    "FROM populations\n",
    "WHERE year = 2015;\n",
    "\n",
    "SELECT name, continent, geosize_group, popsize_group\n",
    "FROM countries_plus AS c\n",
    "  INNER JOIN pop_plus AS p\n",
    "    ON c.code = p.country_code\n",
    "ORDER BY geosize_group;\n",
    "```"
   ]
  },
  {
   "cell_type": "markdown",
   "metadata": {},
   "source": [
    "## 4. LEFT and RIGHT JOINs"
   ]
  },
  {
   "cell_type": "markdown",
   "metadata": {},
   "source": [
    "<img src='[17]Joining_Data_in_SQL/Pictures/left_join.png' alt='LEFT JOIN' width=300 align='left'>"
   ]
  },
  {
   "cell_type": "markdown",
   "metadata": {},
   "source": [
    "### The syntax of a LEFT JOIN\n",
    "\n",
    "```SQL\n",
    "SELECT p1.country, prime_minister, president\n",
    "  FROM prime_ministers AS p1\n",
    "    LEFT JOIN presidents AS p2\n",
    "      ON p1.country = p2.country;\n",
    "```\n",
    "\n",
    "```\n",
    "+-----------+-------------------------+-------------------------+\n",
    "| country   | prime_minister          | president               |\n",
    "|-----------+-------------------------+-------------------------|\n",
    "| Egypt     | Sherif Ismail           | Abdel Fattah el-Sisi    |\n",
    "| Portugal  | Antonio Costa           | Marcelo Rebelo de Sousa |\n",
    "| Vietnam   | Nguyen Xuan Phuc        | Tran Dai Quang          |\n",
    "| Haiti     | Jack Guy Lafontant      | Jovenel Moise           |\n",
    "| India     | Narendra Modi           |                         |\n",
    "| Australia | Malcolm Turnbull        |                         |\n",
    "| Norway    | Erna Solberg            |                         |\n",
    "| Brunei    | Hassanal Bolkiah        |                         |\n",
    "| Oman      | Qaboos bin Said al Said |                         |\n",
    "| Spain     | Mariano Rajoy           |                         |\n",
    "+-----------+-------------------------+-------------------------+\n",
    "```"
   ]
  },
  {
   "cell_type": "markdown",
   "metadata": {},
   "source": [
    "### RIGHT JOIN\n",
    "\n",
    "```SQL\n",
    "SELECT right_table.id AS R_id,\n",
    "       left_table.val AS L_val,\n",
    "       right_table.val AS R_val\n",
    "  FROM left_table\n",
    "    RIGHT JOIN right_table\n",
    "      ON left_table.id = right_table.id;\n",
    "```\n",
    "\n",
    "<img src='[17]Joining_Data_in_SQL/Pictures/right_join.png' alt='RIGHT JOIN' width=300 align='left'>"
   ]
  },
  {
   "cell_type": "markdown",
   "metadata": {},
   "source": [
    "### №8 Left Join\n",
    "\n",
    "```SQL\n",
    "SELECT c1.name AS city, code,\n",
    "       c2.name AS country,\n",
    "       region, city_proper_pop\n",
    "FROM cities AS c1\n",
    "  INNER JOIN countries AS c2\n",
    "    ON c1.country_code = c2.code\n",
    "ORDER BY code DESC;\n",
    "```"
   ]
  },
  {
   "cell_type": "markdown",
   "metadata": {},
   "source": [
    "```SQL\n",
    "SELECT c1.name AS city, code,\n",
    "       c2.name AS country, region,\n",
    "       city_proper_pop\n",
    "FROM cities AS c1\n",
    "  LEFT JOIN countries AS c2\n",
    "    ON c1.country_code = c2.code\n",
    "ORDER BY code DESC;\n",
    "```"
   ]
  },
  {
   "cell_type": "markdown",
   "metadata": {},
   "source": [
    "### №9 Left join (2)\n",
    "\n",
    "```SQL\n",
    "SELECT c.name AS country, local_name,\n",
    "       l.name AS language, percent\n",
    "FROM countries AS c\n",
    "  INNER JOIN languages AS l\n",
    "    ON c.code = l.code\n",
    "ORDER BY country DESC;\n",
    "```"
   ]
  },
  {
   "cell_type": "markdown",
   "metadata": {},
   "source": [
    "```SQL\n",
    "SELECT c.name AS country, local_name,\n",
    "       l.name AS language, percent\n",
    "FROM countries AS c\n",
    "  LEFT JOIN languages AS l\n",
    "    ON c.code = l.code\n",
    "ORDER BY country DESC;\n",
    "```"
   ]
  },
  {
   "cell_type": "markdown",
   "metadata": {},
   "source": [
    "### №10 Left join (3)\n",
    "\n",
    "```SQL\n",
    "SELECT name, region, gdp_percapita\n",
    "FROM countries AS c\n",
    "  LEFT JOIN economies AS e\n",
    "    ON c.code = e.code\n",
    "WHERE year = 2010;\n",
    "```"
   ]
  },
  {
   "cell_type": "markdown",
   "metadata": {},
   "source": [
    "```SQL\n",
    "SELECT region, AVG(gdp_percapita) AS avg_gdp\n",
    "FROM countries AS c\n",
    "  LEFT JOIN economies AS e\n",
    "    ON c.code = e.code\n",
    "WHERE year = 2010\n",
    "GROUP BY region;\n",
    "```"
   ]
  },
  {
   "cell_type": "markdown",
   "metadata": {},
   "source": [
    "```SQL\n",
    "SELECT region, AVG(gdp_percapita) AS avg_gdp\n",
    "FROM countries AS c\n",
    "  LEFT JOIN economies AS e\n",
    "    ON c.code = e.code\n",
    "WHERE year = 2010\n",
    "GROUP BY region\n",
    "ORDER BY avg_gdp DESC;\n",
    "```"
   ]
  },
  {
   "cell_type": "markdown",
   "metadata": {},
   "source": [
    "### №11 Right join\n",
    "\n",
    "```SQL\n",
    "/*\n",
    "SELECT cities.name AS city, urbanarea_pop, countries.name AS country,\n",
    "       indep_year, languages.name AS language, percent\n",
    "FROM cities\n",
    "  LEFT JOIN countries\n",
    "    ON cities.country_code = countries.code\n",
    "  LEFT JOIN languages\n",
    "    ON countries.code = languages.code\n",
    "ORDER BY city, language;\n",
    "*/\n",
    "\n",
    "SELECT cities.name AS city,\n",
    "       urbanarea_pop,\n",
    "       countries.name AS country,\n",
    "       indep_year,\n",
    "       languages.name AS language,\n",
    "       percent\n",
    "FROM languages\n",
    "  RIGHT JOIN countries\n",
    "    ON languages.code = countries.code\n",
    "  RIGHT JOIN cities\n",
    "    ON countries.code = cities.country_code\n",
    "ORDER BY city, language;\n",
    "```"
   ]
  },
  {
   "cell_type": "markdown",
   "metadata": {},
   "source": [
    "## 5. FULL JOINs"
   ]
  },
  {
   "cell_type": "markdown",
   "metadata": {},
   "source": [
    "### INNER JOIN vs LEFT JOIN\n",
    "\n",
    "<img src='[17]Joining_Data_in_SQL/Pictures/INNER_JOIN_vs_LEFT_JOIN.png' alt='INNER JOIN vs LEFT JOIN' width=500 align='left'>"
   ]
  },
  {
   "cell_type": "markdown",
   "metadata": {},
   "source": [
    "### LEFT JOIN vs RIGHT JOIN\n",
    "\n",
    "<img src='[17]Joining_Data_in_SQL/Pictures/LEFT_JOIN_vs_RIGHT_JOIN.png' alt='LEFT JOIN vs RIGHT JOIN' width=500 align='left'>"
   ]
  },
  {
   "cell_type": "markdown",
   "metadata": {},
   "source": [
    "### FULL JOIN diagram\n",
    "\n",
    "```SQL\n",
    "SELECT left_table.id AS L_id,\n",
    "       right_table.id AS R_id,\n",
    "       left_table.val AS L_val,\n",
    "       right_table.val AS R_val\n",
    "  FROM left_table\n",
    "    FULL JOIN right_table\n",
    "      USING (id);\n",
    "```\n",
    "\n",
    "<img src='[17]Joining_Data_in_SQL/Pictures/FULL_JOIN.png' alt='FULL JOIN' width=300 align='left'>"
   ]
  },
  {
   "cell_type": "markdown",
   "metadata": {},
   "source": [
    "### FULL JOIN example using leaders database\n",
    "\n",
    "```SQL\n",
    "SELECT p1.country AS pm_co,\n",
    "       p2.country AS pres_co,\n",
    "       prime_minister, president\n",
    "  FROM prime_ministers AS p1\n",
    "    FULL JOIN presidents AS p2\n",
    "      ON p1.country = p2.country;\n",
    "```\n",
    "\n",
    "```\n",
    "+-----------+-----------+-------------------------+-------------------------+\n",
    "| pm_co     | pres_co   | prime_minister          | president               |\n",
    "|-----------+-----------+-------------------------+-------------------------|\n",
    "| Egypt     | Egypt     | Sherif Ismail           | Abdel Fattah el-Sisi    |\n",
    "| Portugal  | Portugal  | Antonio Costa           | Marcelo Rebelo de Sousa |\n",
    "| Vietnam   | Vietnam   | Nguyen Xuan Phuc        | Tran Dai Quang          |\n",
    "| Haiti     | Haiti     | Jack Guy Lafontant      | Jovenel Moise           |\n",
    "| India     |           | Narendra Modi           |                         |\n",
    "| Australia |           | Malcolm Turnbull        |                         |\n",
    "| Norway    |           | Erna Solberg            |                         |\n",
    "| Brunei    |           | Hassanal Bolkiah        |                         |\n",
    "| Oman      |           | Qaboos bin Said al Said |                         |\n",
    "| Spain     |           | Mariano Rajoy           |                         |\n",
    "|           | Uruguay   |                         | Jose Mujica             |\n",
    "|           | Chile     |                         | Michelle Bachelet       |\n",
    "|           | Liberia   |                         | Ellen Johnson Sirleaf   |\n",
    "+-----------+-----------+-------------------------+-------------------------+\n",
    "```"
   ]
  },
  {
   "cell_type": "markdown",
   "metadata": {},
   "source": [
    "### №12 Full join\n",
    "\n",
    "```SQL\n",
    "SELECT name AS country, code, region, basic_unit\n",
    "  FROM countries\n",
    "    FULL JOIN currencies\n",
    "      USING (code)\n",
    "WHERE region = 'North America' OR region IS NULL\n",
    "ORDER BY region;\n",
    "```"
   ]
  },
  {
   "cell_type": "markdown",
   "metadata": {},
   "source": [
    "```SQL\n",
    "SELECT name AS country, code, region, basic_unit\n",
    "  FROM countries\n",
    "    LEFT JOIN currencies\n",
    "      USING (code)\n",
    "WHERE region = 'North America' OR region IS NULL\n",
    "ORDER BY region;\n",
    "```"
   ]
  },
  {
   "cell_type": "markdown",
   "metadata": {},
   "source": [
    "```SQL\n",
    "SELECT name AS country, code, region, basic_unit\n",
    "  FROM countries\n",
    "    INNER JOIN currencies\n",
    "      USING (code)\n",
    "WHERE region = 'North America' OR region IS NULL\n",
    "ORDER BY region;\n",
    "```"
   ]
  },
  {
   "cell_type": "markdown",
   "metadata": {},
   "source": [
    "### №13 Full join (2)\n",
    "\n",
    "```SQL\n",
    "SELECT countries.name, code,\n",
    "       languages.name AS language\n",
    "  FROM languages\n",
    "    FULL JOIN countries\n",
    "      USING (code)\n",
    "WHERE countries.name LIKE 'V%' OR countries.name IS NULL\n",
    "ORDER BY countries.name;\n",
    "```"
   ]
  },
  {
   "cell_type": "markdown",
   "metadata": {},
   "source": [
    "```SQL\n",
    "SELECT countries.name, code,\n",
    "       languages.name AS language\n",
    "  FROM languages\n",
    "    LEFT JOIN countries\n",
    "      USING (code)\n",
    "WHERE countries.name LIKE 'V%' OR countries.name IS NULL\n",
    "ORDER BY countries.name;\n",
    "```"
   ]
  },
  {
   "cell_type": "markdown",
   "metadata": {},
   "source": [
    "```SQL\n",
    "SELECT countries.name, code, languages.name AS language\n",
    "  FROM languages\n",
    "    INNER JOIN countries\n",
    "      USING (code)\n",
    "WHERE countries.name LIKE 'V%' OR countries.name IS NULL\n",
    "ORDER BY countries.name;\n",
    "```"
   ]
  },
  {
   "cell_type": "markdown",
   "metadata": {},
   "source": [
    "### №14 Full join (3)\n",
    "\n",
    "```SQL\n",
    "SELECT c1.name AS country, region,\n",
    "       l.name AS language,\n",
    "       basic_unit, frac_unit\n",
    "FROM countries AS c1\n",
    "  FULL JOIN languages AS l\n",
    "    USING (code)\n",
    "  FULL JOIN currencies AS c2\n",
    "    USING (code)\n",
    "WHERE region LIKE 'M%nesia';\n",
    "```"
   ]
  },
  {
   "cell_type": "markdown",
   "metadata": {},
   "source": [
    "## 6. CROSSing the Rubicon"
   ]
  },
  {
   "cell_type": "markdown",
   "metadata": {},
   "source": [
    "<img src='[17]Joining_Data_in_SQL/Pictures/CROSSing_the_Rubicon.png' alt='CROSSing the Rubicon' width=250 align='left'>"
   ]
  },
  {
   "cell_type": "markdown",
   "metadata": {},
   "source": [
    "### Pairing prime ministers with presidents\n",
    "\n",
    "```SQL\n",
    "SELECT prime_minister, president\n",
    "  FROM prime_ministers AS p1\n",
    "    CROSS JOIN presidents AS p2\n",
    "WHERE p1.continent IN ('North America', 'Oceania');\n",
    "```\n",
    "\n",
    "```\n",
    "+--------------------+-------------------------+\n",
    "| prime_minister     | president               |\n",
    "|--------------------+-------------------------|\n",
    "| Jack Guy Lafontant | Abdel Fattah el-Sisi    |\n",
    "| Malcolm Turnbull   | Abdel Fattah el-Sisi    |\n",
    "| Jack Guy Lafontant | Marcelo Rebelo de Sousa |\n",
    "| Malcolm Turnbull   | Marcelo Rebelo de Sousa |\n",
    "| Jack Guy Lafontant | Jovenel Moise           |\n",
    "| Malcolm Turnbull   | Jovenel Moise           |\n",
    "| Jack Guy Lafontant | Jose Mujica             |\n",
    "| Malcolm Turnbull   | Jose Mujica             |\n",
    "| Jack Guy Lafontant | Ellen Johnson Sirleaf   |\n",
    "| Malcolm Turnbull   | Ellen Johnson Sirleaf   |\n",
    "| Jack Guy Lafontant | Michelle Bachelet       |\n",
    "| Malcolm Turnbull   | Michelle Bachelet       |\n",
    "| Jack Guy Lafontant | Tran Dai Quang          |\n",
    "| Malcolm Turnbull   | Tran Dai Quang          |\n",
    "+--------------------+-------------------------+\n",
    "```"
   ]
  },
  {
   "cell_type": "markdown",
   "metadata": {},
   "source": [
    "### №15 A table of two cities\n",
    "\n",
    "```SQL\n",
    "SELECT c.name AS city, l.name AS language\n",
    "  FROM cities AS c        \n",
    "    CROSS JOIN languages AS l\n",
    "WHERE c.name LIKE 'Hyder%';\n",
    "```"
   ]
  },
  {
   "cell_type": "markdown",
   "metadata": {},
   "source": [
    "```SQL\n",
    "SELECT c.name AS city, l.name AS language\n",
    "  FROM cities AS c\n",
    "    INNER JOIN languages AS l\n",
    "      ON c.country_code = l.code\n",
    "WHERE c.name LIKE 'Hyder%';\n",
    "```"
   ]
  },
  {
   "cell_type": "markdown",
   "metadata": {},
   "source": [
    "### №16 Outer challenge\n",
    "\n",
    "```SQL\n",
    "SELECT name AS country, region, life_expectancy AS life_exp\n",
    "  FROM countries AS c\n",
    "    FULL JOIN populations AS p\n",
    "      ON c.code = p.country_code\n",
    "WHERE year = 2010\n",
    "ORDER BY life_exp\n",
    "LIMIT 5\n",
    "```"
   ]
  },
  {
   "cell_type": "markdown",
   "metadata": {},
   "source": [
    "## 7. State of the UNION"
   ]
  },
  {
   "cell_type": "markdown",
   "metadata": {},
   "source": [
    "### Set Theory Venn Diagrams\n",
    "\n",
    "<img src='[17]Joining_Data_in_SQL/Pictures/Set_Theory_Venn_Diagrams.png' alt='Set Theory Venn Diagrams' width=400 align='left'>"
   ]
  },
  {
   "cell_type": "markdown",
   "metadata": {},
   "source": [
    "<img src='[17]Joining_Data_in_SQL/Pictures/UNION_example.png' alt='UNION example' width=200 align='left'>"
   ]
  },
  {
   "cell_type": "markdown",
   "metadata": {},
   "source": [
    "<img src='[17]Joining_Data_in_SQL/Pictures/UNION_ALL_example.png' alt='UNION ALL example' width=200 align='left'>"
   ]
  },
  {
   "cell_type": "markdown",
   "metadata": {},
   "source": [
    "### monarchs table\n",
    "\n",
    "```SQL\n",
    "SELECT *\n",
    "  FROM monarchs;\n",
    "```\n",
    "\n",
    "```\n",
    "+-----------+-------------+-------------------------+\n",
    "| country   | continent   | monarch                 |\n",
    "|-----------+-------------+-------------------------|\n",
    "| Brunei    | Asia        | Hassanal Bolkiah        |\n",
    "| Oman      | Asia        | Qaboos bin Said al Said |\n",
    "| Norway    | Europe      | Harald V                |\n",
    "| Spain     | Europe      | Felipe VI               |\n",
    "+-----------+-------------+-------------------------+\n",
    "```"
   ]
  },
  {
   "cell_type": "markdown",
   "metadata": {},
   "source": [
    "### All prime ministers and monarchs\n",
    "\n",
    "```SQL\n",
    "SELECT prime_minister AS leader, country\n",
    "  FROM prime_ministers\n",
    "    UNION\n",
    "SELECT monarch, country\n",
    "  FROM monarchs\n",
    "ORDER BY country;\n",
    "```\n",
    "\n",
    "```\n",
    "+-------------------------+-----------+\n",
    "| leader                  | country   |\n",
    "|-------------------------+-----------|\n",
    "| Malcolm Turnbull        | Australia |\n",
    "| Hassanal Bolkiah        | Brunei    |\n",
    "| Sherif Ismail           | Egypt     |\n",
    "| Jack Guy Lafontant      | Haiti     |\n",
    "| Narendra Modi           | India     |\n",
    "| Harald V                | Norway    |\n",
    "| Erna Solberg            | Norway    |\n",
    "| Qaboos bin Said al Said | Oman      |\n",
    "| Antonio Costa           | Portugal  |\n",
    "| Mariano Rajoy           | Spain     |\n",
    "| Felipe VI               | Spain     |\n",
    "| Nguyen Xuan Phuc        | Vietnam   |\n",
    "+-------------------------+-----------+\n",
    "```"
   ]
  },
  {
   "cell_type": "markdown",
   "metadata": {},
   "source": [
    "### UNION ALL with leaders\n",
    "\n",
    "```SQL\n",
    "SELECT prime_minister AS leader, country\n",
    "  FROM prime_ministers\n",
    "    UNION ALL\n",
    "SELECT monarch, country\n",
    "  FROM monarchs\n",
    "ORDER BY country\n",
    "LIMIT 10;\n",
    "```\n",
    "\n",
    "```\n",
    "+-------------------------+-----------+\n",
    "| leader                  | country   |\n",
    "|-------------------------+-----------|\n",
    "| Malcolm Turnbull        | Australia |\n",
    "| Hassanal Bolkiah        | Brunei    |\n",
    "| Hassanal Bolkiah        | Brunei    |\n",
    "| Sherif Ismail           | Egypt     |\n",
    "| Jack Guy Lafontant      | Haiti     |\n",
    "| Narendra Modi           | India     |\n",
    "| Erna Solberg            | Norway    |\n",
    "| Harald V                | Norway    |\n",
    "| Qaboos bin Said al Said | Oman      |\n",
    "| Qaboos bin Said al Said | Oman      |\n",
    "+-------------------------+-----------+\n",
    "```"
   ]
  },
  {
   "cell_type": "markdown",
   "metadata": {},
   "source": [
    "### №17 Union\n",
    "\n",
    "```SQL\n",
    "SELECT *\n",
    "  FROM economies2010\n",
    "\tUNION\n",
    "SELECT *\n",
    "  FROM economies2015\n",
    "ORDER BY code, year;\n",
    "```"
   ]
  },
  {
   "cell_type": "markdown",
   "metadata": {},
   "source": [
    "### №18 Union (2)\n",
    "\n",
    "```SQL\n",
    "SELECT country_code\n",
    "  FROM cities\n",
    "\tUNION\n",
    "SELECT code AS country_code\n",
    "  FROM currencies\n",
    "ORDER BY country_code;\n",
    "```"
   ]
  },
  {
   "cell_type": "markdown",
   "metadata": {},
   "source": [
    "### №19 Union all\n",
    "\n",
    "* Duplicates were removed from the previous two exercises by using UNION.\n",
    "* To include duplicates, you can use UNION ALL.\n",
    "\n",
    "```SQL\n",
    "SELECT code, year\n",
    "  FROM economies\n",
    "\tUNION ALL\n",
    "SELECT country_code\tAS code, year\n",
    "  FROM populations\n",
    "ORDER BY code, year;\n",
    "```"
   ]
  },
  {
   "cell_type": "markdown",
   "metadata": {},
   "source": [
    "## 8. INTERSECTional data science"
   ]
  },
  {
   "cell_type": "markdown",
   "metadata": {},
   "source": [
    "### INTERSECT diagram and SQL code\n",
    "<img src='[17]Joining_Data_in_SQL/Pictures/INTERSECT_diagram_and_SQL_code.png' alt='INTERSECT_diagram_and_SQL_code' align='left' width=250>\n",
    "\n",
    "```SQL\n",
    "    SELECT id\n",
    "      FROM left_one\n",
    "        INTERSECT\n",
    "    SELECT id\n",
    "      FROM right_one;\n",
    "```"
   ]
  },
  {
   "cell_type": "markdown",
   "metadata": {},
   "source": [
    "### Prime minister and president countries\n",
    "\n",
    "```SQL\n",
    "SELECT country\n",
    "  FROM prime_ministers\n",
    "    INTERSECT\n",
    "SELECT country\n",
    "  FROM presidents;\n",
    "```\n",
    "\n",
    "```\n",
    "+-----------+\n",
    "| country   |\n",
    "|-----------|\n",
    "| Portugal  |\n",
    "| Vietnam   |\n",
    "| Haiti     |\n",
    "| Egypt     |\n",
    "+-----------+\n",
    "```"
   ]
  },
  {
   "cell_type": "markdown",
   "metadata": {},
   "source": [
    "### INTERSECT on two elds\n",
    "\n",
    "```SQL\n",
    "SELECT country, prime_minister AS leader\n",
    "  FROM prime_ministers\n",
    "    INTERSECT\n",
    "SELECT country, president\n",
    "  FROM presidents;\n",
    "```\n",
    "\n",
    "```\n",
    "+-----------+----------+\n",
    "| country   | leader   |\n",
    "|-----------+----------|\n",
    "+-----------+----------+\n",
    "```"
   ]
  },
  {
   "cell_type": "markdown",
   "metadata": {},
   "source": [
    "### №20 Intersect\n",
    "\n",
    "```SQL\n",
    "SELECT code, year\n",
    "  FROM economies\n",
    "\tINTERSECT\n",
    "SELECT country_code AS code, year\n",
    "  FROM populations\n",
    "ORDER BY code, year;\n",
    "```"
   ]
  },
  {
   "cell_type": "markdown",
   "metadata": {},
   "source": [
    "### №21 Intersect (2)\n",
    "\n",
    "```SQL\n",
    "SELECT name\n",
    "  FROM countries\n",
    "\tINTERSECT\n",
    "SELECT name\n",
    "  FROM cities;\n",
    "```"
   ]
  },
  {
   "cell_type": "markdown",
   "metadata": {},
   "source": [
    "## 9. EXCEPTional"
   ]
  },
  {
   "cell_type": "markdown",
   "metadata": {},
   "source": [
    "### Monarchs that aren't prime ministers\n",
    "\n",
    "```SQL\n",
    "SELECT monarch, country\n",
    "  FROM monarchs\n",
    "    EXCEPT\n",
    "SELECT prime_minister, country\n",
    "  FROM prime_ministers;\n",
    "```\n",
    "\n",
    "```\n",
    "+-----------+-----------+\n",
    "| monarch   | country   |\n",
    "|-----------+-----------|\n",
    "| Harald V  | Norway    |\n",
    "| Felipe VI | Spain     |\n",
    "+-----------+-----------+\n",
    "```"
   ]
  },
  {
   "cell_type": "markdown",
   "metadata": {},
   "source": [
    "<img src='[17]Joining_Data_in_SQL/Pictures/Monarchs_that_arent_prime_ministers.png' alt='EXCEPT example' width=250 align='left'>"
   ]
  },
  {
   "cell_type": "markdown",
   "metadata": {},
   "source": [
    "### №22 Except\n",
    "\n",
    "```SQL\n",
    "SELECT name\n",
    "  FROM cities\n",
    "\tEXCEPT\n",
    "SELECT capital\n",
    "  FROM countries\n",
    "ORDER BY name;\n",
    "```"
   ]
  },
  {
   "cell_type": "markdown",
   "metadata": {},
   "source": [
    "### №23 Except (2)\n",
    "\n",
    "```SQL\n",
    "SELECT capital\n",
    "  FROM countries\n",
    "\tEXCEPT\n",
    "SELECT name\n",
    "  FROM cities\n",
    "ORDER BY capital;\n",
    "```"
   ]
  },
  {
   "cell_type": "markdown",
   "metadata": {},
   "source": [
    "## 10. Semi-joins and Anti-joins"
   ]
  },
  {
   "cell_type": "markdown",
   "metadata": {},
   "source": [
    "### Building up to a semi-join\n",
    "\n",
    "```SQL\n",
    "SELECT name\n",
    "  FROM states\n",
    " WHERE indep_year < 1800;\n",
    "```\n",
    "\n",
    "```\n",
    "+----------+\n",
    "| name     |\n",
    "|----------|\n",
    "| Portugal |\n",
    "| Spain    |\n",
    "+----------+\n",
    "```"
   ]
  },
  {
   "cell_type": "markdown",
   "metadata": {},
   "source": [
    "### Another step towards the semi-join\n",
    "\n",
    "```SQL\n",
    "SELECT president, country, continent\n",
    "  FROM presidents;\n",
    "```\n",
    "\n",
    "```\n",
    "+-------------------------+-----------+---------------+\n",
    "| president               | country   | continent     |\n",
    "|-------------------------+-----------+---------------|\n",
    "| Abdel Fattah el-Sisi    | Egypt     | Africa        |\n",
    "| Marcelo Rebelo de Sousa | Portugal  | Europe        |\n",
    "| Jovenel Moise           | Haiti     | North America |\n",
    "| Jose Mujica             | Uruguay   | South America |\n",
    "| Ellen Johnson Sirleaf   | Liberia   | Africa        |\n",
    "| Michelle Bachelet       | Chile     | South America |\n",
    "| Tran Dai Quang          | Vietnam   | Asia          |\n",
    "+-------------------------+-----------+---------------+\n",
    "```"
   ]
  },
  {
   "cell_type": "markdown",
   "metadata": {},
   "source": [
    "### Finish the semi-join (an intro to subqueries)\n",
    "\n",
    "```SQL\n",
    "SELECT president, country, continent\n",
    "  FROM presidents\n",
    " WHERE country IN\n",
    "(SELECT name\n",
    "   FROM states\n",
    "  WHERE indep_year < 1800);\n",
    "```\n",
    "\n",
    "```\n",
    "+-------------------------+-----------+-------------+\n",
    "| president               | country   | continent   |\n",
    "|-------------------------+-----------+-------------|\n",
    "| Marcelo Rebelo de Sousa | Portugal  | Europe      |\n",
    "+-------------------------+-----------+-------------+\n",
    "```"
   ]
  },
  {
   "cell_type": "markdown",
   "metadata": {},
   "source": [
    "### An anti-join\n",
    "\n",
    "```SQL\n",
    "SELECT president, country, continent\n",
    "  FROM presidents\n",
    " WHERE ___ LIKE '___'\n",
    "   AND country ___ IN\n",
    "        (SELECT name\n",
    "          FROM states\n",
    "          WHERE indep_year < 1800);\n",
    "```\n",
    "\n",
    "```SQL\n",
    "SELECT president, country, continent\n",
    "  FROM presidents\n",
    " WHERE continent LIKE '%America'\n",
    "   AND country NOT IN\n",
    "        (SELECT name\n",
    "           FROM states\n",
    "          WHERE indep_year < 1800);\n",
    "```\n",
    "\n",
    "```\n",
    "+-------------------+-----------+---------------+\n",
    "| president         | country   | continent     |\n",
    "|-------------------+-----------+---------------|\n",
    "| Jovenel Moise     | Haiti     | North America |\n",
    "| Jose Mujica       | Uruguay   | South America |\n",
    "| Michelle Bachelet | Chile     | South America |\n",
    "+-------------------+-----------+---------------+\n",
    "```"
   ]
  },
  {
   "cell_type": "markdown",
   "metadata": {},
   "source": [
    "### Semi-join and anti-join diagrams\n",
    "\n",
    "<img src='[17]Joining_Data_in_SQL/Pictures/Semi-join_and_anti-join_diagrams.png' alt='Semi-join_and_anti-join_diagrams' width=500 align='left'>"
   ]
  },
  {
   "cell_type": "markdown",
   "metadata": {},
   "source": [
    "### №24 Semi-join\n",
    "\n",
    "```SQL\n",
    "SELECT code\n",
    "  FROM countries\n",
    " WHERE region = 'Middle East';\n",
    "```\n",
    "\n",
    "```SQL\n",
    "SELECT DISTINCT name\n",
    "  FROM languages\n",
    " ORDER BY name;\n",
    "```\n",
    "\n",
    "```SQL\n",
    "SELECT DISTINCT name \n",
    "  FROM languages\n",
    " WHERE code IN\n",
    "  (SELECT code\n",
    "     FROM countries\n",
    "    WHERE region = 'Middle East')\n",
    " ORDER BY name;\n",
    "```"
   ]
  },
  {
   "cell_type": "markdown",
   "metadata": {},
   "source": [
    "### №25 Relating semi-join to a tweaked inner join\n",
    "\n",
    "```SQL\n",
    "SELECT COUNT(name)\n",
    "  FROM countries\n",
    " WHERE continent = 'Oceania';\n",
    "```\n",
    "\n",
    "```SQL\n",
    "SELECT c1.code, name, basic_unit AS currency\n",
    "  FROM countries AS c1\n",
    "  \tRIGHT JOIN currencies AS c2\n",
    "    ON c1.code = c2.code\n",
    " WHERE continent = 'Oceania';\n",
    "```\n",
    "\n",
    "```SQL\n",
    "SELECT code, name\n",
    "  FROM countries\n",
    " WHERE continent = 'Oceania'\n",
    "   AND code NOT IN\n",
    "  \t(SELECT code\n",
    "  \t   FROM currencies);\n",
    "```"
   ]
  },
  {
   "cell_type": "markdown",
   "metadata": {},
   "source": [
    "### №26 Set theory challenge\n",
    "\n",
    "```SQL\n",
    "SELECT name\n",
    "  FROM cities AS c1\n",
    " WHERE c1.country_code IN\n",
    "    (\n",
    "    SELECT e.code\n",
    "      FROM economies AS e\n",
    "        UNION\n",
    "    SELECT DISTINCT c2.code\n",
    "      FROM currencies AS c2\n",
    "        EXCEPT\n",
    "    SELECT p.country_code\n",
    "      FROM populations AS p\n",
    "    );\n",
    "```"
   ]
  },
  {
   "cell_type": "markdown",
   "metadata": {},
   "source": [
    "## 11.Subqueries inside WHERE and SELECT clauses"
   ]
  },
  {
   "cell_type": "markdown",
   "metadata": {},
   "source": [
    "### Subquery inside WHERE clause set-up\n",
    "\n",
    "```\n",
    "+-----------+--------------+-------------+--------------------+\n",
    "| name      | indep_year   | fert_rate   | women_parli_perc   |\n",
    "|-----------+--------------+-------------+--------------------|\n",
    "| Australia | 1901         | 1.88        | 32.74              |\n",
    "| Brunei    | 1984         | 1.96        | 6.06               |\n",
    "| Chile     | 1810         | 1.8         | 15.82              |\n",
    "| Egypt     | 1922         | 2.7         | 14.9               |\n",
    "| Haiti     | 1804         | 3.03        | 2.74               |\n",
    "| India     | 1947         | 2.43        | 11.58              |\n",
    "| Liberia   | 1847         | 4.64        | 11.65              |\n",
    "| Norway    | 1905         | 1.93        | 39.6               |\n",
    "| Oman      | 1951         | 2.75        | 8.82               |\n",
    "| Portugal  | 1143         | 1.31        | 34.8               |\n",
    "| Spain     | 1492         | 1.53        | 38.64              |\n",
    "| Uruguay   | 1828         | 2.03        | 22.31              |\n",
    "| Vietnam   | 1945         | 1.7         | 24                 |\n",
    "+-----------+--------------+-------------+--------------------+\n",
    "```"
   ]
  },
  {
   "cell_type": "markdown",
   "metadata": {},
   "source": [
    "### Average fert_rate\n",
    "\n",
    "```SQL\n",
    "SELECT AVG(fert_rate)\n",
    "  FROM states;\n",
    "```\n",
    "\n",
    "```\n",
    "+---------+\n",
    "| avg     |\n",
    "|---------|\n",
    "| 2.28385 |\n",
    "+---------+\n",
    "```"
   ]
  },
  {
   "cell_type": "markdown",
   "metadata": {},
   "source": [
    "### Asian countries below average `fert_rate`\n",
    "\n",
    "```SQL\n",
    "SELECT name, fert_rate\n",
    "  FROM states\n",
    " WHERE continent = 'Asia'\n",
    "```\n",
    "\n",
    "```SQL\n",
    "SELECT name, fert_rate\n",
    "  FROM states\n",
    " WHERE continent = 'Asia'\n",
    "   AND fert_rate <\n",
    "    (\n",
    "    SELECT AVG(fert_rate)\n",
    "      FROM states\n",
    "    );\n",
    "```\n",
    "\n",
    "```\n",
    "+---------+-------------+\n",
    "| name    | fert_rate   |\n",
    "|---------+-------------|\n",
    "| Brunei  | 1.96        |\n",
    "| Vietnam | 1.7         |\n",
    "+---------+-------------+\n",
    "```"
   ]
  },
  {
   "cell_type": "markdown",
   "metadata": {},
   "source": [
    "### Subqueries inside SELECT clauses - setup\n",
    "\n",
    "```SQL\n",
    "SELECT DISTINCT continent\n",
    "  FROM prime_ministers;\n",
    "```\n",
    "\n",
    "```\n",
    "+---------------+\n",
    "| continent     |\n",
    "|---------------|\n",
    "| Africa        |\n",
    "| Asia          |\n",
    "| Europe        |\n",
    "| North America |\n",
    "| Oceania       |\n",
    "+---------------+\n",
    "```"
   ]
  },
  {
   "cell_type": "markdown",
   "metadata": {},
   "source": [
    "### Subquery inside SELECT clause - complete\n",
    "\n",
    "```SQL\n",
    "SELECT DISTINCT continent,\n",
    "    (SELECT COUNT(*)\n",
    "       FROM states\n",
    "      WHERE prime_ministers.continent = states.continent) AS countries_num\n",
    "FROM prime_ministers;\n",
    "```\n",
    "\n",
    "```\n",
    "+---------------+-----------------+\n",
    "| continent     | countries_num   |\n",
    "|---------------+-----------------|\n",
    "| Africa        | 2               |\n",
    "| Asia          | 4               |\n",
    "| Europe        | 3               |\n",
    "| North America | 1               |\n",
    "| Oceania       | 1               |\n",
    "+---------------+-----------------+\n",
    "```"
   ]
  },
  {
   "cell_type": "markdown",
   "metadata": {},
   "source": [
    "### №27 Subquery inside where\n",
    "\n",
    "```SQL\n",
    "SELECT AVG(life_expectancy)\n",
    "  FROM populations\n",
    " WHERE year = 2015\n",
    "```\n",
    "\n",
    "```SQL\n",
    "SELECT *\n",
    "  FROM populations\n",
    " WHERE life_expectancy > 1.15 * \n",
    "    (\n",
    "    SELECT AVG(life_expectancy)\n",
    "      FROM populations\n",
    "     WHERE year = 2015\n",
    "    )\n",
    "   AND year = 2015;\n",
    "```"
   ]
  },
  {
   "cell_type": "markdown",
   "metadata": {},
   "source": [
    "### №28 Subquery inside where (2)\n",
    "\n",
    "```SQL\n",
    "SELECT name, country_code, urbanarea_pop\n",
    "  FROM cities\n",
    " WHERE name IN\n",
    "    (\n",
    "    SELECT capital\n",
    "      FROM countries\n",
    "    )\n",
    " ORDER BY urbanarea_pop DESC;\n",
    "```"
   ]
  },
  {
   "cell_type": "markdown",
   "metadata": {},
   "source": [
    "### №29 Subquery inside select\n",
    "\n",
    "```SQL\n",
    "SELECT countries.name AS country, COUNT(*) AS cities_num\n",
    "  FROM cities\n",
    "    INNER JOIN countries\n",
    "    ON countries.code = cities.country_code\n",
    "GROUP BY country\n",
    "ORDER BY cities_num DESC, country\n",
    "LIMIT 9;\n",
    "```\n",
    "\n",
    "```SQL\n",
    "SELECT countries.name AS country,\n",
    "    (\n",
    "    SELECT COUNT(*)\n",
    "      FROM cities AS cities\n",
    "     WHERE countries.code = cities.country_code\n",
    "    ) AS cities_num\n",
    "  FROM countries AS countries\n",
    "ORDER BY cities_num DESC, country\n",
    "LIMIT 9;\n",
    "```"
   ]
  },
  {
   "cell_type": "markdown",
   "metadata": {},
   "source": [
    "## 12. Subquery inside the FROM clause"
   ]
  },
  {
   "cell_type": "markdown",
   "metadata": {},
   "source": [
    "### Build-up\n",
    "\n",
    "```SQL\n",
    "SELECT continent, MAX(women_parli_perc) AS max_perc\n",
    "  FROM states\n",
    "GROUP BY continent\n",
    "ORDER BY continent;\n",
    "```\n",
    "\n",
    "```\n",
    "+---------------+------------+\n",
    "| continent     | max_perc   |\n",
    "|---------------+------------|\n",
    "| Africa        | 14.9       |\n",
    "| Asia          | 24         |\n",
    "| Europe        | 39.6       |\n",
    "| North America | 2.74       |\n",
    "| Oceania       | 32.74      |\n",
    "| South America | 22.31      |\n",
    "+---------------+------------+\n",
    "```"
   ]
  },
  {
   "cell_type": "markdown",
   "metadata": {},
   "source": [
    "### Focusing on records in monarchs\n",
    "\n",
    "```SQL\n",
    "SELECT monarchs.continent\n",
    "  FROM monarchs, states\n",
    "WHERE monarchs.continent = states.continent\n",
    "ORDER BY continent;\n",
    "```\n",
    "\n",
    "```\n",
    "+-------------+\n",
    "| continent   |\n",
    "|-------------|\n",
    "| Asia        |\n",
    "| Asia        |\n",
    "| Asia        |\n",
    "| Asia        |\n",
    "| Asia        |\n",
    "| Asia        |\n",
    "| Asia        |\n",
    "| Asia        |\n",
    "| Europe      |\n",
    "| Europe      |\n",
    "| Europe      |\n",
    "| Europe      |\n",
    "| Europe      |\n",
    "| Europe      |\n",
    "+-------------+\n",
    "```"
   ]
  },
  {
   "cell_type": "markdown",
   "metadata": {},
   "source": [
    "### Finishing offthe subquery\n",
    "\n",
    "```SQL\n",
    "SELECT DISTINCT monarchs.continent, subquery.max_perc\n",
    "  FROM monarchs,\n",
    "    (\n",
    "    SELECT continent, MAX(women_parli_perc) AS max_perc\n",
    "       FROM states\n",
    "     GROUP BY continent\n",
    "    ) AS subquery\n",
    "WHERE monarchs.continent = subquery.continent\n",
    "ORDER BY continent;\n",
    "```\n",
    "\n",
    "```\n",
    "+-------------+------------+\n",
    "| continent   | max_perc   |\n",
    "|-------------+------------|\n",
    "| Asia        | 24         |\n",
    "| Europe      | 39.6       |\n",
    "+-------------+------------+\n",
    "```"
   ]
  },
  {
   "cell_type": "markdown",
   "metadata": {},
   "source": [
    "### №30 Subquery inside from\n",
    "\n",
    "```SQL\n",
    "SELECT code, COUNT(name) AS lang_num\n",
    "  FROM languages\n",
    "GROUP BY code;\n",
    "```\n",
    "\n",
    "```SQL\n",
    "SELECT local_name, subquery.lang_num\n",
    "  FROM countries AS countries,\n",
    "    (\n",
    "    SELECT code, COUNT(name) AS lang_num\n",
    "      FROM languages\n",
    "     GROUP BY code\n",
    "    ) AS subquery\n",
    "WHERE countries.code = subquery.code\n",
    "ORDER BY lang_num DESC;\n",
    "```"
   ]
  },
  {
   "cell_type": "markdown",
   "metadata": {},
   "source": [
    "### №31 Advanced subquery\n",
    "\n",
    "```SQL\n",
    "SELECT name, continent, inflation_rate\n",
    "  FROM countries\n",
    "  \tINNER JOIN economies\n",
    "    USING(code)\n",
    "WHERE year = 2015;\n",
    "```\n",
    "\n",
    "```SQL\n",
    "SELECT MAX(inflation_rate) AS max_inf\n",
    "  FROM (\n",
    "        SELECT name, continent, inflation_rate\n",
    "          FROM countries\n",
    "              INNER JOIN economies\n",
    "          USING(code)\n",
    "          WHERE year = 2015) AS subquery\n",
    "GROUP BY continent;\n",
    "```\n",
    "\n",
    "```SQL\n",
    "SELECT name, continent, inflation_rate\n",
    "  FROM countries\n",
    "\tINNER JOIN economies\n",
    "\tUSING(code)\n",
    "  WHERE year = 2015\n",
    "    AND inflation_rate IN (\n",
    "        SELECT MAX(inflation_rate) AS max_inf\n",
    "        FROM (\n",
    "              SELECT name, continent, inflation_rate\n",
    "                FROM countries\n",
    "                  INNER JOIN economies\n",
    "                  USING(code)\n",
    "               WHERE year = 2015) AS subquery\n",
    "               GROUP BY continent\n",
    "             );\n",
    "```"
   ]
  },
  {
   "cell_type": "markdown",
   "metadata": {},
   "source": [
    "### №32 Subquery challenge\n",
    "\n",
    "```SQL\n",
    "SELECT code, inflation_rate, unemployment_rate\n",
    "  FROM economies\n",
    "  WHERE year = 2015 AND code NOT IN\n",
    "  \t(SELECT code\n",
    "  \t   FROM countries\n",
    "  \t  WHERE (gov_form = 'Constitutional Monarchy' \n",
    "             OR gov_form LIKE '%Republic%'))\n",
    "ORDER BY inflation_rate;\n",
    "```"
   ]
  },
  {
   "cell_type": "markdown",
   "metadata": {},
   "source": [
    "## 13. Course Review"
   ]
  },
  {
   "cell_type": "markdown",
   "metadata": {},
   "source": [
    "### Types of joins\n",
    "\n",
    "* INNER JOIN\n",
    "    * Self-joins\n",
    "* OUTER JOIN\n",
    "    * LEFT JOIN\n",
    "    * RIGHT JOIN\n",
    "    * FULL JOIN\n",
    "* CROSS JOIN\n",
    "* Semi-join / Anti-join"
   ]
  },
  {
   "cell_type": "markdown",
   "metadata": {},
   "source": [
    "### INNER JOIN vs LEFT JOIN\n",
    "\n",
    "<img src='[17]Joining_Data_in_SQL/Pictures/INNER_JOIN_vs_LEFT_JOIN.png' alt='INNER JOIN vs LEFT JOIN' width=500 align='left'>"
   ]
  },
  {
   "cell_type": "markdown",
   "metadata": {},
   "source": [
    "### RIGHT JOIN vs FULL JOIN\n",
    "\n",
    "<img src='[17]Joining_Data_in_SQL/Pictures/RIGHT_JOIN_vs_FULL_JOIN.png' alt='RIGHT JOIN vs FULL JOIN' width=500 align='left'>"
   ]
  },
  {
   "cell_type": "markdown",
   "metadata": {},
   "source": [
    "### CROSS JOIN with code\n",
    "\n",
    "<img src='[17]Joining_Data_in_SQL/Pictures/CROSSing_the_Rubicon.png' alt='CROSSing the Rubicon' width=200 align='left'>\n",
    "\n",
    "```SQL\n",
    "    SELECT table1.id AS id1,\n",
    "           table2.id AS id2\n",
    "    FROM table1\n",
    "    CROSS JOIN table2;\n",
    "```"
   ]
  },
  {
   "cell_type": "markdown",
   "metadata": {},
   "source": [
    "### Set Theory Clauses\n",
    "\n",
    "<img src='[17]Joining_Data_in_SQL/Pictures/Set_Theory_Clauses.png' alt='Set Theory Clauses' width=500 align='left'>"
   ]
  },
  {
   "cell_type": "markdown",
   "metadata": {},
   "source": [
    "### Semi-joins and Anti-joins\n",
    "\n",
    "<img src='[17]Joining_Data_in_SQL/Pictures/Semi-join_and_anti-join_diagrams.png' alt='Semi-joins and Anti-joins' width=500 align='left'>"
   ]
  },
  {
   "cell_type": "markdown",
   "metadata": {},
   "source": [
    "### Types of basic subqueries\n",
    "\n",
    "* Subqueries insideWHERE clauses\n",
    "* Subqueries inside SELECT clauses\n",
    "* Subqueries inside FROM clauses"
   ]
  },
  {
   "cell_type": "markdown",
   "metadata": {},
   "source": [
    "### №33 Final challenge\n",
    "\n",
    "```SQL\n",
    "SELECT DISTINCT c.name, e.total_investment, e.imports\n",
    "  FROM economies AS e\n",
    "    LEFT JOIN countries AS c\n",
    "      ON (e.code = c.code\n",
    "        AND e.code IN (\n",
    "          SELECT l.code\n",
    "            FROM languages AS l\n",
    "           WHERE official = 'true'\n",
    "        ) )\n",
    "  WHERE year = 2015 AND region = 'Central America'\n",
    "ORDER BY c.name;\n",
    "```"
   ]
  },
  {
   "cell_type": "markdown",
   "metadata": {},
   "source": [
    "### №34 Final challenge (2)\n",
    "\n",
    "```SQL\n",
    "SELECT region, continent, AVG(fertility_rate) AS avg_fert_rate\n",
    "  FROM countries AS c\n",
    "    INNER JOIN populations AS p\n",
    "      ON c.code = p.country_code\n",
    "  WHERE year = 2015\n",
    "GROUP BY region, continent\n",
    "ORDER BY avg_fert_rate;\n",
    "```"
   ]
  },
  {
   "cell_type": "markdown",
   "metadata": {},
   "source": [
    "### №35 Final challenge (3)\n",
    "\n",
    "```SQL\n",
    "SELECT name, country_code, city_proper_pop, metroarea_pop,  \n",
    "      city_proper_pop / metroarea_pop * 100 AS city_perc\n",
    "  FROM cities\n",
    "  WHERE name IN\n",
    "    (SELECT capital\n",
    "     FROM countries\n",
    "     WHERE (continent = 'Europe'\n",
    "        OR continent LIKE '%America'))\n",
    "       AND metroarea_pop IS NOT NULL\n",
    "ORDER BY city_perc DESC\n",
    "LIMIT 10;\n",
    "```"
   ]
  },
  {
   "cell_type": "code",
   "execution_count": null,
   "metadata": {},
   "outputs": [],
   "source": []
  },
  {
   "cell_type": "code",
   "execution_count": null,
   "metadata": {},
   "outputs": [],
   "source": []
  }
 ],
 "metadata": {
  "kernelspec": {
   "display_name": "Python 3",
   "language": "python",
   "name": "python3"
  },
  "language_info": {
   "codemirror_mode": {
    "name": "ipython",
    "version": 3
   },
   "file_extension": ".py",
   "mimetype": "text/x-python",
   "name": "python",
   "nbconvert_exporter": "python",
   "pygments_lexer": "ipython3",
   "version": "3.7.3"
  }
 },
 "nbformat": 4,
 "nbformat_minor": 2
}
