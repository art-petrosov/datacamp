{
 "cells": [
  {
   "cell_type": "markdown",
   "metadata": {},
   "source": [
    "# Cleaning Data in Python"
   ]
  },
  {
   "cell_type": "code",
   "execution_count": 1,
   "metadata": {},
   "outputs": [],
   "source": [
    "import pandas as pd\n",
    "import numpy as np\n",
    "import matplotlib.pyplot as plt\n",
    "import warnings\n",
    "from jupyterthemes import jtplot\n",
    "\n",
    "jtplot.style()\n",
    "warnings.filterwarnings('ignore')\n",
    "%config InlineBackend.figure_format='retina'"
   ]
  },
  {
   "cell_type": "markdown",
   "metadata": {},
   "source": [
    "## Chapter 1. Exploring your data"
   ]
  },
  {
   "cell_type": "markdown",
   "metadata": {},
   "source": [
    "## 1. Diagnose data for cleaning"
   ]
  },
  {
   "cell_type": "markdown",
   "metadata": {},
   "source": [
    "### Cleaning data\n",
    "\n",
    "* Prepare data for analysis\n",
    "* Data almost never comes in clean\n",
    "* Diagnose your data for problems"
   ]
  },
  {
   "cell_type": "markdown",
   "metadata": {},
   "source": [
    "### Common data problems\n",
    "\n",
    "* Inconsistent column names\n",
    "* Missing data\n",
    "* Outliers\n",
    "* Duplicate rows\n",
    "* Untidy\n",
    "* Need to process columns\n",
    "* Column types can signal unexpected data values"
   ]
  },
  {
   "cell_type": "markdown",
   "metadata": {},
   "source": [
    "### Unclean data\n",
    "\n",
    "* Column name inconsistencies\n",
    "* Missing data\n",
    "* Country names are in French\n",
    "\n",
    "<img src='Cleaning_Data_in_Python/Pictures/Unclean_data.png' alt='Unclean data' width=400 align='left'>"
   ]
  },
  {
   "cell_type": "markdown",
   "metadata": {},
   "source": [
    "### Load your data"
   ]
  },
  {
   "cell_type": "code",
   "execution_count": 2,
   "metadata": {},
   "outputs": [],
   "source": [
    "df_literacy = pd.read_csv('Cleaning_Data_in_Python/literacy_birth_rate.csv')"
   ]
  },
  {
   "cell_type": "markdown",
   "metadata": {},
   "source": [
    "### Visually inspect"
   ]
  },
  {
   "cell_type": "code",
   "execution_count": 3,
   "metadata": {},
   "outputs": [
    {
     "data": {
      "text/html": [
       "<div>\n",
       "<style scoped>\n",
       "    .dataframe tbody tr th:only-of-type {\n",
       "        vertical-align: middle;\n",
       "    }\n",
       "\n",
       "    .dataframe tbody tr th {\n",
       "        vertical-align: top;\n",
       "    }\n",
       "\n",
       "    .dataframe thead th {\n",
       "        text-align: right;\n",
       "    }\n",
       "</style>\n",
       "<table border=\"1\" class=\"dataframe\">\n",
       "  <thead>\n",
       "    <tr style=\"text-align: right;\">\n",
       "      <th></th>\n",
       "      <th>country</th>\n",
       "      <th>continent</th>\n",
       "      <th>female literacy</th>\n",
       "      <th>fertility</th>\n",
       "      <th>population</th>\n",
       "    </tr>\n",
       "  </thead>\n",
       "  <tbody>\n",
       "    <tr>\n",
       "      <th>0</th>\n",
       "      <td>Chine</td>\n",
       "      <td>ASI</td>\n",
       "      <td>90.5</td>\n",
       "      <td>1.769</td>\n",
       "      <td>1324655000</td>\n",
       "    </tr>\n",
       "    <tr>\n",
       "      <th>1</th>\n",
       "      <td>Inde</td>\n",
       "      <td>ASI</td>\n",
       "      <td>50.8</td>\n",
       "      <td>2.682</td>\n",
       "      <td>1139964932</td>\n",
       "    </tr>\n",
       "    <tr>\n",
       "      <th>2</th>\n",
       "      <td>USA</td>\n",
       "      <td>NAM</td>\n",
       "      <td>99.0</td>\n",
       "      <td>2.077</td>\n",
       "      <td>304060000</td>\n",
       "    </tr>\n",
       "    <tr>\n",
       "      <th>3</th>\n",
       "      <td>Indonésie</td>\n",
       "      <td>ASI</td>\n",
       "      <td>88.8</td>\n",
       "      <td>2.132</td>\n",
       "      <td>227345082</td>\n",
       "    </tr>\n",
       "    <tr>\n",
       "      <th>4</th>\n",
       "      <td>Brésil</td>\n",
       "      <td>LAT</td>\n",
       "      <td>90.2</td>\n",
       "      <td>1.827</td>\n",
       "      <td>191971506</td>\n",
       "    </tr>\n",
       "  </tbody>\n",
       "</table>\n",
       "</div>"
      ],
      "text/plain": [
       "     country continent  female literacy  fertility  population\n",
       "0      Chine       ASI             90.5      1.769  1324655000\n",
       "1       Inde       ASI             50.8      2.682  1139964932\n",
       "2        USA       NAM             99.0      2.077   304060000\n",
       "3  Indonésie       ASI             88.8      2.132   227345082\n",
       "4     Brésil       LAT             90.2      1.827   191971506"
      ]
     },
     "execution_count": 3,
     "metadata": {},
     "output_type": "execute_result"
    }
   ],
   "source": [
    "df_literacy.head()"
   ]
  },
  {
   "cell_type": "code",
   "execution_count": 4,
   "metadata": {},
   "outputs": [
    {
     "data": {
      "text/html": [
       "<div>\n",
       "<style scoped>\n",
       "    .dataframe tbody tr th:only-of-type {\n",
       "        vertical-align: middle;\n",
       "    }\n",
       "\n",
       "    .dataframe tbody tr th {\n",
       "        vertical-align: top;\n",
       "    }\n",
       "\n",
       "    .dataframe thead th {\n",
       "        text-align: right;\n",
       "    }\n",
       "</style>\n",
       "<table border=\"1\" class=\"dataframe\">\n",
       "  <thead>\n",
       "    <tr style=\"text-align: right;\">\n",
       "      <th></th>\n",
       "      <th>country</th>\n",
       "      <th>continent</th>\n",
       "      <th>female literacy</th>\n",
       "      <th>fertility</th>\n",
       "      <th>population</th>\n",
       "    </tr>\n",
       "  </thead>\n",
       "  <tbody>\n",
       "    <tr>\n",
       "      <th>158</th>\n",
       "      <td>Samoa</td>\n",
       "      <td>OCE</td>\n",
       "      <td>98.5</td>\n",
       "      <td>3.852</td>\n",
       "      <td>178869</td>\n",
       "    </tr>\n",
       "    <tr>\n",
       "      <th>159</th>\n",
       "      <td>Sao Tomé-et-Principe</td>\n",
       "      <td>AF</td>\n",
       "      <td>83.3</td>\n",
       "      <td>3.718</td>\n",
       "      <td>160174</td>\n",
       "    </tr>\n",
       "    <tr>\n",
       "      <th>160</th>\n",
       "      <td>Aruba</td>\n",
       "      <td>LAT</td>\n",
       "      <td>98.0</td>\n",
       "      <td>1.732</td>\n",
       "      <td>105455</td>\n",
       "    </tr>\n",
       "    <tr>\n",
       "      <th>161</th>\n",
       "      <td>Tonga</td>\n",
       "      <td>ASI</td>\n",
       "      <td>99.1</td>\n",
       "      <td>3.928</td>\n",
       "      <td>103566</td>\n",
       "    </tr>\n",
       "    <tr>\n",
       "      <th>162</th>\n",
       "      <td>Australia</td>\n",
       "      <td>OCE</td>\n",
       "      <td>96.0</td>\n",
       "      <td>1.930</td>\n",
       "      <td>2313000000</td>\n",
       "    </tr>\n",
       "  </tbody>\n",
       "</table>\n",
       "</div>"
      ],
      "text/plain": [
       "                  country continent  female literacy  fertility  population\n",
       "158                 Samoa       OCE             98.5      3.852      178869\n",
       "159  Sao Tomé-et-Principe        AF             83.3      3.718      160174\n",
       "160                 Aruba       LAT             98.0      1.732      105455\n",
       "161                 Tonga       ASI             99.1      3.928      103566\n",
       "162             Australia       OCE             96.0      1.930  2313000000"
      ]
     },
     "execution_count": 4,
     "metadata": {},
     "output_type": "execute_result"
    }
   ],
   "source": [
    "df_literacy.tail()"
   ]
  },
  {
   "cell_type": "code",
   "execution_count": 5,
   "metadata": {},
   "outputs": [
    {
     "data": {
      "text/plain": [
       "Index(['country', 'continent', 'female literacy', 'fertility', 'population'], dtype='object')"
      ]
     },
     "execution_count": 5,
     "metadata": {},
     "output_type": "execute_result"
    }
   ],
   "source": [
    "df_literacy.columns"
   ]
  },
  {
   "cell_type": "code",
   "execution_count": 6,
   "metadata": {},
   "outputs": [
    {
     "data": {
      "text/plain": [
       "(163, 5)"
      ]
     },
     "execution_count": 6,
     "metadata": {},
     "output_type": "execute_result"
    }
   ],
   "source": [
    "df_literacy.shape"
   ]
  },
  {
   "cell_type": "code",
   "execution_count": 7,
   "metadata": {},
   "outputs": [
    {
     "name": "stdout",
     "output_type": "stream",
     "text": [
      "<class 'pandas.core.frame.DataFrame'>\n",
      "RangeIndex: 163 entries, 0 to 162\n",
      "Data columns (total 5 columns):\n",
      "country            163 non-null object\n",
      "continent          163 non-null object\n",
      "female literacy    163 non-null float64\n",
      "fertility          163 non-null float64\n",
      "population         163 non-null int64\n",
      "dtypes: float64(2), int64(1), object(2)\n",
      "memory usage: 6.4+ KB\n"
     ]
    }
   ],
   "source": [
    "df_literacy.info()"
   ]
  },
  {
   "cell_type": "markdown",
   "metadata": {},
   "source": [
    "### №1 Loading and viewing your data\n",
    "\n",
    "* Read `'dob_job_application_filings_subset.csv'` into a DataFrame called `df`\n",
    "* Print the head and tail of `df`\n",
    "* Print the shape of `df` and its columns. Note: `.shape` and `.columns` are *attributes*, not *methods*, so you don't need to follow these with parentheses `()`\n",
    "* Notice the suspicious number of `0` values. Perhaps these represent missing data"
   ]
  },
  {
   "cell_type": "code",
   "execution_count": 8,
   "metadata": {},
   "outputs": [
    {
     "name": "stdout",
     "output_type": "stream",
     "text": [
      "       Job #  Doc #        Borough       House #  \\\n",
      "0  121577873      2      MANHATTAN  386            \n",
      "1  520129502      1  STATEN ISLAND  107            \n",
      "2  121601560      1      MANHATTAN  63             \n",
      "3  121601203      1      MANHATTAN  48             \n",
      "4  121601338      1      MANHATTAN  45             \n",
      "\n",
      "                        Street Name  Block  Lot    Bin # Job Type Job Status  \\\n",
      "0  PARK AVENUE SOUTH                   857   38  1016890       A2          D   \n",
      "1  KNOX PLACE                          342    1  5161350       A3          A   \n",
      "2  WEST 131 STREET                    1729    9  1053831       A2          Q   \n",
      "3  WEST 25TH STREET                    826   69  1015610       A2          D   \n",
      "4  WEST 29 STREET                      831    7  1015754       A3          D   \n",
      "\n",
      "   ...               Owner's Last Name             Owner's Business Name  \\\n",
      "0  ...  MIGLIORE                        MACKLOWE MANAGEMENT                \n",
      "1  ...  BLUMENBERG                      NA                                 \n",
      "2  ...  MARKOWITZ                       635 RIVERSIDE DRIVE NY LLC         \n",
      "3  ...  CASALE                          48 W 25 ST LLC C/O BERNSTEIN       \n",
      "4  ...  LEE                             HYUNG-HYANG REALTY CORP            \n",
      "\n",
      "  Owner's House Number          Owner'sHouse Street Name            City   \\\n",
      "0         126           EAST 56TH STREET                  NEW YORK          \n",
      "1         107           KNOX PLACE                        STATEN ISLAND     \n",
      "2         619           WEST 54TH STREET                  NEW YORK          \n",
      "3         150           WEST 30TH STREET                  NEW YORK          \n",
      "4         614           8 AVENUE                          NEW YORK          \n",
      "\n",
      "  State    Zip Owner'sPhone #  \\\n",
      "0    NY  10222     2125545837   \n",
      "1    NY  10314     3477398892   \n",
      "2    NY  10016     2127652555   \n",
      "3    NY  10001     2125941414   \n",
      "4    NY  10001     2019881222   \n",
      "\n",
      "                                     Job Description              DOBRunDate  \n",
      "0  GENERAL MECHANICAL & PLUMBING MODIFICATIONS AS...  04/26/2013 12:00:00 AM  \n",
      "1  BUILDERS PAVEMENT PLAN 143 LF.                ...  04/26/2013 12:00:00 AM  \n",
      "2  GENERAL CONSTRUCTION TO INCLUDE NEW PARTITIONS...  04/26/2013 12:00:00 AM  \n",
      "3  STRUCTURAL CHANGES ON THE 5TH FLOOR (MOONDOG E...  04/26/2013 12:00:00 AM  \n",
      "4  FILING HEREWITH FACADE REPAIR PLANS. WORK SCOP...  04/26/2013 12:00:00 AM  \n",
      "\n",
      "[5 rows x 82 columns]\n",
      "           Job #  Doc #        Borough       House #  \\\n",
      "12841  520143988      1  STATEN ISLAND  8              \n",
      "12842  121613833      1      MANHATTAN  724            \n",
      "12843  121681260      1      MANHATTAN  350            \n",
      "12844  320771704      1       BROOKLYN  499            \n",
      "12845  520143951      1  STATEN ISLAND  1755           \n",
      "\n",
      "                            Street Name  Block  Lot    Bin # Job Type  \\\n",
      "12841  NOEL STREET                        5382   20  5069722       A2   \n",
      "12842  10 AVENUE                          1059    4  1082503       A2   \n",
      "12843  MANHATTAN AVE.                     1848   31  1055849       A2   \n",
      "12844  UNION STREET                        431   43  3007185       A2   \n",
      "12845  RICHMOND ROAD                       887   28  5022931       A2   \n",
      "\n",
      "      Job Status  ...               Owner's Last Name  \\\n",
      "12841          D  ...  MALITO                           \n",
      "12842          D  ...  CROMAN                           \n",
      "12843          A  ...  ARYEH                            \n",
      "12844          D  ...  WIGGINS                          \n",
      "12845          D  ...  CAMBRIA                          \n",
      "\n",
      "                  Owner's Business Name Owner's House Number  \\\n",
      "12841  GENO MALITO                              8              \n",
      "12842  722-724 10TH AVENUE HOLDING LLC          632            \n",
      "12843  DG UWS LLC                               619            \n",
      "12844  N/A                                      77             \n",
      "12845  RONALD CAMBRIA                           1755           \n",
      "\n",
      "               Owner'sHouse Street Name            City  State    Zip  \\\n",
      "12841  NOEL STREET                       STATEN ISLAND      NY  10312   \n",
      "12842  BROADWAY                          NEW YORK           NY  10012   \n",
      "12843  WEST 54TH STREET                  NEW YORK           NY  10019   \n",
      "12844  PROSPECT PLACE                    BROOKLYN           NY  11217   \n",
      "12845  RICHMOND ROAD                     STATEN ISLAND      NY  10304   \n",
      "\n",
      "      Owner'sPhone #                                    Job Description  \\\n",
      "12841     9174685659  HORIZONTAL ENLARGEMENT OF ATTACHED ONE CAR GAR...   \n",
      "12842     2122289300  RENOVATION OF EXISTING APARTMENT #3B ON THIRD ...   \n",
      "12843     2127652555  REPLACE BURNER IN EXSTG BOILER WITH NEW GAS BU...   \n",
      "12844     9178487799  INSTALL NEW SPRINKLER SYSTEM THROUGHOUT THE BU...   \n",
      "12845     7184482740  INTERIOR PARTITIONS AND MINOR PLUMBING WORK TO...   \n",
      "\n",
      "                   DOBRunDate  \n",
      "12841  06/13/2013 12:00:00 AM  \n",
      "12842  06/13/2013 12:00:00 AM  \n",
      "12843  06/13/2013 12:00:00 AM  \n",
      "12844  06/13/2013 12:00:00 AM  \n",
      "12845  06/13/2013 12:00:00 AM  \n",
      "\n",
      "[5 rows x 82 columns]\n",
      "(12846, 82)\n",
      "Index(['Job #', 'Doc #', 'Borough', 'House #', 'Street Name', 'Block', 'Lot',\n",
      "       'Bin #', 'Job Type', 'Job Status', 'Job Status Descrp',\n",
      "       'Latest Action Date', 'Building Type', 'Community - Board', 'Cluster',\n",
      "       'Landmarked', 'Adult Estab', 'Loft Board', 'City Owned', 'Little e',\n",
      "       'PC Filed', 'eFiling Filed', 'Plumbing', 'Mechanical', 'Boiler',\n",
      "       'Fuel Burning', 'Fuel Storage', 'Standpipe', 'Sprinkler', 'Fire Alarm',\n",
      "       'Equipment', 'Fire Suppression', 'Curb Cut', 'Other',\n",
      "       'Other Description', 'Applicant's First Name', 'Applicant's Last Name',\n",
      "       'Applicant Professional Title', 'Applicant License #',\n",
      "       'Professional Cert', 'Pre- Filing Date', 'Paid', 'Fully Paid',\n",
      "       'Assigned', 'Approved', 'Fully Permitted', 'Initial Cost',\n",
      "       'Total Est. Fee', 'Fee Status', 'Existing Zoning Sqft',\n",
      "       'Proposed Zoning Sqft', 'Horizontal Enlrgmt', 'Vertical Enlrgmt',\n",
      "       'Enlargement SQ Footage', 'Street Frontage', 'ExistingNo. of Stories',\n",
      "       'Proposed No. of Stories', 'Existing Height', 'Proposed Height',\n",
      "       'Existing Dwelling Units', 'Proposed Dwelling Units',\n",
      "       'Existing Occupancy', 'Proposed Occupancy', 'Site Fill', 'Zoning Dist1',\n",
      "       'Zoning Dist2', 'Zoning Dist3', 'Special District 1',\n",
      "       'Special District 2', 'Owner Type', 'Non-Profit', 'Owner's First Name',\n",
      "       'Owner's Last Name', 'Owner's Business Name', 'Owner's House Number',\n",
      "       'Owner'sHouse Street Name', 'City ', 'State', 'Zip', 'Owner'sPhone #',\n",
      "       'Job Description', 'DOBRunDate'],\n",
      "      dtype='object')\n",
      "       Job #  Doc #        Borough  Initial Cost  Total Est. Fee  \\\n",
      "0  121577873      2      MANHATTAN       75000.0           986.0   \n",
      "1  520129502      1  STATEN ISLAND           0.0          1144.0   \n",
      "2  121601560      1      MANHATTAN       30000.0           522.5   \n",
      "3  121601203      1      MANHATTAN        1500.0           225.0   \n",
      "4  121601338      1      MANHATTAN       19500.0           389.5   \n",
      "\n",
      "   Existing Zoning Sqft  Proposed Zoning Sqft  Enlargement SQ Footage  \\\n",
      "0                     0                     0                       0   \n",
      "1                     0                     0                       0   \n",
      "2                     0                     0                       0   \n",
      "3                     0                     0                       0   \n",
      "4                     0                     0                       0   \n",
      "\n",
      "   Street Frontage  ExistingNo. of Stories  Proposed No. of Stories  \\\n",
      "0                0                       0                        0   \n",
      "1              143                       0                        0   \n",
      "2                0                       5                        5   \n",
      "3                0                      12                       12   \n",
      "4                0                       6                        6   \n",
      "\n",
      "   Existing Height  Proposed Height  \n",
      "0                0                0  \n",
      "1                0                0  \n",
      "2               54               54  \n",
      "3              120              120  \n",
      "4               64               64  \n",
      "           Job #  Doc #        Borough  Initial Cost  Total Est. Fee  \\\n",
      "12841  520143988      1  STATEN ISLAND       30700.0          448.62   \n",
      "12842  121613833      1      MANHATTAN       62000.0          852.10   \n",
      "12843  121681260      1      MANHATTAN      166000.0         1923.30   \n",
      "12844  320771704      1       BROOKLYN       65000.0          883.00   \n",
      "12845  520143951      1  STATEN ISLAND        9500.0          316.50   \n",
      "\n",
      "       Existing Zoning Sqft  Proposed Zoning Sqft  Enlargement SQ Footage  \\\n",
      "12841                  1490                  1782                     206   \n",
      "12842                     0                     0                       0   \n",
      "12843                     0                     0                       0   \n",
      "12844                     0                     0                       0   \n",
      "12845                     0                     0                       0   \n",
      "\n",
      "       Street Frontage  ExistingNo. of Stories  Proposed No. of Stories  \\\n",
      "12841                0                       1                        1   \n",
      "12842                0                       5                        5   \n",
      "12843                0                       6                        6   \n",
      "12844                0                       1                        1   \n",
      "12845                0                       1                        1   \n",
      "\n",
      "       Existing Height  Proposed Height  \n",
      "12841               10               10  \n",
      "12842               55               55  \n",
      "12843               64               64  \n",
      "12844               18               18  \n",
      "12845               18               18  \n"
     ]
    }
   ],
   "source": [
    "df = pd.read_csv('Cleaning_Data_in_Python/dob_job_application_filings_subset.csv')\n",
    "df_subset = df[['Job #', 'Doc #', 'Borough', 'Initial Cost', 'Total Est. Fee',\n",
    "                'Existing Zoning Sqft', 'Proposed Zoning Sqft', 'Enlargement SQ Footage',\n",
    "                'Street Frontage', 'ExistingNo. of Stories', 'Proposed No. of Stories',\n",
    "                'Existing Height', 'Proposed Height']]\n",
    "\n",
    "print(df.head())\n",
    "print(df.tail())\n",
    "\n",
    "print(df.shape)\n",
    "print(df.columns)\n",
    "\n",
    "print(df_subset.head())\n",
    "print(df_subset.tail())"
   ]
  },
  {
   "cell_type": "markdown",
   "metadata": {},
   "source": [
    "### №2 Further diagnosis\n",
    "\n",
    "* Print the info of `df`\n",
    "* Print the info of the subset dataframe, `df_subset`"
   ]
  },
  {
   "cell_type": "code",
   "execution_count": 9,
   "metadata": {
    "scrolled": true
   },
   "outputs": [
    {
     "name": "stdout",
     "output_type": "stream",
     "text": [
      "<class 'pandas.core.frame.DataFrame'>\n",
      "RangeIndex: 12846 entries, 0 to 12845\n",
      "Data columns (total 82 columns):\n",
      "Job #                           12846 non-null int64\n",
      "Doc #                           12846 non-null int64\n",
      "Borough                         12846 non-null object\n",
      "House #                         12846 non-null object\n",
      "Street Name                     12846 non-null object\n",
      "Block                           12846 non-null int64\n",
      "Lot                             12846 non-null int64\n",
      "Bin #                           12846 non-null int64\n",
      "Job Type                        12846 non-null object\n",
      "Job Status                      12846 non-null object\n",
      "Job Status Descrp               12846 non-null object\n",
      "Latest Action Date              12846 non-null object\n",
      "Building Type                   12846 non-null object\n",
      "Community - Board               12846 non-null object\n",
      "Cluster                         0 non-null float64\n",
      "Landmarked                      2067 non-null object\n",
      "Adult Estab                     1 non-null object\n",
      "Loft Board                      65 non-null object\n",
      "City Owned                      1419 non-null object\n",
      "Little e                        365 non-null object\n",
      "PC Filed                        0 non-null float64\n",
      "eFiling Filed                   12846 non-null object\n",
      "Plumbing                        12846 non-null object\n",
      "Mechanical                      12846 non-null object\n",
      "Boiler                          12846 non-null object\n",
      "Fuel Burning                    12846 non-null object\n",
      "Fuel Storage                    12846 non-null object\n",
      "Standpipe                       12846 non-null object\n",
      "Sprinkler                       12846 non-null object\n",
      "Fire Alarm                      12846 non-null object\n",
      "Equipment                       12846 non-null object\n",
      "Fire Suppression                12846 non-null object\n",
      "Curb Cut                        12846 non-null object\n",
      "Other                           12846 non-null object\n",
      "Other Description               12846 non-null object\n",
      "Applicant's First Name          12846 non-null object\n",
      "Applicant's Last Name           12846 non-null object\n",
      "Applicant Professional Title    12846 non-null object\n",
      "Applicant License #             12846 non-null object\n",
      "Professional Cert               6908 non-null object\n",
      "Pre- Filing Date                12846 non-null object\n",
      "Paid                            11961 non-null object\n",
      "Fully Paid                      11963 non-null object\n",
      "Assigned                        3817 non-null object\n",
      "Approved                        4062 non-null object\n",
      "Fully Permitted                 1495 non-null object\n",
      "Initial Cost                    12846 non-null float64\n",
      "Total Est. Fee                  12846 non-null float64\n",
      "Fee Status                      12846 non-null object\n",
      "Existing Zoning Sqft            12846 non-null int64\n",
      "Proposed Zoning Sqft            12846 non-null int64\n",
      "Horizontal Enlrgmt              231 non-null object\n",
      "Vertical Enlrgmt                142 non-null object\n",
      "Enlargement SQ Footage          12846 non-null int64\n",
      "Street Frontage                 12846 non-null int64\n",
      "ExistingNo. of Stories          12846 non-null int64\n",
      "Proposed No. of Stories         12846 non-null int64\n",
      "Existing Height                 12846 non-null int64\n",
      "Proposed Height                 12846 non-null int64\n",
      "Existing Dwelling Units         12846 non-null object\n",
      "Proposed Dwelling Units         12846 non-null object\n",
      "Existing Occupancy              12846 non-null object\n",
      "Proposed Occupancy              12846 non-null object\n",
      "Site Fill                       8641 non-null object\n",
      "Zoning Dist1                    11263 non-null object\n",
      "Zoning Dist2                    1652 non-null object\n",
      "Zoning Dist3                    88 non-null object\n",
      "Special District 1              3062 non-null object\n",
      "Special District 2              848 non-null object\n",
      "Owner Type                      0 non-null float64\n",
      "Non-Profit                      971 non-null object\n",
      "Owner's First Name              12846 non-null object\n",
      "Owner's Last Name               12846 non-null object\n",
      "Owner's Business Name           12846 non-null object\n",
      "Owner's House Number            12846 non-null object\n",
      "Owner'sHouse Street Name        12846 non-null object\n",
      "City                            12846 non-null object\n",
      "State                           12846 non-null object\n",
      "Zip                             12846 non-null int64\n",
      "Owner'sPhone #                  12846 non-null int64\n",
      "Job Description                 12699 non-null object\n",
      "DOBRunDate                      12846 non-null object\n",
      "dtypes: float64(5), int64(15), object(62)\n",
      "memory usage: 8.0+ MB\n",
      "None \n",
      "\n",
      "<class 'pandas.core.frame.DataFrame'>\n",
      "RangeIndex: 12846 entries, 0 to 12845\n",
      "Data columns (total 13 columns):\n",
      "Job #                      12846 non-null int64\n",
      "Doc #                      12846 non-null int64\n",
      "Borough                    12846 non-null object\n",
      "Initial Cost               12846 non-null float64\n",
      "Total Est. Fee             12846 non-null float64\n",
      "Existing Zoning Sqft       12846 non-null int64\n",
      "Proposed Zoning Sqft       12846 non-null int64\n",
      "Enlargement SQ Footage     12846 non-null int64\n",
      "Street Frontage            12846 non-null int64\n",
      "ExistingNo. of Stories     12846 non-null int64\n",
      "Proposed No. of Stories    12846 non-null int64\n",
      "Existing Height            12846 non-null int64\n",
      "Proposed Height            12846 non-null int64\n",
      "dtypes: float64(2), int64(10), object(1)\n",
      "memory usage: 1.3+ MB\n",
      "None\n"
     ]
    }
   ],
   "source": [
    "print(df.info(), '\\n')\n",
    "print(df_subset.info())"
   ]
  },
  {
   "cell_type": "markdown",
   "metadata": {},
   "source": [
    "## 2. Exploratory data analysis"
   ]
  },
  {
   "cell_type": "markdown",
   "metadata": {},
   "source": [
    "### Frequency counts\n",
    "\n",
    "* Count the number of unique values in our data"
   ]
  },
  {
   "cell_type": "markdown",
   "metadata": {},
   "source": [
    "### Data type of each column"
   ]
  },
  {
   "cell_type": "code",
   "execution_count": 10,
   "metadata": {},
   "outputs": [
    {
     "name": "stdout",
     "output_type": "stream",
     "text": [
      "<class 'pandas.core.frame.DataFrame'>\n",
      "RangeIndex: 163 entries, 0 to 162\n",
      "Data columns (total 5 columns):\n",
      "country            163 non-null object\n",
      "continent          163 non-null object\n",
      "female literacy    163 non-null float64\n",
      "fertility          163 non-null float64\n",
      "population         163 non-null int64\n",
      "dtypes: float64(2), int64(1), object(2)\n",
      "memory usage: 6.4+ KB\n"
     ]
    }
   ],
   "source": [
    "df_literacy.info()"
   ]
  },
  {
   "cell_type": "markdown",
   "metadata": {},
   "source": [
    "### Frequency counts: continent"
   ]
  },
  {
   "cell_type": "code",
   "execution_count": 11,
   "metadata": {},
   "outputs": [
    {
     "data": {
      "text/plain": [
       "AF     49\n",
       "ASI    47\n",
       "EUR    36\n",
       "LAT    24\n",
       "OCE     5\n",
       "NAM     2\n",
       "Name: continent, dtype: int64"
      ]
     },
     "execution_count": 11,
     "metadata": {},
     "output_type": "execute_result"
    }
   ],
   "source": [
    "df_literacy.continent.value_counts(dropna=False)"
   ]
  },
  {
   "cell_type": "code",
   "execution_count": 12,
   "metadata": {},
   "outputs": [
    {
     "data": {
      "text/plain": [
       "AF     49\n",
       "ASI    47\n",
       "EUR    36\n",
       "LAT    24\n",
       "OCE     5\n",
       "NAM     2\n",
       "Name: continent, dtype: int64"
      ]
     },
     "execution_count": 12,
     "metadata": {},
     "output_type": "execute_result"
    }
   ],
   "source": [
    "df_literacy['continent'].value_counts(dropna=False)"
   ]
  },
  {
   "cell_type": "markdown",
   "metadata": {},
   "source": [
    "### Frequency counts: country"
   ]
  },
  {
   "cell_type": "code",
   "execution_count": 13,
   "metadata": {},
   "outputs": [
    {
     "data": {
      "text/plain": [
       "Brésil         1\n",
       "Belgium        1\n",
       "Ouzbékistan    1\n",
       "Finland        1\n",
       "Guatemala      1\n",
       "Name: country, dtype: int64"
      ]
     },
     "execution_count": 13,
     "metadata": {},
     "output_type": "execute_result"
    }
   ],
   "source": [
    "df_literacy.country.value_counts(dropna=False).head()"
   ]
  },
  {
   "cell_type": "markdown",
   "metadata": {},
   "source": [
    "### Frequency counts: fertility"
   ]
  },
  {
   "cell_type": "code",
   "execution_count": 14,
   "metadata": {},
   "outputs": [
    {
     "data": {
      "text/plain": [
       "3.371    2\n",
       "1.854    2\n",
       "1.436    2\n",
       "1.841    2\n",
       "1.393    2\n",
       "Name: fertility, dtype: int64"
      ]
     },
     "execution_count": 14,
     "metadata": {},
     "output_type": "execute_result"
    }
   ],
   "source": [
    "df_literacy.fertility.value_counts(dropna=False).head()"
   ]
  },
  {
   "cell_type": "markdown",
   "metadata": {},
   "source": [
    "### Frequency counts: population"
   ]
  },
  {
   "cell_type": "code",
   "execution_count": 15,
   "metadata": {},
   "outputs": [
    {
     "data": {
      "text/plain": [
       "166111487    1\n",
       "4926877      1\n",
       "9720694      1\n",
       "5493621      1\n",
       "59832179     1\n",
       "Name: population, dtype: int64"
      ]
     },
     "execution_count": 15,
     "metadata": {},
     "output_type": "execute_result"
    }
   ],
   "source": [
    "df_literacy.population.value_counts(dropna=False).head()"
   ]
  },
  {
   "cell_type": "markdown",
   "metadata": {},
   "source": [
    "### Summary statistics\n",
    "\n",
    "* Numeric columns\n",
    "* Outliers\n",
    "    * Considerably higher or lower\n",
    "    * Require further investigation"
   ]
  },
  {
   "cell_type": "markdown",
   "metadata": {},
   "source": [
    "### Summary statistics: Numeric data"
   ]
  },
  {
   "cell_type": "code",
   "execution_count": 16,
   "metadata": {},
   "outputs": [
    {
     "data": {
      "text/plain": [
       "166111487    1\n",
       "4926877      1\n",
       "9720694      1\n",
       "5493621      1\n",
       "59832179     1\n",
       "Name: population, dtype: int64"
      ]
     },
     "execution_count": 16,
     "metadata": {},
     "output_type": "execute_result"
    }
   ],
   "source": [
    "df_literacy.population.value_counts(dropna=False).head()"
   ]
  },
  {
   "cell_type": "markdown",
   "metadata": {},
   "source": [
    "### №3 Calculating summary statistics\n",
    "\n",
    "*Use the `.describe()` method on it in the IPython Shell and select the statement below that is* **False**\n",
    "\n",
    "* The mean of `'Proposed No. of Stories'` is `8.144325`\n",
    "* The standard deviation of `'Existing Height'` is `146.917360`\n",
    "* There are `12846` entries in the DataFrame\n",
    "* *The standard deviation of `'Street Frontage'` is `11.874080`*\n",
    "* The maximum of `'Proposed Height'` is `4200`"
   ]
  },
  {
   "cell_type": "code",
   "execution_count": 17,
   "metadata": {},
   "outputs": [
    {
     "data": {
      "text/html": [
       "<div>\n",
       "<style scoped>\n",
       "    .dataframe tbody tr th:only-of-type {\n",
       "        vertical-align: middle;\n",
       "    }\n",
       "\n",
       "    .dataframe tbody tr th {\n",
       "        vertical-align: top;\n",
       "    }\n",
       "\n",
       "    .dataframe thead th {\n",
       "        text-align: right;\n",
       "    }\n",
       "</style>\n",
       "<table border=\"1\" class=\"dataframe\">\n",
       "  <thead>\n",
       "    <tr style=\"text-align: right;\">\n",
       "      <th></th>\n",
       "      <th>Job #</th>\n",
       "      <th>Doc #</th>\n",
       "      <th>Block</th>\n",
       "      <th>Lot</th>\n",
       "      <th>Bin #</th>\n",
       "      <th>Cluster</th>\n",
       "      <th>PC Filed</th>\n",
       "      <th>Initial Cost</th>\n",
       "      <th>Total Est. Fee</th>\n",
       "      <th>Existing Zoning Sqft</th>\n",
       "      <th>Proposed Zoning Sqft</th>\n",
       "      <th>Enlargement SQ Footage</th>\n",
       "      <th>Street Frontage</th>\n",
       "      <th>ExistingNo. of Stories</th>\n",
       "      <th>Proposed No. of Stories</th>\n",
       "      <th>Existing Height</th>\n",
       "      <th>Proposed Height</th>\n",
       "      <th>Owner Type</th>\n",
       "      <th>Zip</th>\n",
       "      <th>Owner'sPhone #</th>\n",
       "    </tr>\n",
       "  </thead>\n",
       "  <tbody>\n",
       "    <tr>\n",
       "      <th>count</th>\n",
       "      <td>1.284600e+04</td>\n",
       "      <td>12846.000000</td>\n",
       "      <td>12846.000000</td>\n",
       "      <td>12846.000000</td>\n",
       "      <td>1.284600e+04</td>\n",
       "      <td>0.0</td>\n",
       "      <td>0.0</td>\n",
       "      <td>1.284600e+04</td>\n",
       "      <td>1.284600e+04</td>\n",
       "      <td>1.284600e+04</td>\n",
       "      <td>1.284600e+04</td>\n",
       "      <td>12846.000000</td>\n",
       "      <td>12846.000000</td>\n",
       "      <td>12846.000000</td>\n",
       "      <td>12846.000000</td>\n",
       "      <td>12846.000000</td>\n",
       "      <td>12846.000000</td>\n",
       "      <td>0.0</td>\n",
       "      <td>1.284600e+04</td>\n",
       "      <td>1.284600e+04</td>\n",
       "    </tr>\n",
       "    <tr>\n",
       "      <th>mean</th>\n",
       "      <td>2.426788e+08</td>\n",
       "      <td>1.162930</td>\n",
       "      <td>2703.834735</td>\n",
       "      <td>623.303441</td>\n",
       "      <td>2.314997e+06</td>\n",
       "      <td>NaN</td>\n",
       "      <td>NaN</td>\n",
       "      <td>1.803139e+05</td>\n",
       "      <td>2.894909e+03</td>\n",
       "      <td>1.439973e+03</td>\n",
       "      <td>2.007286e+03</td>\n",
       "      <td>46.101432</td>\n",
       "      <td>3.069360</td>\n",
       "      <td>8.062354</td>\n",
       "      <td>8.144325</td>\n",
       "      <td>94.022809</td>\n",
       "      <td>94.917562</td>\n",
       "      <td>NaN</td>\n",
       "      <td>1.210268e+06</td>\n",
       "      <td>5.025739e+09</td>\n",
       "    </tr>\n",
       "    <tr>\n",
       "      <th>std</th>\n",
       "      <td>1.312507e+08</td>\n",
       "      <td>0.514937</td>\n",
       "      <td>3143.002812</td>\n",
       "      <td>2000.934794</td>\n",
       "      <td>1.399062e+06</td>\n",
       "      <td>NaN</td>\n",
       "      <td>NaN</td>\n",
       "      <td>7.961524e+06</td>\n",
       "      <td>1.213534e+05</td>\n",
       "      <td>3.860757e+04</td>\n",
       "      <td>4.081570e+04</td>\n",
       "      <td>784.216569</td>\n",
       "      <td>37.246034</td>\n",
       "      <td>11.874080</td>\n",
       "      <td>11.843492</td>\n",
       "      <td>146.917360</td>\n",
       "      <td>146.580666</td>\n",
       "      <td>NaN</td>\n",
       "      <td>1.343588e+07</td>\n",
       "      <td>2.738212e+09</td>\n",
       "    </tr>\n",
       "    <tr>\n",
       "      <th>min</th>\n",
       "      <td>1.036438e+08</td>\n",
       "      <td>1.000000</td>\n",
       "      <td>1.000000</td>\n",
       "      <td>0.000000</td>\n",
       "      <td>1.000003e+06</td>\n",
       "      <td>NaN</td>\n",
       "      <td>NaN</td>\n",
       "      <td>0.000000e+00</td>\n",
       "      <td>0.000000e+00</td>\n",
       "      <td>0.000000e+00</td>\n",
       "      <td>0.000000e+00</td>\n",
       "      <td>0.000000</td>\n",
       "      <td>0.000000</td>\n",
       "      <td>0.000000</td>\n",
       "      <td>0.000000</td>\n",
       "      <td>0.000000</td>\n",
       "      <td>0.000000</td>\n",
       "      <td>NaN</td>\n",
       "      <td>8.300000e+02</td>\n",
       "      <td>0.000000e+00</td>\n",
       "    </tr>\n",
       "    <tr>\n",
       "      <th>25%</th>\n",
       "      <td>1.216206e+08</td>\n",
       "      <td>1.000000</td>\n",
       "      <td>836.000000</td>\n",
       "      <td>12.000000</td>\n",
       "      <td>1.035728e+06</td>\n",
       "      <td>NaN</td>\n",
       "      <td>NaN</td>\n",
       "      <td>0.000000e+00</td>\n",
       "      <td>2.250000e+02</td>\n",
       "      <td>0.000000e+00</td>\n",
       "      <td>0.000000e+00</td>\n",
       "      <td>0.000000</td>\n",
       "      <td>0.000000</td>\n",
       "      <td>1.000000</td>\n",
       "      <td>2.000000</td>\n",
       "      <td>20.000000</td>\n",
       "      <td>21.000000</td>\n",
       "      <td>NaN</td>\n",
       "      <td>1.001900e+04</td>\n",
       "      <td>2.126841e+09</td>\n",
       "    </tr>\n",
       "    <tr>\n",
       "      <th>50%</th>\n",
       "      <td>2.202645e+08</td>\n",
       "      <td>1.000000</td>\n",
       "      <td>1411.500000</td>\n",
       "      <td>32.000000</td>\n",
       "      <td>2.004234e+06</td>\n",
       "      <td>NaN</td>\n",
       "      <td>NaN</td>\n",
       "      <td>1.597500e+04</td>\n",
       "      <td>4.195000e+02</td>\n",
       "      <td>0.000000e+00</td>\n",
       "      <td>0.000000e+00</td>\n",
       "      <td>0.000000</td>\n",
       "      <td>0.000000</td>\n",
       "      <td>4.000000</td>\n",
       "      <td>4.000000</td>\n",
       "      <td>45.000000</td>\n",
       "      <td>45.000000</td>\n",
       "      <td>NaN</td>\n",
       "      <td>1.031000e+04</td>\n",
       "      <td>5.169379e+09</td>\n",
       "    </tr>\n",
       "    <tr>\n",
       "      <th>75%</th>\n",
       "      <td>3.208652e+08</td>\n",
       "      <td>1.000000</td>\n",
       "      <td>3355.000000</td>\n",
       "      <td>59.000000</td>\n",
       "      <td>3.343823e+06</td>\n",
       "      <td>NaN</td>\n",
       "      <td>NaN</td>\n",
       "      <td>6.790500e+04</td>\n",
       "      <td>9.297000e+02</td>\n",
       "      <td>0.000000e+00</td>\n",
       "      <td>0.000000e+00</td>\n",
       "      <td>0.000000</td>\n",
       "      <td>0.000000</td>\n",
       "      <td>9.000000</td>\n",
       "      <td>9.000000</td>\n",
       "      <td>105.000000</td>\n",
       "      <td>107.000000</td>\n",
       "      <td>NaN</td>\n",
       "      <td>1.122100e+04</td>\n",
       "      <td>7.186809e+09</td>\n",
       "    </tr>\n",
       "    <tr>\n",
       "      <th>max</th>\n",
       "      <td>5.400246e+08</td>\n",
       "      <td>9.000000</td>\n",
       "      <td>99999.000000</td>\n",
       "      <td>9078.000000</td>\n",
       "      <td>5.864852e+06</td>\n",
       "      <td>NaN</td>\n",
       "      <td>NaN</td>\n",
       "      <td>9.003000e+08</td>\n",
       "      <td>1.014000e+07</td>\n",
       "      <td>2.873107e+06</td>\n",
       "      <td>2.873107e+06</td>\n",
       "      <td>50384.000000</td>\n",
       "      <td>3160.000000</td>\n",
       "      <td>102.000000</td>\n",
       "      <td>102.000000</td>\n",
       "      <td>4200.000000</td>\n",
       "      <td>4200.000000</td>\n",
       "      <td>NaN</td>\n",
       "      <td>6.063135e+08</td>\n",
       "      <td>9.787266e+09</td>\n",
       "    </tr>\n",
       "  </tbody>\n",
       "</table>\n",
       "</div>"
      ],
      "text/plain": [
       "              Job #         Doc #         Block           Lot         Bin #  \\\n",
       "count  1.284600e+04  12846.000000  12846.000000  12846.000000  1.284600e+04   \n",
       "mean   2.426788e+08      1.162930   2703.834735    623.303441  2.314997e+06   \n",
       "std    1.312507e+08      0.514937   3143.002812   2000.934794  1.399062e+06   \n",
       "min    1.036438e+08      1.000000      1.000000      0.000000  1.000003e+06   \n",
       "25%    1.216206e+08      1.000000    836.000000     12.000000  1.035728e+06   \n",
       "50%    2.202645e+08      1.000000   1411.500000     32.000000  2.004234e+06   \n",
       "75%    3.208652e+08      1.000000   3355.000000     59.000000  3.343823e+06   \n",
       "max    5.400246e+08      9.000000  99999.000000   9078.000000  5.864852e+06   \n",
       "\n",
       "       Cluster  PC Filed  Initial Cost  Total Est. Fee  Existing Zoning Sqft  \\\n",
       "count      0.0       0.0  1.284600e+04    1.284600e+04          1.284600e+04   \n",
       "mean       NaN       NaN  1.803139e+05    2.894909e+03          1.439973e+03   \n",
       "std        NaN       NaN  7.961524e+06    1.213534e+05          3.860757e+04   \n",
       "min        NaN       NaN  0.000000e+00    0.000000e+00          0.000000e+00   \n",
       "25%        NaN       NaN  0.000000e+00    2.250000e+02          0.000000e+00   \n",
       "50%        NaN       NaN  1.597500e+04    4.195000e+02          0.000000e+00   \n",
       "75%        NaN       NaN  6.790500e+04    9.297000e+02          0.000000e+00   \n",
       "max        NaN       NaN  9.003000e+08    1.014000e+07          2.873107e+06   \n",
       "\n",
       "       Proposed Zoning Sqft  Enlargement SQ Footage  Street Frontage  \\\n",
       "count          1.284600e+04            12846.000000     12846.000000   \n",
       "mean           2.007286e+03               46.101432         3.069360   \n",
       "std            4.081570e+04              784.216569        37.246034   \n",
       "min            0.000000e+00                0.000000         0.000000   \n",
       "25%            0.000000e+00                0.000000         0.000000   \n",
       "50%            0.000000e+00                0.000000         0.000000   \n",
       "75%            0.000000e+00                0.000000         0.000000   \n",
       "max            2.873107e+06            50384.000000      3160.000000   \n",
       "\n",
       "       ExistingNo. of Stories  Proposed No. of Stories  Existing Height  \\\n",
       "count            12846.000000             12846.000000     12846.000000   \n",
       "mean                 8.062354                 8.144325        94.022809   \n",
       "std                 11.874080                11.843492       146.917360   \n",
       "min                  0.000000                 0.000000         0.000000   \n",
       "25%                  1.000000                 2.000000        20.000000   \n",
       "50%                  4.000000                 4.000000        45.000000   \n",
       "75%                  9.000000                 9.000000       105.000000   \n",
       "max                102.000000               102.000000      4200.000000   \n",
       "\n",
       "       Proposed Height  Owner Type           Zip  Owner'sPhone #  \n",
       "count     12846.000000         0.0  1.284600e+04    1.284600e+04  \n",
       "mean         94.917562         NaN  1.210268e+06    5.025739e+09  \n",
       "std         146.580666         NaN  1.343588e+07    2.738212e+09  \n",
       "min           0.000000         NaN  8.300000e+02    0.000000e+00  \n",
       "25%          21.000000         NaN  1.001900e+04    2.126841e+09  \n",
       "50%          45.000000         NaN  1.031000e+04    5.169379e+09  \n",
       "75%         107.000000         NaN  1.122100e+04    7.186809e+09  \n",
       "max        4200.000000         NaN  6.063135e+08    9.787266e+09  "
      ]
     },
     "execution_count": 17,
     "metadata": {},
     "output_type": "execute_result"
    }
   ],
   "source": [
    "df.describe()"
   ]
  },
  {
   "cell_type": "markdown",
   "metadata": {},
   "source": [
    "### №4 Frequency counts for categorical data\n",
    "\n",
    "* Print the value counts for:\n",
    "    * The `'Borough'` column\n",
    "    * The `'State'` column\n",
    "    * The `'Site Fill'` column"
   ]
  },
  {
   "cell_type": "code",
   "execution_count": 18,
   "metadata": {
    "scrolled": true
   },
   "outputs": [
    {
     "name": "stdout",
     "output_type": "stream",
     "text": [
      "MANHATTAN        6310\n",
      "BROOKLYN         2866\n",
      "QUEENS           2121\n",
      "BRONX             974\n",
      "STATEN ISLAND     575\n",
      "Name: Borough, dtype: int64 \n",
      "\n",
      "NY    12391\n",
      "NJ      241\n",
      "PA       38\n",
      "CA       20\n",
      "OH       19\n",
      "IL       17\n",
      "FL       17\n",
      "CT       16\n",
      "TX       13\n",
      "TN       10\n",
      "MD        7\n",
      "DC        7\n",
      "GA        6\n",
      "MA        6\n",
      "KS        6\n",
      "VA        5\n",
      "CO        4\n",
      "WI        3\n",
      "AZ        3\n",
      "SC        3\n",
      "MN        3\n",
      "NC        2\n",
      "RI        2\n",
      "UT        2\n",
      "MI        1\n",
      "VT        1\n",
      "NM        1\n",
      "IN        1\n",
      "WA        1\n",
      "Name: State, dtype: int64 \n",
      "\n",
      "NOT APPLICABLE                              7806\n",
      "NaN                                         4205\n",
      "ON-SITE                                      519\n",
      "OFF-SITE                                     186\n",
      "USE UNDER 300 CU.YD                          130\n",
      "Name: Site Fill, dtype: int64\n"
     ]
    }
   ],
   "source": [
    "print(df['Borough'].value_counts(dropna=False), '\\n')\n",
    "print(df['State'].value_counts(dropna=False), '\\n')\n",
    "print(df['Site Fill'].value_counts(dropna=False))"
   ]
  },
  {
   "cell_type": "markdown",
   "metadata": {},
   "source": [
    "## 3. Visual exploratory data analysis"
   ]
  },
  {
   "cell_type": "markdown",
   "metadata": {},
   "source": [
    "### Data visualization\n",
    "\n",
    "* Great way to spot outliers and obvious errors\n",
    "* More than just looking for pa!erns\n",
    "* Plan data cleaning steps"
   ]
  },
  {
   "cell_type": "markdown",
   "metadata": {},
   "source": [
    "### Summary statistics"
   ]
  },
  {
   "cell_type": "code",
   "execution_count": 19,
   "metadata": {},
   "outputs": [
    {
     "data": {
      "text/html": [
       "<div>\n",
       "<style scoped>\n",
       "    .dataframe tbody tr th:only-of-type {\n",
       "        vertical-align: middle;\n",
       "    }\n",
       "\n",
       "    .dataframe tbody tr th {\n",
       "        vertical-align: top;\n",
       "    }\n",
       "\n",
       "    .dataframe thead th {\n",
       "        text-align: right;\n",
       "    }\n",
       "</style>\n",
       "<table border=\"1\" class=\"dataframe\">\n",
       "  <thead>\n",
       "    <tr style=\"text-align: right;\">\n",
       "      <th></th>\n",
       "      <th>female literacy</th>\n",
       "      <th>fertility</th>\n",
       "      <th>population</th>\n",
       "    </tr>\n",
       "  </thead>\n",
       "  <tbody>\n",
       "    <tr>\n",
       "      <th>count</th>\n",
       "      <td>163.000000</td>\n",
       "      <td>163.000000</td>\n",
       "      <td>1.630000e+02</td>\n",
       "    </tr>\n",
       "    <tr>\n",
       "      <th>mean</th>\n",
       "      <td>80.204908</td>\n",
       "      <td>2.872853</td>\n",
       "      <td>5.462765e+07</td>\n",
       "    </tr>\n",
       "    <tr>\n",
       "      <th>std</th>\n",
       "      <td>23.014844</td>\n",
       "      <td>1.425122</td>\n",
       "      <td>2.267754e+08</td>\n",
       "    </tr>\n",
       "    <tr>\n",
       "      <th>min</th>\n",
       "      <td>12.600000</td>\n",
       "      <td>0.966000</td>\n",
       "      <td>1.035660e+05</td>\n",
       "    </tr>\n",
       "    <tr>\n",
       "      <th>25%</th>\n",
       "      <td>66.550000</td>\n",
       "      <td>1.824500</td>\n",
       "      <td>3.378469e+06</td>\n",
       "    </tr>\n",
       "    <tr>\n",
       "      <th>50%</th>\n",
       "      <td>90.200000</td>\n",
       "      <td>2.362000</td>\n",
       "      <td>9.720694e+06</td>\n",
       "    </tr>\n",
       "    <tr>\n",
       "      <th>75%</th>\n",
       "      <td>98.500000</td>\n",
       "      <td>3.877500</td>\n",
       "      <td>2.892890e+07</td>\n",
       "    </tr>\n",
       "    <tr>\n",
       "      <th>max</th>\n",
       "      <td>100.000000</td>\n",
       "      <td>7.069000</td>\n",
       "      <td>2.313000e+09</td>\n",
       "    </tr>\n",
       "  </tbody>\n",
       "</table>\n",
       "</div>"
      ],
      "text/plain": [
       "       female literacy   fertility    population\n",
       "count       163.000000  163.000000  1.630000e+02\n",
       "mean         80.204908    2.872853  5.462765e+07\n",
       "std          23.014844    1.425122  2.267754e+08\n",
       "min          12.600000    0.966000  1.035660e+05\n",
       "25%          66.550000    1.824500  3.378469e+06\n",
       "50%          90.200000    2.362000  9.720694e+06\n",
       "75%          98.500000    3.877500  2.892890e+07\n",
       "max         100.000000    7.069000  2.313000e+09"
      ]
     },
     "execution_count": 19,
     "metadata": {},
     "output_type": "execute_result"
    }
   ],
   "source": [
    "df_literacy.describe()"
   ]
  },
  {
   "cell_type": "markdown",
   "metadata": {},
   "source": [
    "### Bar plots and histograms\n",
    "\n",
    "* Bar plots for discrete data counts\n",
    "* Histograms for continuous data counts\n",
    "* Look at frequencies"
   ]
  },
  {
   "cell_type": "markdown",
   "metadata": {},
   "source": [
    "### Histogram"
   ]
  },
  {
   "cell_type": "code",
   "execution_count": 20,
   "metadata": {},
   "outputs": [
    {
     "data": {
      "image/png": "[encoded data removed]",
      "text/plain": [
       "<Figure size 432x288 with 1 Axes>"
      ]
     },
     "metadata": {
      "image/png": {
       "height": 263,
       "width": 392
      },
      "needs_background": "dark"
     },
     "output_type": "display_data"
    }
   ],
   "source": [
    "df_literacy.population.plot('hist')\n",
    "plt.show()"
   ]
  },
  {
   "cell_type": "markdown",
   "metadata": {},
   "source": [
    "### Identifying the error\n",
    "\n",
    "* Not all outliers are bad data points\n",
    "* Some can be an error, but others are valid values"
   ]
  },
  {
   "cell_type": "code",
   "execution_count": 21,
   "metadata": {},
   "outputs": [
    {
     "data": {
      "text/html": [
       "<div>\n",
       "<style scoped>\n",
       "    .dataframe tbody tr th:only-of-type {\n",
       "        vertical-align: middle;\n",
       "    }\n",
       "\n",
       "    .dataframe tbody tr th {\n",
       "        vertical-align: top;\n",
       "    }\n",
       "\n",
       "    .dataframe thead th {\n",
       "        text-align: right;\n",
       "    }\n",
       "</style>\n",
       "<table border=\"1\" class=\"dataframe\">\n",
       "  <thead>\n",
       "    <tr style=\"text-align: right;\">\n",
       "      <th></th>\n",
       "      <th>country</th>\n",
       "      <th>continent</th>\n",
       "      <th>female literacy</th>\n",
       "      <th>fertility</th>\n",
       "      <th>population</th>\n",
       "    </tr>\n",
       "  </thead>\n",
       "  <tbody>\n",
       "    <tr>\n",
       "      <th>0</th>\n",
       "      <td>Chine</td>\n",
       "      <td>ASI</td>\n",
       "      <td>90.5</td>\n",
       "      <td>1.769</td>\n",
       "      <td>1324655000</td>\n",
       "    </tr>\n",
       "    <tr>\n",
       "      <th>1</th>\n",
       "      <td>Inde</td>\n",
       "      <td>ASI</td>\n",
       "      <td>50.8</td>\n",
       "      <td>2.682</td>\n",
       "      <td>1139964932</td>\n",
       "    </tr>\n",
       "    <tr>\n",
       "      <th>162</th>\n",
       "      <td>Australia</td>\n",
       "      <td>OCE</td>\n",
       "      <td>96.0</td>\n",
       "      <td>1.930</td>\n",
       "      <td>2313000000</td>\n",
       "    </tr>\n",
       "  </tbody>\n",
       "</table>\n",
       "</div>"
      ],
      "text/plain": [
       "       country continent  female literacy  fertility  population\n",
       "0        Chine       ASI             90.5      1.769  1324655000\n",
       "1         Inde       ASI             50.8      2.682  1139964932\n",
       "162  Australia       OCE             96.0      1.930  2313000000"
      ]
     },
     "execution_count": 21,
     "metadata": {},
     "output_type": "execute_result"
    }
   ],
   "source": [
    "df_literacy[df_literacy.population > 1000000000]"
   ]
  },
  {
   "cell_type": "markdown",
   "metadata": {},
   "source": [
    "### Box plots\n",
    "\n",
    "* Visualize basic summary statistics\n",
    "* Outliers\n",
    "* Min/max\n",
    "* 25th, 50th, 75th percentiles"
   ]
  },
  {
   "cell_type": "markdown",
   "metadata": {},
   "source": [
    "### Box plot"
   ]
  },
  {
   "cell_type": "code",
   "execution_count": 22,
   "metadata": {},
   "outputs": [
    {
     "data": {
      "image/png": "[encoded data removed]",
      "text/plain": [
       "<Figure size 432x288 with 1 Axes>"
      ]
     },
     "metadata": {
      "image/png": {
       "height": 287,
       "width": 383
      },
      "needs_background": "dark"
     },
     "output_type": "display_data"
    }
   ],
   "source": [
    "df_literacy.boxplot(column='population', by='continent')\n",
    "plt.show()"
   ]
  },
  {
   "cell_type": "markdown",
   "metadata": {},
   "source": [
    "### Scatter plots\n",
    "\n",
    "* Relationship between 2 numeric variables\n",
    "* Flag potentially bad data\n",
    "    * Errors not found by looking at 1 variable"
   ]
  },
  {
   "cell_type": "markdown",
   "metadata": {},
   "source": [
    "### №5 Visualizing multiple variables with scatter plots\n",
    "\n",
    "* Create a histogram of the `'Existing Zoning Sqft'` column. Rotate the axis labels by 70 degrees and use a log scale for both axes\n",
    "* Display the histogram using `plt.show()`"
   ]
  },
  {
   "cell_type": "code",
   "execution_count": 23,
   "metadata": {},
   "outputs": [
    {
     "name": "stdout",
     "output_type": "stream",
     "text": [
      "count    1.284600e+04\n",
      "mean     1.439973e+03\n",
      "std      3.860757e+04\n",
      "min      0.000000e+00\n",
      "25%      0.000000e+00\n",
      "50%      0.000000e+00\n",
      "75%      0.000000e+00\n",
      "max      2.873107e+06\n",
      "Name: Existing Zoning Sqft, dtype: float64\n"
     ]
    },
    {
     "data": {
      "image/png": "[encoded data removed]",
      "text/plain": [
       "<Figure size 432x288 with 1 Axes>"
      ]
     },
     "metadata": {
      "image/png": {
       "height": 261,
       "width": 391
      },
      "needs_background": "dark"
     },
     "output_type": "display_data"
    }
   ],
   "source": [
    "print(df['Existing Zoning Sqft'].describe())\n",
    "\n",
    "df['Existing Zoning Sqft'].plot(kind='hist', rot=70, logx=True, logy=True)\n",
    "plt.show()"
   ]
  },
  {
   "cell_type": "markdown",
   "metadata": {},
   "source": [
    "### №6 Visualizing multiple variables with boxplots\n",
    "\n",
    "* Using the `.boxplot()` method of `df`, create a boxplot of `'initial_cost'` across the different values of `'Borough'`\n",
    "* Display the plot"
   ]
  },
  {
   "cell_type": "code",
   "execution_count": 24,
   "metadata": {},
   "outputs": [
    {
     "data": {
      "image/png": "[encoded data removed]",
      "text/plain": [
       "<Figure size 432x288 with 1 Axes>"
      ]
     },
     "metadata": {
      "image/png": {
       "height": 374,
       "width": 383
      },
      "needs_background": "dark"
     },
     "output_type": "display_data"
    }
   ],
   "source": [
    "df.boxplot(column='Initial Cost', by='Borough', rot=90)\n",
    "plt.show()"
   ]
  },
  {
   "cell_type": "markdown",
   "metadata": {},
   "source": [
    "### №7 Visualizing multiple variables with scatter plots\n",
    "\n",
    "* Using `df`, create a scatter plot (`kind='scatter'`) with `'initial_cost'` on the x-axis and the `'total_est_fee'` on the y-axis. Rotate the x-axis labels by 70 degrees\n",
    "* Create another scatter plot exactly as above, substituting `df_subset` in place of `df`"
   ]
  },
  {
   "cell_type": "code",
   "execution_count": 25,
   "metadata": {},
   "outputs": [
    {
     "data": {
      "image/png": "[encoded data removed]",
      "text/plain": [
       "<Figure size 432x288 with 1 Axes>"
      ]
     },
     "metadata": {
      "image/png": {
       "height": 275,
       "width": 372
      },
      "needs_background": "dark"
     },
     "output_type": "display_data"
    },
    {
     "data": {
      "image/png": "[encoded data removed]",
      "text/plain": [
       "<Figure size 432x288 with 1 Axes>"
      ]
     },
     "metadata": {
      "image/png": {
       "height": 275,
       "width": 372
      },
      "needs_background": "dark"
     },
     "output_type": "display_data"
    }
   ],
   "source": [
    "plt.scatter(x='Initial Cost', y='Total Est. Fee', data=df)\n",
    "plt.show()\n",
    "\n",
    "plt.scatter(x='Initial Cost', y='Total Est. Fee', data=df_subset)\n",
    "plt.show()"
   ]
  },
  {
   "cell_type": "markdown",
   "metadata": {},
   "source": [
    "## Chapter 2. Tidying data for analysis"
   ]
  },
  {
   "cell_type": "markdown",
   "metadata": {},
   "source": [
    "## 4. Tidy data"
   ]
  },
  {
   "cell_type": "markdown",
   "metadata": {},
   "source": [
    "### Tidy data\n",
    "\n",
    "* 'Tidy Data' paper by Hadley Wickham, PhD\n",
    "* Formalize the way we describe the shape of data\n",
    "* Gives us a goal when forma!ing our data\n",
    "* 'Standard way to organize data values within a dataset'"
   ]
  },
  {
   "cell_type": "markdown",
   "metadata": {},
   "source": [
    "### Motivation for tidy data\n",
    "\n",
    "<img src='Cleaning_Data_in_Python/Pictures/Motivation_for_tidy_data.png' alt='Motivation for tidy data' width=500 align='left'>"
   ]
  },
  {
   "cell_type": "markdown",
   "metadata": {},
   "source": [
    "### Principles of tidy data\n",
    "\n",
    "* Columns represent separate variables\n",
    "* Rows represent individual observations\n",
    "* Observational units form tables\n",
    "\n",
    "<img src='Cleaning_Data_in_Python/Pictures/Principles_of_tidy_data.png' alt='Principles of tidy data' align='left' width=300>"
   ]
  },
  {
   "cell_type": "markdown",
   "metadata": {},
   "source": [
    "### Converting to tidy data\n",
    "\n",
    "* Better for reporting vs. better for analysis</p>\n",
    "* Tidy data makes it easier to fix common data problems</p>\n",
    "\n",
    "<img src='Cleaning_Data_in_Python/Pictures/Converting_to_tidy_data.png' alt='Converting to tidy data' align='left' width=500>\n"
   ]
  },
  {
   "cell_type": "markdown",
   "metadata": {},
   "source": [
    "### Converting to tidy data\n",
    "\n",
    "* The data problem we are trying to fix:\n",
    "    * Columns containing values, instead of variables\n",
    "* Solution: `pd.melt()`"
   ]
  },
  {
   "cell_type": "markdown",
   "metadata": {},
   "source": [
    "### Melting"
   ]
  },
  {
   "cell_type": "code",
   "execution_count": 26,
   "metadata": {},
   "outputs": [
    {
     "data": {
      "text/html": [
       "<div>\n",
       "<style scoped>\n",
       "    .dataframe tbody tr th:only-of-type {\n",
       "        vertical-align: middle;\n",
       "    }\n",
       "\n",
       "    .dataframe tbody tr th {\n",
       "        vertical-align: top;\n",
       "    }\n",
       "\n",
       "    .dataframe thead th {\n",
       "        text-align: right;\n",
       "    }\n",
       "</style>\n",
       "<table border=\"1\" class=\"dataframe\">\n",
       "  <thead>\n",
       "    <tr style=\"text-align: right;\">\n",
       "      <th></th>\n",
       "      <th>name</th>\n",
       "      <th>treatment a</th>\n",
       "      <th>treatment b</th>\n",
       "    </tr>\n",
       "  </thead>\n",
       "  <tbody>\n",
       "    <tr>\n",
       "      <th>0</th>\n",
       "      <td>Daniel</td>\n",
       "      <td>-</td>\n",
       "      <td>42</td>\n",
       "    </tr>\n",
       "    <tr>\n",
       "      <th>1</th>\n",
       "      <td>John</td>\n",
       "      <td>12</td>\n",
       "      <td>31</td>\n",
       "    </tr>\n",
       "    <tr>\n",
       "      <th>2</th>\n",
       "      <td>Jane</td>\n",
       "      <td>24</td>\n",
       "      <td>27</td>\n",
       "    </tr>\n",
       "  </tbody>\n",
       "</table>\n",
       "</div>"
      ],
      "text/plain": [
       "     name treatment a  treatment b\n",
       "0  Daniel           -           42\n",
       "1    John          12           31\n",
       "2    Jane          24           27"
      ]
     },
     "execution_count": 26,
     "metadata": {},
     "output_type": "execute_result"
    }
   ],
   "source": [
    "df_example = pd.DataFrame({'name': ['Daniel', 'John', 'Jane'],\n",
    "                           'treatment a': ['-', '12', '24'],\n",
    "                           'treatment b': [42, 31, 27]})\n",
    "df_example"
   ]
  },
  {
   "cell_type": "code",
   "execution_count": 27,
   "metadata": {},
   "outputs": [
    {
     "data": {
      "text/html": [
       "<div>\n",
       "<style scoped>\n",
       "    .dataframe tbody tr th:only-of-type {\n",
       "        vertical-align: middle;\n",
       "    }\n",
       "\n",
       "    .dataframe tbody tr th {\n",
       "        vertical-align: top;\n",
       "    }\n",
       "\n",
       "    .dataframe thead th {\n",
       "        text-align: right;\n",
       "    }\n",
       "</style>\n",
       "<table border=\"1\" class=\"dataframe\">\n",
       "  <thead>\n",
       "    <tr style=\"text-align: right;\">\n",
       "      <th></th>\n",
       "      <th>name</th>\n",
       "      <th>variable</th>\n",
       "      <th>value</th>\n",
       "    </tr>\n",
       "  </thead>\n",
       "  <tbody>\n",
       "    <tr>\n",
       "      <th>0</th>\n",
       "      <td>Daniel</td>\n",
       "      <td>treatment a</td>\n",
       "      <td>-</td>\n",
       "    </tr>\n",
       "    <tr>\n",
       "      <th>1</th>\n",
       "      <td>John</td>\n",
       "      <td>treatment a</td>\n",
       "      <td>12</td>\n",
       "    </tr>\n",
       "    <tr>\n",
       "      <th>2</th>\n",
       "      <td>Jane</td>\n",
       "      <td>treatment a</td>\n",
       "      <td>24</td>\n",
       "    </tr>\n",
       "    <tr>\n",
       "      <th>3</th>\n",
       "      <td>Daniel</td>\n",
       "      <td>treatment b</td>\n",
       "      <td>42</td>\n",
       "    </tr>\n",
       "    <tr>\n",
       "      <th>4</th>\n",
       "      <td>John</td>\n",
       "      <td>treatment b</td>\n",
       "      <td>31</td>\n",
       "    </tr>\n",
       "    <tr>\n",
       "      <th>5</th>\n",
       "      <td>Jane</td>\n",
       "      <td>treatment b</td>\n",
       "      <td>27</td>\n",
       "    </tr>\n",
       "  </tbody>\n",
       "</table>\n",
       "</div>"
      ],
      "text/plain": [
       "     name     variable value\n",
       "0  Daniel  treatment a     -\n",
       "1    John  treatment a    12\n",
       "2    Jane  treatment a    24\n",
       "3  Daniel  treatment b    42\n",
       "4    John  treatment b    31\n",
       "5    Jane  treatment b    27"
      ]
     },
     "execution_count": 27,
     "metadata": {},
     "output_type": "execute_result"
    }
   ],
   "source": [
    "pd.melt(frame=df_example, id_vars='name', value_vars=['treatment a', 'treatment b'])"
   ]
  },
  {
   "cell_type": "code",
   "execution_count": 28,
   "metadata": {},
   "outputs": [
    {
     "data": {
      "text/html": [
       "<div>\n",
       "<style scoped>\n",
       "    .dataframe tbody tr th:only-of-type {\n",
       "        vertical-align: middle;\n",
       "    }\n",
       "\n",
       "    .dataframe tbody tr th {\n",
       "        vertical-align: top;\n",
       "    }\n",
       "\n",
       "    .dataframe thead th {\n",
       "        text-align: right;\n",
       "    }\n",
       "</style>\n",
       "<table border=\"1\" class=\"dataframe\">\n",
       "  <thead>\n",
       "    <tr style=\"text-align: right;\">\n",
       "      <th></th>\n",
       "      <th>name</th>\n",
       "      <th>treatment</th>\n",
       "      <th>result</th>\n",
       "    </tr>\n",
       "  </thead>\n",
       "  <tbody>\n",
       "    <tr>\n",
       "      <th>0</th>\n",
       "      <td>Daniel</td>\n",
       "      <td>treatment a</td>\n",
       "      <td>-</td>\n",
       "    </tr>\n",
       "    <tr>\n",
       "      <th>1</th>\n",
       "      <td>John</td>\n",
       "      <td>treatment a</td>\n",
       "      <td>12</td>\n",
       "    </tr>\n",
       "    <tr>\n",
       "      <th>2</th>\n",
       "      <td>Jane</td>\n",
       "      <td>treatment a</td>\n",
       "      <td>24</td>\n",
       "    </tr>\n",
       "    <tr>\n",
       "      <th>3</th>\n",
       "      <td>Daniel</td>\n",
       "      <td>treatment b</td>\n",
       "      <td>42</td>\n",
       "    </tr>\n",
       "    <tr>\n",
       "      <th>4</th>\n",
       "      <td>John</td>\n",
       "      <td>treatment b</td>\n",
       "      <td>31</td>\n",
       "    </tr>\n",
       "    <tr>\n",
       "      <th>5</th>\n",
       "      <td>Jane</td>\n",
       "      <td>treatment b</td>\n",
       "      <td>27</td>\n",
       "    </tr>\n",
       "  </tbody>\n",
       "</table>\n",
       "</div>"
      ],
      "text/plain": [
       "     name    treatment result\n",
       "0  Daniel  treatment a      -\n",
       "1    John  treatment a     12\n",
       "2    Jane  treatment a     24\n",
       "3  Daniel  treatment b     42\n",
       "4    John  treatment b     31\n",
       "5    Jane  treatment b     27"
      ]
     },
     "execution_count": 28,
     "metadata": {},
     "output_type": "execute_result"
    }
   ],
   "source": [
    "pd.melt(frame=df_example, id_vars='name',\n",
    "        value_vars=['treatment a', 'treatment b'],\n",
    "        var_name='treatment', value_name='result')"
   ]
  },
  {
   "cell_type": "markdown",
   "metadata": {},
   "source": [
    "### Customizing melted data (rename columns)"
   ]
  },
  {
   "cell_type": "code",
   "execution_count": 29,
   "metadata": {},
   "outputs": [
    {
     "data": {
      "text/html": [
       "<div>\n",
       "<style scoped>\n",
       "    .dataframe tbody tr th:only-of-type {\n",
       "        vertical-align: middle;\n",
       "    }\n",
       "\n",
       "    .dataframe tbody tr th {\n",
       "        vertical-align: top;\n",
       "    }\n",
       "\n",
       "    .dataframe thead th {\n",
       "        text-align: right;\n",
       "    }\n",
       "</style>\n",
       "<table border=\"1\" class=\"dataframe\">\n",
       "  <thead>\n",
       "    <tr style=\"text-align: right;\">\n",
       "      <th></th>\n",
       "      <th>Ozone</th>\n",
       "      <th>Solar.R</th>\n",
       "      <th>Wind</th>\n",
       "      <th>Temp</th>\n",
       "      <th>Month</th>\n",
       "      <th>Day</th>\n",
       "    </tr>\n",
       "  </thead>\n",
       "  <tbody>\n",
       "    <tr>\n",
       "      <th>0</th>\n",
       "      <td>41.0</td>\n",
       "      <td>190.0</td>\n",
       "      <td>7.4</td>\n",
       "      <td>67</td>\n",
       "      <td>5</td>\n",
       "      <td>1</td>\n",
       "    </tr>\n",
       "    <tr>\n",
       "      <th>1</th>\n",
       "      <td>36.0</td>\n",
       "      <td>118.0</td>\n",
       "      <td>8.0</td>\n",
       "      <td>72</td>\n",
       "      <td>5</td>\n",
       "      <td>2</td>\n",
       "    </tr>\n",
       "    <tr>\n",
       "      <th>2</th>\n",
       "      <td>12.0</td>\n",
       "      <td>149.0</td>\n",
       "      <td>12.6</td>\n",
       "      <td>74</td>\n",
       "      <td>5</td>\n",
       "      <td>3</td>\n",
       "    </tr>\n",
       "    <tr>\n",
       "      <th>3</th>\n",
       "      <td>18.0</td>\n",
       "      <td>313.0</td>\n",
       "      <td>11.5</td>\n",
       "      <td>62</td>\n",
       "      <td>5</td>\n",
       "      <td>4</td>\n",
       "    </tr>\n",
       "    <tr>\n",
       "      <th>4</th>\n",
       "      <td>NaN</td>\n",
       "      <td>NaN</td>\n",
       "      <td>14.3</td>\n",
       "      <td>56</td>\n",
       "      <td>5</td>\n",
       "      <td>5</td>\n",
       "    </tr>\n",
       "  </tbody>\n",
       "</table>\n",
       "</div>"
      ],
      "text/plain": [
       "   Ozone  Solar.R  Wind  Temp  Month  Day\n",
       "0   41.0    190.0   7.4    67      5    1\n",
       "1   36.0    118.0   8.0    72      5    2\n",
       "2   12.0    149.0  12.6    74      5    3\n",
       "3   18.0    313.0  11.5    62      5    4\n",
       "4    NaN      NaN  14.3    56      5    5"
      ]
     },
     "execution_count": 29,
     "metadata": {},
     "output_type": "execute_result"
    }
   ],
   "source": [
    "airquality = pd.read_csv('Cleaning_Data_in_Python/airquality.csv')\n",
    "airquality.head()"
   ]
  },
  {
   "cell_type": "code",
   "execution_count": 30,
   "metadata": {},
   "outputs": [
    {
     "data": {
      "text/html": [
       "<div>\n",
       "<style scoped>\n",
       "    .dataframe tbody tr th:only-of-type {\n",
       "        vertical-align: middle;\n",
       "    }\n",
       "\n",
       "    .dataframe tbody tr th {\n",
       "        vertical-align: top;\n",
       "    }\n",
       "\n",
       "    .dataframe thead th {\n",
       "        text-align: right;\n",
       "    }\n",
       "</style>\n",
       "<table border=\"1\" class=\"dataframe\">\n",
       "  <thead>\n",
       "    <tr style=\"text-align: right;\">\n",
       "      <th></th>\n",
       "      <th>Month</th>\n",
       "      <th>Day</th>\n",
       "      <th>measurement</th>\n",
       "      <th>reading</th>\n",
       "    </tr>\n",
       "  </thead>\n",
       "  <tbody>\n",
       "    <tr>\n",
       "      <th>0</th>\n",
       "      <td>5</td>\n",
       "      <td>1</td>\n",
       "      <td>Ozone</td>\n",
       "      <td>41.0</td>\n",
       "    </tr>\n",
       "    <tr>\n",
       "      <th>1</th>\n",
       "      <td>5</td>\n",
       "      <td>2</td>\n",
       "      <td>Ozone</td>\n",
       "      <td>36.0</td>\n",
       "    </tr>\n",
       "    <tr>\n",
       "      <th>2</th>\n",
       "      <td>5</td>\n",
       "      <td>3</td>\n",
       "      <td>Ozone</td>\n",
       "      <td>12.0</td>\n",
       "    </tr>\n",
       "    <tr>\n",
       "      <th>3</th>\n",
       "      <td>5</td>\n",
       "      <td>4</td>\n",
       "      <td>Ozone</td>\n",
       "      <td>18.0</td>\n",
       "    </tr>\n",
       "    <tr>\n",
       "      <th>4</th>\n",
       "      <td>5</td>\n",
       "      <td>5</td>\n",
       "      <td>Ozone</td>\n",
       "      <td>NaN</td>\n",
       "    </tr>\n",
       "  </tbody>\n",
       "</table>\n",
       "</div>"
      ],
      "text/plain": [
       "   Month  Day measurement  reading\n",
       "0      5    1       Ozone     41.0\n",
       "1      5    2       Ozone     36.0\n",
       "2      5    3       Ozone     12.0\n",
       "3      5    4       Ozone     18.0\n",
       "4      5    5       Ozone      NaN"
      ]
     },
     "execution_count": 30,
     "metadata": {},
     "output_type": "execute_result"
    }
   ],
   "source": [
    "airquality_melt = pd.melt(airquality, id_vars=['Month', 'Day'],\n",
    "                          var_name='measurement', value_name='reading')\n",
    "airquality_melt.head()"
   ]
  },
  {
   "cell_type": "markdown",
   "metadata": {},
   "source": [
    "### №8 Recognizing tidy data\n",
    "\n",
    "For data to be tidy, it must have:\n",
    "* Each variable as a separate column\n",
    "* Each row as a separate observation\n",
    "    \n",
    "As a data scientist, you'll encounter data that is represented in a variety of different ways, so it is important to be able to recognize tidy (or untidy) data when you see it\n",
    "\n",
    "In this exercise, two example datasets have been pre-loaded into the DataFrames `airquality` and `airquality_melt`. Only one of them is tidy. Your job is to explore these further in the IPython Shell and identify the one that is not tidy, and why it is not tidy\n",
    "  \n",
    "* `airquality_melt`; the rows are not all separate observations\n",
    "* `airquality`; each variable is not a separate column\n",
    "* *`airquality_melt`; each variable is not a separate column*\n",
    "* `airquality`; the rows are not all separate observations"
   ]
  },
  {
   "cell_type": "markdown",
   "metadata": {},
   "source": [
    "### №9 Reshaping your data using melt\n",
    "\n",
    "* Print the head of `airquality`\n",
    "* Use `pd.melt()` to melt the `Ozone`, `Solar.R`, `Wind`, and `Temp` columns of `airquality` into rows. Do this by using `id_vars` to specify the columns you do not wish to melt: `'Month'` and `'Day'`\n",
    "* Print the head of `airquality_melt`"
   ]
  },
  {
   "cell_type": "code",
   "execution_count": 31,
   "metadata": {},
   "outputs": [
    {
     "name": "stdout",
     "output_type": "stream",
     "text": [
      "   Ozone  Solar.R  Wind  Temp  Month  Day\n",
      "0   41.0    190.0   7.4    67      5    1\n",
      "1   36.0    118.0   8.0    72      5    2\n",
      "2   12.0    149.0  12.6    74      5    3\n",
      "3   18.0    313.0  11.5    62      5    4\n",
      "4    NaN      NaN  14.3    56      5    5 \n",
      "\n",
      "   Month  Day variable  value\n",
      "0      5    1    Ozone   41.0\n",
      "1      5    2    Ozone   36.0\n",
      "2      5    3    Ozone   12.0\n",
      "3      5    4    Ozone   18.0\n",
      "4      5    5    Ozone    NaN\n"
     ]
    }
   ],
   "source": [
    "print(airquality.head(), '\\n')\n",
    "\n",
    "airquality_melt = pd.melt(frame=airquality, id_vars=['Month', 'Day'],\n",
    "                          value_vars=['Ozone', 'Solar.R', 'Wind', 'Temp'])\n",
    "print(airquality_melt.head())"
   ]
  },
  {
   "cell_type": "markdown",
   "metadata": {},
   "source": [
    "### №10 Customizing melted data\n",
    "\n",
    "* Print the head of `airquality`\n",
    "* Melt the columns of `airquality` with the default `variable` column renamed to `'measurement'` and the default `value` column renamed to `'reading'`. You can do this by specifying, respectively, the `var_name` and `value_name` parameters\n",
    "* Print the head of `airquality_melt`"
   ]
  },
  {
   "cell_type": "code",
   "execution_count": 32,
   "metadata": {
    "scrolled": true
   },
   "outputs": [
    {
     "name": "stdout",
     "output_type": "stream",
     "text": [
      "   Ozone  Solar.R  Wind  Temp  Month  Day\n",
      "0   41.0    190.0   7.4    67      5    1\n",
      "1   36.0    118.0   8.0    72      5    2\n",
      "2   12.0    149.0  12.6    74      5    3\n",
      "3   18.0    313.0  11.5    62      5    4\n",
      "4    NaN      NaN  14.3    56      5    5 \n",
      "\n",
      "   Month  Day measurement  reading\n",
      "0      5    1       Ozone     41.0\n",
      "1      5    2       Ozone     36.0\n",
      "2      5    3       Ozone     12.0\n",
      "3      5    4       Ozone     18.0\n",
      "4      5    5       Ozone      NaN\n"
     ]
    }
   ],
   "source": [
    "print(airquality.head(), '\\n')\n",
    "\n",
    "airquality_melt = pd.melt(airquality, id_vars=['Month', 'Day'],\n",
    "                          var_name='measurement', value_name='reading')\n",
    "print(airquality_melt.head())"
   ]
  },
  {
   "cell_type": "markdown",
   "metadata": {},
   "source": [
    "## 5. Pivoting data"
   ]
  },
  {
   "cell_type": "markdown",
   "metadata": {},
   "source": [
    "### Pivot: un-melting data\n",
    "\n",
    "* Opposite of melting\n",
    "* In melting, we turned columns into rows\n",
    "* Pivoting: turn unique values into separate columns\n",
    "* Analysis friendly shape to reporting friendly shape\n",
    "* Violates tidy data principle: rows contain observations\n",
    "    * Multiple variables stored in the same column"
   ]
  },
  {
   "cell_type": "markdown",
   "metadata": {},
   "source": [
    "### Pivot: un-melting data\n",
    "\n",
    "<img src='Cleaning_Data_in_Python/Pictures/Pivot_un-melting_data.png' alt='Pivot: un-melting data' width=400 align='left'>"
   ]
  },
  {
   "cell_type": "markdown",
   "metadata": {},
   "source": [
    "### Pivot"
   ]
  },
  {
   "cell_type": "code",
   "execution_count": 33,
   "metadata": {},
   "outputs": [
    {
     "data": {
      "text/html": [
       "<div>\n",
       "<style scoped>\n",
       "    .dataframe tbody tr th:only-of-type {\n",
       "        vertical-align: middle;\n",
       "    }\n",
       "\n",
       "    .dataframe tbody tr th {\n",
       "        vertical-align: top;\n",
       "    }\n",
       "\n",
       "    .dataframe thead th {\n",
       "        text-align: right;\n",
       "    }\n",
       "</style>\n",
       "<table border=\"1\" class=\"dataframe\">\n",
       "  <thead>\n",
       "    <tr style=\"text-align: right;\">\n",
       "      <th>element</th>\n",
       "      <th>tmax</th>\n",
       "      <th>tmin</th>\n",
       "    </tr>\n",
       "    <tr>\n",
       "      <th>date</th>\n",
       "      <th></th>\n",
       "      <th></th>\n",
       "    </tr>\n",
       "  </thead>\n",
       "  <tbody>\n",
       "    <tr>\n",
       "      <th>2010-01-30</th>\n",
       "      <td>27.8</td>\n",
       "      <td>14.5</td>\n",
       "    </tr>\n",
       "    <tr>\n",
       "      <th>2010-02-02</th>\n",
       "      <td>27.3</td>\n",
       "      <td>14.4</td>\n",
       "    </tr>\n",
       "  </tbody>\n",
       "</table>\n",
       "</div>"
      ],
      "text/plain": [
       "element     tmax  tmin\n",
       "date                  \n",
       "2010-01-30  27.8  14.5\n",
       "2010-02-02  27.3  14.4"
      ]
     },
     "execution_count": 33,
     "metadata": {},
     "output_type": "execute_result"
    }
   ],
   "source": [
    "weather = pd.DataFrame({'date': ['2010-01-30', '2010-01-30', '2010-02-02', '2010-02-02'],\n",
    "                        'element': ['tmax', 'tmin', 'tmax', 'tmin'],\n",
    "                        'value': [27.8, 14.5, 27.3, 14.4]})\n",
    "\n",
    "weather_tidy = weather.pivot(index='date', columns='element', values='value')\n",
    "weather_tidy"
   ]
  },
  {
   "cell_type": "markdown",
   "metadata": {},
   "source": [
    "### Pivot\n",
    "\n",
    "<img src='Cleaning_Data_in_Python/Pictures/Pivot.png' alt='Pivot' align='left' width=400>"
   ]
  },
  {
   "cell_type": "markdown",
   "metadata": {},
   "source": [
    "### Using pivot when you have duplicate entries\n",
    "```python\n",
    "In [4]: weather2_tidy = weather.pivot(values='value',\n",
    "                                      index='date',\n",
    "                                      columns='element')\n",
    "Out[4]:\n",
    "```\n",
    "```\n",
    "------------------------------------------------------------------\n",
    "ValueError Traceback (most recent call last)\n",
    "<ipython-input-9-2962bb23f5a3> in <module>()\n",
    " 1 weather2_tidy = weather2.pivot(values='value',\n",
    " 2 index='date',\n",
    "----> 3 columns='element')\n",
    "ValueError: Index contains duplicate entries, cannot reshape\n",
    "```"
   ]
  },
  {
   "cell_type": "markdown",
   "metadata": {},
   "source": [
    "### Pivot table\n",
    "\n",
    "* Has a parameter that specifies how to deal with duplicate values\n",
    "* Example: Can aggregate the duplicate values by taking their average"
   ]
  },
  {
   "cell_type": "markdown",
   "metadata": {},
   "source": [
    "### Pivot table"
   ]
  },
  {
   "cell_type": "code",
   "execution_count": 34,
   "metadata": {},
   "outputs": [
    {
     "data": {
      "text/html": [
       "<div>\n",
       "<style scoped>\n",
       "    .dataframe tbody tr th:only-of-type {\n",
       "        vertical-align: middle;\n",
       "    }\n",
       "\n",
       "    .dataframe tbody tr th {\n",
       "        vertical-align: top;\n",
       "    }\n",
       "\n",
       "    .dataframe thead th {\n",
       "        text-align: right;\n",
       "    }\n",
       "</style>\n",
       "<table border=\"1\" class=\"dataframe\">\n",
       "  <thead>\n",
       "    <tr style=\"text-align: right;\">\n",
       "      <th>element</th>\n",
       "      <th>tmax</th>\n",
       "      <th>tmin</th>\n",
       "    </tr>\n",
       "    <tr>\n",
       "      <th>date</th>\n",
       "      <th></th>\n",
       "      <th></th>\n",
       "    </tr>\n",
       "  </thead>\n",
       "  <tbody>\n",
       "    <tr>\n",
       "      <th>2010-01-30</th>\n",
       "      <td>27.8</td>\n",
       "      <td>14.5</td>\n",
       "    </tr>\n",
       "    <tr>\n",
       "      <th>2010-02-02</th>\n",
       "      <td>27.3</td>\n",
       "      <td>14.4</td>\n",
       "    </tr>\n",
       "  </tbody>\n",
       "</table>\n",
       "</div>"
      ],
      "text/plain": [
       "element     tmax  tmin\n",
       "date                  \n",
       "2010-01-30  27.8  14.5\n",
       "2010-02-02  27.3  14.4"
      ]
     },
     "execution_count": 34,
     "metadata": {},
     "output_type": "execute_result"
    }
   ],
   "source": [
    "weather2_tidy = weather.pivot_table(values='value', index='date',\n",
    "                                    columns='element', aggfunc=np.mean)\n",
    "weather2_tidy"
   ]
  },
  {
   "cell_type": "markdown",
   "metadata": {},
   "source": [
    "### №11 Pivot data\n",
    "\n",
    "* Print the head of `airquality_melt`\n",
    "* Pivot `airquality_melt` by using `.pivot_table()` with the rows indexed by `'Month'` and `'Day'`, the columns indexed by `'measurement'`, and the values populated with `'reading'`\n",
    "* Print the head of `airquality_pivot`"
   ]
  },
  {
   "cell_type": "code",
   "execution_count": 35,
   "metadata": {},
   "outputs": [
    {
     "name": "stdout",
     "output_type": "stream",
     "text": [
      "   Month  Day measurement  reading\n",
      "0      5    1       Ozone     41.0\n",
      "1      5    2       Ozone     36.0\n",
      "2      5    3       Ozone     12.0\n",
      "3      5    4       Ozone     18.0\n",
      "4      5    5       Ozone      NaN \n",
      "\n",
      "measurement  Ozone  Solar.R  Temp  Wind\n",
      "Month Day                              \n",
      "5     1       41.0    190.0  67.0   7.4\n",
      "      2       36.0    118.0  72.0   8.0\n",
      "      3       12.0    149.0  74.0  12.6\n",
      "      4       18.0    313.0  62.0  11.5\n",
      "      5        NaN      NaN  56.0  14.3\n"
     ]
    }
   ],
   "source": [
    "print(airquality_melt.head(), '\\n')\n",
    "\n",
    "airquality_pivot = airquality_melt.pivot_table(index=['Month', 'Day'],\n",
    "                                               columns='measurement',\n",
    "                                               values='reading')\n",
    "print(airquality_pivot.head())"
   ]
  },
  {
   "cell_type": "markdown",
   "metadata": {},
   "source": [
    "### №12 Resetting the index of a DataFrame\n",
    "\n",
    "* Print the index of `airquality_pivot` by accessing its `.index` attribute\n",
    "* Reset the index of `airquality_pivot` using its `.reset_index()` method\n",
    "* Print the new index of `airquality_pivot_reset`\n",
    "* Print the head of `airquality_pivot_reset"
   ]
  },
  {
   "cell_type": "code",
   "execution_count": 37,
   "metadata": {},
   "outputs": [
    {
     "name": "stdout",
     "output_type": "stream",
     "text": [
      "MultiIndex(levels=[[5, 6, 7, 8, 9], [1, 2, 3, 4, 5, 6, 7, 8, 9, 10, 11, 12, 13, 14, 15, 16, 17, 18, 19, 20, 21, 22, 23, 24, 25, 26, 27, 28, 29, 30, 31]],\n",
      "           codes=[[0, 0, 0, 0, 0, 0, 0, 0, 0, 0, 0, 0, 0, 0, 0, 0, 0, 0, 0, 0, 0, 0, 0, 0, 0, 0, 0, 0, 0, 0, 0, 1, 1, 1, 1, 1, 1, 1, 1, 1, 1, 1, 1, 1, 1, 1, 1, 1, 1, 1, 1, 1, 1, 1, 1, 1, 1, 1, 1, 1, 1, 2, 2, 2, 2, 2, 2, 2, 2, 2, 2, 2, 2, 2, 2, 2, 2, 2, 2, 2, 2, 2, 2, 2, 2, 2, 2, 2, 2, 2, 2, 2, 3, 3, 3, 3, 3, 3, 3, 3, 3, 3, 3, 3, 3, 3, 3, 3, 3, 3, 3, 3, 3, 3, 3, 3, 3, 3, 3, 3, 3, 3, 3, 4, 4, 4, 4, 4, 4, 4, 4, 4, 4, 4, 4, 4, 4, 4, 4, 4, 4, 4, 4, 4, 4, 4, 4, 4, 4, 4, 4, 4, 4], [0, 1, 2, 3, 4, 5, 6, 7, 8, 9, 10, 11, 12, 13, 14, 15, 16, 17, 18, 19, 20, 21, 22, 23, 24, 25, 26, 27, 28, 29, 30, 0, 1, 2, 3, 4, 5, 6, 7, 8, 9, 10, 11, 12, 13, 14, 15, 16, 17, 18, 19, 20, 21, 22, 23, 24, 25, 26, 27, 28, 29, 0, 1, 2, 3, 4, 5, 6, 7, 8, 9, 10, 11, 12, 13, 14, 15, 16, 17, 18, 19, 20, 21, 22, 23, 24, 25, 26, 27, 28, 29, 30, 0, 1, 2, 3, 4, 5, 6, 7, 8, 9, 10, 11, 12, 13, 14, 15, 16, 17, 18, 19, 20, 21, 22, 23, 24, 25, 26, 27, 28, 29, 30, 0, 1, 2, 3, 4, 5, 6, 7, 8, 9, 10, 11, 12, 13, 14, 15, 16, 17, 18, 19, 20, 21, 22, 23, 24, 25, 26, 27, 28, 29]],\n",
      "           names=['Month', 'Day']) \n",
      "\n",
      "RangeIndex(start=0, stop=153, step=1) \n",
      "\n",
      "measurement  Month  Day  Ozone  Solar.R  Temp  Wind\n",
      "0                5    1   41.0    190.0  67.0   7.4\n",
      "1                5    2   36.0    118.0  72.0   8.0\n",
      "2                5    3   12.0    149.0  74.0  12.6\n",
      "3                5    4   18.0    313.0  62.0  11.5\n",
      "4                5    5    NaN      NaN  56.0  14.3\n"
     ]
    }
   ],
   "source": [
    "print(airquality_pivot.index, '\\n')\n",
    "\n",
    "airquality_pivot_reset = airquality_pivot.reset_index()\n",
    "print(airquality_pivot_reset.index, '\\n')\n",
    "print(airquality_pivot_reset.head())"
   ]
  },
  {
   "cell_type": "markdown",
   "metadata": {},
   "source": [
    "### №13 Pivoting duplicate values\n",
    "\n",
    "* Pivot `airquality_dup` by using `.pivot_table()` with the rows indexed by `'Month'` and `'Day'`, the columns indexed by `'measurement'`, and the values populated with `'reading'`. Use `np.mean` for the aggregation function\n",
    "* Print the head of `airquality_pivot`\n",
    "* Flatten `airquality_pivot` by resetting its index\n",
    "* Print the head of `airquality_pivot` and then the original `airquality` DataFrame to compare their structure"
   ]
  },
  {
   "cell_type": "code",
   "execution_count": 38,
   "metadata": {},
   "outputs": [
    {
     "data": {
      "text/html": [
       "<div>\n",
       "<style scoped>\n",
       "    .dataframe tbody tr th:only-of-type {\n",
       "        vertical-align: middle;\n",
       "    }\n",
       "\n",
       "    .dataframe tbody tr th {\n",
       "        vertical-align: top;\n",
       "    }\n",
       "\n",
       "    .dataframe thead th {\n",
       "        text-align: right;\n",
       "    }\n",
       "</style>\n",
       "<table border=\"1\" class=\"dataframe\">\n",
       "  <thead>\n",
       "    <tr style=\"text-align: right;\">\n",
       "      <th></th>\n",
       "      <th>Month</th>\n",
       "      <th>Day</th>\n",
       "      <th>measurement</th>\n",
       "      <th>reading</th>\n",
       "    </tr>\n",
       "  </thead>\n",
       "  <tbody>\n",
       "    <tr>\n",
       "      <th>0</th>\n",
       "      <td>5</td>\n",
       "      <td>1</td>\n",
       "      <td>Ozone</td>\n",
       "      <td>41.0</td>\n",
       "    </tr>\n",
       "    <tr>\n",
       "      <th>1</th>\n",
       "      <td>5</td>\n",
       "      <td>2</td>\n",
       "      <td>Ozone</td>\n",
       "      <td>36.0</td>\n",
       "    </tr>\n",
       "    <tr>\n",
       "      <th>2</th>\n",
       "      <td>5</td>\n",
       "      <td>3</td>\n",
       "      <td>Ozone</td>\n",
       "      <td>12.0</td>\n",
       "    </tr>\n",
       "    <tr>\n",
       "      <th>3</th>\n",
       "      <td>5</td>\n",
       "      <td>4</td>\n",
       "      <td>Ozone</td>\n",
       "      <td>18.0</td>\n",
       "    </tr>\n",
       "    <tr>\n",
       "      <th>4</th>\n",
       "      <td>5</td>\n",
       "      <td>5</td>\n",
       "      <td>Ozone</td>\n",
       "      <td>NaN</td>\n",
       "    </tr>\n",
       "  </tbody>\n",
       "</table>\n",
       "</div>"
      ],
      "text/plain": [
       "   Month  Day measurement  reading\n",
       "0      5    1       Ozone     41.0\n",
       "1      5    2       Ozone     36.0\n",
       "2      5    3       Ozone     12.0\n",
       "3      5    4       Ozone     18.0\n",
       "4      5    5       Ozone      NaN"
      ]
     },
     "execution_count": 38,
     "metadata": {},
     "output_type": "execute_result"
    }
   ],
   "source": [
    "airquality_melt.head()"
   ]
  },
  {
   "cell_type": "code",
   "execution_count": 39,
   "metadata": {
    "scrolled": true
   },
   "outputs": [
    {
     "name": "stdout",
     "output_type": "stream",
     "text": [
      "measurement  Ozone  Solar.R  Temp  Wind\n",
      "Month Day                              \n",
      "5     1       41.0    190.0  67.0   7.4\n",
      "      2       36.0    118.0  72.0   8.0\n",
      "      3       12.0    149.0  74.0  12.6\n",
      "      4       18.0    313.0  62.0  11.5\n",
      "      5        NaN      NaN  56.0  14.3 \n",
      "\n",
      "measurement  Month  Day  Ozone  Solar.R  Temp  Wind\n",
      "0                5    1   41.0    190.0  67.0   7.4\n",
      "1                5    2   36.0    118.0  72.0   8.0\n",
      "2                5    3   12.0    149.0  74.0  12.6\n",
      "3                5    4   18.0    313.0  62.0  11.5\n",
      "4                5    5    NaN      NaN  56.0  14.3 \n",
      "\n",
      "   Ozone  Solar.R  Wind  Temp  Month  Day\n",
      "0   41.0    190.0   7.4    67      5    1\n",
      "1   36.0    118.0   8.0    72      5    2\n",
      "2   12.0    149.0  12.6    74      5    3\n",
      "3   18.0    313.0  11.5    62      5    4\n",
      "4    NaN      NaN  14.3    56      5    5\n"
     ]
    }
   ],
   "source": [
    "airquality_pivot = airquality_melt.pivot_table(index=['Month', 'Day'],\n",
    "                                               columns='measurement',\n",
    "                                               values='reading',\n",
    "                                               aggfunc=np.mean)\n",
    "print(airquality_pivot.head(), '\\n')\n",
    "\n",
    "airquality_pivot = airquality_pivot.reset_index()\n",
    "print(airquality_pivot.head(), '\\n')\n",
    "print(airquality.head())"
   ]
  },
  {
   "cell_type": "markdown",
   "metadata": {},
   "source": [
    "## 6. Beyond melt and pivot"
   ]
  },
  {
   "cell_type": "markdown",
   "metadata": {},
   "source": [
    "### Beyond melt and pivot\n",
    "\n",
    "* Melting and pivoting are basic tools\n",
    "* Another common problem:\n",
    "    * Columns contain multiple bits of information"
   ]
  },
  {
   "cell_type": "code",
   "execution_count": 40,
   "metadata": {},
   "outputs": [
    {
     "data": {
      "text/html": [
       "<div>\n",
       "<style scoped>\n",
       "    .dataframe tbody tr th:only-of-type {\n",
       "        vertical-align: middle;\n",
       "    }\n",
       "\n",
       "    .dataframe tbody tr th {\n",
       "        vertical-align: top;\n",
       "    }\n",
       "\n",
       "    .dataframe thead th {\n",
       "        text-align: right;\n",
       "    }\n",
       "</style>\n",
       "<table border=\"1\" class=\"dataframe\">\n",
       "  <thead>\n",
       "    <tr style=\"text-align: right;\">\n",
       "      <th></th>\n",
       "      <th>country</th>\n",
       "      <th>year</th>\n",
       "      <th>m014</th>\n",
       "      <th>m1524</th>\n",
       "    </tr>\n",
       "  </thead>\n",
       "  <tbody>\n",
       "    <tr>\n",
       "      <th>0</th>\n",
       "      <td>AD</td>\n",
       "      <td>2000</td>\n",
       "      <td>0</td>\n",
       "      <td>0</td>\n",
       "    </tr>\n",
       "    <tr>\n",
       "      <th>1</th>\n",
       "      <td>AE</td>\n",
       "      <td>2000</td>\n",
       "      <td>2</td>\n",
       "      <td>4</td>\n",
       "    </tr>\n",
       "    <tr>\n",
       "      <th>2</th>\n",
       "      <td>AF</td>\n",
       "      <td>2000</td>\n",
       "      <td>52</td>\n",
       "      <td>228</td>\n",
       "    </tr>\n",
       "  </tbody>\n",
       "</table>\n",
       "</div>"
      ],
      "text/plain": [
       "  country  year  m014  m1524\n",
       "0      AD  2000     0      0\n",
       "1      AE  2000     2      4\n",
       "2      AF  2000    52    228"
      ]
     },
     "execution_count": 40,
     "metadata": {},
     "output_type": "execute_result"
    }
   ],
   "source": [
    "tb = pd.DataFrame({'country': ['AD', 'AE', 'AF'],\n",
    "                   'year': [2000, 2000, 2000],\n",
    "                   'm014': [0, 2, 52],\n",
    "                   'm1524': [0, 4, 228]})\n",
    "tb"
   ]
  },
  {
   "cell_type": "markdown",
   "metadata": {},
   "source": [
    "### Melting and parsing\n",
    "\n",
    "* Nothing inherently wrong about original data shape\n",
    "* Not conducive for analysis"
   ]
  },
  {
   "cell_type": "code",
   "execution_count": 41,
   "metadata": {},
   "outputs": [
    {
     "data": {
      "text/html": [
       "<div>\n",
       "<style scoped>\n",
       "    .dataframe tbody tr th:only-of-type {\n",
       "        vertical-align: middle;\n",
       "    }\n",
       "\n",
       "    .dataframe tbody tr th {\n",
       "        vertical-align: top;\n",
       "    }\n",
       "\n",
       "    .dataframe thead th {\n",
       "        text-align: right;\n",
       "    }\n",
       "</style>\n",
       "<table border=\"1\" class=\"dataframe\">\n",
       "  <thead>\n",
       "    <tr style=\"text-align: right;\">\n",
       "      <th></th>\n",
       "      <th>country</th>\n",
       "      <th>year</th>\n",
       "      <th>variable</th>\n",
       "      <th>value</th>\n",
       "    </tr>\n",
       "  </thead>\n",
       "  <tbody>\n",
       "    <tr>\n",
       "      <th>0</th>\n",
       "      <td>AD</td>\n",
       "      <td>2000</td>\n",
       "      <td>m014</td>\n",
       "      <td>0</td>\n",
       "    </tr>\n",
       "    <tr>\n",
       "      <th>1</th>\n",
       "      <td>AE</td>\n",
       "      <td>2000</td>\n",
       "      <td>m014</td>\n",
       "      <td>2</td>\n",
       "    </tr>\n",
       "    <tr>\n",
       "      <th>2</th>\n",
       "      <td>AF</td>\n",
       "      <td>2000</td>\n",
       "      <td>m014</td>\n",
       "      <td>52</td>\n",
       "    </tr>\n",
       "    <tr>\n",
       "      <th>3</th>\n",
       "      <td>AD</td>\n",
       "      <td>2000</td>\n",
       "      <td>m1524</td>\n",
       "      <td>0</td>\n",
       "    </tr>\n",
       "    <tr>\n",
       "      <th>4</th>\n",
       "      <td>AE</td>\n",
       "      <td>2000</td>\n",
       "      <td>m1524</td>\n",
       "      <td>4</td>\n",
       "    </tr>\n",
       "    <tr>\n",
       "      <th>5</th>\n",
       "      <td>AF</td>\n",
       "      <td>2000</td>\n",
       "      <td>m1524</td>\n",
       "      <td>228</td>\n",
       "    </tr>\n",
       "  </tbody>\n",
       "</table>\n",
       "</div>"
      ],
      "text/plain": [
       "  country  year variable  value\n",
       "0      AD  2000     m014      0\n",
       "1      AE  2000     m014      2\n",
       "2      AF  2000     m014     52\n",
       "3      AD  2000    m1524      0\n",
       "4      AE  2000    m1524      4\n",
       "5      AF  2000    m1524    228"
      ]
     },
     "execution_count": 41,
     "metadata": {},
     "output_type": "execute_result"
    }
   ],
   "source": [
    "tb_melt = pd.melt(frame=tb, id_vars=['country', 'year']) \n",
    "tb_melt"
   ]
  },
  {
   "cell_type": "code",
   "execution_count": 42,
   "metadata": {},
   "outputs": [
    {
     "data": {
      "text/html": [
       "<div>\n",
       "<style scoped>\n",
       "    .dataframe tbody tr th:only-of-type {\n",
       "        vertical-align: middle;\n",
       "    }\n",
       "\n",
       "    .dataframe tbody tr th {\n",
       "        vertical-align: top;\n",
       "    }\n",
       "\n",
       "    .dataframe thead th {\n",
       "        text-align: right;\n",
       "    }\n",
       "</style>\n",
       "<table border=\"1\" class=\"dataframe\">\n",
       "  <thead>\n",
       "    <tr style=\"text-align: right;\">\n",
       "      <th></th>\n",
       "      <th>country</th>\n",
       "      <th>year</th>\n",
       "      <th>variable</th>\n",
       "      <th>value</th>\n",
       "      <th>sex</th>\n",
       "    </tr>\n",
       "  </thead>\n",
       "  <tbody>\n",
       "    <tr>\n",
       "      <th>0</th>\n",
       "      <td>AD</td>\n",
       "      <td>2000</td>\n",
       "      <td>m014</td>\n",
       "      <td>0</td>\n",
       "      <td>m</td>\n",
       "    </tr>\n",
       "    <tr>\n",
       "      <th>1</th>\n",
       "      <td>AE</td>\n",
       "      <td>2000</td>\n",
       "      <td>m014</td>\n",
       "      <td>2</td>\n",
       "      <td>m</td>\n",
       "    </tr>\n",
       "    <tr>\n",
       "      <th>2</th>\n",
       "      <td>AF</td>\n",
       "      <td>2000</td>\n",
       "      <td>m014</td>\n",
       "      <td>52</td>\n",
       "      <td>m</td>\n",
       "    </tr>\n",
       "    <tr>\n",
       "      <th>3</th>\n",
       "      <td>AD</td>\n",
       "      <td>2000</td>\n",
       "      <td>m1524</td>\n",
       "      <td>0</td>\n",
       "      <td>m</td>\n",
       "    </tr>\n",
       "    <tr>\n",
       "      <th>4</th>\n",
       "      <td>AE</td>\n",
       "      <td>2000</td>\n",
       "      <td>m1524</td>\n",
       "      <td>4</td>\n",
       "      <td>m</td>\n",
       "    </tr>\n",
       "    <tr>\n",
       "      <th>5</th>\n",
       "      <td>AF</td>\n",
       "      <td>2000</td>\n",
       "      <td>m1524</td>\n",
       "      <td>228</td>\n",
       "      <td>m</td>\n",
       "    </tr>\n",
       "  </tbody>\n",
       "</table>\n",
       "</div>"
      ],
      "text/plain": [
       "  country  year variable  value sex\n",
       "0      AD  2000     m014      0   m\n",
       "1      AE  2000     m014      2   m\n",
       "2      AF  2000     m014     52   m\n",
       "3      AD  2000    m1524      0   m\n",
       "4      AE  2000    m1524      4   m\n",
       "5      AF  2000    m1524    228   m"
      ]
     },
     "execution_count": 42,
     "metadata": {},
     "output_type": "execute_result"
    }
   ],
   "source": [
    "tb_melt['sex'] = tb_melt.variable.str[0]\n",
    "tb_melt "
   ]
  },
  {
   "cell_type": "markdown",
   "metadata": {},
   "source": [
    "### №14 Splitting a column with `.str`\n",
    "\n",
    "* Melt tb keeping `'country'` and `'year'` fixed\n",
    "* Create a `'gender'` column by slicing the first letter of the `variable` column of `tb_melt`\n",
    "* Create an `'age_group'` column by slicing the rest of the `variable` column of `tb_melt`\n",
    "* Print the head of `tb_melt`"
   ]
  },
  {
   "cell_type": "code",
   "execution_count": 43,
   "metadata": {},
   "outputs": [
    {
     "name": "stdout",
     "output_type": "stream",
     "text": [
      "  country  year variable  value gender age_group\n",
      "0      AD  2000     m014      0      m       014\n",
      "1      AE  2000     m014      2      m       014\n",
      "2      AF  2000     m014     52      m       014\n",
      "3      AD  2000    m1524      0      m      1524\n",
      "4      AE  2000    m1524      4      m      1524\n"
     ]
    }
   ],
   "source": [
    "tb_melt = pd.melt(frame=tb, id_vars=['country', 'year'])\n",
    "\n",
    "tb_melt['gender'] = tb_melt.variable.str[0]\n",
    "tb_melt['age_group'] = tb_melt.variable.str[1:]\n",
    "\n",
    "print(tb_melt.head())"
   ]
  },
  {
   "cell_type": "markdown",
   "metadata": {},
   "source": [
    "### №15 Splitting a column with .split() and .get()\n",
    "\n",
    "* Melt ebola using `'Date'` and `'Day'` as the `id_vars`, `'type_country'` as the `var_name`, and `'counts'` as the `value_name`\n",
    "* Create a column called `'str_split'` by splitting the `'type_country'` column of `ebola_melt` on `'_'`. Note that you will first have to access the str attribute of type_country before you can use `.split()`\n",
    "* Create a column called `'type'` by using the `.get()` method to retrieve index 0 of the `'str_split'` column of `ebola_melt`\n",
    "* Create a column called `'country'` by using the `.get()` method to retrieve index 1 of the `'str_split'` column of `ebola_melt`\n",
    "* Print the head of `ebola_melt`"
   ]
  },
  {
   "cell_type": "code",
   "execution_count": 44,
   "metadata": {},
   "outputs": [
    {
     "data": {
      "text/html": [
       "<div>\n",
       "<style scoped>\n",
       "    .dataframe tbody tr th:only-of-type {\n",
       "        vertical-align: middle;\n",
       "    }\n",
       "\n",
       "    .dataframe tbody tr th {\n",
       "        vertical-align: top;\n",
       "    }\n",
       "\n",
       "    .dataframe thead th {\n",
       "        text-align: right;\n",
       "    }\n",
       "</style>\n",
       "<table border=\"1\" class=\"dataframe\">\n",
       "  <thead>\n",
       "    <tr style=\"text-align: right;\">\n",
       "      <th></th>\n",
       "      <th>Date</th>\n",
       "      <th>Day</th>\n",
       "      <th>Cases_Guinea</th>\n",
       "      <th>Cases_Liberia</th>\n",
       "      <th>Cases_SierraLeone</th>\n",
       "      <th>Cases_Nigeria</th>\n",
       "      <th>Cases_Senegal</th>\n",
       "      <th>Cases_UnitedStates</th>\n",
       "      <th>Cases_Spain</th>\n",
       "      <th>Cases_Mali</th>\n",
       "      <th>Deaths_Guinea</th>\n",
       "      <th>Deaths_Liberia</th>\n",
       "      <th>Deaths_SierraLeone</th>\n",
       "      <th>Deaths_Nigeria</th>\n",
       "      <th>Deaths_Senegal</th>\n",
       "      <th>Deaths_UnitedStates</th>\n",
       "      <th>Deaths_Spain</th>\n",
       "      <th>Deaths_Mali</th>\n",
       "    </tr>\n",
       "  </thead>\n",
       "  <tbody>\n",
       "    <tr>\n",
       "      <th>0</th>\n",
       "      <td>1/5/2015</td>\n",
       "      <td>289</td>\n",
       "      <td>2776.0</td>\n",
       "      <td>NaN</td>\n",
       "      <td>10030.0</td>\n",
       "      <td>NaN</td>\n",
       "      <td>NaN</td>\n",
       "      <td>NaN</td>\n",
       "      <td>NaN</td>\n",
       "      <td>NaN</td>\n",
       "      <td>1786.0</td>\n",
       "      <td>NaN</td>\n",
       "      <td>2977.0</td>\n",
       "      <td>NaN</td>\n",
       "      <td>NaN</td>\n",
       "      <td>NaN</td>\n",
       "      <td>NaN</td>\n",
       "      <td>NaN</td>\n",
       "    </tr>\n",
       "    <tr>\n",
       "      <th>1</th>\n",
       "      <td>1/4/2015</td>\n",
       "      <td>288</td>\n",
       "      <td>2775.0</td>\n",
       "      <td>NaN</td>\n",
       "      <td>9780.0</td>\n",
       "      <td>NaN</td>\n",
       "      <td>NaN</td>\n",
       "      <td>NaN</td>\n",
       "      <td>NaN</td>\n",
       "      <td>NaN</td>\n",
       "      <td>1781.0</td>\n",
       "      <td>NaN</td>\n",
       "      <td>2943.0</td>\n",
       "      <td>NaN</td>\n",
       "      <td>NaN</td>\n",
       "      <td>NaN</td>\n",
       "      <td>NaN</td>\n",
       "      <td>NaN</td>\n",
       "    </tr>\n",
       "    <tr>\n",
       "      <th>2</th>\n",
       "      <td>1/3/2015</td>\n",
       "      <td>287</td>\n",
       "      <td>2769.0</td>\n",
       "      <td>8166.0</td>\n",
       "      <td>9722.0</td>\n",
       "      <td>NaN</td>\n",
       "      <td>NaN</td>\n",
       "      <td>NaN</td>\n",
       "      <td>NaN</td>\n",
       "      <td>NaN</td>\n",
       "      <td>1767.0</td>\n",
       "      <td>3496.0</td>\n",
       "      <td>2915.0</td>\n",
       "      <td>NaN</td>\n",
       "      <td>NaN</td>\n",
       "      <td>NaN</td>\n",
       "      <td>NaN</td>\n",
       "      <td>NaN</td>\n",
       "    </tr>\n",
       "    <tr>\n",
       "      <th>3</th>\n",
       "      <td>1/2/2015</td>\n",
       "      <td>286</td>\n",
       "      <td>NaN</td>\n",
       "      <td>8157.0</td>\n",
       "      <td>NaN</td>\n",
       "      <td>NaN</td>\n",
       "      <td>NaN</td>\n",
       "      <td>NaN</td>\n",
       "      <td>NaN</td>\n",
       "      <td>NaN</td>\n",
       "      <td>NaN</td>\n",
       "      <td>3496.0</td>\n",
       "      <td>NaN</td>\n",
       "      <td>NaN</td>\n",
       "      <td>NaN</td>\n",
       "      <td>NaN</td>\n",
       "      <td>NaN</td>\n",
       "      <td>NaN</td>\n",
       "    </tr>\n",
       "    <tr>\n",
       "      <th>4</th>\n",
       "      <td>12/31/2014</td>\n",
       "      <td>284</td>\n",
       "      <td>2730.0</td>\n",
       "      <td>8115.0</td>\n",
       "      <td>9633.0</td>\n",
       "      <td>NaN</td>\n",
       "      <td>NaN</td>\n",
       "      <td>NaN</td>\n",
       "      <td>NaN</td>\n",
       "      <td>NaN</td>\n",
       "      <td>1739.0</td>\n",
       "      <td>3471.0</td>\n",
       "      <td>2827.0</td>\n",
       "      <td>NaN</td>\n",
       "      <td>NaN</td>\n",
       "      <td>NaN</td>\n",
       "      <td>NaN</td>\n",
       "      <td>NaN</td>\n",
       "    </tr>\n",
       "  </tbody>\n",
       "</table>\n",
       "</div>"
      ],
      "text/plain": [
       "         Date  Day  Cases_Guinea  Cases_Liberia  Cases_SierraLeone  \\\n",
       "0    1/5/2015  289        2776.0            NaN            10030.0   \n",
       "1    1/4/2015  288        2775.0            NaN             9780.0   \n",
       "2    1/3/2015  287        2769.0         8166.0             9722.0   \n",
       "3    1/2/2015  286           NaN         8157.0                NaN   \n",
       "4  12/31/2014  284        2730.0         8115.0             9633.0   \n",
       "\n",
       "   Cases_Nigeria  Cases_Senegal  Cases_UnitedStates  Cases_Spain  Cases_Mali  \\\n",
       "0            NaN            NaN                 NaN          NaN         NaN   \n",
       "1            NaN            NaN                 NaN          NaN         NaN   \n",
       "2            NaN            NaN                 NaN          NaN         NaN   \n",
       "3            NaN            NaN                 NaN          NaN         NaN   \n",
       "4            NaN            NaN                 NaN          NaN         NaN   \n",
       "\n",
       "   Deaths_Guinea  Deaths_Liberia  Deaths_SierraLeone  Deaths_Nigeria  \\\n",
       "0         1786.0             NaN              2977.0             NaN   \n",
       "1         1781.0             NaN              2943.0             NaN   \n",
       "2         1767.0          3496.0              2915.0             NaN   \n",
       "3            NaN          3496.0                 NaN             NaN   \n",
       "4         1739.0          3471.0              2827.0             NaN   \n",
       "\n",
       "   Deaths_Senegal  Deaths_UnitedStates  Deaths_Spain  Deaths_Mali  \n",
       "0             NaN                  NaN           NaN          NaN  \n",
       "1             NaN                  NaN           NaN          NaN  \n",
       "2             NaN                  NaN           NaN          NaN  \n",
       "3             NaN                  NaN           NaN          NaN  \n",
       "4             NaN                  NaN           NaN          NaN  "
      ]
     },
     "execution_count": 44,
     "metadata": {},
     "output_type": "execute_result"
    }
   ],
   "source": [
    "ebola = pd.read_csv('Cleaning_Data_in_Python/ebola.csv')\n",
    "ebola.head()"
   ]
  },
  {
   "cell_type": "code",
   "execution_count": 45,
   "metadata": {},
   "outputs": [
    {
     "name": "stdout",
     "output_type": "stream",
     "text": [
      "         Date  Day  type_country  counts\n",
      "0    1/5/2015  289  Cases_Guinea  2776.0\n",
      "1    1/4/2015  288  Cases_Guinea  2775.0\n",
      "2    1/3/2015  287  Cases_Guinea  2769.0\n",
      "3    1/2/2015  286  Cases_Guinea     NaN\n",
      "4  12/31/2014  284  Cases_Guinea  2730.0\n",
      "         Date  Day  type_country  counts        str_split   type country\n",
      "0    1/5/2015  289  Cases_Guinea  2776.0  [Cases, Guinea]  Cases  Guinea\n",
      "1    1/4/2015  288  Cases_Guinea  2775.0  [Cases, Guinea]  Cases  Guinea\n",
      "2    1/3/2015  287  Cases_Guinea  2769.0  [Cases, Guinea]  Cases  Guinea\n",
      "3    1/2/2015  286  Cases_Guinea     NaN  [Cases, Guinea]  Cases  Guinea\n",
      "4  12/31/2014  284  Cases_Guinea  2730.0  [Cases, Guinea]  Cases  Guinea \n",
      "\n"
     ]
    }
   ],
   "source": [
    "ebola_melt = pd.melt(ebola, id_vars=['Date', 'Day'],\n",
    "                     var_name='type_country',\n",
    "                     value_name='counts')\n",
    "print(ebola_melt.head())\n",
    "\n",
    "ebola_melt['str_split'] = ebola_melt['type_country'].str.split('_')\n",
    "ebola_melt['type'] = ebola_melt.str_split.str.get(0)\n",
    "ebola_melt['country'] = ebola_melt.str_split.str.get(1)\n",
    "\n",
    "print(ebola_melt.head(), '\\n')"
   ]
  },
  {
   "cell_type": "markdown",
   "metadata": {},
   "source": [
    "## Chapter 3. Combining data for analysis"
   ]
  },
  {
   "cell_type": "markdown",
   "metadata": {},
   "source": [
    "## 7. Concatenating data"
   ]
  },
  {
   "cell_type": "markdown",
   "metadata": {},
   "source": [
    "### Combining data\n",
    "\n",
    "* Data may not always come in 1 huge file\n",
    "    * 5 million row dataset may be broken into 5 separate datasets\n",
    "    * Easier to store and share\n",
    "    * May have new data for each day\n",
    "* Important to be able to combine then clean, or vice versa"
   ]
  },
  {
   "cell_type": "markdown",
   "metadata": {},
   "source": [
    "### Concatenation\n",
    "\n",
    "<img src='Cleaning_Data_in_Python/Pictures/Concatenation.png' alt='Concatenation' align='left' width=400>"
   ]
  },
  {
   "cell_type": "markdown",
   "metadata": {},
   "source": [
    "### pandas concat (rows indexes stayed original)"
   ]
  },
  {
   "cell_type": "code",
   "execution_count": 46,
   "metadata": {},
   "outputs": [],
   "source": [
    "weather_p1 = pd.DataFrame({'date': ['2010-01-30', '2010-01-30'],\n",
    "                          'element': ['tmax', 'tmin'],\n",
    "                          'value': [27.8, 14.5]})\n",
    "weather_p2 = pd.DataFrame({'date': ['2010-02-02', '2010-02-02'],\n",
    "                          'element': ['tmax', 'tmin'],\n",
    "                          'value': [27.4, 14.4]})"
   ]
  },
  {
   "cell_type": "code",
   "execution_count": 47,
   "metadata": {},
   "outputs": [
    {
     "data": {
      "text/html": [
       "<div>\n",
       "<style scoped>\n",
       "    .dataframe tbody tr th:only-of-type {\n",
       "        vertical-align: middle;\n",
       "    }\n",
       "\n",
       "    .dataframe tbody tr th {\n",
       "        vertical-align: top;\n",
       "    }\n",
       "\n",
       "    .dataframe thead th {\n",
       "        text-align: right;\n",
       "    }\n",
       "</style>\n",
       "<table border=\"1\" class=\"dataframe\">\n",
       "  <thead>\n",
       "    <tr style=\"text-align: right;\">\n",
       "      <th></th>\n",
       "      <th>date</th>\n",
       "      <th>element</th>\n",
       "      <th>value</th>\n",
       "    </tr>\n",
       "  </thead>\n",
       "  <tbody>\n",
       "    <tr>\n",
       "      <th>0</th>\n",
       "      <td>2010-01-30</td>\n",
       "      <td>tmax</td>\n",
       "      <td>27.8</td>\n",
       "    </tr>\n",
       "    <tr>\n",
       "      <th>1</th>\n",
       "      <td>2010-01-30</td>\n",
       "      <td>tmin</td>\n",
       "      <td>14.5</td>\n",
       "    </tr>\n",
       "    <tr>\n",
       "      <th>0</th>\n",
       "      <td>2010-02-02</td>\n",
       "      <td>tmax</td>\n",
       "      <td>27.4</td>\n",
       "    </tr>\n",
       "    <tr>\n",
       "      <th>1</th>\n",
       "      <td>2010-02-02</td>\n",
       "      <td>tmin</td>\n",
       "      <td>14.4</td>\n",
       "    </tr>\n",
       "  </tbody>\n",
       "</table>\n",
       "</div>"
      ],
      "text/plain": [
       "         date element  value\n",
       "0  2010-01-30    tmax   27.8\n",
       "1  2010-01-30    tmin   14.5\n",
       "0  2010-02-02    tmax   27.4\n",
       "1  2010-02-02    tmin   14.4"
      ]
     },
     "execution_count": 47,
     "metadata": {},
     "output_type": "execute_result"
    }
   ],
   "source": [
    "concatenated = pd.concat([weather_p1, weather_p2])\n",
    "concatenated"
   ]
  },
  {
   "cell_type": "code",
   "execution_count": 48,
   "metadata": {},
   "outputs": [
    {
     "data": {
      "text/html": [
       "<div>\n",
       "<style scoped>\n",
       "    .dataframe tbody tr th:only-of-type {\n",
       "        vertical-align: middle;\n",
       "    }\n",
       "\n",
       "    .dataframe tbody tr th {\n",
       "        vertical-align: top;\n",
       "    }\n",
       "\n",
       "    .dataframe thead th {\n",
       "        text-align: right;\n",
       "    }\n",
       "</style>\n",
       "<table border=\"1\" class=\"dataframe\">\n",
       "  <thead>\n",
       "    <tr style=\"text-align: right;\">\n",
       "      <th></th>\n",
       "      <th>date</th>\n",
       "      <th>element</th>\n",
       "      <th>value</th>\n",
       "    </tr>\n",
       "  </thead>\n",
       "  <tbody>\n",
       "    <tr>\n",
       "      <th>0</th>\n",
       "      <td>2010-01-30</td>\n",
       "      <td>tmax</td>\n",
       "      <td>27.8</td>\n",
       "    </tr>\n",
       "    <tr>\n",
       "      <th>0</th>\n",
       "      <td>2010-02-02</td>\n",
       "      <td>tmax</td>\n",
       "      <td>27.4</td>\n",
       "    </tr>\n",
       "  </tbody>\n",
       "</table>\n",
       "</div>"
      ],
      "text/plain": [
       "         date element  value\n",
       "0  2010-01-30    tmax   27.8\n",
       "0  2010-02-02    tmax   27.4"
      ]
     },
     "execution_count": 48,
     "metadata": {},
     "output_type": "execute_result"
    }
   ],
   "source": [
    "concatenated = concatenated.loc[0, :]\n",
    "concatenated"
   ]
  },
  {
   "cell_type": "markdown",
   "metadata": {},
   "source": [
    "### pandas concat (`ignore_index=True`)"
   ]
  },
  {
   "cell_type": "code",
   "execution_count": 49,
   "metadata": {},
   "outputs": [
    {
     "data": {
      "text/html": [
       "<div>\n",
       "<style scoped>\n",
       "    .dataframe tbody tr th:only-of-type {\n",
       "        vertical-align: middle;\n",
       "    }\n",
       "\n",
       "    .dataframe tbody tr th {\n",
       "        vertical-align: top;\n",
       "    }\n",
       "\n",
       "    .dataframe thead th {\n",
       "        text-align: right;\n",
       "    }\n",
       "</style>\n",
       "<table border=\"1\" class=\"dataframe\">\n",
       "  <thead>\n",
       "    <tr style=\"text-align: right;\">\n",
       "      <th></th>\n",
       "      <th>date</th>\n",
       "      <th>element</th>\n",
       "      <th>value</th>\n",
       "    </tr>\n",
       "  </thead>\n",
       "  <tbody>\n",
       "    <tr>\n",
       "      <th>0</th>\n",
       "      <td>2010-01-30</td>\n",
       "      <td>tmax</td>\n",
       "      <td>27.8</td>\n",
       "    </tr>\n",
       "    <tr>\n",
       "      <th>1</th>\n",
       "      <td>2010-01-30</td>\n",
       "      <td>tmin</td>\n",
       "      <td>14.5</td>\n",
       "    </tr>\n",
       "    <tr>\n",
       "      <th>2</th>\n",
       "      <td>2010-02-02</td>\n",
       "      <td>tmax</td>\n",
       "      <td>27.4</td>\n",
       "    </tr>\n",
       "    <tr>\n",
       "      <th>3</th>\n",
       "      <td>2010-02-02</td>\n",
       "      <td>tmin</td>\n",
       "      <td>14.4</td>\n",
       "    </tr>\n",
       "  </tbody>\n",
       "</table>\n",
       "</div>"
      ],
      "text/plain": [
       "         date element  value\n",
       "0  2010-01-30    tmax   27.8\n",
       "1  2010-01-30    tmin   14.5\n",
       "2  2010-02-02    tmax   27.4\n",
       "3  2010-02-02    tmin   14.4"
      ]
     },
     "execution_count": 49,
     "metadata": {},
     "output_type": "execute_result"
    }
   ],
   "source": [
    "pd.concat([weather_p1, weather_p2], ignore_index=True)"
   ]
  },
  {
   "cell_type": "markdown",
   "metadata": {},
   "source": [
    "### Concatenating DataFrames\n",
    "\n",
    "<img src='Cleaning_Data_in_Python/Pictures/Concatenating_DataFrames.png' alt='Concatenating DataFrames' align=left width=400>"
   ]
  },
  {
   "cell_type": "markdown",
   "metadata": {},
   "source": [
    "### №16 Combining rows of data\n",
    "\n",
    "* Concatenate `uber1`, `uber2`, and `uber3` together using `pd.concat()`. You'll have to pass the DataFrames in as a list\n",
    "* Print the shape and then the head of the concatenated DataFrame, `row_concat`"
   ]
  },
  {
   "cell_type": "code",
   "execution_count": 50,
   "metadata": {},
   "outputs": [],
   "source": [
    "uber1 = pd.read_csv('Cleaning_Data_in_Python/uber1.csv')\n",
    "uber2 = pd.read_csv('Cleaning_Data_in_Python/uber2.csv')\n",
    "uber3 = pd.read_csv('Cleaning_Data_in_Python/uber3.csv')"
   ]
  },
  {
   "cell_type": "code",
   "execution_count": 51,
   "metadata": {},
   "outputs": [
    {
     "name": "stdout",
     "output_type": "stream",
     "text": [
      "(312, 4)\n",
      "          Date/Time      Lat      Lon    Base\n",
      "0  5/1/2014 3:50:00  40.7299 -73.9868  B02512\n",
      "1  5/1/2014 3:57:00  40.7762 -73.9499  B02512\n",
      "2  5/1/2014 3:58:00  40.7538 -73.9774  B02512\n",
      "3  5/1/2014 3:58:00  40.6819 -73.6850  B02512\n",
      "4  5/1/2014 4:04:00  40.7580 -73.9892  B02512\n"
     ]
    }
   ],
   "source": [
    "row_concat = pd.concat([uber1, uber2, uber3])\n",
    "\n",
    "print(row_concat.shape)\n",
    "\n",
    "print(row_concat.head())"
   ]
  },
  {
   "cell_type": "markdown",
   "metadata": {},
   "source": [
    "### №17 Combining columns of data\n",
    "\n",
    "* Concatenate `ebola_melt` and `status_country` column-wise into a single DataFrame called `ebola_tidy`. Be sure to specify `axis=1` and to pass the two DataFrames in as a list\n",
    "* Print the shape and then the head of the concatenated DataFrame, `ebola_tidy`"
   ]
  },
  {
   "cell_type": "code",
   "execution_count": 52,
   "metadata": {},
   "outputs": [],
   "source": [
    "status_country = pd.concat([ebola_melt['type'], ebola_melt['country']], axis=1)\n",
    "status_country.columns = ['status', 'country']\n",
    "\n",
    "ebola_melt = pd.melt(ebola, id_vars=['Date', 'Day'],\n",
    "                     var_name='status_country',\n",
    "                     value_name='counts')"
   ]
  },
  {
   "cell_type": "code",
   "execution_count": 53,
   "metadata": {},
   "outputs": [
    {
     "name": "stdout",
     "output_type": "stream",
     "text": [
      "(1952, 6)\n",
      "         Date  Day status_country  counts status country\n",
      "0    1/5/2015  289   Cases_Guinea  2776.0  Cases  Guinea\n",
      "1    1/4/2015  288   Cases_Guinea  2775.0  Cases  Guinea\n",
      "2    1/3/2015  287   Cases_Guinea  2769.0  Cases  Guinea\n",
      "3    1/2/2015  286   Cases_Guinea     NaN  Cases  Guinea\n",
      "4  12/31/2014  284   Cases_Guinea  2730.0  Cases  Guinea\n"
     ]
    }
   ],
   "source": [
    "ebola_tidy = pd.concat([ebola_melt, status_country], axis=1)\n",
    "\n",
    "print(ebola_tidy.shape)\n",
    "\n",
    "print(ebola_tidy.head())"
   ]
  },
  {
   "cell_type": "markdown",
   "metadata": {},
   "source": [
    "## 8. Finding and concatenating data"
   ]
  },
  {
   "cell_type": "markdown",
   "metadata": {},
   "source": [
    "### Concatenating many files\n",
    "\n",
    "* Leverage Python’s features with data cleaning in pandas\n",
    "* In order to concatenate DataFrames:\n",
    "    * They must be in a list\n",
    "    * Can individually load if there are a few datasets\n",
    "    * But what if there are thousands?\n",
    "* Solution: glob function to find files based on a pattern"
   ]
  },
  {
   "cell_type": "markdown",
   "metadata": {},
   "source": [
    "### Globbing\n",
    "\n",
    "* Pattern matching for file names\n",
    "* Wildcards: * ?\n",
    "    * Any csv file: *.csv\n",
    "    * Any single character: file_?.csv\n",
    "* Returns a list of file names\n",
    "* Can use this list to load into separate DataFrames"
   ]
  },
  {
   "cell_type": "markdown",
   "metadata": {},
   "source": [
    "### The plan\n",
    "\n",
    "* Load files from globbing into pandas\n",
    "* Add the DataFrames into a list\n",
    "* Concatenate multiple datasets at once"
   ]
  },
  {
   "cell_type": "markdown",
   "metadata": {},
   "source": [
    "### Find and concatenate\n",
    "```python\n",
    "In [1]: import glob\n",
    "    \n",
    "In [2]: csv_files = glob.glob('*.csv')\n",
    "    \n",
    "In [3]: print(csv_files)\n",
    "```\n",
    "```\n",
    "        ['file5.csv', 'file2.csv', 'file3.csv', 'file1.csv', 'file4.csv']\n",
    "```"
   ]
  },
  {
   "cell_type": "code",
   "execution_count": 54,
   "metadata": {},
   "outputs": [
    {
     "name": "stdout",
     "output_type": "stream",
     "text": [
      "['Cleaning_Data_in_Python/airquality.csv', 'Cleaning_Data_in_Python/billboard.csv', 'Cleaning_Data_in_Python/tips_nan.csv', 'Cleaning_Data_in_Python/gapminder_melt.csv', 'Cleaning_Data_in_Python/nyc_uber_2014.csv', 'Cleaning_Data_in_Python/tips.csv', 'Cleaning_Data_in_Python/literacy_birth_rate.csv', 'Cleaning_Data_in_Python/dob_job_application_filings_subset.csv', 'Cleaning_Data_in_Python/uber3.csv', 'Cleaning_Data_in_Python/uber2.csv', 'Cleaning_Data_in_Python/uber1.csv', 'Cleaning_Data_in_Python/uber_raw_data_2014_05.csv', 'Cleaning_Data_in_Python/ebola.csv', 'Cleaning_Data_in_Python/uber_raw_data_2014_04.csv', 'Cleaning_Data_in_Python/g1800s.csv', 'Cleaning_Data_in_Python/uber_raw_data_2014_06.csv', 'Cleaning_Data_in_Python/survey.csv', 'Cleaning_Data_in_Python/tb.csv', 'Cleaning_Data_in_Python/gapminder.csv', 'Cleaning_Data_in_Python/gapminder_agg.csv']\n"
     ]
    }
   ],
   "source": [
    "import glob\n",
    "\n",
    "csv_files = glob.glob('Cleaning_Data_in_Python/*.csv')\n",
    "print(csv_files)"
   ]
  },
  {
   "cell_type": "markdown",
   "metadata": {},
   "source": [
    "#### Using loops\n",
    "```python\n",
    "In [4]: list_data = []\n",
    "    \n",
    "In [5]: for filename in csv_files:\n",
    "            data = pd.read_csv(filename)\n",
    "            list_data.append(data)\n",
    "        \n",
    "In [6]: pd.concat(list_data)\n",
    "```"
   ]
  },
  {
   "cell_type": "markdown",
   "metadata": {},
   "source": [
    "### №18 Finding files that match a pattern\n",
    "\n",
    "* Import the `glob` module\n",
    "* Write a pattern to match all `.csv` files\n",
    "* Save all files that match the pattern using the `glob()` function within the `glob` module That is, by using `glob.glob()`\n",
    "* Print the list of file names. This has been done for you\n",
    "* Read the second file in `csv_files` (i.e., index `1`) into a DataFrame called `csv2`\n",
    "* Print the head of `csv2`"
   ]
  },
  {
   "cell_type": "code",
   "execution_count": 55,
   "metadata": {},
   "outputs": [
    {
     "name": "stdout",
     "output_type": "stream",
     "text": [
      "['Cleaning_Data_in_Python/uber_raw_data_2014_05.csv', 'Cleaning_Data_in_Python/uber_raw_data_2014_04.csv', 'Cleaning_Data_in_Python/uber_raw_data_2014_06.csv']\n",
      "          Date/Time      Lat      Lon    Base\n",
      "0  4/1/2014 0:11:00  40.7690 -73.9549  B02512\n",
      "1  4/1/2014 0:17:00  40.7267 -74.0345  B02512\n",
      "2  4/1/2014 0:21:00  40.7316 -73.9873  B02512\n",
      "3  4/1/2014 0:28:00  40.7588 -73.9776  B02512\n",
      "4  4/1/2014 0:33:00  40.7383 -74.0403  B02512\n"
     ]
    }
   ],
   "source": [
    "import glob\n",
    "\n",
    "pattern = 'Cleaning_Data_in_Python/uber_raw_data_2014*.csv'\n",
    "\n",
    "csv_files = glob.glob(pattern)\n",
    "print(csv_files)\n",
    "\n",
    "csv2 = pd.read_csv(csv_files[1])\n",
    "print(csv2.head())"
   ]
  },
  {
   "cell_type": "markdown",
   "metadata": {},
   "source": [
    "### №19 Iterating and concatenating all matches\n",
    "\n",
    "* Write a `for` loop to iterate through `csv_files`:\n",
    "    * In each iteration of the loop, read csv into a DataFrame called `df`\n",
    "    * After creating `df`, append it to the list frames using the `.append()` method\n",
    "* Concatenate frames into a single DataFrame called `uber`\n",
    "* Print the head and shape of the concatenated DataFrame!"
   ]
  },
  {
   "cell_type": "code",
   "execution_count": 56,
   "metadata": {},
   "outputs": [
    {
     "name": "stdout",
     "output_type": "stream",
     "text": [
      "(312, 4)\n",
      "          Date/Time      Lat      Lon    Base\n",
      "0  5/1/2014 0:02:00  40.7521 -73.9914  B02512\n",
      "1  5/1/2014 0:06:00  40.6965 -73.9715  B02512\n",
      "2  5/1/2014 0:15:00  40.7464 -73.9838  B02512\n",
      "3  5/1/2014 0:17:00  40.7463 -74.0011  B02512\n",
      "4  5/1/2014 0:17:00  40.7594 -73.9734  B02512\n"
     ]
    }
   ],
   "source": [
    "frames = []\n",
    "\n",
    "for csv in csv_files:\n",
    "    df_uber = pd.read_csv(csv)\n",
    "    frames.append(df_uber)\n",
    "\n",
    "uber = pd.concat(frames)\n",
    "\n",
    "print(uber.shape)\n",
    "print(uber.head())"
   ]
  },
  {
   "cell_type": "markdown",
   "metadata": {},
   "source": [
    "## 9. Merge data"
   ]
  },
  {
   "cell_type": "markdown",
   "metadata": {},
   "source": [
    "### Combining data\n",
    "\n",
    "* Concatenation is not the only way data can be combined\n",
    "\n",
    "<img src='Cleaning_Data_in_Python/Pictures/Combining_data.png' align='left' alt='Combining data' width=400>"
   ]
  },
  {
   "cell_type": "markdown",
   "metadata": {},
   "source": [
    "### Merging data\n",
    "\n",
    "* Similar to joining tables in SQL\n",
    "* Combine disparate datasets based on common columns\n",
    "\n",
    "<img src='Cleaning_Data_in_Python/Pictures/Merge_data.png' align='left' alt='Merge_data' width=400>"
   ]
  },
  {
   "cell_type": "markdown",
   "metadata": {},
   "source": [
    "### Merging data"
   ]
  },
  {
   "cell_type": "code",
   "execution_count": 57,
   "metadata": {},
   "outputs": [
    {
     "data": {
      "text/html": [
       "<div>\n",
       "<style scoped>\n",
       "    .dataframe tbody tr th:only-of-type {\n",
       "        vertical-align: middle;\n",
       "    }\n",
       "\n",
       "    .dataframe tbody tr th {\n",
       "        vertical-align: top;\n",
       "    }\n",
       "\n",
       "    .dataframe thead th {\n",
       "        text-align: right;\n",
       "    }\n",
       "</style>\n",
       "<table border=\"1\" class=\"dataframe\">\n",
       "  <thead>\n",
       "    <tr style=\"text-align: right;\">\n",
       "      <th></th>\n",
       "      <th>state</th>\n",
       "      <th>population_2016</th>\n",
       "      <th>name</th>\n",
       "      <th>ANSI</th>\n",
       "    </tr>\n",
       "  </thead>\n",
       "  <tbody>\n",
       "    <tr>\n",
       "      <th>0</th>\n",
       "      <td>California</td>\n",
       "      <td>39250017</td>\n",
       "      <td>California</td>\n",
       "      <td>CA</td>\n",
       "    </tr>\n",
       "    <tr>\n",
       "      <th>1</th>\n",
       "      <td>Texas</td>\n",
       "      <td>27862596</td>\n",
       "      <td>Texas</td>\n",
       "      <td>FL</td>\n",
       "    </tr>\n",
       "    <tr>\n",
       "      <th>2</th>\n",
       "      <td>Florida</td>\n",
       "      <td>20612439</td>\n",
       "      <td>Florida</td>\n",
       "      <td>NY</td>\n",
       "    </tr>\n",
       "    <tr>\n",
       "      <th>3</th>\n",
       "      <td>New York</td>\n",
       "      <td>19745290</td>\n",
       "      <td>New York</td>\n",
       "      <td>TX</td>\n",
       "    </tr>\n",
       "  </tbody>\n",
       "</table>\n",
       "</div>"
      ],
      "text/plain": [
       "        state  population_2016        name ANSI\n",
       "0  California         39250017  California   CA\n",
       "1       Texas         27862596       Texas   FL\n",
       "2     Florida         20612439     Florida   NY\n",
       "3    New York         19745290    New York   TX"
      ]
     },
     "execution_count": 57,
     "metadata": {},
     "output_type": "execute_result"
    }
   ],
   "source": [
    "state_populations = pd.DataFrame({'state': ['California', 'Texas', 'Florida', 'New York'],\n",
    "                                  'population_2016': [39250017, 27862596, 20612439, 19745290]})\n",
    "state_codes = pd.DataFrame({'name': ['California', 'Texas', 'Florida', 'New York'],\n",
    "                            'ANSI': ['CA', 'FL', 'NY', 'TX']})\n",
    "\n",
    "pd.merge(left=state_populations, right=state_codes, on=None, left_on='state', right_on='name')"
   ]
  },
  {
   "cell_type": "markdown",
   "metadata": {},
   "source": [
    "### Types of merges\n",
    "\n",
    "* One-to-one\n",
    "* Many-to-one / one-to-many\n",
    "* Many-to-many"
   ]
  },
  {
   "cell_type": "markdown",
   "metadata": {},
   "source": [
    "### One-to-one\n",
    "\n",
    "<img src='Cleaning_Data_in_Python/Pictures/One-to-one1.png' align='left' alt='One-to-one1' width=400>"
   ]
  },
  {
   "cell_type": "markdown",
   "metadata": {},
   "source": [
    "<img src='Cleaning_Data_in_Python/Pictures/One-to-one2.png' align='left' alt='One-to-one2' width=400>"
   ]
  },
  {
   "cell_type": "markdown",
   "metadata": {},
   "source": [
    "### Many-to-one / one-to-many\n",
    "\n",
    "<img src='Cleaning_Data_in_Python/Pictures/Many-to-one_one-to-many1.png' align='left' alt='Many-to-one/one-to-many' width=400>"
   ]
  },
  {
   "cell_type": "markdown",
   "metadata": {},
   "source": [
    "<img src='Cleaning_Data_in_Python/Pictures/Many-to-one_one-to-many2.png' align='left' alt='Many-to-one/one-to-many' width=400>"
   ]
  },
  {
   "cell_type": "markdown",
   "metadata": {},
   "source": [
    "### Different types of merges\n",
    "\n",
    "* One-to-one\n",
    "* Many-to-one\n",
    "* Many-to-many\n",
    "* All use the same function\n",
    "* Only difference is the DataFrames you are merging"
   ]
  },
  {
   "cell_type": "markdown",
   "metadata": {},
   "source": [
    "### №20 1-to-1 data merge\n",
    "\n",
    "* Merge the `sit`e and `visited` DataFrames on the `'name'` column of `site` and `'site'` column of `visited`\n",
    "* Print the merged DataFrame `o2o`"
   ]
  },
  {
   "cell_type": "code",
   "execution_count": 58,
   "metadata": {},
   "outputs": [],
   "source": [
    "site = pd.DataFrame({'name': ['DR-1', 'DR-3', 'MSK-4'],\n",
    "                     'lat': [-49.85, -47.15, -48.87],\n",
    "                     'long': [-128.57, -126.72, -123.40]})\n",
    "visited = pd.DataFrame({'ident': [619, 734, 837],\n",
    "                        'site': ['DR-1', 'DR-3', 'MSK-4'],\n",
    "                        'dated': ['1927-02-08', '1939-01-07', '1932-01-14']})"
   ]
  },
  {
   "cell_type": "code",
   "execution_count": 59,
   "metadata": {},
   "outputs": [
    {
     "name": "stdout",
     "output_type": "stream",
     "text": [
      "    name    lat    long  ident   site       dated\n",
      "0   DR-1 -49.85 -128.57    619   DR-1  1927-02-08\n",
      "1   DR-3 -47.15 -126.72    734   DR-3  1939-01-07\n",
      "2  MSK-4 -48.87 -123.40    837  MSK-4  1932-01-14\n"
     ]
    }
   ],
   "source": [
    "o2o = pd.merge(left=site, right=visited, left_on='name', right_on='site')\n",
    "print(o2o)"
   ]
  },
  {
   "cell_type": "markdown",
   "metadata": {},
   "source": [
    "### №21 Many-to-1 data merge\n",
    "\n",
    "* Merge the `site` and `visited` DataFrames on the `'name'` column of `site` and `'site'` column of `visited`, exactly as you did in the previous exercise\n",
    "* Print the merged DataFrame"
   ]
  },
  {
   "cell_type": "code",
   "execution_count": 60,
   "metadata": {},
   "outputs": [],
   "source": [
    "visited = visited.append(pd.DataFrame({'ident': [622, 745, 751, 752, 844],\n",
    "                                       'site': ['DR-1', 'DR-3', 'DR-3', 'DR-3', 'DR-1'],\n",
    "                                       'dated': ['1927-02-10', '1930-01-12', '1930-02-26',\n",
    "                                                 np.nan, '1932-03-22']}),\n",
    "                         ignore_index=True, sort='ident')"
   ]
  },
  {
   "cell_type": "code",
   "execution_count": 61,
   "metadata": {
    "scrolled": true
   },
   "outputs": [
    {
     "name": "stdout",
     "output_type": "stream",
     "text": [
      "    name    lat    long       dated  ident   site\n",
      "0   DR-1 -49.85 -128.57  1927-02-08    619   DR-1\n",
      "1   DR-1 -49.85 -128.57  1927-02-10    622   DR-1\n",
      "2   DR-1 -49.85 -128.57  1932-03-22    844   DR-1\n",
      "3   DR-3 -47.15 -126.72  1939-01-07    734   DR-3\n",
      "4   DR-3 -47.15 -126.72  1930-01-12    745   DR-3\n",
      "5   DR-3 -47.15 -126.72  1930-02-26    751   DR-3\n",
      "6   DR-3 -47.15 -126.72         NaN    752   DR-3\n",
      "7  MSK-4 -48.87 -123.40  1932-01-14    837  MSK-4\n"
     ]
    }
   ],
   "source": [
    "m2o = pd.merge(left=site, right=visited, left_on='name', right_on='site')\n",
    "print(m2o)"
   ]
  },
  {
   "cell_type": "markdown",
   "metadata": {},
   "source": [
    "### №22 Many-to-many data merge\n",
    "\n",
    "* Merge the `site` and `visited` DataFrames on the `'name'` column of `site` and `'site'` column of `visited`, exactly as you did in the previous two exercises. Save the result as `m2m`\n",
    "* Merge the `m2m` and `survey` DataFrames on the `'ident'` column of `m2m` and `'taken'` column of `survey`\n",
    "* Print the first 20 lines of the merged DataFrame"
   ]
  },
  {
   "cell_type": "code",
   "execution_count": 62,
   "metadata": {},
   "outputs": [],
   "source": [
    "survey = pd.read_csv('Cleaning_Data_in_Python/survey.csv')"
   ]
  },
  {
   "cell_type": "code",
   "execution_count": 63,
   "metadata": {},
   "outputs": [
    {
     "name": "stdout",
     "output_type": "stream",
     "text": [
      "     name    lat    long       dated  ident   site  taken person quant  \\\n",
      "0    DR-1 -49.85 -128.57  1927-02-08    619   DR-1    619   dyer   rad   \n",
      "1    DR-1 -49.85 -128.57  1927-02-08    619   DR-1    619   dyer   sal   \n",
      "2    DR-1 -49.85 -128.57  1927-02-10    622   DR-1    622   dyer   rad   \n",
      "3    DR-1 -49.85 -128.57  1927-02-10    622   DR-1    622   dyer   sal   \n",
      "4    DR-1 -49.85 -128.57  1932-03-22    844   DR-1    844    roe   rad   \n",
      "5    DR-3 -47.15 -126.72  1939-01-07    734   DR-3    734     pb   rad   \n",
      "6    DR-3 -47.15 -126.72  1939-01-07    734   DR-3    734   lake   sal   \n",
      "7    DR-3 -47.15 -126.72  1939-01-07    734   DR-3    734     pb  temp   \n",
      "8    DR-3 -47.15 -126.72  1930-02-26    751   DR-3    751     pb   rad   \n",
      "9    DR-3 -47.15 -126.72  1930-02-26    751   DR-3    751     pb  temp   \n",
      "10   DR-3 -47.15 -126.72  1930-02-26    751   DR-3    751   lake   sal   \n",
      "11   DR-3 -47.15 -126.72         NaN    752   DR-3    752   lake   rad   \n",
      "12   DR-3 -47.15 -126.72         NaN    752   DR-3    752   lake   sal   \n",
      "13   DR-3 -47.15 -126.72         NaN    752   DR-3    752   lake  temp   \n",
      "14   DR-3 -47.15 -126.72         NaN    752   DR-3    752    roe   sal   \n",
      "15  MSK-4 -48.87 -123.40  1932-01-14    837  MSK-4    837   lake   rad   \n",
      "16  MSK-4 -48.87 -123.40  1932-01-14    837  MSK-4    837   lake   sal   \n",
      "17  MSK-4 -48.87 -123.40  1932-01-14    837  MSK-4    837    roe   sal   \n",
      "\n",
      "    reading  \n",
      "0      9.82  \n",
      "1      0.13  \n",
      "2      7.80  \n",
      "3      0.09  \n",
      "4     11.25  \n",
      "5      8.41  \n",
      "6      0.05  \n",
      "7    -21.50  \n",
      "8      4.35  \n",
      "9    -18.50  \n",
      "10     0.10  \n",
      "11     2.19  \n",
      "12     0.09  \n",
      "13   -16.00  \n",
      "14    41.60  \n",
      "15     1.46  \n",
      "16     0.21  \n",
      "17    22.50  \n"
     ]
    }
   ],
   "source": [
    "m2m = pd.merge(left=site, right=visited, left_on='name', right_on='site')\n",
    "m2m = pd.merge(left=m2m, right=survey, left_on='ident', right_on='taken')\n",
    "\n",
    "print(m2m)"
   ]
  },
  {
   "cell_type": "markdown",
   "metadata": {},
   "source": [
    "## Chapter 4. Cleaning data for analysis"
   ]
  },
  {
   "cell_type": "markdown",
   "metadata": {},
   "source": [
    "## 10. Data types"
   ]
  },
  {
   "cell_type": "markdown",
   "metadata": {},
   "source": [
    "### Prepare and clean data"
   ]
  },
  {
   "cell_type": "code",
   "execution_count": 64,
   "metadata": {},
   "outputs": [
    {
     "data": {
      "text/html": [
       "<div>\n",
       "<style scoped>\n",
       "    .dataframe tbody tr th:only-of-type {\n",
       "        vertical-align: middle;\n",
       "    }\n",
       "\n",
       "    .dataframe tbody tr th {\n",
       "        vertical-align: top;\n",
       "    }\n",
       "\n",
       "    .dataframe thead th {\n",
       "        text-align: right;\n",
       "    }\n",
       "</style>\n",
       "<table border=\"1\" class=\"dataframe\">\n",
       "  <thead>\n",
       "    <tr style=\"text-align: right;\">\n",
       "      <th></th>\n",
       "      <th>name</th>\n",
       "      <th>treatment a</th>\n",
       "      <th>treatment b</th>\n",
       "      <th>sex</th>\n",
       "    </tr>\n",
       "  </thead>\n",
       "  <tbody>\n",
       "    <tr>\n",
       "      <th>0</th>\n",
       "      <td>Daniel</td>\n",
       "      <td>-</td>\n",
       "      <td>42</td>\n",
       "      <td>male</td>\n",
       "    </tr>\n",
       "    <tr>\n",
       "      <th>1</th>\n",
       "      <td>John</td>\n",
       "      <td>12</td>\n",
       "      <td>31</td>\n",
       "      <td>male</td>\n",
       "    </tr>\n",
       "    <tr>\n",
       "      <th>2</th>\n",
       "      <td>Jane</td>\n",
       "      <td>24</td>\n",
       "      <td>27</td>\n",
       "      <td>female</td>\n",
       "    </tr>\n",
       "  </tbody>\n",
       "</table>\n",
       "</div>"
      ],
      "text/plain": [
       "     name treatment a  treatment b     sex\n",
       "0  Daniel           -           42    male\n",
       "1    John          12           31    male\n",
       "2    Jane          24           27  female"
      ]
     },
     "execution_count": 64,
     "metadata": {},
     "output_type": "execute_result"
    }
   ],
   "source": [
    "df_example['sex'] = ['male', 'male', 'female']\n",
    "df_example"
   ]
  },
  {
   "cell_type": "markdown",
   "metadata": {},
   "source": [
    "### Data types\n",
    "\n",
    "* There may be times we want to convert from one type to another\n",
    "    * Numeric columns can be strings, or vice versa"
   ]
  },
  {
   "cell_type": "code",
   "execution_count": 65,
   "metadata": {},
   "outputs": [
    {
     "data": {
      "text/plain": [
       "name           object\n",
       "treatment a    object\n",
       "treatment b     int64\n",
       "sex            object\n",
       "dtype: object"
      ]
     },
     "execution_count": 65,
     "metadata": {},
     "output_type": "execute_result"
    }
   ],
   "source": [
    "df_example.dtypes"
   ]
  },
  {
   "cell_type": "markdown",
   "metadata": {},
   "source": [
    "### Converting data types"
   ]
  },
  {
   "cell_type": "code",
   "execution_count": 66,
   "metadata": {},
   "outputs": [
    {
     "data": {
      "text/plain": [
       "name             object\n",
       "treatment a      object\n",
       "treatment b      object\n",
       "sex            category\n",
       "dtype: object"
      ]
     },
     "execution_count": 66,
     "metadata": {},
     "output_type": "execute_result"
    }
   ],
   "source": [
    "df_example['treatment b'] = df_example['treatment b'].astype(str)  \n",
    "df_example['sex'] = df_example['sex'].astype('category')\n",
    "    \n",
    "df_example.dtypes"
   ]
  },
  {
   "cell_type": "markdown",
   "metadata": {},
   "source": [
    "### Categorical data\n",
    "\n",
    "* Converting categorical data to ‘category’ dtype:\n",
    "    * Can make the DataFrame smaller in memory\n",
    "    * Can make them be utilized by other Python libraries for analysis "
   ]
  },
  {
   "cell_type": "markdown",
   "metadata": {},
   "source": [
    "### Cleaning data\n",
    "\n",
    "* Numeric data loaded as a string\n",
    "\n",
    "<img src='Cleaning_Data_in_Python/Pictures/Cleaning_data.png' alt='Cleaning data' align='left' width=256>"
   ]
  },
  {
   "cell_type": "markdown",
   "metadata": {},
   "source": [
    "### Cleaning bad data"
   ]
  },
  {
   "cell_type": "code",
   "execution_count": 67,
   "metadata": {},
   "outputs": [
    {
     "data": {
      "text/plain": [
       "name             object\n",
       "treatment a     float64\n",
       "treatment b      object\n",
       "sex            category\n",
       "dtype: object"
      ]
     },
     "execution_count": 67,
     "metadata": {},
     "output_type": "execute_result"
    }
   ],
   "source": [
    "df_example['treatment a'] = pd.to_numeric(df_example['treatment a'], errors='coerce')\n",
    "df_example.dtypes"
   ]
  },
  {
   "cell_type": "markdown",
   "metadata": {},
   "source": [
    "### №23 Converting data types\n",
    "\n",
    "* Convert the `sex` column of the `tips` DataFrame to type `'category'` using the `.astype() `method\n",
    "* Convert the `smoker` column of the `tips` DataFrame\n",
    "* Print the memory usage of `tips` after converting the data types of the columns. Use the `.info()` method to do this"
   ]
  },
  {
   "cell_type": "code",
   "execution_count": 68,
   "metadata": {},
   "outputs": [],
   "source": [
    "tips = pd.read_csv('Cleaning_Data_in_Python/tips.csv')"
   ]
  },
  {
   "cell_type": "code",
   "execution_count": 69,
   "metadata": {},
   "outputs": [
    {
     "name": "stdout",
     "output_type": "stream",
     "text": [
      "<class 'pandas.core.frame.DataFrame'>\n",
      "RangeIndex: 244 entries, 0 to 243\n",
      "Data columns (total 7 columns):\n",
      "total_bill    244 non-null float64\n",
      "tip           244 non-null float64\n",
      "sex           244 non-null category\n",
      "smoker        244 non-null category\n",
      "day           244 non-null object\n",
      "time          244 non-null object\n",
      "size          244 non-null int64\n",
      "dtypes: category(2), float64(2), int64(1), object(2)\n",
      "memory usage: 10.3+ KB\n",
      "None\n"
     ]
    }
   ],
   "source": [
    "tips.sex = tips.sex.astype('category')\n",
    "tips.smoker = tips.smoker.astype('category')\n",
    "\n",
    "print(tips.info())"
   ]
  },
  {
   "cell_type": "markdown",
   "metadata": {},
   "source": [
    "### №24 Working with numeric data\n",
    "\n",
    "* Use `pd.to_numeric()` to convert the `'total_bill'` column of `tips` to a numeric data type. Coerce the errors to `NaN` by specifying the keyword argument `errors='coerce'`\n",
    "* Convert the `'tip'` column of `'tips'` to a numeric data type exactly as you did for the `'total_bill'` column\n",
    "* Print the `info` of `tips` to confirm that the data types of `'total_bill'` and `'tips'` are numeric"
   ]
  },
  {
   "cell_type": "code",
   "execution_count": 70,
   "metadata": {},
   "outputs": [
    {
     "name": "stdout",
     "output_type": "stream",
     "text": [
      "<class 'pandas.core.frame.DataFrame'>\n",
      "RangeIndex: 244 entries, 0 to 243\n",
      "Data columns (total 7 columns):\n",
      "total_bill    244 non-null float64\n",
      "tip           244 non-null float64\n",
      "sex           244 non-null category\n",
      "smoker        244 non-null category\n",
      "day           244 non-null object\n",
      "time          244 non-null object\n",
      "size          244 non-null int64\n",
      "dtypes: category(2), float64(2), int64(1), object(2)\n",
      "memory usage: 10.3+ KB\n",
      "None\n"
     ]
    }
   ],
   "source": [
    "tips['total_bill'] = pd.to_numeric(tips['total_bill'], errors='coerce')\n",
    "tips['tip'] = pd.to_numeric(tips['tip'], errors='coerce')\n",
    "\n",
    "print(tips.info())"
   ]
  },
  {
   "cell_type": "markdown",
   "metadata": {},
   "source": [
    "## 11. Using regular expressions to clean strings"
   ]
  },
  {
   "cell_type": "markdown",
   "metadata": {},
   "source": [
    "### String manipulation\n",
    "\n",
    "* Much of data cleaning involves string manipulation\n",
    "    * Most of the world’s data is unstructured text\n",
    "* Also have to do string manipulation to make datasets consistent with one another"
   ]
  },
  {
   "cell_type": "markdown",
   "metadata": {},
   "source": [
    "### Validate values\n",
    "\n",
    "* `17`\n",
    "* `$17` \n",
    "* `$17.89`\n",
    "* `$17.895`"
   ]
  },
  {
   "cell_type": "markdown",
   "metadata": {},
   "source": [
    "### String manipulation\n",
    "\n",
    "* Many built-in and external libraries\n",
    "* ‘re’ library for regular expressions\n",
    "    * A formal way of specifying a pattern\n",
    "    * Sequence of characters\n",
    "* Pattern matching\n",
    "    * Similar to globbing"
   ]
  },
  {
   "cell_type": "markdown",
   "metadata": {},
   "source": [
    "### Example match\n",
    "\n",
    "```\n",
    "• 17         12345678901         \\d*\n",
    "• $17        $12345678901        \\$\\d*\n",
    "• $17.42     $12345678901.42     \\$\\d*\\.\\d*\n",
    "• $17.89     $12345678901.24     \\$\\d*\\.\\d{2}\n",
    "• $17.895    $12345678901.999    ^\\$\\d*\\.\\d{2}\n",
    "```\n",
    "\n",
    "'I have 17.89 USD'"
   ]
  },
  {
   "cell_type": "markdown",
   "metadata": {},
   "source": [
    "### Using regular expressions\n",
    "\n",
    "* Compile the pattern\n",
    "* Use the compiled pattern to match values\n",
    "* This lets us use the pattern over and over again\n",
    "* Useful since we want to match values down a column of values"
   ]
  },
  {
   "cell_type": "markdown",
   "metadata": {},
   "source": [
    "### Using regular expressions"
   ]
  },
  {
   "cell_type": "code",
   "execution_count": 71,
   "metadata": {},
   "outputs": [
    {
     "data": {
      "text/plain": [
       "True"
      ]
     },
     "execution_count": 71,
     "metadata": {},
     "output_type": "execute_result"
    }
   ],
   "source": [
    "import re\n",
    "\n",
    "pattern = re.compile('\\$\\d*\\.\\d{2}')\n",
    "result = pattern.match('$17.89')\n",
    "\n",
    "bool(result)"
   ]
  },
  {
   "cell_type": "markdown",
   "metadata": {},
   "source": [
    "### Example of matching US telephone number (pattern is `xxx-xxx-xxx) `by regular expressions"
   ]
  },
  {
   "cell_type": "code",
   "execution_count": 72,
   "metadata": {},
   "outputs": [
    {
     "name": "stdout",
     "output_type": "stream",
     "text": [
      "True\n"
     ]
    }
   ],
   "source": [
    "import re\n",
    "\n",
    "prog = re.compile('\\d{3}-\\d{3}-\\d{4}')\n",
    "result = prog.match('123-456-7890')\n",
    "\n",
    "print(bool(result))"
   ]
  },
  {
   "cell_type": "code",
   "execution_count": 73,
   "metadata": {},
   "outputs": [
    {
     "name": "stdout",
     "output_type": "stream",
     "text": [
      "False\n"
     ]
    }
   ],
   "source": [
    "result2 = prog.match('1123-456-7890')\n",
    "print(bool(result2))"
   ]
  },
  {
   "cell_type": "markdown",
   "metadata": {},
   "source": [
    "### Extracting numerical values from strings"
   ]
  },
  {
   "cell_type": "code",
   "execution_count": 74,
   "metadata": {},
   "outputs": [
    {
     "name": "stdout",
     "output_type": "stream",
     "text": [
      "['10', '1']\n"
     ]
    }
   ],
   "source": [
    "import re\n",
    "\n",
    "matches = re.findall('\\d+', 'the recipe calls for 10 strawberries and 1 banana')\n",
    "print(matches)"
   ]
  },
  {
   "cell_type": "markdown",
   "metadata": {},
   "source": [
    "### Pattern matching"
   ]
  },
  {
   "cell_type": "code",
   "execution_count": 75,
   "metadata": {},
   "outputs": [
    {
     "name": "stdout",
     "output_type": "stream",
     "text": [
      "True\n",
      "True\n",
      "True\n"
     ]
    }
   ],
   "source": [
    "pattern1 = bool(re.match(pattern='\\d{3}-\\d{3}-\\d{4}', string='123-456-7890'))\n",
    "pattern2 = bool(re.match(pattern='\\$\\d*\\.\\d{2}', string='$123.45'))\n",
    "pattern3 = bool(re.match(pattern='[A-Z]\\w*', string='Australia'))\n",
    "\n",
    "print(pattern1)\n",
    "print(pattern2)\n",
    "print(pattern3)"
   ]
  },
  {
   "cell_type": "markdown",
   "metadata": {},
   "source": [
    "### №25 String parsing with regular expressions\n",
    "\n",
    "* Import `re`\n",
    "* Compile a pattern that matches a phone number of the format `xxx-xxx-xxxx`\n",
    "* Use `\\d{x}` to match `x` digits. Here you'll need to use it three times: twice to match `3` digits, and once to match `4` digits\n",
    "* Place the regular expression inside `re.compile()`\n",
    "* Using the `.match()` method on `prog`, check whether the pattern matches the string `'123-456-7890'`\n",
    "* Using the same approach, now check whether the pattern matches the string `'1123-456-7890'`"
   ]
  },
  {
   "cell_type": "code",
   "execution_count": 76,
   "metadata": {},
   "outputs": [
    {
     "name": "stdout",
     "output_type": "stream",
     "text": [
      "True\n",
      "False\n"
     ]
    }
   ],
   "source": [
    "import re\n",
    "\n",
    "prog = re.compile('\\d{3}-\\d{3}-\\d{4}')\n",
    "\n",
    "result = prog.match('123-456-7890')\n",
    "print(bool(result))\n",
    "\n",
    "result2 = prog.match('1123-456-7890')\n",
    "print(bool(result2))"
   ]
  },
  {
   "cell_type": "markdown",
   "metadata": {},
   "source": [
    "### №26 Extracting numerical values from strings\n",
    "\n",
    "* Import `re`\n",
    "* Write a pattern that will find all the numbers in the following string: `'the recipe calls for 10 strawberries and 1 banana'`. To do this:\n",
    "    * Use the `re.findall()` function and pass it two arguments: the pattern, followed by the string\n",
    "    * `\\d` is the pattern required to find digits. This should be followed with a `+` so that the previous element is matched one or more times. This ensures that `10` is viewed as one number and not as `1` and `0`\n",
    "* Print the matches to confirm that your regular expression found the values `10` and `1`"
   ]
  },
  {
   "cell_type": "code",
   "execution_count": 77,
   "metadata": {},
   "outputs": [
    {
     "name": "stdout",
     "output_type": "stream",
     "text": [
      "['10', '1']\n"
     ]
    }
   ],
   "source": [
    "import re\n",
    "\n",
    "matches = re.findall('\\d+', 'the recipe calls for 10 strawberries and 1 banana')\n",
    "print(matches)"
   ]
  },
  {
   "cell_type": "markdown",
   "metadata": {},
   "source": [
    "### №27 Pattern matching\n",
    "\n",
    "* Write patterns to match:\n",
    "    * A telephone number of the format `xxx-xxx-xxxx`. You already did this in a previous exercise\n",
    "    * A string of the format: A dollar sign, an arbitrary number of digits, a decimal point, 2 digits\n",
    "        * Use `\\$` to match the dollar sign, `\\d*` to match an arbitrary number of digits, `\\`. to match the decimal point, and `\\d{x}` to match `x` number of digits\n",
    "    * A capital letter, followed by an arbitrary number of alphanumeric characters\n",
    "        * Use `[A-Z]` to match any capital letter followed by `\\w*` to match an arbitrary number of alphanumeric characters"
   ]
  },
  {
   "cell_type": "code",
   "execution_count": 78,
   "metadata": {},
   "outputs": [
    {
     "name": "stdout",
     "output_type": "stream",
     "text": [
      "True\n",
      "True\n",
      "True\n"
     ]
    }
   ],
   "source": [
    "pattern1 = bool(re.match(pattern='\\d{3}-\\d{3}-\\d{4}', string='123-456-7890'))\n",
    "print(pattern1)\n",
    "\n",
    "pattern2 = bool(re.match(pattern='\\$\\d*\\.\\d{2}', string='$123.45'))\n",
    "print(pattern2)\n",
    "\n",
    "pattern3 = bool(re.match(pattern='[A-Z]\\w*', string='Australia'))\n",
    "print(pattern3)"
   ]
  },
  {
   "cell_type": "markdown",
   "metadata": {},
   "source": [
    "## 12. Using functions to clean data"
   ]
  },
  {
   "cell_type": "markdown",
   "metadata": {},
   "source": [
    "### Complex cleaning\n",
    "\n",
    "* Cleaning step requires multiple steps\n",
    "    * Extract number from string\n",
    "    * Perform transformation on extracted number\n",
    "* Python function"
   ]
  },
  {
   "cell_type": "markdown",
   "metadata": {},
   "source": [
    "### Apply"
   ]
  },
  {
   "cell_type": "code",
   "execution_count": 79,
   "metadata": {},
   "outputs": [
    {
     "data": {
      "text/html": [
       "<div>\n",
       "<style scoped>\n",
       "    .dataframe tbody tr th:only-of-type {\n",
       "        vertical-align: middle;\n",
       "    }\n",
       "\n",
       "    .dataframe tbody tr th {\n",
       "        vertical-align: top;\n",
       "    }\n",
       "\n",
       "    .dataframe thead th {\n",
       "        text-align: right;\n",
       "    }\n",
       "</style>\n",
       "<table border=\"1\" class=\"dataframe\">\n",
       "  <thead>\n",
       "    <tr style=\"text-align: right;\">\n",
       "      <th></th>\n",
       "      <th>name</th>\n",
       "      <th>treatment a</th>\n",
       "      <th>treatment b</th>\n",
       "      <th>sex</th>\n",
       "    </tr>\n",
       "  </thead>\n",
       "  <tbody>\n",
       "    <tr>\n",
       "      <th>0</th>\n",
       "      <td>Daniel</td>\n",
       "      <td>NaN</td>\n",
       "      <td>42</td>\n",
       "      <td>male</td>\n",
       "    </tr>\n",
       "    <tr>\n",
       "      <th>1</th>\n",
       "      <td>John</td>\n",
       "      <td>12.0</td>\n",
       "      <td>31</td>\n",
       "      <td>male</td>\n",
       "    </tr>\n",
       "    <tr>\n",
       "      <th>2</th>\n",
       "      <td>Jane</td>\n",
       "      <td>24.0</td>\n",
       "      <td>27</td>\n",
       "      <td>female</td>\n",
       "    </tr>\n",
       "  </tbody>\n",
       "</table>\n",
       "</div>"
      ],
      "text/plain": [
       "     name  treatment a treatment b     sex\n",
       "0  Daniel          NaN          42    male\n",
       "1    John         12.0          31    male\n",
       "2    Jane         24.0          27  female"
      ]
     },
     "execution_count": 79,
     "metadata": {},
     "output_type": "execute_result"
    }
   ],
   "source": [
    "df_example"
   ]
  },
  {
   "cell_type": "code",
   "execution_count": 80,
   "metadata": {},
   "outputs": [
    {
     "data": {
      "text/plain": [
       "treatment a    18.000000\n",
       "treatment b    33.333333\n",
       "dtype: float64"
      ]
     },
     "execution_count": 80,
     "metadata": {},
     "output_type": "execute_result"
    }
   ],
   "source": [
    "df_example['treatment b'] = pd.to_numeric(df_example['treatment b'])\n",
    "df_example[['treatment a', 'treatment b']].apply(np.mean, axis=0)"
   ]
  },
  {
   "cell_type": "code",
   "execution_count": 81,
   "metadata": {},
   "outputs": [
    {
     "data": {
      "text/plain": [
       "0    42.0\n",
       "1    21.5\n",
       "2    25.5\n",
       "dtype: float64"
      ]
     },
     "execution_count": 81,
     "metadata": {},
     "output_type": "execute_result"
    }
   ],
   "source": [
    "df_example[['treatment a', 'treatment b']].apply(np.mean, axis=1)"
   ]
  },
  {
   "cell_type": "markdown",
   "metadata": {},
   "source": [
    "### Applying functions"
   ]
  },
  {
   "cell_type": "code",
   "execution_count": 82,
   "metadata": {},
   "outputs": [
    {
     "data": {
      "text/html": [
       "<div>\n",
       "<style scoped>\n",
       "    .dataframe tbody tr th:only-of-type {\n",
       "        vertical-align: middle;\n",
       "    }\n",
       "\n",
       "    .dataframe tbody tr th {\n",
       "        vertical-align: top;\n",
       "    }\n",
       "\n",
       "    .dataframe thead th {\n",
       "        text-align: right;\n",
       "    }\n",
       "</style>\n",
       "<table border=\"1\" class=\"dataframe\">\n",
       "  <thead>\n",
       "    <tr style=\"text-align: right;\">\n",
       "      <th></th>\n",
       "      <th>Job #</th>\n",
       "      <th>Doc #</th>\n",
       "      <th>Borough</th>\n",
       "      <th>Initial Cost</th>\n",
       "      <th>Total Est. Fee</th>\n",
       "    </tr>\n",
       "  </thead>\n",
       "  <tbody>\n",
       "    <tr>\n",
       "      <th>0</th>\n",
       "      <td>121577873</td>\n",
       "      <td>2</td>\n",
       "      <td>MANHATTAN</td>\n",
       "      <td>75000.0</td>\n",
       "      <td>986.0</td>\n",
       "    </tr>\n",
       "    <tr>\n",
       "      <th>1</th>\n",
       "      <td>520129502</td>\n",
       "      <td>1</td>\n",
       "      <td>STATEN ISLAND</td>\n",
       "      <td>0.0</td>\n",
       "      <td>1144.0</td>\n",
       "    </tr>\n",
       "    <tr>\n",
       "      <th>2</th>\n",
       "      <td>121601560</td>\n",
       "      <td>1</td>\n",
       "      <td>MANHATTAN</td>\n",
       "      <td>30000.0</td>\n",
       "      <td>522.5</td>\n",
       "    </tr>\n",
       "    <tr>\n",
       "      <th>3</th>\n",
       "      <td>121601203</td>\n",
       "      <td>1</td>\n",
       "      <td>MANHATTAN</td>\n",
       "      <td>1500.0</td>\n",
       "      <td>225.0</td>\n",
       "    </tr>\n",
       "    <tr>\n",
       "      <th>4</th>\n",
       "      <td>121601338</td>\n",
       "      <td>1</td>\n",
       "      <td>MANHATTAN</td>\n",
       "      <td>19500.0</td>\n",
       "      <td>389.5</td>\n",
       "    </tr>\n",
       "  </tbody>\n",
       "</table>\n",
       "</div>"
      ],
      "text/plain": [
       "       Job #  Doc #        Borough  Initial Cost  Total Est. Fee\n",
       "0  121577873      2      MANHATTAN       75000.0           986.0\n",
       "1  520129502      1  STATEN ISLAND           0.0          1144.0\n",
       "2  121601560      1      MANHATTAN       30000.0           522.5\n",
       "3  121601203      1      MANHATTAN        1500.0           225.0\n",
       "4  121601338      1      MANHATTAN       19500.0           389.5"
      ]
     },
     "execution_count": 82,
     "metadata": {},
     "output_type": "execute_result"
    }
   ],
   "source": [
    "df_subset2 = df[['Job #', 'Doc #', 'Borough', 'Initial Cost', 'Total Est. Fee']]\n",
    "df_subset2.head()"
   ]
  },
  {
   "cell_type": "code",
   "execution_count": 83,
   "metadata": {},
   "outputs": [],
   "source": [
    "doll = ['$' for i in range(len(df_subset2))]\n",
    "\n",
    "df_subset2['Initial Cost'] = doll + df_subset2['Initial Cost'].astype(str)\n",
    "df_subset2['Total Est. Fee'] = doll + df_subset2['Total Est. Fee'].astype(str)"
   ]
  },
  {
   "cell_type": "code",
   "execution_count": 84,
   "metadata": {},
   "outputs": [
    {
     "data": {
      "text/html": [
       "<div>\n",
       "<style scoped>\n",
       "    .dataframe tbody tr th:only-of-type {\n",
       "        vertical-align: middle;\n",
       "    }\n",
       "\n",
       "    .dataframe tbody tr th {\n",
       "        vertical-align: top;\n",
       "    }\n",
       "\n",
       "    .dataframe thead th {\n",
       "        text-align: right;\n",
       "    }\n",
       "</style>\n",
       "<table border=\"1\" class=\"dataframe\">\n",
       "  <thead>\n",
       "    <tr style=\"text-align: right;\">\n",
       "      <th></th>\n",
       "      <th>Job #</th>\n",
       "      <th>Doc #</th>\n",
       "      <th>Borough</th>\n",
       "      <th>Initial Cost</th>\n",
       "      <th>Total Est. Fee</th>\n",
       "    </tr>\n",
       "  </thead>\n",
       "  <tbody>\n",
       "    <tr>\n",
       "      <th>0</th>\n",
       "      <td>121577873</td>\n",
       "      <td>2</td>\n",
       "      <td>MANHATTAN</td>\n",
       "      <td>$75000.0</td>\n",
       "      <td>$986.0</td>\n",
       "    </tr>\n",
       "    <tr>\n",
       "      <th>1</th>\n",
       "      <td>520129502</td>\n",
       "      <td>1</td>\n",
       "      <td>STATEN ISLAND</td>\n",
       "      <td>$0.0</td>\n",
       "      <td>$1144.0</td>\n",
       "    </tr>\n",
       "    <tr>\n",
       "      <th>2</th>\n",
       "      <td>121601560</td>\n",
       "      <td>1</td>\n",
       "      <td>MANHATTAN</td>\n",
       "      <td>$30000.0</td>\n",
       "      <td>$522.5</td>\n",
       "    </tr>\n",
       "    <tr>\n",
       "      <th>3</th>\n",
       "      <td>121601203</td>\n",
       "      <td>1</td>\n",
       "      <td>MANHATTAN</td>\n",
       "      <td>$1500.0</td>\n",
       "      <td>$225.0</td>\n",
       "    </tr>\n",
       "    <tr>\n",
       "      <th>4</th>\n",
       "      <td>121601338</td>\n",
       "      <td>1</td>\n",
       "      <td>MANHATTAN</td>\n",
       "      <td>$19500.0</td>\n",
       "      <td>$389.5</td>\n",
       "    </tr>\n",
       "  </tbody>\n",
       "</table>\n",
       "</div>"
      ],
      "text/plain": [
       "       Job #  Doc #        Borough Initial Cost Total Est. Fee\n",
       "0  121577873      2      MANHATTAN     $75000.0         $986.0\n",
       "1  520129502      1  STATEN ISLAND         $0.0        $1144.0\n",
       "2  121601560      1      MANHATTAN     $30000.0         $522.5\n",
       "3  121601203      1      MANHATTAN      $1500.0         $225.0\n",
       "4  121601338      1      MANHATTAN     $19500.0         $389.5"
      ]
     },
     "execution_count": 84,
     "metadata": {},
     "output_type": "execute_result"
    }
   ],
   "source": [
    "df_subset2.head()"
   ]
  },
  {
   "cell_type": "markdown",
   "metadata": {},
   "source": [
    "### Write the regular expression"
   ]
  },
  {
   "cell_type": "code",
   "execution_count": 85,
   "metadata": {},
   "outputs": [],
   "source": [
    "import re\n",
    "from numpy import NaN\n",
    "\n",
    "pattern = re.compile('^\\$\\d*\\.\\d')"
   ]
  },
  {
   "cell_type": "markdown",
   "metadata": {},
   "source": [
    "### Writing a function\n",
    "\n",
    "* **example.py**\n",
    "\n",
    "```python\n",
    "In [0]: def my_function(input1, input2):\n",
    "            # Function Body\n",
    "            return value\n",
    "```"
   ]
  },
  {
   "cell_type": "markdown",
   "metadata": {},
   "source": [
    "* **diff_money.py**\n",
    "\n",
    "```python\n",
    "In [1]: def diff_money(row, pattern):\n",
    "            icost = row['Initial Cost']\n",
    "            tef = row['Total Est. Fee']\n",
    "\n",
    "            if bool(pattern.match(icost)) and bool(pattern.match(tef)):\n",
    "                icost = icost.replace('$', '')\n",
    "                tef = tef.replace('$', '')\n",
    "\n",
    "                icost = float(icost)\n",
    "                tef = float(tef)\n",
    "\n",
    "                return icost - tef\n",
    "            else:\n",
    "                return(NaN)\n",
    "```"
   ]
  },
  {
   "cell_type": "code",
   "execution_count": 86,
   "metadata": {},
   "outputs": [],
   "source": [
    "%run Cleaning_Data_in_Python/diff_money.py"
   ]
  },
  {
   "cell_type": "code",
   "execution_count": 87,
   "metadata": {
    "scrolled": true
   },
   "outputs": [
    {
     "data": {
      "text/html": [
       "<div>\n",
       "<style scoped>\n",
       "    .dataframe tbody tr th:only-of-type {\n",
       "        vertical-align: middle;\n",
       "    }\n",
       "\n",
       "    .dataframe tbody tr th {\n",
       "        vertical-align: top;\n",
       "    }\n",
       "\n",
       "    .dataframe thead th {\n",
       "        text-align: right;\n",
       "    }\n",
       "</style>\n",
       "<table border=\"1\" class=\"dataframe\">\n",
       "  <thead>\n",
       "    <tr style=\"text-align: right;\">\n",
       "      <th></th>\n",
       "      <th>Job #</th>\n",
       "      <th>Doc #</th>\n",
       "      <th>Borough</th>\n",
       "      <th>Initial Cost</th>\n",
       "      <th>Total Est. Fee</th>\n",
       "      <th>diff</th>\n",
       "    </tr>\n",
       "  </thead>\n",
       "  <tbody>\n",
       "    <tr>\n",
       "      <th>0</th>\n",
       "      <td>121577873</td>\n",
       "      <td>2</td>\n",
       "      <td>MANHATTAN</td>\n",
       "      <td>$75000.0</td>\n",
       "      <td>$986.0</td>\n",
       "      <td>74014.0</td>\n",
       "    </tr>\n",
       "    <tr>\n",
       "      <th>1</th>\n",
       "      <td>520129502</td>\n",
       "      <td>1</td>\n",
       "      <td>STATEN ISLAND</td>\n",
       "      <td>$0.0</td>\n",
       "      <td>$1144.0</td>\n",
       "      <td>-1144.0</td>\n",
       "    </tr>\n",
       "    <tr>\n",
       "      <th>2</th>\n",
       "      <td>121601560</td>\n",
       "      <td>1</td>\n",
       "      <td>MANHATTAN</td>\n",
       "      <td>$30000.0</td>\n",
       "      <td>$522.5</td>\n",
       "      <td>29477.5</td>\n",
       "    </tr>\n",
       "    <tr>\n",
       "      <th>3</th>\n",
       "      <td>121601203</td>\n",
       "      <td>1</td>\n",
       "      <td>MANHATTAN</td>\n",
       "      <td>$1500.0</td>\n",
       "      <td>$225.0</td>\n",
       "      <td>1275.0</td>\n",
       "    </tr>\n",
       "    <tr>\n",
       "      <th>4</th>\n",
       "      <td>121601338</td>\n",
       "      <td>1</td>\n",
       "      <td>MANHATTAN</td>\n",
       "      <td>$19500.0</td>\n",
       "      <td>$389.5</td>\n",
       "      <td>19110.5</td>\n",
       "    </tr>\n",
       "  </tbody>\n",
       "</table>\n",
       "</div>"
      ],
      "text/plain": [
       "       Job #  Doc #        Borough Initial Cost Total Est. Fee     diff\n",
       "0  121577873      2      MANHATTAN     $75000.0         $986.0  74014.0\n",
       "1  520129502      1  STATEN ISLAND         $0.0        $1144.0  -1144.0\n",
       "2  121601560      1      MANHATTAN     $30000.0         $522.5  29477.5\n",
       "3  121601203      1      MANHATTAN      $1500.0         $225.0   1275.0\n",
       "4  121601338      1      MANHATTAN     $19500.0         $389.5  19110.5"
      ]
     },
     "execution_count": 87,
     "metadata": {},
     "output_type": "execute_result"
    }
   ],
   "source": [
    "df_subset2['diff'] = df_subset2.apply(diff_money, pattern=pattern, axis=1)\n",
    "df_subset2.head()"
   ]
  },
  {
   "cell_type": "markdown",
   "metadata": {},
   "source": [
    "### №28 Custom functions to clean data\n",
    "\n",
    "* Define a function named `recode_gender()` that has one parameter: `gender`\n",
    "    * If `gender` equals `'Male'`, return `1`\n",
    "    * Else, if `gender` equals `'Female'`, return `0`\n",
    "    * If `gender` does not equal `'Male'` or `'Female'`, return `np.nan`\n",
    "* Apply your `recode_gender()` function over `tips.sex` using the `.apply()` method to create a new column: `'recode'`. Note that when passing in a function inside the `.apply()` method, you don't need to specify the parentheses after the function name\n",
    "* Take note of the new `'recode'` column in the tips DataFrame"
   ]
  },
  {
   "cell_type": "code",
   "execution_count": 88,
   "metadata": {},
   "outputs": [
    {
     "name": "stdout",
     "output_type": "stream",
     "text": [
      "   total_bill   tip     sex smoker  day    time  size recode\n",
      "0       16.99  1.01  Female     No  Sun  Dinner     2      0\n",
      "1       10.34  1.66    Male     No  Sun  Dinner     3      1\n",
      "2       21.01  3.50    Male     No  Sun  Dinner     3      1\n",
      "3       23.68  3.31    Male     No  Sun  Dinner     2      1\n",
      "4       24.59  3.61  Female     No  Sun  Dinner     4      0\n"
     ]
    }
   ],
   "source": [
    "def recode_gender(gender):\n",
    "    if gender == 'Female':\n",
    "        return 0\n",
    "    elif gender == 'Male':\n",
    "        return 1\n",
    "    else:\n",
    "        return np.nan\n",
    "\n",
    "tips['recode'] = tips['sex'].apply(recode_gender)\n",
    "print(tips.head())"
   ]
  },
  {
   "cell_type": "markdown",
   "metadata": {},
   "source": [
    "### №29 Lambda functions \n",
    "\n",
    "* Use the `.replace()` method inside a lambda function to remove the dollar sign from the `'total_dollar'` column of `tips`\n",
    "* You need to specify two arguments to the `.replace()` method: The string to be replaced (`'$'`), and the string to replace it by (`''`)\n",
    "* Apply the lambda function over the `'total_dollar'` column of `tips`\n",
    "* Use a regular expression to remove the dollar sign from the `'total_dollar'` column of `tips`\n",
    "* The pattern has been provided for you: It is the first argument of the `re.findall()` function\n",
    "* Complete the rest of the lambda function and apply it over the `'total_dollar'` column of `tips`. Notice that because `re.findall()` returns a list, you have to slice it in order to access the actual value\n",
    "* Verify that you have removed the dollar sign from the column"
   ]
  },
  {
   "cell_type": "code",
   "execution_count": 89,
   "metadata": {},
   "outputs": [
    {
     "name": "stdout",
     "output_type": "stream",
     "text": [
      "   total_bill   tip     sex smoker  day    time  size recode total_dollar  \\\n",
      "0       16.99  1.01  Female     No  Sun  Dinner     2      0       $16.99   \n",
      "1       10.34  1.66    Male     No  Sun  Dinner     3      1       $10.34   \n",
      "2       21.01  3.50    Male     No  Sun  Dinner     3      1       $21.01   \n",
      "3       23.68  3.31    Male     No  Sun  Dinner     2      1       $23.68   \n",
      "4       24.59  3.61  Female     No  Sun  Dinner     4      0       $24.59   \n",
      "\n",
      "  total_dollar_replace total_dollar_re  \n",
      "0                16.99           16.99  \n",
      "1                10.34           10.34  \n",
      "2                21.01           21.01  \n",
      "3                23.68           23.68  \n",
      "4                24.59           24.59  \n"
     ]
    }
   ],
   "source": [
    "doll = ['$' for i in range(len(tips['total_bill']))]\n",
    "tips['total_dollar'] = doll + tips['total_bill'].astype(str)\n",
    "\n",
    "tips['total_dollar_replace'] = tips.total_dollar.apply(lambda x: x.replace('$', ''))\n",
    "tips['total_dollar_re'] = tips.total_dollar.apply(lambda x: re.findall('\\d+\\.\\d+', x)[0])\n",
    "\n",
    "print(tips.head())"
   ]
  },
  {
   "cell_type": "markdown",
   "metadata": {},
   "source": [
    "## 13. Duplicate and missing data"
   ]
  },
  {
   "cell_type": "markdown",
   "metadata": {},
   "source": [
    "### Duplicate data\n",
    "\n",
    "* Can skew results\n",
    "* `.drop_duplicates()` method"
   ]
  },
  {
   "cell_type": "code",
   "execution_count": 90,
   "metadata": {},
   "outputs": [
    {
     "data": {
      "text/html": [
       "<div>\n",
       "<style scoped>\n",
       "    .dataframe tbody tr th:only-of-type {\n",
       "        vertical-align: middle;\n",
       "    }\n",
       "\n",
       "    .dataframe tbody tr th {\n",
       "        vertical-align: top;\n",
       "    }\n",
       "\n",
       "    .dataframe thead th {\n",
       "        text-align: right;\n",
       "    }\n",
       "</style>\n",
       "<table border=\"1\" class=\"dataframe\">\n",
       "  <thead>\n",
       "    <tr style=\"text-align: right;\">\n",
       "      <th></th>\n",
       "      <th>name</th>\n",
       "      <th>treatment a</th>\n",
       "      <th>treatment b</th>\n",
       "      <th>sex</th>\n",
       "    </tr>\n",
       "  </thead>\n",
       "  <tbody>\n",
       "    <tr>\n",
       "      <th>0</th>\n",
       "      <td>Daniel</td>\n",
       "      <td>NaN</td>\n",
       "      <td>42</td>\n",
       "      <td>male</td>\n",
       "    </tr>\n",
       "    <tr>\n",
       "      <th>1</th>\n",
       "      <td>John</td>\n",
       "      <td>12.0</td>\n",
       "      <td>31</td>\n",
       "      <td>male</td>\n",
       "    </tr>\n",
       "    <tr>\n",
       "      <th>2</th>\n",
       "      <td>Jane</td>\n",
       "      <td>24.0</td>\n",
       "      <td>27</td>\n",
       "      <td>female</td>\n",
       "    </tr>\n",
       "    <tr>\n",
       "      <th>3</th>\n",
       "      <td>Daniel</td>\n",
       "      <td>NaN</td>\n",
       "      <td>42</td>\n",
       "      <td>male</td>\n",
       "    </tr>\n",
       "  </tbody>\n",
       "</table>\n",
       "</div>"
      ],
      "text/plain": [
       "     name  treatment a  treatment b     sex\n",
       "0  Daniel          NaN           42    male\n",
       "1    John         12.0           31    male\n",
       "2    Jane         24.0           27  female\n",
       "3  Daniel          NaN           42    male"
      ]
     },
     "execution_count": 90,
     "metadata": {},
     "output_type": "execute_result"
    }
   ],
   "source": [
    "df_example.loc[3] = ['Daniel', NaN, 42, 'male']\n",
    "df_example"
   ]
  },
  {
   "cell_type": "markdown",
   "metadata": {},
   "source": [
    "### Drop duplicates"
   ]
  },
  {
   "cell_type": "code",
   "execution_count": 91,
   "metadata": {},
   "outputs": [
    {
     "data": {
      "text/html": [
       "<div>\n",
       "<style scoped>\n",
       "    .dataframe tbody tr th:only-of-type {\n",
       "        vertical-align: middle;\n",
       "    }\n",
       "\n",
       "    .dataframe tbody tr th {\n",
       "        vertical-align: top;\n",
       "    }\n",
       "\n",
       "    .dataframe thead th {\n",
       "        text-align: right;\n",
       "    }\n",
       "</style>\n",
       "<table border=\"1\" class=\"dataframe\">\n",
       "  <thead>\n",
       "    <tr style=\"text-align: right;\">\n",
       "      <th></th>\n",
       "      <th>name</th>\n",
       "      <th>treatment a</th>\n",
       "      <th>treatment b</th>\n",
       "      <th>sex</th>\n",
       "    </tr>\n",
       "  </thead>\n",
       "  <tbody>\n",
       "    <tr>\n",
       "      <th>0</th>\n",
       "      <td>Daniel</td>\n",
       "      <td>NaN</td>\n",
       "      <td>42</td>\n",
       "      <td>male</td>\n",
       "    </tr>\n",
       "    <tr>\n",
       "      <th>1</th>\n",
       "      <td>John</td>\n",
       "      <td>12.0</td>\n",
       "      <td>31</td>\n",
       "      <td>male</td>\n",
       "    </tr>\n",
       "    <tr>\n",
       "      <th>2</th>\n",
       "      <td>Jane</td>\n",
       "      <td>24.0</td>\n",
       "      <td>27</td>\n",
       "      <td>female</td>\n",
       "    </tr>\n",
       "  </tbody>\n",
       "</table>\n",
       "</div>"
      ],
      "text/plain": [
       "     name  treatment a  treatment b     sex\n",
       "0  Daniel          NaN           42    male\n",
       "1    John         12.0           31    male\n",
       "2    Jane         24.0           27  female"
      ]
     },
     "execution_count": 91,
     "metadata": {},
     "output_type": "execute_result"
    }
   ],
   "source": [
    "df_example = df_example.drop_duplicates()\n",
    "df_example"
   ]
  },
  {
   "cell_type": "markdown",
   "metadata": {},
   "source": [
    "### Missing data\n",
    "\n",
    "* Leave as-is\n",
    "* Drop them\n",
    "* Fill missing value\n"
   ]
  },
  {
   "cell_type": "code",
   "execution_count": 92,
   "metadata": {
    "scrolled": false
   },
   "outputs": [
    {
     "data": {
      "text/html": [
       "<div>\n",
       "<style scoped>\n",
       "    .dataframe tbody tr th:only-of-type {\n",
       "        vertical-align: middle;\n",
       "    }\n",
       "\n",
       "    .dataframe tbody tr th {\n",
       "        vertical-align: top;\n",
       "    }\n",
       "\n",
       "    .dataframe thead th {\n",
       "        text-align: right;\n",
       "    }\n",
       "</style>\n",
       "<table border=\"1\" class=\"dataframe\">\n",
       "  <thead>\n",
       "    <tr style=\"text-align: right;\">\n",
       "      <th></th>\n",
       "      <th>total_bill</th>\n",
       "      <th>tip</th>\n",
       "      <th>sex</th>\n",
       "      <th>smoker</th>\n",
       "      <th>day</th>\n",
       "      <th>time</th>\n",
       "      <th>size</th>\n",
       "    </tr>\n",
       "  </thead>\n",
       "  <tbody>\n",
       "    <tr>\n",
       "      <th>0</th>\n",
       "      <td>16.99</td>\n",
       "      <td>1.01</td>\n",
       "      <td>Female</td>\n",
       "      <td>No</td>\n",
       "      <td>Sun</td>\n",
       "      <td>Dinner</td>\n",
       "      <td>2.0</td>\n",
       "    </tr>\n",
       "    <tr>\n",
       "      <th>1</th>\n",
       "      <td>NaN</td>\n",
       "      <td>1.66</td>\n",
       "      <td>Male</td>\n",
       "      <td>No</td>\n",
       "      <td>Sun</td>\n",
       "      <td>Dinner</td>\n",
       "      <td>3.0</td>\n",
       "    </tr>\n",
       "    <tr>\n",
       "      <th>2</th>\n",
       "      <td>21.01</td>\n",
       "      <td>3.50</td>\n",
       "      <td>Male</td>\n",
       "      <td>No</td>\n",
       "      <td>Sun</td>\n",
       "      <td>Dinner</td>\n",
       "      <td>3.0</td>\n",
       "    </tr>\n",
       "    <tr>\n",
       "      <th>3</th>\n",
       "      <td>23.68</td>\n",
       "      <td>NaN</td>\n",
       "      <td>Male</td>\n",
       "      <td>NaN</td>\n",
       "      <td>Sun</td>\n",
       "      <td>Dinner</td>\n",
       "      <td>2.0</td>\n",
       "    </tr>\n",
       "    <tr>\n",
       "      <th>4</th>\n",
       "      <td>24.59</td>\n",
       "      <td>3.61</td>\n",
       "      <td>NaN</td>\n",
       "      <td>No</td>\n",
       "      <td>Sun</td>\n",
       "      <td>NaN</td>\n",
       "      <td>4.0</td>\n",
       "    </tr>\n",
       "  </tbody>\n",
       "</table>\n",
       "</div>"
      ],
      "text/plain": [
       "   total_bill   tip     sex smoker  day    time  size\n",
       "0       16.99  1.01  Female     No  Sun  Dinner   2.0\n",
       "1         NaN  1.66    Male     No  Sun  Dinner   3.0\n",
       "2       21.01  3.50    Male     No  Sun  Dinner   3.0\n",
       "3       23.68   NaN    Male    NaN  Sun  Dinner   2.0\n",
       "4       24.59  3.61     NaN     No  Sun     NaN   4.0"
      ]
     },
     "execution_count": 92,
     "metadata": {},
     "output_type": "execute_result"
    }
   ],
   "source": [
    "tips_nan = pd.read_csv('Cleaning_Data_in_Python/tips_nan.csv')\n",
    "tips_nan.head()"
   ]
  },
  {
   "cell_type": "markdown",
   "metadata": {},
   "source": [
    "### Count missing values"
   ]
  },
  {
   "cell_type": "code",
   "execution_count": 93,
   "metadata": {},
   "outputs": [
    {
     "name": "stdout",
     "output_type": "stream",
     "text": [
      "<class 'pandas.core.frame.DataFrame'>\n",
      "RangeIndex: 244 entries, 0 to 243\n",
      "Data columns (total 7 columns):\n",
      "total_bill    202 non-null float64\n",
      "tip           219 non-null float64\n",
      "sex           233 non-null object\n",
      "smoker        229 non-null object\n",
      "day           243 non-null object\n",
      "time          226 non-null object\n",
      "size          231 non-null float64\n",
      "dtypes: float64(3), object(4)\n",
      "memory usage: 13.4+ KB\n"
     ]
    }
   ],
   "source": [
    "tips_nan.info()"
   ]
  },
  {
   "cell_type": "markdown",
   "metadata": {},
   "source": [
    "### Drop missing values"
   ]
  },
  {
   "cell_type": "code",
   "execution_count": 94,
   "metadata": {},
   "outputs": [
    {
     "name": "stdout",
     "output_type": "stream",
     "text": [
      "<class 'pandas.core.frame.DataFrame'>\n",
      "Int64Index: 146 entries, 0 to 242\n",
      "Data columns (total 7 columns):\n",
      "total_bill    146 non-null float64\n",
      "tip           146 non-null float64\n",
      "sex           146 non-null object\n",
      "smoker        146 non-null object\n",
      "day           146 non-null object\n",
      "time          146 non-null object\n",
      "size          146 non-null float64\n",
      "dtypes: float64(3), object(4)\n",
      "memory usage: 9.1+ KB\n"
     ]
    }
   ],
   "source": [
    "tips_dropped = tips_nan.dropna()\n",
    "tips_dropped.info()"
   ]
  },
  {
   "cell_type": "markdown",
   "metadata": {},
   "source": [
    "### Fill missing values with `.fillna()`\n",
    "\n",
    "* Fill with provided value\n",
    "* Use a summary statistic"
   ]
  },
  {
   "cell_type": "markdown",
   "metadata": {},
   "source": [
    "### Fill missing values"
   ]
  },
  {
   "cell_type": "code",
   "execution_count": 95,
   "metadata": {},
   "outputs": [
    {
     "name": "stdout",
     "output_type": "stream",
     "text": [
      "<class 'pandas.core.frame.DataFrame'>\n",
      "RangeIndex: 244 entries, 0 to 243\n",
      "Data columns (total 7 columns):\n",
      "total_bill    244 non-null float64\n",
      "tip           219 non-null float64\n",
      "sex           244 non-null object\n",
      "smoker        229 non-null object\n",
      "day           243 non-null object\n",
      "time          226 non-null object\n",
      "size          244 non-null float64\n",
      "dtypes: float64(3), object(4)\n",
      "memory usage: 13.4+ KB\n"
     ]
    }
   ],
   "source": [
    "tips_nan['sex'] = tips_nan['sex'].fillna('missing')\n",
    "tips_nan[['total_bill', 'size']] = tips_nan[['total_bill', 'size']].fillna(0)\n",
    "    \n",
    "tips_nan.info()"
   ]
  },
  {
   "cell_type": "markdown",
   "metadata": {},
   "source": [
    "### Fill missing values with a test statistic\n",
    "\n",
    "* Careful when using test statistics to fill\n",
    "* Have to make sure the value you are filling in makes sense\n",
    "* Median is a be!er statistic in the presence of outliers"
   ]
  },
  {
   "cell_type": "code",
   "execution_count": 96,
   "metadata": {},
   "outputs": [
    {
     "data": {
      "text/plain": [
       "3.0222374429223753"
      ]
     },
     "execution_count": 96,
     "metadata": {},
     "output_type": "execute_result"
    }
   ],
   "source": [
    "mean_value = tips_nan['tip'].mean()\n",
    "mean_value"
   ]
  },
  {
   "cell_type": "code",
   "execution_count": 97,
   "metadata": {
    "scrolled": true
   },
   "outputs": [
    {
     "name": "stdout",
     "output_type": "stream",
     "text": [
      "<class 'pandas.core.frame.DataFrame'>\n",
      "RangeIndex: 244 entries, 0 to 243\n",
      "Data columns (total 7 columns):\n",
      "total_bill    244 non-null float64\n",
      "tip           244 non-null float64\n",
      "sex           244 non-null object\n",
      "smoker        229 non-null object\n",
      "day           243 non-null object\n",
      "time          226 non-null object\n",
      "size          244 non-null float64\n",
      "dtypes: float64(3), object(4)\n",
      "memory usage: 13.4+ KB\n"
     ]
    }
   ],
   "source": [
    "tips_nan['tip'] = tips_nan['tip'].fillna(mean_value)\n",
    "tips_nan.info() "
   ]
  },
  {
   "cell_type": "markdown",
   "metadata": {},
   "source": [
    "### №30 Dropping duplicate data\n",
    "\n",
    "* Create a new DataFrame called `tracks` that contains the following columns from `billboard`: `'year'`, `'artist'`, `'track'`, and `'time'`\n",
    "* Print the `info` of `tracks`. This has been done for you\n",
    "* Drop duplicate rows from tracks using the `.drop_duplicates()` method. Save the result to `tracks_no_duplicates`\n",
    "* Print the info of `tracks_no_duplicates`"
   ]
  },
  {
   "cell_type": "code",
   "execution_count": 98,
   "metadata": {},
   "outputs": [],
   "source": [
    "billboard = pd.read_csv('Cleaning_Data_in_Python/billboard.csv')"
   ]
  },
  {
   "cell_type": "code",
   "execution_count": 99,
   "metadata": {},
   "outputs": [
    {
     "name": "stdout",
     "output_type": "stream",
     "text": [
      "<class 'pandas.core.frame.DataFrame'>\n",
      "RangeIndex: 24092 entries, 0 to 24091\n",
      "Data columns (total 4 columns):\n",
      "year      24092 non-null int64\n",
      "artist    24092 non-null object\n",
      "track     24092 non-null object\n",
      "time      24092 non-null object\n",
      "dtypes: int64(1), object(3)\n",
      "memory usage: 753.0+ KB\n",
      "None \n",
      "\n",
      "<class 'pandas.core.frame.DataFrame'>\n",
      "Int64Index: 317 entries, 0 to 316\n",
      "Data columns (total 4 columns):\n",
      "year      317 non-null int64\n",
      "artist    317 non-null object\n",
      "track     317 non-null object\n",
      "time      317 non-null object\n",
      "dtypes: int64(1), object(3)\n",
      "memory usage: 12.4+ KB\n",
      "None\n"
     ]
    }
   ],
   "source": [
    "tracks = billboard[['year', 'artist', 'track', 'time']]\n",
    "print(tracks.info(), '\\n')\n",
    "\n",
    "tracks_no_duplicates = tracks.drop_duplicates()\n",
    "print(tracks_no_duplicates.info())"
   ]
  },
  {
   "cell_type": "markdown",
   "metadata": {},
   "source": [
    "### №31 Filling missing data\n",
    "\n",
    "* Calculate the mean of the `Ozone` column of `airquality` using the `.mean()` method on `airquality.Ozone`\n",
    "* Use the `.fillna()` method to replace all the missing values in the `Ozone` column of `airquality` with the mean, `oz_mean`"
   ]
  },
  {
   "cell_type": "code",
   "execution_count": 100,
   "metadata": {},
   "outputs": [
    {
     "name": "stdout",
     "output_type": "stream",
     "text": [
      "<class 'pandas.core.frame.DataFrame'>\n",
      "RangeIndex: 153 entries, 0 to 152\n",
      "Data columns (total 6 columns):\n",
      "Ozone      153 non-null float64\n",
      "Solar.R    146 non-null float64\n",
      "Wind       153 non-null float64\n",
      "Temp       153 non-null int64\n",
      "Month      153 non-null int64\n",
      "Day        153 non-null int64\n",
      "dtypes: float64(3), int64(3)\n",
      "memory usage: 7.2 KB\n",
      "None\n"
     ]
    }
   ],
   "source": [
    "oz_mean = airquality.Ozone.mean()\n",
    "airquality['Ozone'] = airquality.Ozone.fillna(oz_mean)\n",
    "\n",
    "print(airquality.info())"
   ]
  },
  {
   "cell_type": "markdown",
   "metadata": {},
   "source": [
    "## 14. Testing with asserts"
   ]
  },
  {
   "cell_type": "markdown",
   "metadata": {},
   "source": [
    "### Assert statements\n",
    "\n",
    "* Programmatically vs visually checking\n",
    "* If we drop or fill NaNs, we expect 0 missing values\n",
    "* We can write an assert statement to verify this\n",
    "* We can detect early warnings and errors\n",
    "* This gives us confidence that our code is running correctly"
   ]
  },
  {
   "cell_type": "markdown",
   "metadata": {},
   "source": [
    "### Asserts\n",
    "```python\n",
    "In [1]: assert 1 == 1\n",
    "In [2]: assert 1 == 2\n",
    "```\n",
    "```\n",
    "---------------------------------------------------------------------------\n",
    "AssertionError                            Traceback (most recent call last)\n",
    "<ipython-input-65-a810b3a4aded> in <module>()\n",
    "----> 1 assert\n",
    "AssertionError:\n",
    "```"
   ]
  },
  {
   "cell_type": "markdown",
   "metadata": {},
   "source": [
    "### Google stock data\n",
    "\n",
    "<img src='Cleaning_Data_in_Python/Pictures/Google_stock_data.png' alt='Google stock data' align='left' width=500>"
   ]
  },
  {
   "cell_type": "markdown",
   "metadata": {},
   "source": [
    "### Test column\n",
    "\n",
    "```python\n",
    "In [1]: assert google.Close.notnull().all()\n",
    "```\n",
    "```\n",
    "---------------------------------------------------------------------------\n",
    "AssertionError                            Traceback (most recent call last)\n",
    "<ipython-input-49-eec77130a77f> in <module>()\n",
    "----> 1 assert google.Close.notnull().all()\n",
    "\n",
    "AssertionError:\n",
    "```"
   ]
  },
  {
   "cell_type": "markdown",
   "metadata": {},
   "source": [
    " ```python\n",
    "In [1]: google_0 = google.fillna(value=0)\n",
    "    \n",
    "In [2]: assert google_0.Close.notnull().all()\n",
    "```"
   ]
  },
  {
   "cell_type": "markdown",
   "metadata": {},
   "source": [
    "### №32 Testing your data with asserts\n",
    "\n",
    "* Write an assert statement to confirm that there are no missing values in ebola\n",
    "    * Use the `pd.notnull()` function on `ebola` (or the `.notnull()` method of `ebola`) and chain two `.all()` methods (that is, `.all().all()`). The first `.all()` method will return a `True` or `False` for each column, while the second `.all()` method will return a single `True` or `False`\n",
    "* Write an assert statement to confirm that all values in `ebola` are greater than or equal to `0`\n",
    "    * Chain two `all()` methods to the Boolean condition (`ebola >= 0`)"
   ]
  },
  {
   "cell_type": "code",
   "execution_count": 101,
   "metadata": {},
   "outputs": [],
   "source": [
    "ebola.fillna(0, inplace=True)"
   ]
  },
  {
   "cell_type": "code",
   "execution_count": 102,
   "metadata": {},
   "outputs": [
    {
     "name": "stdout",
     "output_type": "stream",
     "text": [
      "         Date  Day  Cases_Guinea  Cases_Liberia  Cases_SierraLeone  \\\n",
      "0    1/5/2015  289        2776.0            0.0            10030.0   \n",
      "1    1/4/2015  288        2775.0            0.0             9780.0   \n",
      "2    1/3/2015  287        2769.0         8166.0             9722.0   \n",
      "3    1/2/2015  286           0.0         8157.0                0.0   \n",
      "4  12/31/2014  284        2730.0         8115.0             9633.0   \n",
      "\n",
      "   Cases_Nigeria  Cases_Senegal  Cases_UnitedStates  Cases_Spain  Cases_Mali  \\\n",
      "0            0.0            0.0                 0.0          0.0         0.0   \n",
      "1            0.0            0.0                 0.0          0.0         0.0   \n",
      "2            0.0            0.0                 0.0          0.0         0.0   \n",
      "3            0.0            0.0                 0.0          0.0         0.0   \n",
      "4            0.0            0.0                 0.0          0.0         0.0   \n",
      "\n",
      "   Deaths_Guinea  Deaths_Liberia  Deaths_SierraLeone  Deaths_Nigeria  \\\n",
      "0         1786.0             0.0              2977.0             0.0   \n",
      "1         1781.0             0.0              2943.0             0.0   \n",
      "2         1767.0          3496.0              2915.0             0.0   \n",
      "3            0.0          3496.0                 0.0             0.0   \n",
      "4         1739.0          3471.0              2827.0             0.0   \n",
      "\n",
      "   Deaths_Senegal  Deaths_UnitedStates  Deaths_Spain  Deaths_Mali  \n",
      "0             0.0                  0.0           0.0          0.0  \n",
      "1             0.0                  0.0           0.0          0.0  \n",
      "2             0.0                  0.0           0.0          0.0  \n",
      "3             0.0                  0.0           0.0          0.0  \n",
      "4             0.0                  0.0           0.0          0.0  \n"
     ]
    }
   ],
   "source": [
    "print(ebola.head())\n",
    "\n",
    "assert pd.notnull(ebola).all().all()\n",
    "assert (ebola.iloc[:, 1:] >= 0).all().all()"
   ]
  },
  {
   "cell_type": "markdown",
   "metadata": {},
   "source": [
    "## Chapter 5. Case study"
   ]
  },
  {
   "cell_type": "markdown",
   "metadata": {},
   "source": [
    "## 15. Putting it all together"
   ]
  },
  {
   "cell_type": "markdown",
   "metadata": {},
   "source": [
    "### Putting it all together\n",
    "\n",
    "* Use the techniques you’ve learned on Gapminder data\n",
    "* Clean and tidy data saved to a file\n",
    "    * Ready to be loaded for analysis!\n",
    "* Dataset consists of life expectancy by country and year\n",
    "* Data will come in multiple parts\n",
    "    * Load\n",
    "    * Preliminary quality diagnosis\n",
    "    * Combine into single dataset"
   ]
  },
  {
   "cell_type": "markdown",
   "metadata": {},
   "source": [
    "### Useful method\n",
    "```python\n",
    "In [1]: import pandas as pd\n",
    "In [2]: df = pd.read_csv('my_data.csv')\n",
    "In [3]: df.head()\n",
    "In [4]: df.info()\n",
    "In [5]: df.columns\n",
    "In [6]: df.describe()\n",
    "In [7]: df.column.value_counts()\n",
    "In [8]: df.column.plot('hist')\n",
    "```"
   ]
  },
  {
   "cell_type": "markdown",
   "metadata": {},
   "source": [
    "### Data quality\n",
    "```python\n",
    "In [9]: def cleaning_function(row_data):\n",
    "            # data cleaning steps\n",
    "            return ...\n",
    "    \n",
    "In [10]: df.apply(cleaning_function, axis=1)\n",
    "In [11]: assert (df.column_data > 0).all()\n",
    "```"
   ]
  },
  {
   "cell_type": "markdown",
   "metadata": {},
   "source": [
    "### Combining data\n",
    "\n",
    "* `pd.merge(df1, df2, …)`\n",
    "* `pd.concat([df1, df2, df3, …])`"
   ]
  },
  {
   "cell_type": "markdown",
   "metadata": {},
   "source": [
    "### №33 Exploratory analysis\n",
    "\n",
    "*Use the information that you acquire from your exploratory analysis to choose the true statement from the options provided below*\n",
    "\n",
    "* The DataFrame has `259` rows and `100` columns\n",
    "* The DataFrame has no missing values encoded as `NaN`\n",
    "* *100 of the columns are of type `float64` and 1 column is of type `object`*\n",
    "* The DataFrame takes up `203.2+ KB` of memor"
   ]
  },
  {
   "cell_type": "code",
   "execution_count": 103,
   "metadata": {},
   "outputs": [],
   "source": [
    "g1800s = pd.read_csv('Cleaning_Data_in_Python/g1800s.csv')"
   ]
  },
  {
   "cell_type": "code",
   "execution_count": 104,
   "metadata": {},
   "outputs": [
    {
     "name": "stdout",
     "output_type": "stream",
     "text": [
      "<class 'pandas.core.frame.DataFrame'>\n",
      "RangeIndex: 780 entries, 0 to 779\n",
      "Columns: 101 entries, 1800 to Life expectancy\n",
      "dtypes: float64(100), object(1)\n",
      "memory usage: 615.5+ KB\n"
     ]
    }
   ],
   "source": [
    "g1800s.info()"
   ]
  },
  {
   "cell_type": "markdown",
   "metadata": {},
   "source": [
    "### №34 Visualizing your data\n",
    "\n",
    "* Use the `.plot()` method on `g1800s` with `kind='scatter'` to create a scatter plot with `'1800'` on the x-axis and `'1899'` on the y-axis\n",
    "* Display the plot"
   ]
  },
  {
   "cell_type": "code",
   "execution_count": 105,
   "metadata": {},
   "outputs": [
    {
     "data": {
      "image/png": "[encoded data removed]",
      "text/plain": [
       "<Figure size 432x288 with 1 Axes>"
      ]
     },
     "metadata": {
      "image/png": {
       "height": 270,
       "width": 392
      },
      "needs_background": "dark"
     },
     "output_type": "display_data"
    }
   ],
   "source": [
    "plt.scatter(x=g1800s['1800'], y=g1800s['1899'])\n",
    "\n",
    "plt.xlabel('Life Expectancy by Country in 1800')\n",
    "plt.ylabel('Life Expectancy by Country in 1899')\n",
    "\n",
    "plt.xlim(20, 55)\n",
    "plt.ylim(20, 55)\n",
    "\n",
    "plt.show()"
   ]
  },
  {
   "cell_type": "markdown",
   "metadata": {},
   "source": [
    "### №35 Thinking about the question at hand\n",
    "\n",
    "* Define a function called `check_null_or_valid()` that takes in one argument: `row_data`\n",
    "* Inside the function, convert `no_na` to a numeric data type using `pd.to_numeric()`\n",
    "* Write an assert statement to make sure the first column (index `0`) of the `g1800s` DataFrame is `'Life expectancy'`\n",
    "* Write an assert statement to test that all the values are valid for the `g1800s` DataFrame. Use the `check_null_or_valid()` function placed inside the `.apply()` method for this. Note that because you're applying it over the entire DataFrame, and not just one column, you'll have to chain the `.all()` method twice, and remember that you don't have to use `()` for functions placed inside `.apply()`\n",
    "* Write an assert statement to make sure that each country occurs only once in the data. Use the `.value_counts()` method on the `'Life expectancy'` column for this. Specifically, index `0` of `.value_counts()` will contain the most frequently occuring value. If this is equal to `1` for the `'Life expectancy'` column, then you can be certain that no country appears more than once in the data"
   ]
  },
  {
   "cell_type": "code",
   "execution_count": 106,
   "metadata": {
    "scrolled": true
   },
   "outputs": [],
   "source": [
    "def check_null_or_valid(row_data):\n",
    "    '''Function that takes a row of data,\n",
    "    drops all missing values,\n",
    "    and checks if all remaining values are greater than or equal to 0\n",
    "    '''\n",
    "    no_na = row_data.dropna()\n",
    "    numeric = pd.to_numeric(no_na)\n",
    "    ge0 = numeric >= 0\n",
    "    return ge0\n",
    "\n",
    "assert g1800s.columns[-1] == 'Life expectancy'\n",
    "\n",
    "assert g1800s.iloc[:, :-1].apply(check_null_or_valid, axis=1).all().all()\n",
    "\n",
    "assert g1800s['Life expectancy'].value_counts()[0] == 3"
   ]
  },
  {
   "cell_type": "markdown",
   "metadata": {},
   "source": [
    "### №36 Assembling your data\n",
    "\n",
    "* Use `pd.concat()` to concatenate `g1800s`, `g1900s`, and `g2000s` into one DataFrame called `gapminder`. Make sure you pass DataFrames to `pd.concat()` in the form of a list\n",
    "* Print the shape and the head of the concatenated DataFrame"
   ]
  },
  {
   "cell_type": "code",
   "execution_count": 107,
   "metadata": {},
   "outputs": [],
   "source": [
    "century_19 = ['Life expectancy'] + [str(i) for i in range(1900, 2000)]\n",
    "century_20 = ['Life expectancy'] + [str(i) for i in range(2000, 2017)]\n",
    "\n",
    "g1900s = pd.read_csv('Cleaning_Data_in_Python/gapminder.csv', usecols=century_19)\n",
    "g2000s = pd.read_csv('Cleaning_Data_in_Python/gapminder.csv', usecols=century_20)"
   ]
  },
  {
   "cell_type": "code",
   "execution_count": 108,
   "metadata": {},
   "outputs": [
    {
     "name": "stdout",
     "output_type": "stream",
     "text": [
      "(2340, 218)\n",
      "    1800   1801   1802   1803   1804   1805   1806   1807   1808   1809  ...  \\\n",
      "0    NaN    NaN    NaN    NaN    NaN    NaN    NaN    NaN    NaN    NaN  ...   \n",
      "1  28.21  28.20  28.19  28.18  28.17  28.16  28.15  28.14  28.13  28.12  ...   \n",
      "2    NaN    NaN    NaN    NaN    NaN    NaN    NaN    NaN    NaN    NaN  ...   \n",
      "3  35.40  35.40  35.40  35.40  35.40  35.40  35.40  35.40  35.40  35.40  ...   \n",
      "4  28.82  28.82  28.82  28.82  28.82  28.82  28.82  28.82  28.82  28.82  ...   \n",
      "\n",
      "   2008  2009  2010  2011  2012  2013  2014  2015  2016        Life expectancy  \n",
      "0   NaN   NaN   NaN   NaN   NaN   NaN   NaN   NaN   NaN               Abkhazia  \n",
      "1   NaN   NaN   NaN   NaN   NaN   NaN   NaN   NaN   NaN            Afghanistan  \n",
      "2   NaN   NaN   NaN   NaN   NaN   NaN   NaN   NaN   NaN  Akrotiri and Dhekelia  \n",
      "3   NaN   NaN   NaN   NaN   NaN   NaN   NaN   NaN   NaN                Albania  \n",
      "4   NaN   NaN   NaN   NaN   NaN   NaN   NaN   NaN   NaN                Algeria  \n",
      "\n",
      "[5 rows x 218 columns]\n"
     ]
    }
   ],
   "source": [
    "gapminder = pd.concat([g1800s, g1900s, g2000s])\n",
    "print(gapminder.shape)\n",
    "\n",
    "print(gapminder.head())"
   ]
  },
  {
   "cell_type": "markdown",
   "metadata": {},
   "source": [
    "## 16. Initial impressions of the data"
   ]
  },
  {
   "cell_type": "markdown",
   "metadata": {},
   "source": [
    "### Principles of tidy data\n",
    "\n",
    "* Rows form observations\n",
    "* Columns form variables\n",
    "* Tidying data will make data cleaning easier\n",
    "* Melting turns columns into rows\n",
    "* Pivot will take unique values from a column and create new columns"
   ]
  },
  {
   "cell_type": "markdown",
   "metadata": {},
   "source": [
    "### Checking data types\n",
    "\n",
    "```python\n",
    "In [1]: df.dtypes\n",
    "    \n",
    "In [2]: df['column'] = df['column'].to_numeric()\n",
    "    \n",
    "In [3]: df['column'] = df['column'].astype(str)\n",
    "```"
   ]
  },
  {
   "cell_type": "markdown",
   "metadata": {},
   "source": [
    "### Additional calculations and saving your data\n",
    "\n",
    "```python\n",
    "In [4]: df['new_column'] = df['column_1'] + df['column_2']\n",
    "    \n",
    "In [5]: df['new_column'] = df.apply(my_function, axis=1)\n",
    "    \n",
    "In [6]: df.to_csv['my_data.csv']\n",
    "```"
   ]
  },
  {
   "cell_type": "markdown",
   "metadata": {},
   "source": [
    "### №37 Reshaping your data\n",
    "\n",
    "* Reshape `gapminder` by melting it. Keep `'Life expectancy'` fixed by specifying it as an argument to the `id_vars` parameter\n",
    "* Rename the three columns of the melted DataFrame to `'country'`, `'year'`, and `'life_expectancy'` by passing them in as a list to `gapminder_melt.columns`\n",
    "* Print the head of the melted DataFrame"
   ]
  },
  {
   "cell_type": "code",
   "execution_count": 109,
   "metadata": {},
   "outputs": [
    {
     "name": "stdout",
     "output_type": "stream",
     "text": [
      "    1800   1801   1802   1803   1804   1805   1806   1807   1808   1809  ...  \\\n",
      "0    NaN    NaN    NaN    NaN    NaN    NaN    NaN    NaN    NaN    NaN  ...   \n",
      "1  28.21  28.20  28.19  28.18  28.17  28.16  28.15  28.14  28.13  28.12  ...   \n",
      "2    NaN    NaN    NaN    NaN    NaN    NaN    NaN    NaN    NaN    NaN  ...   \n",
      "3  35.40  35.40  35.40  35.40  35.40  35.40  35.40  35.40  35.40  35.40  ...   \n",
      "4  28.82  28.82  28.82  28.82  28.82  28.82  28.82  28.82  28.82  28.82  ...   \n",
      "\n",
      "   2008  2009  2010  2011  2012  2013  2014  2015  2016        Life expectancy  \n",
      "0   NaN   NaN   NaN   NaN   NaN   NaN   NaN   NaN   NaN               Abkhazia  \n",
      "1   NaN   NaN   NaN   NaN   NaN   NaN   NaN   NaN   NaN            Afghanistan  \n",
      "2   NaN   NaN   NaN   NaN   NaN   NaN   NaN   NaN   NaN  Akrotiri and Dhekelia  \n",
      "3   NaN   NaN   NaN   NaN   NaN   NaN   NaN   NaN   NaN                Albania  \n",
      "4   NaN   NaN   NaN   NaN   NaN   NaN   NaN   NaN   NaN                Algeria  \n",
      "\n",
      "[5 rows x 218 columns] \n",
      "\n",
      "                 country  year  life_expectancy\n",
      "0               Abkhazia  1800              NaN\n",
      "1            Afghanistan  1800            28.21\n",
      "2  Akrotiri and Dhekelia  1800              NaN\n",
      "3                Albania  1800            35.40\n",
      "4                Algeria  1800            28.82\n"
     ]
    }
   ],
   "source": [
    "gapminder = pd.read_csv('Cleaning_Data_in_Python/gapminder.csv')\n",
    "print(gapminder.head(), '\\n')\n",
    "\n",
    "gapminder_melt = pd.melt(frame=gapminder, id_vars='Life expectancy')\n",
    "gapminder_melt.columns = ['country', 'year', 'life_expectancy']\n",
    "print(gapminder_melt.head())"
   ]
  },
  {
   "cell_type": "markdown",
   "metadata": {},
   "source": [
    "### №38 Checking the data types\n",
    "\n",
    "* Convert the `year` column of `gapminder` using `pd.to_numeric()`\n",
    "* Assert that the `country` column is of type `np.object`\n",
    "* Assert that the `year` column is of type `np.int64`\n",
    "* Assert that the `life_expectancy` column is of type `np.float64`"
   ]
  },
  {
   "cell_type": "code",
   "execution_count": 110,
   "metadata": {},
   "outputs": [],
   "source": [
    "gapminder_melt.year = pd.to_numeric(gapminder_melt.year)\n",
    "\n",
    "assert gapminder_melt.country.dtypes == np.object\n",
    "\n",
    "assert gapminder_melt.year.dtypes == np.int64\n",
    "\n",
    "assert gapminder_melt.life_expectancy.dtypes == np.float64"
   ]
  },
  {
   "cell_type": "markdown",
   "metadata": {},
   "source": [
    "### №39 Looking at country spellings\n",
    "\n",
    "* Create a Series called `countries` consisting of the `'country'` column of `gapminder`\n",
    "* Drop all duplicates from `countries` using the `.drop_duplicates()` method\n",
    "* Write a regular expression that tests your assumptions of what characters belong in `countries`:\n",
    "    * Anchor the pattern to match exactly what you want by placing a `^` in the beginning and `$` in the end\n",
    "    * Use `A-Za-z` to match the set of lower and upper case letters, `\\`. to match periods, and `\\s` to match whitespace between words\n",
    "* Use `str.contains()` to create a Boolean vector representing values that match the pattern\n",
    "* Invert the mask by placing a `~` before it\n",
    "* Subset the countries series using the `.loc[]` accessor and `mask_inverse`"
   ]
  },
  {
   "cell_type": "code",
   "execution_count": 111,
   "metadata": {},
   "outputs": [
    {
     "name": "stdout",
     "output_type": "stream",
     "text": [
      "49            Congo, Dem. Rep.\n",
      "50                 Congo, Rep.\n",
      "53               Cote d'Ivoire\n",
      "73      Falkland Is (Malvinas)\n",
      "93               Guinea-Bissau\n",
      "98            Hong Kong, China\n",
      "118    United Korea (former)\\n\n",
      "131               Macao, China\n",
      "132             Macedonia, FYR\n",
      "145      Micronesia, Fed. Sts.\n",
      "161            Ngorno-Karabakh\n",
      "187             St. Barthélemy\n",
      "193     St.-Pierre-et-Miquelon\n",
      "225                Timor-Leste\n",
      "251      Virgin Islands (U.S.)\n",
      "252       North Yemen (former)\n",
      "253       South Yemen (former)\n",
      "258                      Åland\n",
      "Name: country, dtype: object\n"
     ]
    }
   ],
   "source": [
    "countries = gapminder_melt.country\n",
    "countries = countries.drop_duplicates()\n",
    "\n",
    "pattern = '^[A-Za-z\\.\\s]*$'\n",
    "mask = countries.str.contains(pattern)\n",
    "mask_inverse = ~mask\n",
    "\n",
    "invalid_countries = countries.loc[mask_inverse]\n",
    "print(invalid_countries)"
   ]
  },
  {
   "cell_type": "markdown",
   "metadata": {},
   "source": [
    "### №40 More data cleaning and processing\n",
    "\n",
    "* Assert that `country` and `year` do not contain any missing values. Note the chaining of the `.all()` method to `pd.notnull()` to confirm that all values in the column are not null\n",
    "* Drop the rows in the data where any observation in `life_expectancy` is missing. As you confirmed that `country` and `year` don't have missing values, you can use the `.dropna()` method on the entire gapminder DataFrame, because any missing values would have to be in the `life_expectancy` column. The `.dropna()` method has the default keyword arguments `axis=0` and `how='any'`, which specify that rows with any missing values should be dropped\n",
    "* Print the shape of `gapminder`"
   ]
  },
  {
   "cell_type": "code",
   "execution_count": 112,
   "metadata": {},
   "outputs": [
    {
     "name": "stdout",
     "output_type": "stream",
     "text": [
      "(43857, 3)\n"
     ]
    }
   ],
   "source": [
    "assert pd.notnull(gapminder_melt.country).all()\n",
    "\n",
    "assert pd.notnull(gapminder_melt.year).all()\n",
    "\n",
    "gapminder_melt = gapminder_melt.dropna()\n",
    "print(gapminder_melt.shape)"
   ]
  },
  {
   "cell_type": "markdown",
   "metadata": {},
   "source": [
    "### №41 Wrapping up\n",
    "\n",
    "* Create a histogram of the `life_expectancy` column using the `.plot()` method of `gapminder`. Specify `kind='hist'`\n",
    "* Group `gapminder` by `'year'` and aggregate `'life_expectancy'` by the mean. To do this:\n",
    "* Use the `.groupby()` method on `gapminder` with `'year'` as the argument. Then select `'life_expectancy'` and chain the `.mean()` method to it\n",
    "* Print the head and tail of `gapminder_agg`\n",
    "* Create a line plot of average life expectancy per year by using the `.plot()` method (without any arguments in plot) on `gapminder_agg`\n",
    "* Save `gapminder` and `gapminder_agg` to csv files called `'gapminder.csv'` and `'gapminder_agg.csv'`, respectively, using the `.to_csv()` method"
   ]
  },
  {
   "cell_type": "code",
   "execution_count": 113,
   "metadata": {},
   "outputs": [
    {
     "name": "stdout",
     "output_type": "stream",
     "text": [
      "year\n",
      "1800    31.486020\n",
      "1801    31.448905\n",
      "1802    31.463483\n",
      "1803    31.377413\n",
      "1804    31.446318\n",
      "Name: life_expectancy, dtype: float64 \n",
      "\n",
      "year\n",
      "2012    71.663077\n",
      "2013    71.916106\n",
      "2014    72.088125\n",
      "2015    72.321010\n",
      "2016    72.556635\n",
      "Name: life_expectancy, dtype: float64\n"
     ]
    },
    {
     "data": {
      "image/png": "[encoded data removed]",
      "text/plain": [
       "<Figure size 432x288 with 1 Axes>"
      ]
     },
     "metadata": {
      "image/png": {
       "height": 134,
       "width": 381
      },
      "needs_background": "dark"
     },
     "output_type": "display_data"
    },
    {
     "data": {
      "image/png": "[encoded data removed]",
      "text/plain": [
       "<Figure size 432x288 with 1 Axes>"
      ]
     },
     "metadata": {
      "image/png": {
       "height": 166,
       "width": 423
      },
      "needs_background": "dark"
     },
     "output_type": "display_data"
    },
    {
     "data": {
      "image/png": "[encoded data removed]",
      "text/plain": [
       "<Figure size 432x288 with 1 Axes>"
      ]
     },
     "metadata": {
      "image/png": {
       "height": 265,
       "width": 368
      },
      "needs_background": "dark"
     },
     "output_type": "display_data"
    }
   ],
   "source": [
    "plt.subplot(2, 1, 1) \n",
    "\n",
    "gapminder_melt.plot(kind='hist')\n",
    "\n",
    "gapminder_agg = gapminder_melt.groupby('year')['life_expectancy'].mean()\n",
    "\n",
    "print(gapminder_agg.head(), '\\n')\n",
    "print(gapminder_agg.tail())\n",
    "\n",
    "plt.subplot(2, 1, 2)\n",
    "\n",
    "gapminder_melt.life_expectancy.plot(kind='hist')\n",
    "\n",
    "plt.title('Life expectancy over the years')\n",
    "plt.ylabel('Life expectancy')\n",
    "plt.xlabel('Year')\n",
    "\n",
    "plt.tight_layout()\n",
    "plt.show()\n",
    "gapminder_agg.plot()\n",
    "\n",
    "gapminder_melt.to_csv('Cleaning_Data_in_Python/gapminder_melt.csv')\n",
    "gapminder_agg.to_csv('Cleaning_Data_in_Python/gapminder_agg.csv')"
   ]
  },
  {
   "cell_type": "code",
   "execution_count": null,
   "metadata": {},
   "outputs": [],
   "source": []
  },
  {
   "cell_type": "code",
   "execution_count": null,
   "metadata": {},
   "outputs": [],
   "source": []
  }
 ],
 "metadata": {
  "kernelspec": {
   "display_name": "Python 3",
   "language": "python",
   "name": "python3"
  },
  "language_info": {
   "codemirror_mode": {
    "name": "ipython",
    "version": 3
   },
   "file_extension": ".py",
   "mimetype": "text/x-python",
   "name": "python",
   "nbconvert_exporter": "python",
   "pygments_lexer": "ipython3",
   "version": "3.7.3"
  }
 },
 "nbformat": 4,
 "nbformat_minor": 2
}
