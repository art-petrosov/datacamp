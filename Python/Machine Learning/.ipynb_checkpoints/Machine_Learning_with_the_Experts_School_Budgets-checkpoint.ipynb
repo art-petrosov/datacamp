{
 "cells": [
  {
   "cell_type": "markdown",
   "metadata": {},
   "source": [
    "# Machine Learning with the Experts: School Budgets"
   ]
  },
  {
   "cell_type": "code",
   "execution_count": 1,
   "metadata": {},
   "outputs": [],
   "source": [
    "import pandas as pd\n",
    "import numpy as np\n",
    "import matplotlib.pyplot as plt\n",
    "import seaborn as sns\n",
    "from jupyterthemes import jtplot\n",
    "import warnings\n",
    "\n",
    "jtplot.style(theme='chesterish')\n",
    "warnings.filterwarnings('ignore')\n",
    "%config InlineBackend.figure_format='retina'"
   ]
  },
  {
   "cell_type": "markdown",
   "metadata": {},
   "source": [
    "## Chapter 1. Exploring the raw data"
   ]
  },
  {
   "cell_type": "markdown",
   "metadata": {},
   "source": [
    "## 1. Introducing the challenge"
   ]
  },
  {
   "cell_type": "markdown",
   "metadata": {},
   "source": [
    "### Introducing the challenge\n",
    "\n",
    "* Learn from the expert who won DrivenData’s challenge\n",
    "    * Natural language processing\n",
    "    * Feature engineering\n",
    "    * Efficiency boosting hashing tricks\n",
    "* Use data to have a social impact"
   ]
  },
  {
   "cell_type": "markdown",
   "metadata": {},
   "source": [
    "### Introducing the challenge\n",
    "\n",
    "* Budgets for schools are huge, complex, and not standardized\n",
    "    * Hundreds of hours each year are spent manually labelling\n",
    "* Goal: Build a machine learning algorithm that can automate the process\n",
    "* Budget data\n",
    "    * Line-item: “Algebra books for 8th grade students”\n",
    "    * Labels: “Textbooks”, “Math”, “Middle School”\n",
    "* This is a supervised learning problem"
   ]
  },
  {
   "cell_type": "markdown",
   "metadata": {},
   "source": [
    "### Over 100 target variables!\n",
    "```\n",
    "* This is a classification problem\n",
    "\n",
    "* Pre_K:                     * Sharing\n",
    "    * NO_LABEL                   * Leadership & Management\n",
    "    * Non PreK                   * NO_LABEL\n",
    "    * PreK                       * School Reported\n",
    "* Reporting:                 * Student_Type:\n",
    "    * NO_LABEL                   * Alternative\n",
    "    * Non-School                 * At Risk\n",
    "    * School                     * ...\n",
    "```"
   ]
  },
  {
   "cell_type": "markdown",
   "metadata": {},
   "source": [
    "### How we can help\n",
    "\n",
    "* Predictions will be probabilities for each label\n",
    "\n",
    "<img src='Machine_Learning_with_the_Experts_School_Budgets/Pictures/How_we_can_help.png' alt='How we can help' width=600 align='left'>"
   ]
  },
  {
   "cell_type": "markdown",
   "metadata": {},
   "source": [
    "### №1 What category of problem is this?\n",
    "\n",
    "Your goal is to develop a model that predicts the probability for each possible label by relying on some correctly labeled examples\n",
    "\n",
    "What type of machine learning problem is this?\n",
    "\n",
    "* *Reinforcement Learning, because the model is learning from the data through a system of rewards and punishments*\n",
    "* Unsupervised Learning, because the model doesn't output labels with certainty\n",
    "* Unsupervised Learning, because not all data is correctly classified to begin with\n",
    "* Supervised Learning, because the model will be trained using labeled examples"
   ]
  },
  {
   "cell_type": "markdown",
   "metadata": {},
   "source": [
    "### №2 What is the goal of the algorithm?\n",
    "\n",
    "What type of supervised machine learning problem this is, and why you think so?\n",
    "\n",
    "Your goal is to correctly label budget line items by training a supervised model to predict the probability of each possible label, taking most probable label as the correct label\n",
    "\n",
    "* *Regression, because the model will output probabilities*\n",
    "* Classification, because predicted probabilities will be used to select a label class\n",
    "* Regression, because probabilities take a continuous value between 0 and 1\n",
    "* Classification, because the model will output probabilities"
   ]
  },
  {
   "cell_type": "markdown",
   "metadata": {},
   "source": [
    "## 2. Exploring the data"
   ]
  },
  {
   "cell_type": "markdown",
   "metadata": {},
   "source": [
    "### A column for each possible value\n",
    "\n",
    "<img src='Machine_Learning_with_the_Experts_School_Budgets/Pictures/A_column_for_each_possible_value.png' alt='A column for each possible value' width=600 align='left'>"
   ]
  },
  {
   "cell_type": "markdown",
   "metadata": {},
   "source": [
    "### Load and preview the data"
   ]
  },
  {
   "cell_type": "code",
   "execution_count": 2,
   "metadata": {},
   "outputs": [
    {
     "data": {
      "text/html": [
       "<div>\n",
       "<style scoped>\n",
       "    .dataframe tbody tr th:only-of-type {\n",
       "        vertical-align: middle;\n",
       "    }\n",
       "\n",
       "    .dataframe tbody tr th {\n",
       "        vertical-align: top;\n",
       "    }\n",
       "\n",
       "    .dataframe thead th {\n",
       "        text-align: right;\n",
       "    }\n",
       "</style>\n",
       "<table border=\"1\" class=\"dataframe\">\n",
       "  <thead>\n",
       "    <tr style=\"text-align: right;\">\n",
       "      <th></th>\n",
       "      <th>numeric</th>\n",
       "      <th>text</th>\n",
       "      <th>with_missing</th>\n",
       "      <th>label</th>\n",
       "    </tr>\n",
       "  </thead>\n",
       "  <tbody>\n",
       "    <tr>\n",
       "      <th>0</th>\n",
       "      <td>-10.856306</td>\n",
       "      <td>NaN</td>\n",
       "      <td>4.433240</td>\n",
       "      <td>b</td>\n",
       "    </tr>\n",
       "    <tr>\n",
       "      <th>1</th>\n",
       "      <td>9.973454</td>\n",
       "      <td>foo</td>\n",
       "      <td>4.310229</td>\n",
       "      <td>b</td>\n",
       "    </tr>\n",
       "    <tr>\n",
       "      <th>2</th>\n",
       "      <td>2.829785</td>\n",
       "      <td>foo bar</td>\n",
       "      <td>2.469828</td>\n",
       "      <td>a</td>\n",
       "    </tr>\n",
       "    <tr>\n",
       "      <th>3</th>\n",
       "      <td>-15.062947</td>\n",
       "      <td>NaN</td>\n",
       "      <td>2.852981</td>\n",
       "      <td>b</td>\n",
       "    </tr>\n",
       "    <tr>\n",
       "      <th>4</th>\n",
       "      <td>-5.786003</td>\n",
       "      <td>foo bar</td>\n",
       "      <td>1.826475</td>\n",
       "      <td>a</td>\n",
       "    </tr>\n",
       "  </tbody>\n",
       "</table>\n",
       "</div>"
      ],
      "text/plain": [
       "     numeric     text  with_missing label\n",
       "0 -10.856306      NaN      4.433240     b\n",
       "1   9.973454      foo      4.310229     b\n",
       "2   2.829785  foo bar      2.469828     a\n",
       "3 -15.062947      NaN      2.852981     b\n",
       "4  -5.786003  foo bar      1.826475     a"
      ]
     },
     "execution_count": 2,
     "metadata": {},
     "output_type": "execute_result"
    }
   ],
   "source": [
    "sample_df = pd.read_csv('Machine_Learning_with_the_Experts_School_Budgets/sample_data.csv')\n",
    "sample_df.head()"
   ]
  },
  {
   "cell_type": "markdown",
   "metadata": {},
   "source": [
    "### Summarize the data"
   ]
  },
  {
   "cell_type": "code",
   "execution_count": 3,
   "metadata": {},
   "outputs": [
    {
     "name": "stdout",
     "output_type": "stream",
     "text": [
      "<class 'pandas.core.frame.DataFrame'>\n",
      "RangeIndex: 1000 entries, 0 to 999\n",
      "Data columns (total 4 columns):\n",
      "numeric         1000 non-null float64\n",
      "text            790 non-null object\n",
      "with_missing    822 non-null float64\n",
      "label           1000 non-null object\n",
      "dtypes: float64(2), object(2)\n",
      "memory usage: 31.3+ KB\n"
     ]
    }
   ],
   "source": [
    "sample_df.info()"
   ]
  },
  {
   "cell_type": "markdown",
   "metadata": {},
   "source": [
    "### Summarize the data"
   ]
  },
  {
   "cell_type": "code",
   "execution_count": 4,
   "metadata": {},
   "outputs": [
    {
     "data": {
      "text/html": [
       "<div>\n",
       "<style scoped>\n",
       "    .dataframe tbody tr th:only-of-type {\n",
       "        vertical-align: middle;\n",
       "    }\n",
       "\n",
       "    .dataframe tbody tr th {\n",
       "        vertical-align: top;\n",
       "    }\n",
       "\n",
       "    .dataframe thead th {\n",
       "        text-align: right;\n",
       "    }\n",
       "</style>\n",
       "<table border=\"1\" class=\"dataframe\">\n",
       "  <thead>\n",
       "    <tr style=\"text-align: right;\">\n",
       "      <th></th>\n",
       "      <th>numeric</th>\n",
       "      <th>with_missing</th>\n",
       "    </tr>\n",
       "  </thead>\n",
       "  <tbody>\n",
       "    <tr>\n",
       "      <th>count</th>\n",
       "      <td>1000.000000</td>\n",
       "      <td>822.000000</td>\n",
       "    </tr>\n",
       "    <tr>\n",
       "      <th>mean</th>\n",
       "      <td>-0.395641</td>\n",
       "      <td>3.025194</td>\n",
       "    </tr>\n",
       "    <tr>\n",
       "      <th>std</th>\n",
       "      <td>10.012883</td>\n",
       "      <td>0.994960</td>\n",
       "    </tr>\n",
       "    <tr>\n",
       "      <th>min</th>\n",
       "      <td>-32.310550</td>\n",
       "      <td>-0.801378</td>\n",
       "    </tr>\n",
       "    <tr>\n",
       "      <th>25%</th>\n",
       "      <td>-6.845566</td>\n",
       "      <td>2.386520</td>\n",
       "    </tr>\n",
       "    <tr>\n",
       "      <th>50%</th>\n",
       "      <td>-0.411856</td>\n",
       "      <td>3.022887</td>\n",
       "    </tr>\n",
       "    <tr>\n",
       "      <th>75%</th>\n",
       "      <td>6.688657</td>\n",
       "      <td>3.693381</td>\n",
       "    </tr>\n",
       "    <tr>\n",
       "      <th>max</th>\n",
       "      <td>35.715792</td>\n",
       "      <td>5.850708</td>\n",
       "    </tr>\n",
       "  </tbody>\n",
       "</table>\n",
       "</div>"
      ],
      "text/plain": [
       "           numeric  with_missing\n",
       "count  1000.000000    822.000000\n",
       "mean     -0.395641      3.025194\n",
       "std      10.012883      0.994960\n",
       "min     -32.310550     -0.801378\n",
       "25%      -6.845566      2.386520\n",
       "50%      -0.411856      3.022887\n",
       "75%       6.688657      3.693381\n",
       "max      35.715792      5.850708"
      ]
     },
     "execution_count": 4,
     "metadata": {},
     "output_type": "execute_result"
    }
   ],
   "source": [
    "sample_df.describe()"
   ]
  },
  {
   "cell_type": "markdown",
   "metadata": {},
   "source": [
    "### №3 Loading the data\n",
    "\n",
    "Use `df.info()` in the IPython Shell to answer the following questions:\n",
    "\n",
    "1. How many rows are there in the training data?\n",
    "1. How many columns are there in the training data?\n",
    "1. How many non-null entries are in the `Job_Title_Description` column?\n",
    "  \n",
    "  \n",
    "* 26 rows, 1560 columns, 1560 non-null entries in Job_Title_Description\n",
    "* 26 rows, 1560 columns, 1131 non-null entries in Job_Title_Description\n",
    "* 1560 rows, 26 columns, 1560 non-null entries in Job_Title_Description. \n",
    "* *1560 rows, 26 columns, 1131 non-null entries in Job_Title_Description*"
   ]
  },
  {
   "cell_type": "code",
   "execution_count": 5,
   "metadata": {},
   "outputs": [
    {
     "name": "stdout",
     "output_type": "stream",
     "text": [
      "<class 'pandas.core.frame.DataFrame'>\n",
      "Int64Index: 1560 entries, 198 to 101861\n",
      "Data columns (total 25 columns):\n",
      "Function                  1560 non-null object\n",
      "Use                       1560 non-null object\n",
      "Sharing                   1560 non-null object\n",
      "Reporting                 1560 non-null object\n",
      "Student_Type              1560 non-null object\n",
      "Position_Type             1560 non-null object\n",
      "Object_Type               1560 non-null object\n",
      "Pre_K                     1560 non-null object\n",
      "Operating_Status          1560 non-null object\n",
      "Object_Description        1461 non-null object\n",
      "Text_2                    382 non-null object\n",
      "SubFund_Description       1183 non-null object\n",
      "Job_Title_Description     1131 non-null object\n",
      "Text_3                    296 non-null object\n",
      "Text_4                    193 non-null object\n",
      "Sub_Object_Description    364 non-null object\n",
      "Location_Description      874 non-null object\n",
      "FTE                       449 non-null float64\n",
      "Function_Description      1340 non-null object\n",
      "Facility_or_Department    252 non-null object\n",
      "Position_Extra            1026 non-null object\n",
      "Total                     1542 non-null float64\n",
      "Program_Description       1192 non-null object\n",
      "Fund_Description          819 non-null object\n",
      "Text_1                    1132 non-null object\n",
      "dtypes: float64(2), object(23)\n",
      "memory usage: 316.9+ KB\n"
     ]
    }
   ],
   "source": [
    "df = pd.read_csv('Machine_Learning_with_the_Experts_School_Budgets/TrainingData.csv',\n",
    "                 index_col=0)\n",
    "df.info()"
   ]
  },
  {
   "cell_type": "markdown",
   "metadata": {},
   "source": [
    "### №4 Summarizing the data\n",
    "\n",
    "* Print summary statistics of the numeric columns in the DataFrame `df` using the `.describe()` method\n",
    "* Import `matplotlib.pyplot` as `plt`\n",
    "* Create a histogram of the non-null `'FTE'` column. You can do this by passing `df['FTE'].dropna()` to `plt.hist()`"
   ]
  },
  {
   "cell_type": "code",
   "execution_count": 6,
   "metadata": {},
   "outputs": [
    {
     "name": "stdout",
     "output_type": "stream",
     "text": [
      "              FTE         Total\n",
      "count  449.000000  1.542000e+03\n",
      "mean     0.493532  1.446867e+04\n",
      "std      0.452844  7.916752e+04\n",
      "min     -0.002369 -1.044084e+06\n",
      "25%      0.004310  1.108111e+02\n",
      "50%      0.440000  7.060299e+02\n",
      "75%      1.000000  5.347760e+03\n",
      "max      1.047222  1.367500e+06\n"
     ]
    },
    {
     "data": {
      "image/png": "[encoded data removed]",
      "text/plain": [
       "<Figure size 432x288 with 1 Axes>"
      ]
     },
     "metadata": {
      "image/png": {
       "height": 296,
       "width": 392
      },
      "needs_background": "dark"
     },
     "output_type": "display_data"
    }
   ],
   "source": [
    "print(df.describe())\n",
    "\n",
    "plt.hist(df['FTE'].dropna())\n",
    "\n",
    "plt.title('Distribution of %full-time \\n employee works')\n",
    "plt.xlabel('% of full-time')\n",
    "plt.ylabel('num employees')\n",
    "\n",
    "plt.show()"
   ]
  },
  {
   "cell_type": "markdown",
   "metadata": {},
   "source": [
    "## 3. Looking at the datatypes"
   ]
  },
  {
   "cell_type": "markdown",
   "metadata": {},
   "source": [
    "### Objects instead of categories"
   ]
  },
  {
   "cell_type": "code",
   "execution_count": 7,
   "metadata": {},
   "outputs": [
    {
     "data": {
      "text/plain": [
       "0    b\n",
       "1    b\n",
       "2    a\n",
       "3    b\n",
       "4    a\n",
       "Name: label, dtype: object"
      ]
     },
     "execution_count": 7,
     "metadata": {},
     "output_type": "execute_result"
    }
   ],
   "source": [
    "sample_df['label'].head()"
   ]
  },
  {
   "cell_type": "markdown",
   "metadata": {},
   "source": [
    "### Encode labels as categories\n",
    "\n",
    "* ML algorithms work on numbers, not strings\n",
    "    * Need a numeric representation of these strings\n",
    "* Strings can be slow compared to numbers\n",
    "* In pandas, ‘category’ dtype encodes categorical data numerically\n",
    "    * Can speed up code"
   ]
  },
  {
   "cell_type": "markdown",
   "metadata": {},
   "source": [
    "### Encode labels as categories (sample data)"
   ]
  },
  {
   "cell_type": "code",
   "execution_count": 8,
   "metadata": {},
   "outputs": [
    {
     "data": {
      "text/plain": [
       "0    b\n",
       "1    b\n",
       "Name: label, dtype: object"
      ]
     },
     "execution_count": 8,
     "metadata": {},
     "output_type": "execute_result"
    }
   ],
   "source": [
    "sample_df.label.head(2)"
   ]
  },
  {
   "cell_type": "code",
   "execution_count": 9,
   "metadata": {},
   "outputs": [
    {
     "data": {
      "text/plain": [
       "0    b\n",
       "1    b\n",
       "Name: label, dtype: category\n",
       "Categories (2, object): [a, b]"
      ]
     },
     "execution_count": 9,
     "metadata": {},
     "output_type": "execute_result"
    }
   ],
   "source": [
    "sample_df.label = sample_df.label.astype('category')\n",
    "sample_df.label.head(2)"
   ]
  },
  {
   "cell_type": "markdown",
   "metadata": {},
   "source": [
    "### Dummy variable encoding\n",
    "\n",
    "* Also called a ‘binary indicator’ representation "
   ]
  },
  {
   "cell_type": "code",
   "execution_count": 10,
   "metadata": {},
   "outputs": [
    {
     "data": {
      "text/html": [
       "<div>\n",
       "<style scoped>\n",
       "    .dataframe tbody tr th:only-of-type {\n",
       "        vertical-align: middle;\n",
       "    }\n",
       "\n",
       "    .dataframe tbody tr th {\n",
       "        vertical-align: top;\n",
       "    }\n",
       "\n",
       "    .dataframe thead th {\n",
       "        text-align: right;\n",
       "    }\n",
       "</style>\n",
       "<table border=\"1\" class=\"dataframe\">\n",
       "  <thead>\n",
       "    <tr style=\"text-align: right;\">\n",
       "      <th></th>\n",
       "      <th>label_a</th>\n",
       "      <th>label_b</th>\n",
       "    </tr>\n",
       "  </thead>\n",
       "  <tbody>\n",
       "    <tr>\n",
       "      <th>0</th>\n",
       "      <td>0</td>\n",
       "      <td>1</td>\n",
       "    </tr>\n",
       "    <tr>\n",
       "      <th>1</th>\n",
       "      <td>0</td>\n",
       "      <td>1</td>\n",
       "    </tr>\n",
       "  </tbody>\n",
       "</table>\n",
       "</div>"
      ],
      "text/plain": [
       "   label_a  label_b\n",
       "0        0        1\n",
       "1        0        1"
      ]
     },
     "execution_count": 10,
     "metadata": {},
     "output_type": "execute_result"
    }
   ],
   "source": [
    "dummies = pd.get_dummies(sample_df[['label']], prefix_sep='_')\n",
    "dummies.head(2)"
   ]
  },
  {
   "cell_type": "markdown",
   "metadata": {},
   "source": [
    "### Lambda functions\n",
    "\n",
    "* Alternative to ‘def’ syntax\n",
    "* Easy way to make simple, one-line functions"
   ]
  },
  {
   "cell_type": "code",
   "execution_count": 11,
   "metadata": {},
   "outputs": [
    {
     "data": {
      "text/plain": [
       "4"
      ]
     },
     "execution_count": 11,
     "metadata": {},
     "output_type": "execute_result"
    }
   ],
   "source": [
    "square = lambda x: x*x\n",
    "square(2)"
   ]
  },
  {
   "cell_type": "markdown",
   "metadata": {},
   "source": [
    "### Encode labels as categories\n",
    "\n",
    "* In the sample dataframe, we only have one relevant column\n",
    "* In the budget data, there are multiple columns that need to be made categorical "
   ]
  },
  {
   "cell_type": "markdown",
   "metadata": {},
   "source": [
    "### Encode labels as categories"
   ]
  },
  {
   "cell_type": "code",
   "execution_count": 12,
   "metadata": {},
   "outputs": [
    {
     "name": "stdout",
     "output_type": "stream",
     "text": [
      "<class 'pandas.core.frame.DataFrame'>\n",
      "RangeIndex: 1000 entries, 0 to 999\n",
      "Data columns (total 4 columns):\n",
      "numeric         1000 non-null float64\n",
      "text            790 non-null object\n",
      "with_missing    822 non-null float64\n",
      "label           1000 non-null object\n",
      "dtypes: float64(2), object(2)\n",
      "memory usage: 31.3+ KB\n"
     ]
    }
   ],
   "source": [
    "categorize_label = lambda x: x.astype('category')\n",
    "sample_df.label = sample_df[['label']].apply(categorize_label, axis=0)\n",
    "sample_df.info()"
   ]
  },
  {
   "cell_type": "markdown",
   "metadata": {},
   "source": [
    "### №5 Exploring datatypes in pandas\n",
    "\n",
    "How many columns with dtype `object` are in the data?\n",
    "\n",
    "* 2\n",
    "* *23*\n",
    "* 64\n",
    "* 25"
   ]
  },
  {
   "cell_type": "code",
   "execution_count": 13,
   "metadata": {},
   "outputs": [
    {
     "data": {
      "text/plain": [
       "object     23\n",
       "float64     2\n",
       "dtype: int64"
      ]
     },
     "execution_count": 13,
     "metadata": {},
     "output_type": "execute_result"
    }
   ],
   "source": [
    "df.dtypes.value_counts()"
   ]
  },
  {
   "cell_type": "markdown",
   "metadata": {},
   "source": [
    "### №6 Encode the labels as categorical variables\n",
    "\n",
    "* Define the lambda function `categorize_label` to convert column `x` into `x.astype('category')`\n",
    "* Use the `LABELS` list provided to convert the subset of data `df[LABELS]` to categorical types using the `.apply()` method and `categorize_label`. Don't forget `axis=0`\n",
    "* Print the converted `.dtypes` attribute of `df[LABELS]`"
   ]
  },
  {
   "cell_type": "code",
   "execution_count": 14,
   "metadata": {},
   "outputs": [
    {
     "name": "stdout",
     "output_type": "stream",
     "text": [
      "Function            object\n",
      "Use                 object\n",
      "Sharing             object\n",
      "Reporting           object\n",
      "Student_Type        object\n",
      "Position_Type       object\n",
      "Object_Type         object\n",
      "Pre_K               object\n",
      "Operating_Status    object\n",
      "dtype: object\n"
     ]
    }
   ],
   "source": [
    "LABELS = ['Function', 'Use', 'Sharing', 'Reporting', 'Student_Type',\n",
    "          'Position_Type', 'Object_Type', 'Pre_K', 'Operating_Status']\n",
    "\n",
    "print(df[LABELS].dtypes)"
   ]
  },
  {
   "cell_type": "code",
   "execution_count": 15,
   "metadata": {},
   "outputs": [
    {
     "name": "stdout",
     "output_type": "stream",
     "text": [
      "Function            category\n",
      "Use                 category\n",
      "Sharing             category\n",
      "Reporting           category\n",
      "Student_Type        category\n",
      "Position_Type       category\n",
      "Object_Type         category\n",
      "Pre_K               category\n",
      "Operating_Status    category\n",
      "dtype: object\n"
     ]
    }
   ],
   "source": [
    "categorize_label = lambda x: x.astype('category')\n",
    "\n",
    "df[LABELS] = df[LABELS].apply(categorize_label)\n",
    "print(df[LABELS].dtypes)"
   ]
  },
  {
   "cell_type": "markdown",
   "metadata": {},
   "source": [
    "### №7 Counting unique labels\n",
    "\n",
    "* Create the DataFrame `num_unique_labels` by using the `.apply()` method on `df[LABELS]` with `pd.Series.nunique` as the argument\n",
    "* Create a bar plot of `num_unique_labels` using pandas' `.plot(kind='bar')` method"
   ]
  },
  {
   "cell_type": "code",
   "execution_count": 16,
   "metadata": {},
   "outputs": [
    {
     "data": {
      "image/png": "[encoded data removed]",
      "text/plain": [
       "<Figure size 432x288 with 1 Axes>"
      ]
     },
     "metadata": {
      "image/png": {
       "height": 352,
       "width": 385
      },
      "needs_background": "dark"
     },
     "output_type": "display_data"
    }
   ],
   "source": [
    "num_unique_labels = df[LABELS].apply(pd.Series.nunique)\n",
    "\n",
    "num_unique_labels.plot(kind='bar')\n",
    "plt.xlabel('Labels')\n",
    "plt.ylabel('Number of unique values')\n",
    "plt.show()"
   ]
  },
  {
   "cell_type": "markdown",
   "metadata": {},
   "source": [
    "## 4. How do we measure success?"
   ]
  },
  {
   "cell_type": "markdown",
   "metadata": {},
   "source": [
    "### How do we measure success?\n",
    "\n",
    "* Accuracy can be misleading when classes are imbalanced\n",
    "    * Legitimate email: 99%, Spam: 1%\n",
    "    * Model that never predicts spam will be 99% accurate!\n",
    "* Metric used in this problem: log loss\n",
    "    * It is a loss function\n",
    "    * Measure of error\n",
    "    * Want to minimize the error (unlike accuracy)"
   ]
  },
  {
   "cell_type": "markdown",
   "metadata": {},
   "source": [
    "### Log loss binary classification\n",
    "\n",
    "* Log loss for **binary** classification\n",
    "    * Actual value: y = {1=yes, 0=no}\n",
    "    * Prediction (probability that the value is 1): p\n",
    "    \n",
    "$$ logloss = -\\frac{1}{N} \\sum_{i=1}^N (y_i\\log(p_i) + (1-y_i)\\log(1 − p_i)) $$"
   ]
  },
  {
   "cell_type": "markdown",
   "metadata": {},
   "source": [
    "### Log loss binary classification: example\n",
    "\n",
    "$$ logloss_(N=1) = y\\log(p) + (1-y)\\log(1 − p) $$\n",
    "\n",
    "* True label = 0\n",
    "* Model confidently predicts 1 (with p = 0.90)\n",
    "* Log loss = $ (1-y)*\\log(1-p) $\n",
    "    * = $\\log(1 - 0.9)$\n",
    "    * = $\\log(0.1)$\n",
    "    * = $2.30$"
   ]
  },
  {
   "cell_type": "markdown",
   "metadata": {},
   "source": [
    "### Log loss binary classification: example\n",
    "\n",
    "$$ logloss_(N=1) = y\\log(p) + (1-y)\\log(1 − p) $$\n",
    "\n",
    "* True label = 1\n",
    "* Model predicts 0 (with p = 0.50)\n",
    "* Log loss = 0.69\n",
    "* Better to be less confident than confident and wrong"
   ]
  },
  {
   "cell_type": "markdown",
   "metadata": {},
   "source": [
    "### Computing log loss with NumPy\n",
    "\n",
    "**logloss.py**\n",
    "\n",
    "```python\n",
    "def compute_log_loss(predicted, actual, eps=1e-14):\n",
    "    \"\"\" Computes the logarithmic loss between predicted\n",
    "        and actual when these are 1D arrays.\n",
    "        \n",
    "        :param predicted: The predicted probabilities as floats between 0-1\n",
    "        :param actual: The actual binary labels. Either 0 or 1.\n",
    "        :param eps (optional): log(0) is inf, so we need to offset our\n",
    "        predicted values slightly by eps from 0 or 1.\n",
    "    \"\"\"\n",
    "    predicted = np.clip(predicted, eps, 1 - eps)\n",
    "    loss = -1 * np.mean(actual * np.log(predicted) + (1 - actual) * np.log(1 - predicted))\n",
    "\n",
    "    return loss\n",
    "```"
   ]
  },
  {
   "cell_type": "markdown",
   "metadata": {},
   "source": [
    "### Computing log loss with NumPy"
   ]
  },
  {
   "cell_type": "code",
   "execution_count": 17,
   "metadata": {},
   "outputs": [
    {
     "data": {
      "text/plain": [
       "2.302585092994046"
      ]
     },
     "execution_count": 17,
     "metadata": {},
     "output_type": "execute_result"
    }
   ],
   "source": [
    "%run Machine_Learning_with_the_Experts_School_Budgets/logloss.py\n",
    "compute_log_loss(predicted=0.9, actual=0)"
   ]
  },
  {
   "cell_type": "code",
   "execution_count": 18,
   "metadata": {},
   "outputs": [
    {
     "data": {
      "text/plain": [
       "0.6931471805599453"
      ]
     },
     "execution_count": 18,
     "metadata": {},
     "output_type": "execute_result"
    }
   ],
   "source": [
    "compute_log_loss(predicted=0.5, actual=0)"
   ]
  },
  {
   "cell_type": "markdown",
   "metadata": {},
   "source": [
    "### №8 Penalizing highly confident wrong answers\n",
    "\n",
    "As Peter explained in the video, log loss provides a steep penalty for predictions that are both wrong and confident, i.e., a high probability is assigned to the incorrect class.\n",
    "\n",
    "Suppose you have the following 3 examples:  \n",
    "A: y=1, p=0.85  \n",
    "B: y=0, p=0.99  \n",
    "C: y=0, p=0.51  \n",
    "\n",
    "Select the ordering of the examples which corresponds to the lowest to highest log loss scores. y is an indicator of whether the example was classified correctly. You shouldn't need to crunch any numbers!\n",
    "\n",
    "* *Lowest: A, Middle: C, Highest: B*\n",
    "* Lowest: A, Middle: B, Highest: C\n",
    "* Lowest: C, Middle: A, Highest: B\n",
    "* Lowest: B, Middle: A, Highest: C"
   ]
  },
  {
   "cell_type": "code",
   "execution_count": 19,
   "metadata": {},
   "outputs": [
    {
     "name": "stdout",
     "output_type": "stream",
     "text": [
      "0.16251892949777494\n",
      "4.605170185988091\n",
      "0.7133498878774648\n"
     ]
    }
   ],
   "source": [
    "print(compute_log_loss(0.85, 1))\n",
    "print(compute_log_loss(0.99, 0))\n",
    "print(compute_log_loss(0.51, 0))"
   ]
  },
  {
   "cell_type": "markdown",
   "metadata": {},
   "source": [
    "### №9 Computing log loss with NumPy\n",
    "\n",
    "* Using the `compute_log_loss()` function, compute the log loss for the following predicted values (in each case, the actual values are contained in actual_labels):\n",
    "    * `correct_confident`\n",
    "    * `correct_not_confident`\n",
    "    * `wrong_not_confident`\n",
    "    * `wrong_confident`\n",
    "    * `actual_labels`"
   ]
  },
  {
   "cell_type": "code",
   "execution_count": 20,
   "metadata": {},
   "outputs": [],
   "source": [
    "correct_confident = 32.23699089933613\n",
    "correct_not_confident = 32.23699089933613\n",
    "wrong_not_confident = 32.23699089933613\n",
    "wrong_confident = 32.23699089933613\n",
    "actual_labels = 1.1959839811449977e-07"
   ]
  },
  {
   "cell_type": "code",
   "execution_count": 21,
   "metadata": {},
   "outputs": [
    {
     "name": "stdout",
     "output_type": "stream",
     "text": [
      "Log loss, correct and confident: 32.23698704385436\n",
      "Log loss, correct and not confident: 32.23698704385436\n",
      "Log loss, wrong and not confident: 32.23698704385436\n",
      "Log loss, wrong and confident: 32.23698704385436\n",
      "Log loss, actual labels: 2.0258923744162646e-06\n"
     ]
    }
   ],
   "source": [
    "correct_confident = compute_log_loss(correct_confident, actual_labels)\n",
    "print(\"Log loss, correct and confident: {}\".format(correct_confident)) \n",
    "\n",
    "correct_not_confident = compute_log_loss(correct_not_confident, actual_labels)\n",
    "print(\"Log loss, correct and not confident: {}\".format(correct_not_confident)) \n",
    "\n",
    "wrong_not_confident = compute_log_loss(wrong_not_confident, actual_labels)\n",
    "print(\"Log loss, wrong and not confident: {}\".format(wrong_not_confident)) \n",
    "\n",
    "wrong_confident = compute_log_loss(wrong_confident, actual_labels)\n",
    "print(\"Log loss, wrong and confident: {}\".format(wrong_confident)) \n",
    "\n",
    "actual_labels = compute_log_loss(actual_labels, actual_labels)\n",
    "print(\"Log loss, actual labels: {}\".format(actual_labels))"
   ]
  },
  {
   "cell_type": "markdown",
   "metadata": {},
   "source": [
    "## Chapter 2. Creating a simple first model"
   ]
  },
  {
   "cell_type": "markdown",
   "metadata": {},
   "source": [
    "## 5. It's time to build a model"
   ]
  },
  {
   "cell_type": "markdown",
   "metadata": {},
   "source": [
    "### It's time to build a model\n",
    "\n",
    "* Always a good approach to start with a very simple model\n",
    "* Gives a sense of how challenging the problem is\n",
    "* Many more things can go wrong in complex models\n",
    "* How much signal can we pull out using basic methods?"
   ]
  },
  {
   "cell_type": "markdown",
   "metadata": {},
   "source": [
    "### It's time to build a model\n",
    "\n",
    "* Train basic model on numeric data only\n",
    "    * Want to go from raw data to predictions quickly\n",
    "* Multi-class logistic regression\n",
    "    * Train classifier on each label separately and use those to predict\n",
    "* Format predictions and save to csv\n",
    "* Compute log loss score"
   ]
  },
  {
   "cell_type": "markdown",
   "metadata": {},
   "source": [
    "### Splitting the multi-class dataset\n",
    "\n",
    "* Recall: Train-test split\n",
    "    * Will not work here\n",
    "    * May end up with labels in test set that never appear in training set\n",
    "* Solution: StratifiedShuffleSplit\n",
    "    * Only works with a single target variable\n",
    "    * We have many target variables\n",
    "    * multilabel_train_test_"
   ]
  },
  {
   "cell_type": "markdown",
   "metadata": {},
   "source": [
    "### Splitting the data\n",
    "\n",
    "```Python\n",
    "In [1]: data_to_train = df[NUMERIC_COLUMNS].fillna(-1000)\n",
    "    \n",
    "In [2]: labels_to_use = pd.get_dummies(df[LABELS])\n",
    "    \n",
    "In [3]: X_train, X_test, y_train, y_test = multilabel_train_test_split(data_to_train, labels_to_use, size=0.2, seed=123)\n",
    "```"
   ]
  },
  {
   "cell_type": "markdown",
   "metadata": {},
   "source": [
    "### Training the model\n",
    "\n",
    "```python\n",
    "In [4]: from sklearn.linear_model import LogisticRegression\n",
    "    \n",
    "In [5]: from sklearn.multiclass import OneVsRestClassifier\n",
    "    \n",
    "In [6]: clf = OneVsRestClassifier(LogisticRegression())\n",
    "    \n",
    "In [7]: clf.fit(X_train, y_train)\n",
    "```\n",
    "\n",
    "* OneVsRestClassifier:\n",
    "    * Treats each column of y independently\n",
    "    * Fits a separate classifier for each of the columns"
   ]
  },
  {
   "cell_type": "markdown",
   "metadata": {},
   "source": [
    "### №10 Setting up a train-test split in scikit-learn\n",
    "\n",
    "* Create a new DataFrame named `numeric_data_only` by applying the `.fillna(-1000)` method to the numeric columns (available in the list `NUMERIC_COLUMNS`) of `df`\n",
    "* Convert the labels (available in the list LABELS) to dummy variables. Save the result as `label_dummies`\n",
    "* In the call to `multilabel_train_test_split()`, set the `size` of your test set to be `0.2`. Use a `seed` of `123`\n",
    "* Fill in the `.info()` method calls for `X_train`, `X_test`, `y_train`, and `y_test`"
   ]
  },
  {
   "cell_type": "code",
   "execution_count": 22,
   "metadata": {},
   "outputs": [
    {
     "name": "stdout",
     "output_type": "stream",
     "text": [
      "X_train info:\n",
      "<class 'pandas.core.frame.DataFrame'>\n",
      "Int64Index: 1040 entries, 198 to 101861\n",
      "Data columns (total 2 columns):\n",
      "FTE      1040 non-null float64\n",
      "Total    1040 non-null float64\n",
      "dtypes: float64(2)\n",
      "memory usage: 24.4 KB\n",
      "None\n",
      "\n",
      "X_test info:\n",
      "<class 'pandas.core.frame.DataFrame'>\n",
      "Int64Index: 520 entries, 209 to 448628\n",
      "Data columns (total 2 columns):\n",
      "FTE      520 non-null float64\n",
      "Total    520 non-null float64\n",
      "dtypes: float64(2)\n",
      "memory usage: 12.2 KB\n",
      "None\n",
      "\n",
      "y_train info:\n",
      "<class 'pandas.core.frame.DataFrame'>\n",
      "Int64Index: 1040 entries, 198 to 101861\n",
      "Columns: 104 entries, Function_Aides Compensation to Operating_Status_PreK-12 Operating\n",
      "dtypes: uint8(104)\n",
      "memory usage: 113.8 KB\n",
      "None\n",
      "\n",
      "y_test info:\n",
      "<class 'pandas.core.frame.DataFrame'>\n",
      "Int64Index: 520 entries, 209 to 448628\n",
      "Columns: 104 entries, Function_Aides Compensation to Operating_Status_PreK-12 Operating\n",
      "dtypes: uint8(104)\n",
      "memory usage: 56.9 KB\n",
      "None\n"
     ]
    }
   ],
   "source": [
    "%run Machine_Learning_with_the_Experts_School_Budgets/multilabel.py\n",
    "\n",
    "NUMERIC_COLUMNS = ['FTE', 'Total']\n",
    "numeric_data_only = df[NUMERIC_COLUMNS].fillna(-1000)\n",
    "\n",
    "label_dummies = pd.get_dummies(df[LABELS])\n",
    "\n",
    "X_train, X_test, y_train, y_test = multilabel_train_test_split(numeric_data_only, \n",
    "                                                               label_dummies, \n",
    "                                                               size=0.2, \n",
    "                                                               seed=123)\n",
    "\n",
    "print(\"X_train info:\")\n",
    "print(X_train.info())\n",
    "print(\"\\nX_test info:\")\n",
    "print(X_test.info())\n",
    "print(\"\\ny_train info:\")\n",
    "print(y_train.info())\n",
    "print(\"\\ny_test info:\")\n",
    "print(y_test.info())"
   ]
  },
  {
   "cell_type": "markdown",
   "metadata": {},
   "source": [
    "### №11 Training a model\n",
    "\n",
    "* Import `LogisticRegression` from `sklearn.linear_model` and `OneVsRestClassifier` from `sklearn.multiclass`\n",
    "* Instantiate the classifier `clf` by placing `LogisticRegression()` inside `OneVsRestClassifier()`\n",
    "* Fit the classifier to the training data `X_train` and `y_train`\n",
    "* Compute and print the accuracy of the classifier using its `.score()` method, which accepts two arguments: `X_test` and `y_test`"
   ]
  },
  {
   "cell_type": "code",
   "execution_count": 23,
   "metadata": {},
   "outputs": [
    {
     "name": "stdout",
     "output_type": "stream",
     "text": [
      "Accuracy: 0.0\n"
     ]
    }
   ],
   "source": [
    "from sklearn.linear_model import LogisticRegression\n",
    "from sklearn.multiclass import OneVsRestClassifier\n",
    "\n",
    "numeric_data_only = df[NUMERIC_COLUMNS].fillna(-1000)\n",
    "label_dummies = pd.get_dummies(df[LABELS])\n",
    "\n",
    "X_train, X_test, y_train, y_test = multilabel_train_test_split(numeric_data_only,\n",
    "                                                               label_dummies,\n",
    "                                                               size=0.2,\n",
    "                                                               seed=123)\n",
    "\n",
    "clf = OneVsRestClassifier(LogisticRegression())\n",
    "clf.fit(X_train, y_train)\n",
    "print(\"Accuracy: {}\".format(clf.score(X_test, y_test)))"
   ]
  },
  {
   "cell_type": "markdown",
   "metadata": {},
   "source": [
    "## 6. Making predictions"
   ]
  },
  {
   "cell_type": "markdown",
   "metadata": {},
   "source": [
    "### Predicting on holdout data\n",
    "\n",
    "* If `.predict()` was used instead:\n",
    "    * Output would be 0 or 1\n",
    "    * Log loss penalizes being confident and wrong\n",
    "    * Worse performance compared to `.predict_proba()`"
   ]
  },
  {
   "cell_type": "code",
   "execution_count": 24,
   "metadata": {},
   "outputs": [],
   "source": [
    "holdout = pd.read_csv('Machine_Learning_with_the_Experts_School_Budgets/HoldoutData.csv',\n",
    "                      index_col=0)\n",
    "\n",
    "holdout = holdout[NUMERIC_COLUMNS].fillna(-1000)\n",
    "predictions = clf.predict_proba(holdout)"
   ]
  },
  {
   "cell_type": "markdown",
   "metadata": {},
   "source": [
    "### Submitting your predictions as a csv\n",
    "\n",
    "* All formatting can be done with the pandas `to_csv` function"
   ]
  },
  {
   "cell_type": "markdown",
   "metadata": {},
   "source": [
    "### Format and submit predictions"
   ]
  },
  {
   "cell_type": "code",
   "execution_count": 25,
   "metadata": {},
   "outputs": [],
   "source": [
    "%run Machine_Learning_with_the_Experts_School_Budgets/score_submission\n",
    "\n",
    "prediction_df = pd.DataFrame(columns=pd.get_dummies(df[LABELS]).columns,\n",
    "                             index=holdout.index,\n",
    "                             data=predictions)\n",
    "\n",
    "prediction_df.to_csv('Machine_Learning_with_the_Experts_School_Budgets/predictions.csv')\n",
    "score = score_submission(\n",
    "    pred_path='Machine_Learning_with_the_Experts_School_Budgets/predictions.csv')"
   ]
  },
  {
   "cell_type": "markdown",
   "metadata": {},
   "source": [
    "### DrivenData leaderboard\n",
    "\n",
    "<img src='Machine_Learning_with_the_Experts_School_Budgets/Pictures/DrivenData_leaderboard.png' alt='DrivenData leaderboard' width=400 align='left'>"
   ]
  },
  {
   "cell_type": "markdown",
   "metadata": {},
   "source": [
    "### №12 Use your model to predict values on holdout data\n",
    "\n",
    "* Read `HoldoutData.csv` into a DataFrame called `holdout`. Specify the keyword argument `index_col=0` in your call to `read_csv()`\n",
    "*Generate predictions using `.predict_proba()` on the numeric columns (available in the `NUMERIC_COLUMNS` list) of holdout. Make sure to fill in missing values with `-1000`"
   ]
  },
  {
   "cell_type": "code",
   "execution_count": 26,
   "metadata": {},
   "outputs": [],
   "source": [
    "from sklearn.multiclass import OneVsRestClassifier\n",
    "from sklearn.linear_model import LogisticRegression\n",
    "\n",
    "clf = OneVsRestClassifier(LogisticRegression())\n",
    "clf.fit(X_train, y_train)\n",
    "\n",
    "holdout = pd.read_csv('Machine_Learning_with_the_Experts_School_Budgets/HoldoutData.csv',\n",
    "                      index_col=0)\n",
    "\n",
    "predictions = clf.predict_proba(holdout[NUMERIC_COLUMNS].fillna(-1000))"
   ]
  },
  {
   "cell_type": "markdown",
   "metadata": {},
   "source": [
    "### №13 Writing out your results to a csv for submission\n",
    "\n",
    "* Create the `prediction_df` DataFrame by specifying the following arguments to the provided parameters `pd.DataFrame()`:\n",
    "    * `pd.get_dummies(df[LABELS]).columns`\n",
    "    * `holdout.index`\n",
    "    * `predictions`\n",
    "* Save `prediction_df` to a csv file called `'predictions.csv'` using the `.to_csv()` method`\n",
    "* Submit the predictions for scoring by using the `score_submission()` function with `pred_path `set to `'predictions.csv'`"
   ]
  },
  {
   "cell_type": "code",
   "execution_count": 27,
   "metadata": {},
   "outputs": [
    {
     "name": "stdout",
     "output_type": "stream",
     "text": [
      "Your model, trained with numeric data only, yields logloss score: 1.9077206102164368\n"
     ]
    }
   ],
   "source": [
    "prediction_df = pd.DataFrame(columns=pd.get_dummies(df[LABELS]).columns,\n",
    "                             index=holdout.index,\n",
    "                             data=predictions)\n",
    "\n",
    "prediction_df.to_csv('Machine_Learning_with_the_Experts_School_Budgets/predictions.csv')\n",
    "score = score_submission(\n",
    "    pred_path='Machine_Learning_with_the_Experts_School_Budgets/predictions.csv')\n",
    "\n",
    "print('Your model, trained with numeric data only, yields logloss score: {}'.format(score))"
   ]
  },
  {
   "cell_type": "markdown",
   "metadata": {},
   "source": [
    "## 7. A very brief introduction to NLP"
   ]
  },
  {
   "cell_type": "markdown",
   "metadata": {},
   "source": [
    "### A very brief introduction to NLP\n",
    "\n",
    "* Data for NLP:\n",
    "    * Text, documents, speech, …\n",
    "* Tokenization\n",
    "    * Splitting a string into segments\n",
    "    * Store segments as list\n",
    "* Example: ‘Natural Language Processing’\n",
    "    * —> [‘Natural’, ‘Language’, ‘Processing’]"
   ]
  },
  {
   "cell_type": "markdown",
   "metadata": {},
   "source": [
    "### Tokens and token patterns\n",
    "\n",
    "* Tokenize on whitespace  \n",
    "    * `PETRO-VEND FUEL AND FLUIDS`  \n",
    "    * `PETRO-VEND` | `FUEL` | `AND` | `FLUIDS`\n",
    "* Tokenize on whitespace *and* punctuation  \n",
    "    * `PETRO-VEND FUEL AND FLUIDS`  \n",
    "    * `PETRO` | `VEND` | `FUEL` | `AND` | `FLUIDS`"
   ]
  },
  {
   "cell_type": "markdown",
   "metadata": {},
   "source": [
    "### Bag of words representation\n",
    "\n",
    "* Count the number of times a particular token appears\n",
    "* 'Bag of words'\n",
    "    * Count the number of times a word waspulled out of the bag\n",
    "* This approach discards information about word order\n",
    "    * 'Red, not blue' is the same as 'blue, not red'"
   ]
  },
  {
   "cell_type": "markdown",
   "metadata": {},
   "source": [
    "### 1-gram, 2-gram, …, n-gram\n",
    "\n",
    "<img src='Machine_Learning_with_the_Experts_School_Budgets/Pictures/gram.png' alt='gram' width=500 align='left'>"
   ]
  },
  {
   "cell_type": "markdown",
   "metadata": {},
   "source": [
    "### №14 Tokenizing text\n",
    "\n",
    "How many tokens (1-grams) are in the string\n",
    "```\n",
    "Title I - Disadvantaged Children/Targeted Assistance\n",
    "```\n",
    "if we tokenize on punctuation?\n",
    "\n",
    "* 4\n",
    "* *6*\n",
    "* 8\n",
    "* 13"
   ]
  },
  {
   "cell_type": "markdown",
   "metadata": {},
   "source": [
    "### №14 Testing your NLP credentials with n-grams\n",
    "\n",
    "In this exercise, your job is to determine the sum of the sizes of 1-grams, 2-grams and 3-grams generated by the string `petro-vend fuel and fluids`, tokenized on punctuation\n",
    "\n",
    "Recall that the n-gram of a sequence consists of all ordered subsequences of length n\n",
    "\n",
    "* 3\n",
    "* 4\n",
    "* 7  \n",
    "* *12*"
   ]
  },
  {
   "cell_type": "markdown",
   "metadata": {},
   "source": [
    "## 8. Representing text numerically"
   ]
  },
  {
   "cell_type": "markdown",
   "metadata": {},
   "source": [
    "### Representing text numerically\n",
    "\n",
    "* Bag-of-words\n",
    "    * Simple way to represent text in machine learning\n",
    "    * Discards information about grammar and word order\n",
    "    * Computes frequency of occurrence"
   ]
  },
  {
   "cell_type": "markdown",
   "metadata": {},
   "source": [
    "### Scikit-learn tools for bag-of-words\n",
    "\n",
    "* `CountVectorizer()`\n",
    "    * Tokenizes all the strings\n",
    "    * Builds a ‘vocabulary’\n",
    "    * Counts the occurrences of each token in the vocabulary"
   ]
  },
  {
   "cell_type": "markdown",
   "metadata": {},
   "source": [
    "### Using `CountVectorizer()` on column of main dataset"
   ]
  },
  {
   "cell_type": "code",
   "execution_count": 28,
   "metadata": {},
   "outputs": [
    {
     "data": {
      "text/plain": [
       "CountVectorizer(analyzer='word', binary=False, decode_error='strict',\n",
       "        dtype=<class 'numpy.int64'>, encoding='utf-8', input='content',\n",
       "        lowercase=True, max_df=1.0, max_features=None, min_df=1,\n",
       "        ngram_range=(1, 1), preprocessor=None, stop_words=None,\n",
       "        strip_accents=None, token_pattern='\\\\S+(?=\\\\s+)', tokenizer=None,\n",
       "        vocabulary=None)"
      ]
     },
     "execution_count": 28,
     "metadata": {},
     "output_type": "execute_result"
    }
   ],
   "source": [
    "from sklearn.feature_extraction.text import CountVectorizer\n",
    "\n",
    "TOKENS_BASIC = '\\\\S+(?=\\\\s+)'\n",
    "\n",
    "df.Program_Description.fillna('', inplace=True)\n",
    "\n",
    "vec_basic = CountVectorizer(token_pattern=TOKENS_BASIC)\n",
    "vec_basic.fit(df.Program_Description)"
   ]
  },
  {
   "cell_type": "code",
   "execution_count": 29,
   "metadata": {
    "scrolled": true
   },
   "outputs": [
    {
     "name": "stdout",
     "output_type": "stream",
     "text": [
      "There are 157 tokens in Program_Description if tokens are any non-whitespace\n"
     ]
    }
   ],
   "source": [
    "msg = 'There are {} tokens in Program_Description if tokens are any non-whitespace'\n",
    "\n",
    "print(msg.format(len(vec_basic.get_feature_names())))"
   ]
  },
  {
   "cell_type": "markdown",
   "metadata": {},
   "source": [
    "### №15 Creating a bag-of-words in scikit-learn\n",
    "\n",
    "* Import `CountVectorizer` from `sklearn.feature_extraction.text`\n",
    "* Fill missing values in `df.Position_Extra` using `.fillna('')` to replace NaNs with empty strings. Specify the additional keyword argument `inplace=True` so that you don't have to assign the result back to `df`\n",
    "* Instantiate the CountVectorizer as vec_alphanumeric by specifying the `token_pattern` to be `TOKENS_ALPHANUMERIC`\n",
    "* Fit `vec_alphanumeric` to `df.Position_Extra`\n",
    "* See the len of the fitted representation as well as the first 15 elements, and compare to `vec_basic`"
   ]
  },
  {
   "cell_type": "code",
   "execution_count": 30,
   "metadata": {},
   "outputs": [
    {
     "name": "stdout",
     "output_type": "stream",
     "text": [
      "There are 123 tokens in Position_Extra if we split on non-alpha numeric\n",
      "['1st', '2nd', '3rd', 'a', 'ab', 'additional', 'adm', 'administrative', 'and', 'any', 'art', 'assessment', 'assistant', 'asst', 'athletic']\n"
     ]
    }
   ],
   "source": [
    "from sklearn.feature_extraction.text import CountVectorizer\n",
    "\n",
    "TOKENS_ALPHANUMERIC = '[A-Za-z0-9]+(?=\\\\s+)'\n",
    "df.Position_Extra.fillna('', inplace=True)\n",
    "\n",
    "vec_alphanumeric = CountVectorizer(token_pattern=TOKENS_ALPHANUMERIC)\n",
    "vec_alphanumeric.fit(df.Position_Extra)\n",
    "\n",
    "msg = \"There are {} tokens in Position_Extra if we split on non-alpha numeric\"\n",
    "\n",
    "print(msg.format(len(vec_alphanumeric.get_feature_names())))\n",
    "print(vec_alphanumeric.get_feature_names()[:15])"
   ]
  },
  {
   "cell_type": "markdown",
   "metadata": {},
   "source": [
    "### №16 Combining text columns for tokenization\n",
    "\n",
    "* Use the `.drop()` method on `data_frame` with `to_drop` and `axis=` as arguments to drop the non-text data. Save the result as `text_data`\n",
    "* Fill in missing values (inplace) in `text_data` with blanks (`''`), using the `.fillna()` method`\n",
    "* Complete the `.apply()` method by writing a lambda function that uses the `.join()` method to join all the items in a row with a space in between"
   ]
  },
  {
   "cell_type": "code",
   "execution_count": 31,
   "metadata": {},
   "outputs": [],
   "source": [
    "def combine_text_columns(data_frame, to_drop=NUMERIC_COLUMNS + LABELS):\n",
    "    \"\"\" converts all text in each row of data_frame to single vector \"\"\"\n",
    "    \n",
    "    to_drop = set(to_drop) & set(data_frame.columns.tolist())\n",
    "    text_data = data_frame.drop(to_drop, axis=1)\n",
    "    text_data.fillna('', inplace=True)\n",
    "    \n",
    "    return text_data.apply(lambda x: \" \".join(x), axis=1)"
   ]
  },
  {
   "cell_type": "markdown",
   "metadata": {},
   "source": [
    "### №17 What's in a token?\n",
    "\n",
    "* Import `CountVectorizer` from `sklearn.feature_extraction.text`\n",
    "* Instantiate `vec_basic` and `vec_alphanumeric` using, respectively, the `TOKENS_BASIC` and `TOKENS_ALPHANUMERIC` patterns\n",
    "* Create the text vector by using the `combine_text_columns()` function on `df`\n",
    "* Using the `.fit_transform()` method with `text_vector`, fit and transform first `vec_basic` and then `vec_alphanumeric`. Print the number of tokens they contain"
   ]
  },
  {
   "cell_type": "code",
   "execution_count": 32,
   "metadata": {},
   "outputs": [
    {
     "name": "stdout",
     "output_type": "stream",
     "text": [
      "There are 1404 tokens in the dataset\n",
      "There are 1117 alpha-numeric tokens in the dataset\n"
     ]
    }
   ],
   "source": [
    "from sklearn.feature_extraction.text import CountVectorizer\n",
    "\n",
    "TOKENS_BASIC = '\\\\S+(?=\\\\s+)'\n",
    "TOKENS_ALPHANUMERIC = '[A-Za-z0-9]+(?=\\\\s+)'\n",
    "\n",
    "vec_basic = CountVectorizer(token_pattern=TOKENS_BASIC)\n",
    "vec_alphanumeric = CountVectorizer(token_pattern=TOKENS_ALPHANUMERIC)\n",
    "\n",
    "text_vector = combine_text_columns(df)\n",
    "\n",
    "vec_basic.fit_transform(text_vector)\n",
    "print(\"There are {} tokens in the dataset\".format(len(vec_basic.get_feature_names())))\n",
    "\n",
    "vec_alphanumeric.fit_transform(text_vector)\n",
    "print(\"There are {} alpha-numeric tokens in the dataset\".format(\n",
    "    len(vec_alphanumeric.get_feature_names())))"
   ]
  },
  {
   "cell_type": "markdown",
   "metadata": {},
   "source": [
    "## Chapter 3. Improving your model"
   ]
  },
  {
   "cell_type": "markdown",
   "metadata": {},
   "source": [
    "## 9. Pipelines, feature & text preprocessing"
   ]
  },
  {
   "cell_type": "markdown",
   "metadata": {},
   "source": [
    "### The pipeline workflow\n",
    "\n",
    "* Repeatable way to go from raw data to trained model\n",
    "* Pipeline object takes sequential list of steps\n",
    "    * Output of one step is input to next step\n",
    "* Each step is a tuple with two elements\n",
    "    * Name: string\n",
    "    * Transform: obj implementing `.fit()` and `.transform()`\n",
    "* Flexible: a step can itself be another pipeline!"
   ]
  },
  {
   "cell_type": "markdown",
   "metadata": {},
   "source": [
    "### Instantiate simple pipeline with one step"
   ]
  },
  {
   "cell_type": "code",
   "execution_count": 33,
   "metadata": {},
   "outputs": [],
   "source": [
    "from sklearn.pipeline import Pipeline\n",
    "from sklearn.linear_model import LogisticRegression\n",
    "from sklearn.multiclass import OneVsRestClassifier\n",
    "\n",
    "pl = Pipeline([('clf', OneVsRestClassifier(LogisticRegression()))])"
   ]
  },
  {
   "cell_type": "markdown",
   "metadata": {},
   "source": [
    "### Train and test with sample numeric data"
   ]
  },
  {
   "cell_type": "code",
   "execution_count": 34,
   "metadata": {},
   "outputs": [
    {
     "data": {
      "text/html": [
       "<div>\n",
       "<style scoped>\n",
       "    .dataframe tbody tr th:only-of-type {\n",
       "        vertical-align: middle;\n",
       "    }\n",
       "\n",
       "    .dataframe tbody tr th {\n",
       "        vertical-align: top;\n",
       "    }\n",
       "\n",
       "    .dataframe thead th {\n",
       "        text-align: right;\n",
       "    }\n",
       "</style>\n",
       "<table border=\"1\" class=\"dataframe\">\n",
       "  <thead>\n",
       "    <tr style=\"text-align: right;\">\n",
       "      <th></th>\n",
       "      <th>numeric</th>\n",
       "      <th>text</th>\n",
       "      <th>with_missing</th>\n",
       "      <th>label</th>\n",
       "    </tr>\n",
       "  </thead>\n",
       "  <tbody>\n",
       "    <tr>\n",
       "      <th>0</th>\n",
       "      <td>-10.856306</td>\n",
       "      <td></td>\n",
       "      <td>4.433240</td>\n",
       "      <td>b</td>\n",
       "    </tr>\n",
       "    <tr>\n",
       "      <th>1</th>\n",
       "      <td>9.973454</td>\n",
       "      <td>foo</td>\n",
       "      <td>4.310229</td>\n",
       "      <td>b</td>\n",
       "    </tr>\n",
       "    <tr>\n",
       "      <th>2</th>\n",
       "      <td>2.829785</td>\n",
       "      <td>foo bar</td>\n",
       "      <td>2.469828</td>\n",
       "      <td>a</td>\n",
       "    </tr>\n",
       "    <tr>\n",
       "      <th>3</th>\n",
       "      <td>-15.062947</td>\n",
       "      <td></td>\n",
       "      <td>2.852981</td>\n",
       "      <td>b</td>\n",
       "    </tr>\n",
       "    <tr>\n",
       "      <th>4</th>\n",
       "      <td>-5.786003</td>\n",
       "      <td>foo bar</td>\n",
       "      <td>1.826475</td>\n",
       "      <td>a</td>\n",
       "    </tr>\n",
       "  </tbody>\n",
       "</table>\n",
       "</div>"
      ],
      "text/plain": [
       "     numeric     text  with_missing label\n",
       "0 -10.856306               4.433240     b\n",
       "1   9.973454      foo      4.310229     b\n",
       "2   2.829785  foo bar      2.469828     a\n",
       "3 -15.062947               2.852981     b\n",
       "4  -5.786003  foo bar      1.826475     a"
      ]
     },
     "execution_count": 34,
     "metadata": {},
     "output_type": "execute_result"
    }
   ],
   "source": [
    "from sklearn.model_selection import train_test_split\n",
    "from numpy import *\n",
    "\n",
    "sample_df.replace(nan, np.nan)\n",
    "sample_df['text'].fillna('', inplace=True)\n",
    "sample_df.head()"
   ]
  },
  {
   "cell_type": "code",
   "execution_count": 35,
   "metadata": {},
   "outputs": [
    {
     "data": {
      "text/plain": [
       "Pipeline(memory=None,\n",
       "     steps=[('clf', OneVsRestClassifier(estimator=LogisticRegression(C=1.0, class_weight=None, dual=False, fit_intercept=True,\n",
       "          intercept_scaling=1, max_iter=100, multi_class='warn',\n",
       "          n_jobs=None, penalty='l2', random_state=None, solver='warn',\n",
       "          tol=0.0001, verbose=0, warm_start=False),\n",
       "          n_jobs=None))])"
      ]
     },
     "execution_count": 35,
     "metadata": {},
     "output_type": "execute_result"
    }
   ],
   "source": [
    "X_train, X_test, y_train, y_test = train_test_split(sample_df[['numeric']],\n",
    "                                                    pd.get_dummies(sample_df['label']),\n",
    "                                                    random_state=2)\n",
    "pl.fit(X_train, y_train)"
   ]
  },
  {
   "cell_type": "code",
   "execution_count": 36,
   "metadata": {},
   "outputs": [
    {
     "name": "stdout",
     "output_type": "stream",
     "text": [
      "accuracy on numeric data, no nans:  0.652\n"
     ]
    }
   ],
   "source": [
    "accuracy = pl.score(X_test, y_test)\n",
    "print('accuracy on numeric data, no nans: ', accuracy)"
   ]
  },
  {
   "cell_type": "markdown",
   "metadata": {},
   "source": [
    "### Adding more steps to the pipeline\n",
    "\n",
    "```python\n",
    "In [11]: X_train, X_test, y_train, y_test = train_test_split(\n",
    "                                          sample_df[['numeric',\n",
    "                                          'with_missing']], pd.get_dummies(\n",
    "                                          sample_df['label']), random_state=2)\n",
    "    \n",
    "In [12]: pl.fit(X_train, y_train)\n",
    "Out[12]: \n",
    " Traceback (most recent call last):\n",
    " ...\n",
    " ValueError: Input contains NaN, infinity or a value too large for dtype('float64').\n",
    "```"
   ]
  },
  {
   "cell_type": "markdown",
   "metadata": {},
   "source": [
    "### Preprocessing numeric features with missing data\n",
    "\n",
    "* No errors!"
   ]
  },
  {
   "cell_type": "code",
   "execution_count": 37,
   "metadata": {},
   "outputs": [
    {
     "name": "stdout",
     "output_type": "stream",
     "text": [
      "accuracy on all numeric, incl nans:  0.648\n"
     ]
    },
    {
     "name": "stderr",
     "output_type": "stream",
     "text": [
      "/Users/Artyom/Anaconda/anaconda3/lib/python3.7/site-packages/sklearn/utils/deprecation.py:58: DeprecationWarning: Class Imputer is deprecated; Imputer was deprecated in version 0.20 and will be removed in 0.22. Import impute.SimpleImputer from sklearn instead.\n",
      "  warnings.warn(msg, category=DeprecationWarning)\n"
     ]
    }
   ],
   "source": [
    "from sklearn.preprocessing import Imputer\n",
    "\n",
    "X_train, X_test, y_train, y_test = train_test_split(sample_df[['numeric', 'with_missing']],\n",
    "                                                    pd.get_dummies(sample_df['label']),\n",
    "                                                    random_state=2)\n",
    "\n",
    "pl = Pipeline([('imp', Imputer()),\n",
    "               ('clf', OneVsRestClassifier(LogisticRegression()))])\n",
    "pl.fit(X_train, y_train)\n",
    "\n",
    "accuracy = pl.score(X_test, y_test)\n",
    "print('accuracy on all numeric, incl nans: ', accuracy)"
   ]
  },
  {
   "cell_type": "markdown",
   "metadata": {},
   "source": [
    "### №19 Instantiate pipeline\n",
    "\n",
    "* Import `Pipeline` from `sklearn.pipeline`\n",
    "* Create training and test sets using the numeric data only. Do this by specifying `sample_df[['numeric']]` in `train_test_split()`\n",
    "* Instantiate a pipeline as `pl` by adding the classifier step. Use a name of `'clf'` and the same classifier from Chapter 2: `OneVsRestClassifier(LogisticRegression())`\n",
    "* Fit your pipeline to the training data and compute its accuracy to see it in action! Since this is toy data, you'll use the default scoring method for now. In the next chapter, you'll return to log loss scoring"
   ]
  },
  {
   "cell_type": "code",
   "execution_count": 38,
   "metadata": {},
   "outputs": [
    {
     "name": "stdout",
     "output_type": "stream",
     "text": [
      "\n",
      "Accuracy on sample data - numeric, no nans:  0.62\n"
     ]
    }
   ],
   "source": [
    "from sklearn.pipeline import Pipeline\n",
    "from sklearn.model_selection import train_test_split\n",
    "from sklearn.linear_model import LogisticRegression\n",
    "from sklearn.multiclass import OneVsRestClassifier\n",
    "\n",
    "X_train, X_test, y_train, y_test = train_test_split(sample_df[['numeric']],\n",
    "                                                    pd.get_dummies(sample_df['label']),\n",
    "                                                    random_state=22)\n",
    "\n",
    "pl = Pipeline([('clf', OneVsRestClassifier(LogisticRegression()))])\n",
    "pl.fit(X_train, y_train)\n",
    "\n",
    "accuracy = pl.score(X_test, y_test)\n",
    "print(\"\\nAccuracy on sample data - numeric, no nans: \", accuracy)"
   ]
  },
  {
   "cell_type": "markdown",
   "metadata": {},
   "source": [
    "### №20 Preprocessing numeric features\n",
    "\n",
    "* Import `Imputer` from `sklearn.preprocessing`\n",
    "* Create training and test sets by selecting the correct subset of `sample_df`: `'numeric'` and `'with_missing'`\n",
    "* Add the tuple `('imp', Imputer())` to the correct position in the pipeline. `Pipeline` processes steps sequentially, so the imputation step should come before the classifier step`\n",
    "* Complete the `.fit()` and `.score()` methods to fit the pipeline to the data and compute the accuracy"
   ]
  },
  {
   "cell_type": "code",
   "execution_count": 39,
   "metadata": {},
   "outputs": [
    {
     "name": "stdout",
     "output_type": "stream",
     "text": [
      "\n",
      "Accuracy on sample data - all numeric, incl nans:  0.636\n"
     ]
    },
    {
     "name": "stderr",
     "output_type": "stream",
     "text": [
      "/Users/Artyom/Anaconda/anaconda3/lib/python3.7/site-packages/sklearn/utils/deprecation.py:58: DeprecationWarning: Class Imputer is deprecated; Imputer was deprecated in version 0.20 and will be removed in 0.22. Import impute.SimpleImputer from sklearn instead.\n",
      "  warnings.warn(msg, category=DeprecationWarning)\n"
     ]
    }
   ],
   "source": [
    "from sklearn.preprocessing import Imputer\n",
    "\n",
    "X_train, X_test, y_train, y_test = train_test_split(sample_df[['numeric', 'with_missing']],\n",
    "                                                    pd.get_dummies(sample_df['label']),\n",
    "                                                    random_state=456)\n",
    "\n",
    "pl = Pipeline([('imp', Imputer()),\n",
    "               ('clf', OneVsRestClassifier(LogisticRegression()))])\n",
    "\n",
    "pl.fit(X_train, y_train)\n",
    "\n",
    "accuracy = pl.score(X_test, y_test)\n",
    "print(\"\\nAccuracy on sample data - all numeric, incl nans: \", accuracy)"
   ]
  },
  {
   "cell_type": "markdown",
   "metadata": {},
   "source": [
    "### 10. Text features and feature unions"
   ]
  },
  {
   "cell_type": "markdown",
   "metadata": {},
   "source": [
    "### Preprocessing text features"
   ]
  },
  {
   "cell_type": "code",
   "execution_count": 40,
   "metadata": {},
   "outputs": [
    {
     "data": {
      "text/plain": [
       "Pipeline(memory=None,\n",
       "     steps=[('vec', CountVectorizer(analyzer='word', binary=False, decode_error='strict',\n",
       "        dtype=<class 'numpy.int64'>, encoding='utf-8', input='content',\n",
       "        lowercase=True, max_df=1.0, max_features=None, min_df=1,\n",
       "        ngram_range=(1, 1), preprocessor=None, stop_words=None,\n",
       "        strip_...te=None, solver='warn',\n",
       "          tol=0.0001, verbose=0, warm_start=False),\n",
       "          n_jobs=None))])"
      ]
     },
     "execution_count": 40,
     "metadata": {},
     "output_type": "execute_result"
    }
   ],
   "source": [
    "from sklearn.feature_extraction.text import CountVectorizer\n",
    "\n",
    "X_train, X_test, y_train, y_test = train_test_split(sample_df['text'],\n",
    "                                                    pd.get_dummies(sample_df['label']),\n",
    "                                                    random_state=2)\n",
    "\n",
    "pl = Pipeline([('vec', CountVectorizer()),\n",
    "               ('clf', OneVsRestClassifier(LogisticRegression()))])\n",
    "\n",
    "pl.fit(X_train, y_train)"
   ]
  },
  {
   "cell_type": "code",
   "execution_count": 41,
   "metadata": {},
   "outputs": [
    {
     "name": "stdout",
     "output_type": "stream",
     "text": [
      "accuracy on sample data:  0.848\n"
     ]
    }
   ],
   "source": [
    "accuracy = pl.score(X_test, y_test)\n",
    "print('accuracy on sample data: ', accuracy)"
   ]
  },
  {
   "cell_type": "markdown",
   "metadata": {},
   "source": [
    "### Preprocessing multiple dtypes\n",
    "\n",
    "* Want to use all available features in one pipeline\n",
    "* Problem\n",
    "    * Pipeline steps for numeric and text preprocessing can’t follow each other\n",
    "    * e.g., output of CountVectorizer can’t be input to Imputer\n",
    "* Solution\n",
    "    * `FunctionTransformer()` & `FeatureUnion()`"
   ]
  },
  {
   "cell_type": "markdown",
   "metadata": {},
   "source": [
    "### FunctionTransformer\n",
    "\n",
    "* Turns a Python function into an object that a scikit-learn pipeline can understand\n",
    "* Need to write two functions for pipeline preprocessing\n",
    "    * Take entire DataFrame, return numeric columns\n",
    "    * Take entire DataFrame, return text columns\n",
    "* Can then preprocess numeric and text data in separate pipelines"
   ]
  },
  {
   "cell_type": "markdown",
   "metadata": {},
   "source": [
    "### Putting it all together"
   ]
  },
  {
   "cell_type": "code",
   "execution_count": 42,
   "metadata": {},
   "outputs": [],
   "source": [
    "X_train, X_test, y_train, y_test = train_test_split(\n",
    "    sample_df[['numeric','with_missing', 'text']],\n",
    "    pd.get_dummies(sample_df['label']),\n",
    "    random_state=2)"
   ]
  },
  {
   "cell_type": "code",
   "execution_count": 43,
   "metadata": {},
   "outputs": [],
   "source": [
    "from sklearn.preprocessing import FunctionTransformer\n",
    "from sklearn.pipeline import FeatureUnion\n",
    "\n",
    "get_text_data = FunctionTransformer(lambda x: x['text'], validate=False)\n",
    "get_numeric_data = FunctionTransformer(lambda x: x[['numeric','with_missing']], validate=False)"
   ]
  },
  {
   "cell_type": "code",
   "execution_count": 44,
   "metadata": {
    "scrolled": true
   },
   "outputs": [
    {
     "name": "stderr",
     "output_type": "stream",
     "text": [
      "/Users/Artyom/Anaconda/anaconda3/lib/python3.7/site-packages/sklearn/utils/deprecation.py:58: DeprecationWarning: Class Imputer is deprecated; Imputer was deprecated in version 0.20 and will be removed in 0.22. Import impute.SimpleImputer from sklearn instead.\n",
      "  warnings.warn(msg, category=DeprecationWarning)\n"
     ]
    }
   ],
   "source": [
    "numeric_pipeline = Pipeline([('selector', get_numeric_data),\n",
    "                             ('imputer', Imputer())])\n",
    "    \n",
    "text_pipeline = Pipeline([('selector', get_text_data),\n",
    "                          ('vectorizer', CountVectorizer())])"
   ]
  },
  {
   "cell_type": "markdown",
   "metadata": {},
   "source": [
    "### FeatureUnion Text and Numeric Features"
   ]
  },
  {
   "cell_type": "code",
   "execution_count": 45,
   "metadata": {},
   "outputs": [],
   "source": [
    "from sklearn.pipeline import FeatureUnion\n",
    "\n",
    "union = FeatureUnion([('numeric', numeric_pipeline),\n",
    "                      ('text', text_pipeline)])"
   ]
  },
  {
   "cell_type": "markdown",
   "metadata": {},
   "source": [
    "### Putting it all together"
   ]
  },
  {
   "cell_type": "code",
   "execution_count": 46,
   "metadata": {},
   "outputs": [],
   "source": [
    "pl = Pipeline([('union', FeatureUnion(\n",
    "                  [('numeric', numeric_pipeline),\n",
    "                   ('text', text_pipeline)])),\n",
    "               ('clf', OneVsRestClassifier(LogisticRegression()))])"
   ]
  },
  {
   "cell_type": "markdown",
   "metadata": {},
   "source": [
    "### №21 Preprocessing text features\n",
    "\n",
    "* Import `CountVectorizer` from `sklearn.feature_extraction.text`\n",
    "* Create training and test sets by selecting the correct subset of `sample_df`: `'text'`\n",
    "* Add the `CountVectorizer` step (with the name `'vec'`) to the correct position in the pipeline\n",
    "* Fit the pipeline to the training data and compute its accuracy"
   ]
  },
  {
   "cell_type": "code",
   "execution_count": 47,
   "metadata": {},
   "outputs": [
    {
     "name": "stdout",
     "output_type": "stream",
     "text": [
      "\n",
      "Accuracy on sample data - just text data:  0.808\n"
     ]
    }
   ],
   "source": [
    "from sklearn.feature_extraction.text import CountVectorizer\n",
    "\n",
    "X_train, X_test, y_train, y_test = train_test_split(sample_df['text'],\n",
    "                                                    pd.get_dummies(sample_df['label']),\n",
    "                                                    random_state=456)\n",
    "\n",
    "pl = Pipeline([\n",
    "        ('vec', CountVectorizer()),\n",
    "        ('clf', OneVsRestClassifier(LogisticRegression()))])\n",
    "\n",
    "pl.fit(X_train, y_train)\n",
    "\n",
    "accuracy = pl.score(X_test, y_test)\n",
    "print(\"\\nAccuracy on sample data - just text data: \", accuracy)"
   ]
  },
  {
   "cell_type": "markdown",
   "metadata": {},
   "source": [
    "### №22 Multiple types of processing: FunctionTransformer\n",
    "\n",
    "* Compute the selector `get_text_data` by using a lambda function and `FunctionTransformer()` to obtain all `'text'` columns\n",
    "* Compute the selector `get_numeric_data` by using a lambda function and `FunctionTransformer()` to obtain all the numeric columns (including missing data). These are `'numeric'` and `'with_missing'`\n",
    "* Fit and transform get_text_data using the `.fit_transform()` method with `sample_df` as the argument\n",
    "* Fit and transform `get_numeric_data` using the same approach as above"
   ]
  },
  {
   "cell_type": "code",
   "execution_count": 48,
   "metadata": {},
   "outputs": [
    {
     "name": "stdout",
     "output_type": "stream",
     "text": [
      "Text Data\n",
      "0           \n",
      "1        foo\n",
      "2    foo bar\n",
      "3           \n",
      "4    foo bar\n",
      "Name: text, dtype: object\n",
      "\n",
      "Numeric Data\n",
      "     numeric  with_missing\n",
      "0 -10.856306      4.433240\n",
      "1   9.973454      4.310229\n",
      "2   2.829785      2.469828\n",
      "3 -15.062947      2.852981\n",
      "4  -5.786003      1.826475\n"
     ]
    }
   ],
   "source": [
    "from sklearn.preprocessing import FunctionTransformer\n",
    "\n",
    "get_text_data = FunctionTransformer(lambda x: x['text'], validate=False)\n",
    "get_numeric_data = FunctionTransformer(lambda x:\n",
    "                                       x[['numeric', 'with_missing']], validate=False)\n",
    "\n",
    "just_text_data = get_text_data.fit_transform(sample_df)\n",
    "just_numeric_data = get_numeric_data.fit_transform(sample_df)\n",
    "\n",
    "print('Text Data')\n",
    "print(just_text_data.head())\n",
    "print('\\nNumeric Data')\n",
    "print(just_numeric_data.head())"
   ]
  },
  {
   "cell_type": "markdown",
   "metadata": {},
   "source": [
    "### №23 Multiple types of processing: FeatureUnion\n",
    "\n",
    "* In the process_and_join_features:\n",
    "    * Add the steps `('selector', get_numeric_data)` and `('imputer', Imputer())` to the `'numeric_features'` preprocessing step\n",
    "    * Add the equivalent steps for the `text_features` preprocessing step. That is, use `get_text_data` and a `CountVectorizer` step with the name `'vectorizer'`\n",
    "* Add the transform step `process_and_join_features` to 'union' in the main pipeline, `pl`"
   ]
  },
  {
   "cell_type": "code",
   "execution_count": 49,
   "metadata": {},
   "outputs": [
    {
     "name": "stderr",
     "output_type": "stream",
     "text": [
      "/Users/Artyom/Anaconda/anaconda3/lib/python3.7/site-packages/sklearn/utils/deprecation.py:58: DeprecationWarning: Class Imputer is deprecated; Imputer was deprecated in version 0.20 and will be removed in 0.22. Import impute.SimpleImputer from sklearn instead.\n",
      "  warnings.warn(msg, category=DeprecationWarning)\n"
     ]
    },
    {
     "name": "stdout",
     "output_type": "stream",
     "text": [
      "\n",
      "Accuracy on sample data - all data:  0.928\n"
     ]
    }
   ],
   "source": [
    "# Import FeatureUnion\n",
    "from sklearn.pipeline import FeatureUnion\n",
    "\n",
    "X_train, X_test, y_train, y_test = train_test_split(\n",
    "    sample_df[['numeric', 'with_missing', 'text']],\n",
    "    pd.get_dummies(sample_df['label']), random_state=22)\n",
    "\n",
    "process_and_join_features = FeatureUnion(\n",
    "                                transformer_list = [\n",
    "                                ('numeric_features', Pipeline([\n",
    "                                    ('selector', get_numeric_data),\n",
    "                                    ('imputer', Imputer())\n",
    "                                ])),\n",
    "                                ('text_features', Pipeline([\n",
    "                                    ('selector', get_text_data),\n",
    "                                    ('vectorizer', CountVectorizer())\n",
    "                                ]))\n",
    "                                        ])\n",
    "\n",
    "pl = Pipeline([('union', process_and_join_features),\n",
    "               ('clf', OneVsRestClassifier(LogisticRegression()))])\n",
    "pl.fit(X_train, y_train)\n",
    "\n",
    "accuracy = pl.score(X_test, y_test)\n",
    "print(\"\\nAccuracy on sample data - all data: \", accuracy)"
   ]
  },
  {
   "cell_type": "markdown",
   "metadata": {},
   "source": [
    "## 11. Choosing a classification model"
   ]
  },
  {
   "cell_type": "markdown",
   "metadata": {},
   "source": [
    "### Main dataset: lots of text"
   ]
  },
  {
   "cell_type": "code",
   "execution_count": 50,
   "metadata": {},
   "outputs": [
    {
     "data": {
      "text/plain": [
       "14"
      ]
     },
     "execution_count": 50,
     "metadata": {},
     "output_type": "execute_result"
    }
   ],
   "source": [
    "LABELS = ['Function', 'Use', 'Sharing', 'Reporting', 'Student_Type',\n",
    "          'Position_Type', 'Object_Type', 'Pre_K', 'Operating_Status']\n",
    "\n",
    "NON_LABELS = [c for c in df.columns if c not in LABELS]\n",
    "len(NON_LABELS) - len(NUMERIC_COLUMNS)"
   ]
  },
  {
   "cell_type": "markdown",
   "metadata": {},
   "source": [
    "### Using pipeline with the main dataset"
   ]
  },
  {
   "cell_type": "code",
   "execution_count": 51,
   "metadata": {},
   "outputs": [
    {
     "name": "stderr",
     "output_type": "stream",
     "text": [
      "/Users/Artyom/Anaconda/anaconda3/lib/python3.7/site-packages/sklearn/utils/deprecation.py:58: DeprecationWarning: Class Imputer is deprecated; Imputer was deprecated in version 0.20 and will be removed in 0.22. Import impute.SimpleImputer from sklearn instead.\n",
      "  warnings.warn(msg, category=DeprecationWarning)\n"
     ]
    }
   ],
   "source": [
    "dummy_labels = pd.get_dummies(df[LABELS])\n",
    "\n",
    "X_train, X_test, y_train, y_test = multilabel_train_test_split(df[NON_LABELS],\n",
    "                                                               dummy_labels, 0.2)\n",
    "\n",
    "get_text_data = FunctionTransformer(combine_text_columns, validate=False)\n",
    "\n",
    "get_numeric_data = FunctionTransformer(lambda x: x[NUMERIC_COLUMNS], validate=False)\n",
    "\n",
    "pl = Pipeline(\n",
    "        [('union', FeatureUnion(\n",
    "            [('numeric_features', Pipeline(\n",
    "                [('selector', get_numeric_data),\n",
    "                 ('imputer', Imputer())]\n",
    "            )),\n",
    "             ('text_features', Pipeline(\n",
    "                 [('selector', get_text_data),\n",
    "                  ('vectorizer', CountVectorizer())])\n",
    "             )]\n",
    "        )),\n",
    "         ('clf', OneVsRestClassifier(LogisticRegression()))]\n",
    "             )"
   ]
  },
  {
   "cell_type": "markdown",
   "metadata": {},
   "source": [
    "### Performance using main dataset"
   ]
  },
  {
   "cell_type": "code",
   "execution_count": 52,
   "metadata": {},
   "outputs": [
    {
     "data": {
      "text/plain": [
       "Pipeline(memory=None,\n",
       "     steps=[('union', FeatureUnion(n_jobs=None,\n",
       "       transformer_list=[('numeric_features', Pipeline(memory=None,\n",
       "     steps=[('selector', FunctionTransformer(accept_sparse=False, check_inverse=True,\n",
       "          func=<function <lambda> at 0x1a1fc4e400>, inv_kw_args=None,\n",
       "          inverse_func=None, kw_a...te=None, solver='warn',\n",
       "          tol=0.0001, verbose=0, warm_start=False),\n",
       "          n_jobs=None))])"
      ]
     },
     "execution_count": 52,
     "metadata": {},
     "output_type": "execute_result"
    }
   ],
   "source": [
    "pl.fit(X_train, y_train)"
   ]
  },
  {
   "cell_type": "markdown",
   "metadata": {},
   "source": [
    "### Flexibility of model step\n",
    "\n",
    "* Is current model the best?\n",
    "* Can quickly try different models with pipelines\n",
    "    * Pipeline preprocessing steps unchanged\n",
    "    * Edit the model step in your pipeline\n",
    "    * Random Forest, Naïve Bayes, k-NN"
   ]
  },
  {
   "cell_type": "markdown",
   "metadata": {},
   "source": [
    "### Easily try new models using pipeline"
   ]
  },
  {
   "cell_type": "code",
   "execution_count": 53,
   "metadata": {},
   "outputs": [
    {
     "name": "stderr",
     "output_type": "stream",
     "text": [
      "/Users/Artyom/Anaconda/anaconda3/lib/python3.7/site-packages/sklearn/utils/deprecation.py:58: DeprecationWarning: Class Imputer is deprecated; Imputer was deprecated in version 0.20 and will be removed in 0.22. Import impute.SimpleImputer from sklearn instead.\n",
      "  warnings.warn(msg, category=DeprecationWarning)\n"
     ]
    }
   ],
   "source": [
    "from sklearn.ensemble import RandomForestClassifier\n",
    "\n",
    "pl = Pipeline(\n",
    "        [('union', FeatureUnion(\n",
    "            transformer_list = \n",
    "            [('numeric_features', Pipeline(\n",
    "                [('selector', get_numeric_data),\n",
    "                 ('imputer', Imputer())]\n",
    "            )),\n",
    "            ('text_features', Pipeline(\n",
    "                [('selector', get_text_data),\n",
    "                 ('vectorizer', CountVectorizer())]\n",
    "            ))]\n",
    "        )),\n",
    "         ('clf', OneVsRestClassifier(RandomForestClassifier()))\n",
    "        ])"
   ]
  },
  {
   "cell_type": "markdown",
   "metadata": {},
   "source": [
    "### №24 Using FunctionTransformer on the main dataset\n",
    "\n",
    "* Complete the call to `multilabel_train_test_split()` by selecting `df[NON_LABELS]`\n",
    "* Compute `get_text_data` by using `FunctionTransformer()` and passing in `combine_text_columns`. Be sure to also specify `validate=False`\n",
    "* Use `FunctionTransformer()` to compute `get_numeric_data`. In the lambda function, select out the `NUMERIC_COLUMNS` of `x`. Like you did when computing `get_text_data`, also specify `validate=False`"
   ]
  },
  {
   "cell_type": "code",
   "execution_count": 54,
   "metadata": {},
   "outputs": [],
   "source": [
    "from sklearn.preprocessing import FunctionTransformer\n",
    "\n",
    "dummy_labels = pd.get_dummies(df[LABELS])\n",
    "NON_LABELS = [c for c in df.columns if c not in LABELS]\n",
    "\n",
    "X_train, X_test, y_train, y_test = multilabel_train_test_split(df[NON_LABELS],\n",
    "                                                               dummy_labels, \n",
    "                                                               0.2, seed=123)\n",
    "\n",
    "get_text_data = FunctionTransformer(combine_text_columns, validate=False)\n",
    "get_numeric_data = FunctionTransformer(lambda x: x[NUMERIC_COLUMNS], validate=False)"
   ]
  },
  {
   "cell_type": "markdown",
   "metadata": {},
   "source": [
    "### №25 Add a model to the pipeline\n",
    "\n",
    "* Complete the `'numeric_features'` transform with the following steps:\n",
    "    * `get_numeric_data`, with the name `'selector'`\n",
    "    * `Imputer()`, with the name `'imputer'`\n",
    "* Complete the `'text_features'` transform with the following steps:\n",
    "    * `get_text_data`, with the name `'selector'`\n",
    "    * `CountVectorizer()`, with the name `'vectorizer'`\n",
    "Fit the pipeline to the training data"
   ]
  },
  {
   "cell_type": "code",
   "execution_count": 55,
   "metadata": {},
   "outputs": [
    {
     "name": "stderr",
     "output_type": "stream",
     "text": [
      "/Users/Artyom/Anaconda/anaconda3/lib/python3.7/site-packages/sklearn/utils/deprecation.py:58: DeprecationWarning: Class Imputer is deprecated; Imputer was deprecated in version 0.20 and will be removed in 0.22. Import impute.SimpleImputer from sklearn instead.\n",
      "  warnings.warn(msg, category=DeprecationWarning)\n"
     ]
    },
    {
     "name": "stdout",
     "output_type": "stream",
     "text": [
      "\n",
      "Accuracy on budget dataset:  0.225\n"
     ]
    }
   ],
   "source": [
    "pl = Pipeline([\n",
    "        ('union', FeatureUnion(\n",
    "            transformer_list = [\n",
    "                ('numeric_features', Pipeline([\n",
    "                    ('selector', get_numeric_data),\n",
    "                    ('imputer', Imputer())\n",
    "                ])),\n",
    "                ('text_features', Pipeline([\n",
    "                    ('selector', get_text_data),\n",
    "                    ('vectorizer', CountVectorizer())\n",
    "                ]))\n",
    "             ]\n",
    "        )),\n",
    "        ('clf', OneVsRestClassifier(LogisticRegression()))\n",
    "    ])\n",
    "\n",
    "pl.fit(X_train, y_train)\n",
    "\n",
    "accuracy = pl.score(X_test, y_test)\n",
    "print(\"\\nAccuracy on budget dataset: \", accuracy)"
   ]
  },
  {
   "cell_type": "markdown",
   "metadata": {},
   "source": [
    "### №26 Try a different class of model\n",
    "\n",
    "* Import the `RandomForestClassifier` from `sklearn.ensemble`\n",
    "* Add a `RandomForestClassifier()` step named `'clf'` to the pipeline"
   ]
  },
  {
   "cell_type": "code",
   "execution_count": 56,
   "metadata": {},
   "outputs": [
    {
     "name": "stderr",
     "output_type": "stream",
     "text": [
      "/Users/Artyom/Anaconda/anaconda3/lib/python3.7/site-packages/sklearn/utils/deprecation.py:58: DeprecationWarning: Class Imputer is deprecated; Imputer was deprecated in version 0.20 and will be removed in 0.22. Import impute.SimpleImputer from sklearn instead.\n",
      "  warnings.warn(msg, category=DeprecationWarning)\n"
     ]
    },
    {
     "name": "stdout",
     "output_type": "stream",
     "text": [
      "\n",
      "Accuracy on budget dataset:  0.2826923076923077\n"
     ]
    }
   ],
   "source": [
    "from sklearn.ensemble import RandomForestClassifier\n",
    "\n",
    "pl = Pipeline([\n",
    "        ('union', FeatureUnion(\n",
    "            transformer_list = [\n",
    "                ('numeric_features', Pipeline([\n",
    "                    ('selector', get_numeric_data),\n",
    "                    ('imputer', Imputer())\n",
    "                ])),\n",
    "                ('text_features', Pipeline([\n",
    "                    ('selector', get_text_data),\n",
    "                    ('vectorizer', CountVectorizer())\n",
    "                ]))\n",
    "             ]\n",
    "        )),\n",
    "        ('clf', RandomForestClassifier())\n",
    "    ])\n",
    "\n",
    "pl.fit(X_train, y_train)\n",
    "\n",
    "accuracy = pl.score(X_test, y_test)\n",
    "print(\"\\nAccuracy on budget dataset: \", accuracy)"
   ]
  },
  {
   "cell_type": "markdown",
   "metadata": {},
   "source": [
    "### №27 Can you adjust the model or parameters to improve accuracy?\n",
    "\n",
    "* Import the `RandomForestClassifier` from `sklearn.ensemble`\n",
    "* Add a `RandomForestClassifier()` step with `n_estimators=15` to the pipeline with a name of `'clf'`"
   ]
  },
  {
   "cell_type": "code",
   "execution_count": 57,
   "metadata": {},
   "outputs": [
    {
     "name": "stderr",
     "output_type": "stream",
     "text": [
      "/Users/Artyom/Anaconda/anaconda3/lib/python3.7/site-packages/sklearn/utils/deprecation.py:58: DeprecationWarning: Class Imputer is deprecated; Imputer was deprecated in version 0.20 and will be removed in 0.22. Import impute.SimpleImputer from sklearn instead.\n",
      "  warnings.warn(msg, category=DeprecationWarning)\n"
     ]
    },
    {
     "name": "stdout",
     "output_type": "stream",
     "text": [
      "\n",
      "Accuracy on budget dataset:  0.3019230769230769\n"
     ]
    }
   ],
   "source": [
    "from sklearn.ensemble import RandomForestClassifier\n",
    "\n",
    "pl = Pipeline([\n",
    "        ('union', FeatureUnion(\n",
    "            transformer_list = [\n",
    "            ('numeric_features', Pipeline([\n",
    "                ('selector', get_numeric_data),\n",
    "                ('imputer', Imputer())\n",
    "            ])),\n",
    "            ('text_features', Pipeline([\n",
    "                ('selector', get_text_data),\n",
    "                ('vectorizer', CountVectorizer())\n",
    "            ]))]\n",
    "        )),\n",
    "        ('clf', RandomForestClassifier(n_estimators=15))\n",
    "    ])\n",
    "\n",
    "pl.fit(X_train, y_train)\n",
    "\n",
    "accuracy = pl.score(X_test, y_test)\n",
    "print(\"\\nAccuracy on budget dataset: \", accuracy)"
   ]
  },
  {
   "cell_type": "markdown",
   "metadata": {},
   "source": [
    "## Chapter 4. Learning from the experts"
   ]
  },
  {
   "cell_type": "markdown",
   "metadata": {},
   "source": [
    "## 12. Learning from the expert: processing"
   ]
  },
  {
   "cell_type": "markdown",
   "metadata": {},
   "source": [
    "### Learning from the expert\n",
    "\n",
    "* Text processing\n",
    "* Statistical methods\n",
    "* Computational efficiency"
   ]
  },
  {
   "cell_type": "markdown",
   "metadata": {},
   "source": [
    "### Learning from the expert: text preprocessing\n",
    "\n",
    "* NLP tricks for text data\n",
    "    * Tokenize on punctuation to avoid hyphens, underscores, etc.\n",
    "    * Include unigrams and bi-grams in the model to capture important information involving multiple tokens - e.g., ‘middle school’"
   ]
  },
  {
   "cell_type": "markdown",
   "metadata": {},
   "source": [
    "### N-grams and tokenization\n",
    "\n",
    "```python\n",
    "In [1]: vec = CountVectorizer(token_pattern=TOKENS_ALPHANUMERIC,\n",
    "                              ngram_range=(1, 2))\n",
    "```\n",
    "\n",
    "* Simple changes to CountVectorizer\n",
    "    * alphanumeric tokenization\n",
    "    * `ngram_range=(1, 2)`"
   ]
  },
  {
   "cell_type": "markdown",
   "metadata": {},
   "source": [
    "### Range of n-grams in scikit-learn\n",
    "\n",
    "```python\n",
    "In [2]: pl.fit(X_train, y_train)\n",
    "Out[2]:\n",
    "Pipeline(memory=None,\n",
    "     steps=[('union', FeatureUnion(n_jobs=None,\n",
    "       transformer_list=[('numeric_features', Pipeline(memory=None,\n",
    "     steps=[('selector', FunctionTransformer(accept_sparse=False,\n",
    "                                             check_inverse=True,\n",
    "          func=<function <lambda> at 0x1a22a29400>, inv_kw_args=None,\n",
    "          inverse_func=None, kw_a...obs=None,\n",
    "            oob_score=False, random_state=None, verbose=0,\n",
    "            warm_start=False))])\n",
    "                          \n",
    "In [3]: holdout = pd.read_csv('HoldoutData.csv', index_col=0)\n",
    "                          \n",
    "In [4]: predictions = pl.predict_proba(holdout)\n",
    "                          \n",
    "In [5]: prediction_df = pd.DataFrame(columns=pd.get_dummies(\n",
    "                                     df[LABELS]).columns,\n",
    "                                     index=holdout.index, \n",
    "                                     data=predictions)\n",
    "                          \n",
    "In [6]: prediction_df.to_csv('predictions.csv')\n",
    "                          \n",
    "In [7]: score = score_submission(pred_path='predictions.csv')\n",
    "```"
   ]
  },
  {
   "cell_type": "markdown",
   "metadata": {},
   "source": [
    "### №28 How many tokens?\n",
    "\n",
    "`'PLANNING,RES,DEV,& EVAL      '`\n",
    "\n",
    "* 4, because RES and DEV are not tokens  \n",
    "* *4, because , and & are not tokens*\n",
    "* 7, because there are 4 different words, some commas, an & symbol, and whitespace\n",
    "* 7, because there are 7 whitespaces"
   ]
  },
  {
   "cell_type": "markdown",
   "metadata": {},
   "source": [
    "### №29 Deciding what's a word\n",
    "\n",
    "* Create `text_vector` by preprocessing `X_train` using `combine_text_columns`. This is important, or else you won't get any tokens\n",
    "* Instantiate `CountVectorizer` as `text_features`. Specify the keyword argument `token_pattern=TOKENS_ALPHANUMERIC`\n",
    "* Fit `text_features` to the `text_vector`\n",
    "* Print the first 10 tokens"
   ]
  },
  {
   "cell_type": "code",
   "execution_count": 58,
   "metadata": {},
   "outputs": [
    {
     "name": "stdout",
     "output_type": "stream",
     "text": [
      "['00a', '12', '1st', '2nd', '4th', '5th', '70h', '8', 'a', 'aaps']\n"
     ]
    }
   ],
   "source": [
    "from sklearn.feature_extraction.text import CountVectorizer\n",
    "\n",
    "text_vector = combine_text_columns(X_train)\n",
    "\n",
    "TOKENS_ALPHANUMERIC = '[A-Za-z0-9]+(?=\\\\s+)'\n",
    "text_features = CountVectorizer(token_pattern=TOKENS_ALPHANUMERIC)\n",
    "\n",
    "text_features.fit(text_vector)\n",
    "print(text_features.get_feature_names()[:10])"
   ]
  },
  {
   "cell_type": "markdown",
   "metadata": {},
   "source": [
    "### №30 N-gram range in scikit-learn\n",
    "\n",
    "* Import `CountVectorizer` from `sklearn.feature_extraction.text`\n",
    "* Add a `CountVectorizer` step to the pipeline with the name `'vectorizer'`\n",
    "* Set the token pattern to be `TOKENS_ALPHANUMERIC`\n",
    "* Set the `ngram_range` to be `(1, 2)`"
   ]
  },
  {
   "cell_type": "code",
   "execution_count": 59,
   "metadata": {},
   "outputs": [
    {
     "name": "stderr",
     "output_type": "stream",
     "text": [
      "/Users/Artyom/Anaconda/anaconda3/lib/python3.7/site-packages/sklearn/utils/deprecation.py:58: DeprecationWarning: Class Imputer is deprecated; Imputer was deprecated in version 0.20 and will be removed in 0.22. Import impute.SimpleImputer from sklearn instead.\n",
      "  warnings.warn(msg, category=DeprecationWarning)\n"
     ]
    }
   ],
   "source": [
    "from sklearn.pipeline import Pipeline\n",
    "from sklearn.linear_model import LogisticRegression\n",
    "from sklearn.multiclass import OneVsRestClassifier\n",
    "from sklearn.feature_extraction.text import CountVectorizer\n",
    "from sklearn.preprocessing import Imputer\n",
    "from sklearn.feature_selection import chi2, SelectKBest\n",
    "\n",
    "chi_k = 300\n",
    "\n",
    "from sklearn.preprocessing import FunctionTransformer, MaxAbsScaler\n",
    "from sklearn.pipeline import FeatureUnion\n",
    "\n",
    "get_text_data = FunctionTransformer(combine_text_columns, validate=False)\n",
    "get_numeric_data = FunctionTransformer(lambda x: x[NUMERIC_COLUMNS], validate=False)\n",
    "\n",
    "TOKENS_ALPHANUMERIC = '[A-Za-z0-9]+(?=\\\\s+)'\n",
    "\n",
    "pl = Pipeline([\n",
    "        ('union', FeatureUnion(\n",
    "            transformer_list = [\n",
    "                ('numeric_features', Pipeline([\n",
    "                    ('selector', get_numeric_data),\n",
    "                    ('imputer', Imputer())\n",
    "                ])),\n",
    "                ('text_features', Pipeline([\n",
    "                    ('selector', get_text_data),\n",
    "                    ('vectorizer', CountVectorizer(token_pattern=TOKENS_ALPHANUMERIC,\n",
    "                                                   ngram_range=(1, 2))),\n",
    "                    ('dim_red', SelectKBest(chi2, chi_k))\n",
    "                ]))\n",
    "             ]\n",
    "        )),\n",
    "        ('scale', MaxAbsScaler()),\n",
    "        ('clf', OneVsRestClassifier(LogisticRegression()))\n",
    "    ])"
   ]
  },
  {
   "cell_type": "markdown",
   "metadata": {},
   "source": [
    "## 13. Learning from the expert: a stats trick"
   ]
  },
  {
   "cell_type": "markdown",
   "metadata": {},
   "source": [
    "### Learning from the expert: interaction terms\n",
    "\n",
    "* Statistical tool that the winner used: interaction terms\n",
    "* Example\n",
    "    * English teacher for 2nd grade\n",
    "    * 2nd grade - budget for English teacher\n",
    "* Interaction terms mathematically describe when tokens appear together"
   ]
  },
  {
   "cell_type": "markdown",
   "metadata": {},
   "source": [
    "### Interaction terms: the math\n",
    "\n",
    "$$ \\beta_1 x_1 + \\beta_2 x_2 + \\beta_3 (x_1 * x_2) $$\n",
    "\n",
    "* $ \\beta $ is a weight coefficient\n",
    "\n",
    "<img src='Machine_Learning_with_the_Experts_School_Budgets/Pictures/Interaction_terms_the_math.png' alt='Interaction terms: the math' width=400 align='center'>"
   ]
  },
  {
   "cell_type": "markdown",
   "metadata": {},
   "source": [
    "### Adding interaction features with scikit-learn\n",
    "\n",
    "```python\n",
    "In [1]: from sklearn.preprocessing import PolynomialFeatures\n",
    "\n",
    "In [2]: x\n",
    "Out[2]:\n",
    "   x1  x2\n",
    "a   0   1\n",
    "b   1   1\n",
    "\n",
    "In [3]: interaction = PolynomialFeatures(degree=2,\n",
    "                                         interaction_only=True, \n",
    "                                         include_bias=False)\n",
    "    \n",
    "In [4]: interaction.fit_transform(x)\n",
    "Out[4]:\n",
    "array([[ 0., 1., 0.],\n",
    "       [ 1., 1., 1.]])\n",
    "```"
   ]
  },
  {
   "cell_type": "markdown",
   "metadata": {},
   "source": [
    "### A note about bias terms\n",
    "\n",
    "* Bias term allows model to have non-zero y value when x value is zero\n",
    "\n",
    "<img src='Machine_Learning_with_the_Experts_School_Budgets/Pictures/A_note_about_bias_terms.png' alt='A note about bias terms' width=400 align='left'>"
   ]
  },
  {
   "cell_type": "markdown",
   "metadata": {},
   "source": [
    "### Sparse interaction features\n",
    "\n",
    "```python\n",
    "In [5]: SparseInteractions(degree=2).fit_transform(x).toarray()\n",
    "Out[5]:\n",
    "array([[ 0., 1., 0.],\n",
    "       [ 1., 1., 1.]])\n",
    "```\n",
    "\n",
    "* The number of interaction terms grows exponentially\n",
    "* Our vectorizer saves memory by using a sparse matrix\n",
    "* PolynomialFeatures does not support sparse matrices\n",
    "* We have provided SparseInteractions to work for this problem"
   ]
  },
  {
   "cell_type": "markdown",
   "metadata": {},
   "source": [
    "### №31 Which models of the data include interaction terms?\n",
    "\n",
    "Suppose we have two features x and y, and we use models that process the features as follows:\n",
    "\n",
    "1. βx + βy + ββ\n",
    "2. βxy + βx + βy\n",
    "3. βx + βy + βx^2 + βy^2\n",
    "\n",
    "where β is a coefficient in your model (not a feature).\n",
    "\n",
    "Which expression(s) include interaction terms?\n",
    "\n",
    "* The first expression  \n",
    "* *The second expression*\n",
    "* The third expression\n",
    "* The first and third expressions"
   ]
  },
  {
   "cell_type": "markdown",
   "metadata": {},
   "source": [
    "### №32 Implement interaction modeling in scikit-learn\n",
    "\n",
    "* Add the interaction terms step using `SparseInteractions()` with `degree=2`. Give it a name of `'int'`, and make sure it is after the preprocessing step but before scaling"
   ]
  },
  {
   "cell_type": "code",
   "execution_count": 60,
   "metadata": {},
   "outputs": [],
   "source": [
    "%run Machine_Learning_with_the_Experts_School_Budgets/SparseInteractions.py"
   ]
  },
  {
   "cell_type": "code",
   "execution_count": 61,
   "metadata": {},
   "outputs": [
    {
     "name": "stderr",
     "output_type": "stream",
     "text": [
      "/Users/Artyom/Anaconda/anaconda3/lib/python3.7/site-packages/sklearn/utils/deprecation.py:58: DeprecationWarning: Class Imputer is deprecated; Imputer was deprecated in version 0.20 and will be removed in 0.22. Import impute.SimpleImputer from sklearn instead.\n",
      "  warnings.warn(msg, category=DeprecationWarning)\n"
     ]
    }
   ],
   "source": [
    "pl = Pipeline([\n",
    "        ('union', FeatureUnion(\n",
    "            transformer_list = [\n",
    "                ('numeric_features', Pipeline([\n",
    "                    ('selector', get_numeric_data),\n",
    "                    ('imputer', Imputer())\n",
    "                ])),\n",
    "                ('text_features', Pipeline([\n",
    "                    ('selector', get_text_data),\n",
    "                    ('vectorizer', CountVectorizer(token_pattern=TOKENS_ALPHANUMERIC,\n",
    "                                                   ngram_range=(1, 2))),  \n",
    "                    ('dim_red', SelectKBest(chi2, chi_k))\n",
    "                ]))\n",
    "             ]\n",
    "        )),\n",
    "        ('int', SparseInteractions(degree=2)),\n",
    "        ('scale', MaxAbsScaler()),\n",
    "        ('clf', OneVsRestClassifier(LogisticRegression()))\n",
    "    ])"
   ]
  },
  {
   "cell_type": "markdown",
   "metadata": {},
   "source": [
    "## 14. Learning from the expert: a computational trick and the winning model"
   ]
  },
  {
   "cell_type": "markdown",
   "metadata": {},
   "source": [
    "### Learning from the expert: hashing trick\n",
    "\n",
    "* Adding new features may cause enormous increase in array size\n",
    "* Hashing is a way of increasing memory efficiency\n",
    "* Hash function limits possible outputs, fixing array size\n",
    "\n",
    "<img src='Machine_Learning_with_the_Experts_School_Budgets/Pictures/hashing_trick.png' alt='hashing trick' align='left' width=400>"
   ]
  },
  {
   "cell_type": "markdown",
   "metadata": {},
   "source": [
    "### When to use the hashing trick\n",
    "\n",
    "* Want to make array of features as small as possible\n",
    "    * Dimensionality reduction\n",
    "* Particularly useful on large datasets\n",
    "    * e.g., lots of text data!"
   ]
  },
  {
   "cell_type": "markdown",
   "metadata": {},
   "source": [
    "### Implementing the hashing trick in scikit-learn\n",
    "\n",
    "```python\n",
    "In [5]: from sklearn.feature_extraction.text import HashingVectorizer\n",
    "\n",
    "In [6]: vec = HashingVectorizer(norm=None,\n",
    "                                non_negative=True,\n",
    "                                token_pattern=TOKENS_ALPHANUMERIC,\n",
    "                                ngram_range=(1, 2))\n",
    "```"
   ]
  },
  {
   "cell_type": "markdown",
   "metadata": {},
   "source": [
    "### The model that won it all\n",
    "\n",
    "* You now know all the expert moves to make on this dataset\n",
    "    * NLP: Range of n-grams, punctuation tokenization\n",
    "    * Stats: Interaction terms\n",
    "    * Computation: Hashing trick\n",
    "* What class of model was used?"
   ]
  },
  {
   "cell_type": "markdown",
   "metadata": {},
   "source": [
    "### The model that won it all\n",
    "\n",
    "* And the winning model was…\n",
    "* Logistic regression!\n",
    "    * Carefully create features\n",
    "    * Easily implemented tricks\n",
    "* Favor simplicity over complexity and see how far it takes you!"
   ]
  },
  {
   "cell_type": "markdown",
   "metadata": {},
   "source": [
    "### №33 Why is hashing a useful trick?\n",
    "\n",
    "Why is hashing a useful trick?\n",
    "\n",
    "* Hashing isn't useful unless you're working with numbers\n",
    "* Some problems are memory-bound and not easily parallelizable, but hashing parallelizes them\n",
    "* Hashing enforces a mutable length computation instead of using a fixed length datatype, like a dictionary  \n",
    "* *Some problems are memory-bound and not easily parallelizable, and hashing enforces a fixed length computation instead of using a mutable datatype (like a dictionary)*  "
   ]
  },
  {
   "cell_type": "markdown",
   "metadata": {},
   "source": [
    "### №34 Implementing the hashing trick in scikit-learn\n",
    "\n",
    "* Import `HashingVectorizer` from `sklearn.feature_extraction.text`\n",
    "* Instantiate the `HashingVectorizer` as `hashing_vec` using the `TOKENS_ALPHANUMERIC` pattern\n",
    "* Fit and transform `hashing_vec` using `text_data`. Save the result as `hashed_text`"
   ]
  },
  {
   "cell_type": "code",
   "execution_count": 62,
   "metadata": {},
   "outputs": [
    {
     "name": "stdout",
     "output_type": "stream",
     "text": [
      "          0\n",
      "0 -0.160128\n",
      "1  0.160128\n",
      "2 -0.480384\n",
      "3 -0.320256\n",
      "4  0.160128\n"
     ]
    }
   ],
   "source": [
    "from sklearn.feature_extraction.text import HashingVectorizer\n",
    "\n",
    "text_data = combine_text_columns(X_train)\n",
    "TOKENS_ALPHANUMERIC = '[A-Za-z0-9]+(?=\\\\s+)' \n",
    "\n",
    "hashing_vec = HashingVectorizer(token_pattern=TOKENS_ALPHANUMERIC)\n",
    "hashed_text = hashing_vec.fit_transform(text_data)\n",
    "\n",
    "hashed_df = pd.DataFrame(hashed_text.data)\n",
    "print(hashed_df.head())"
   ]
  },
  {
   "cell_type": "markdown",
   "metadata": {},
   "source": [
    "### №35 Build the winning model\n",
    "\n",
    "* Import `HashingVectorizer` from `sklearn.feature_extraction.text`\n",
    "* Add a `HashingVectorizer` step to the pipeline\n",
    "    * Name the step `'vectorizer'`\n",
    "    * Use the `TOKENS_ALPHANUMERIC` token pattern\n",
    "    * Specify the `ngram_range` to be `(1, 2)`"
   ]
  },
  {
   "cell_type": "code",
   "execution_count": 63,
   "metadata": {},
   "outputs": [
    {
     "name": "stderr",
     "output_type": "stream",
     "text": [
      "/Users/Artyom/Anaconda/anaconda3/lib/python3.7/site-packages/sklearn/utils/deprecation.py:58: DeprecationWarning: Class Imputer is deprecated; Imputer was deprecated in version 0.20 and will be removed in 0.22. Import impute.SimpleImputer from sklearn instead.\n",
      "  warnings.warn(msg, category=DeprecationWarning)\n"
     ]
    }
   ],
   "source": [
    "from sklearn.feature_extraction.text import HashingVectorizer\n",
    "\n",
    "pl = Pipeline([\n",
    "        ('union', FeatureUnion(\n",
    "            transformer_list = [\n",
    "                ('numeric_features', Pipeline([\n",
    "                    ('selector', get_numeric_data),\n",
    "                    ('imputer', Imputer())\n",
    "                ])),\n",
    "                ('text_features', Pipeline([\n",
    "                    ('selector', get_text_data),\n",
    "                    ('vectorizer', HashingVectorizer(token_pattern=TOKENS_ALPHANUMERIC,\n",
    "                                                     non_negative=True, \n",
    "                                                     norm=None, \n",
    "                                                     binary=False,\n",
    "                                                     ngram_range=(1,2))),\n",
    "                    ('dim_red', SelectKBest(chi2, chi_k))\n",
    "                ]))\n",
    "             ]\n",
    "        )),\n",
    "        ('int', SparseInteractions(degree=2)),\n",
    "        ('scale', MaxAbsScaler()),\n",
    "        ('clf', OneVsRestClassifier(LogisticRegression()))\n",
    "    ])"
   ]
  },
  {
   "cell_type": "markdown",
   "metadata": {},
   "source": [
    "### №35 What tactics got the winner the best score?\n",
    "\n",
    "What tactics got the [winner](https://github.com/datacamp/course-resources-ml-with-experts-budgets/blob/master/notebooks/1.0-full-model.ipynb) the best score?\n",
    "\n",
    "* The winner used a 500 layer deep convolutional neural network to master the budget data\n",
    "* The winner used an ensemble of many models for classification, taking the best results as predictions\n",
    "* *The winner used skillful NLP, efficient computation, and simple but powerful stats tricks to master the budget data*"
   ]
  },
  {
   "cell_type": "markdown",
   "metadata": {},
   "source": [
    "## 15. Next steps and the social impact of your work"
   ]
  },
  {
   "cell_type": "markdown",
   "metadata": {},
   "source": [
    "### Can you do better?\n",
    "\n",
    "* You’ve seen the flexibility of the pipeline steps\n",
    "* Quickly test ways of improving your submission\n",
    "    * NLP: Stemming, stop-word removal\n",
    "    * Model: RandomForest, k-NN, Naïve Bayes\n",
    "    * Numeric Preprocessing: Imputation strategies\n",
    "    * Optimization: Grid search over pipeline objects\n",
    "    * Experiment with new scikit-learn techniques\n",
    "* Work with the full dataset at DrivenData!"
   ]
  },
  {
   "cell_type": "markdown",
   "metadata": {},
   "source": [
    "### Hundreds of hours saved\n",
    "\n",
    "* Make schools more efficient by improving their budgeting decisions\n",
    "* Saves hundreds of hours each year that humans spent labeling line items\n",
    "* Can spend more time on the decisions that really matter"
   ]
  },
  {
   "cell_type": "markdown",
   "metadata": {},
   "source": [
    "### DrivenData: Data Science to save the world\n",
    "\n",
    "* Other ways to use data science to have a social impact at [DrivenData](www.drivendata.org)\n",
    "    * Improve your data science skills while helping meaningful organizations thrive\n",
    "    * Win some cash prizes while you’re at it!"
   ]
  },
  {
   "cell_type": "code",
   "execution_count": null,
   "metadata": {},
   "outputs": [],
   "source": []
  },
  {
   "cell_type": "code",
   "execution_count": null,
   "metadata": {},
   "outputs": [],
   "source": []
  }
 ],
 "metadata": {
  "kernelspec": {
   "display_name": "Python 3",
   "language": "python",
   "name": "python3"
  },
  "language_info": {
   "codemirror_mode": {
    "name": "ipython",
    "version": 3
   },
   "file_extension": ".py",
   "mimetype": "text/x-python",
   "name": "python",
   "nbconvert_exporter": "python",
   "pygments_lexer": "ipython3",
   "version": "3.7.3"
  }
 },
 "nbformat": 4,
 "nbformat_minor": 2
}
